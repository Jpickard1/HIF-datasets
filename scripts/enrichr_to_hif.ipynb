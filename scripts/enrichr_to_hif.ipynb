{
 "cells": [
  {
   "cell_type": "markdown",
   "id": "f2a70f3b-719b-4d87-800d-1877948bac2f",
   "metadata": {},
   "source": [
    "# Enrichr Hypergraphs"
   ]
  },
  {
   "cell_type": "code",
   "execution_count": 1,
   "id": "5a20c0ee-c41b-4e02-be72-de7a34cfcc92",
   "metadata": {},
   "outputs": [],
   "source": [
    "import requests\n",
    "import time\n",
    "from tqdm import tqdm\n",
    "from HAT import Hypergraph\n",
    "from datetime import datetime\n",
    "import json\n",
    "import numpy as np\n",
    "import os\n",
    "import math\n",
    "from pathlib import Path"
   ]
  },
  {
   "cell_type": "code",
   "execution_count": 2,
   "id": "09b3e5e7-7d3f-40c9-80c0-b54946e50040",
   "metadata": {},
   "outputs": [],
   "source": [
    "def convert_numpy(obj):\n",
    "    if isinstance(obj, dict):\n",
    "        return {k: convert_numpy(v) for k, v in obj.items()}\n",
    "    elif isinstance(obj, list):\n",
    "        return [convert_numpy(i) for i in obj]\n",
    "    elif isinstance(obj, np.integer):\n",
    "        return int(obj)\n",
    "    elif isinstance(obj, np.floating):\n",
    "        return float(obj)\n",
    "    elif isinstance(obj, np.ndarray):\n",
    "        return obj.tolist()\n",
    "    else:\n",
    "        return obj\n",
    "\n",
    "def get_file_size_mb(filepath):\n",
    "    \"\"\"Get file size in MB\"\"\"\n",
    "    return os.path.getsize(filepath) / (1024 * 1024)\n",
    "\n",
    "def count_lines_in_file(filepath):\n",
    "    \"\"\"Count total lines in a file\"\"\"\n",
    "    with open(filepath, 'r', encoding='utf-8') as f:\n",
    "        return sum(1 for _ in f)\n",
    "\n",
    "def split_file_by_lines(filepath, max_size_mb=100):\n",
    "    \"\"\"Split a file into chunks based on line count\"\"\"\n",
    "    print(f\"Processing: {filepath}\")\n",
    "    \n",
    "    # Check if file needs splitting\n",
    "    file_size_mb = get_file_size_mb(filepath)\n",
    "    if file_size_mb <= max_size_mb:\n",
    "        print(f\"  File is already under {max_size_mb}MB ({file_size_mb:.2f}MB), skipping...\")\n",
    "        return\n",
    "    \n",
    "    # Calculate number of chunks needed\n",
    "    num_chunks = math.ceil(file_size_mb / max_size_mb)\n",
    "    print(f\"  File size: {file_size_mb:.2f}MB\")\n",
    "    print(f\"  Number of chunks needed: {num_chunks}\")\n",
    "    \n",
    "    # Count total lines\n",
    "    total_lines = count_lines_in_file(filepath)\n",
    "    print(f\"  Total lines: {total_lines}\")\n",
    "    \n",
    "    # Calculate lines per chunk\n",
    "    lines_per_chunk = math.ceil(total_lines / num_chunks)\n",
    "    print(f\"  Lines per chunk: {lines_per_chunk}\")\n",
    "    \n",
    "    # Get the base name without extension\n",
    "    base_name = Path(filepath).stem\n",
    "    \n",
    "    # Split the file\n",
    "    chunk_files = []\n",
    "    with open(filepath, 'r', encoding='utf-8') as input_file:\n",
    "        chunk_num = 1\n",
    "        lines_written = 0\n",
    "        \n",
    "        while True:\n",
    "            # Create chunk filename\n",
    "            chunk_filename = f\"{base_name}_{chunk_num}of{num_chunks}.hif\"\n",
    "            chunk_filepath = Path(filepath).parent / chunk_filename\n",
    "            \n",
    "            # Write lines to current chunk\n",
    "            with open(chunk_filepath, 'w', encoding='utf-8') as chunk_file:\n",
    "                for _ in range(lines_per_chunk):\n",
    "                    line = input_file.readline()\n",
    "                    if not line:  # End of file\n",
    "                        break\n",
    "                    chunk_file.write(line)\n",
    "                    lines_written += 1\n",
    "            \n",
    "            # Check if we wrote anything to this chunk\n",
    "            if lines_written == 0:\n",
    "                # Remove empty chunk file if created\n",
    "                if chunk_filepath.exists():\n",
    "                    os.remove(chunk_filepath)\n",
    "                break\n",
    "            \n",
    "            chunk_size = get_file_size_mb(chunk_filepath)\n",
    "            chunk_files.append(chunk_filename)\n",
    "            print(f\"  Created: {chunk_filename} ({chunk_size:.2f}MB, {min(lines_per_chunk, total_lines - (chunk_num-1)*lines_per_chunk)} lines)\")\n",
    "            \n",
    "            chunk_num += 1\n",
    "            \n",
    "            # Break if we've processed all lines\n",
    "            if lines_written >= total_lines:\n",
    "                break\n",
    "    \n",
    "    # Update the actual number of chunks created\n",
    "    actual_chunks = len(chunk_files)\n",
    "    if actual_chunks != num_chunks:\n",
    "        print(f\"  Note: Created {actual_chunks} chunks instead of estimated {num_chunks}\")\n",
    "        \n",
    "        # Rename files to reflect actual count\n",
    "        for i, old_filename in enumerate(chunk_files, 1):\n",
    "            old_filepath = Path(filepath).parent / old_filename\n",
    "            new_filename = f\"{base_name}_{i}of{actual_chunks}.hif\"\n",
    "            new_filepath = Path(filepath).parent / new_filename\n",
    "            \n",
    "            if old_filepath != new_filepath:\n",
    "                os.rename(old_filepath, new_filepath)\n",
    "                print(f\"  Renamed: {old_filename} -> {new_filename}\")\n",
    "    \n",
    "    # Remove original file after successful splitting\n",
    "    try:\n",
    "        os.remove(filepath)\n",
    "        print(f\"  Removed original file: {filepath}\")\n",
    "    except Exception as e:\n",
    "        print(f\"  Warning: Could not remove original file: {e}\")\n",
    "    \n",
    "    print(f\"  Split complete: {actual_chunks} files created\")\n",
    "\n",
    "def rejoin_files(base_name, directory=\".\"):\n",
    "    \"\"\"Rejoin split files back into original file\"\"\"\n",
    "    directory = Path(directory)\n",
    "    \n",
    "    # Find all chunks for this base name\n",
    "    pattern = f\"{base_name}_*of*.hif\"\n",
    "    chunk_files = list(directory.glob(pattern))\n",
    "    \n",
    "    if not chunk_files:\n",
    "        print(f\"No chunk files found for {base_name}\")\n",
    "        return\n",
    "    \n",
    "    # Sort chunks by number\n",
    "    def get_chunk_number(filename):\n",
    "        # Extract number from filename like \"name_1of3.hif\"\n",
    "        stem = filename.stem\n",
    "        if \"_\" in stem and \"of\" in stem:\n",
    "            try:\n",
    "                number_part = stem.split(\"_\")[-1]  # Get \"1of3\"\n",
    "                return int(number_part.split(\"of\")[0])  # Get \"1\"\n",
    "            except:\n",
    "                return 0\n",
    "        return 0\n",
    "    \n",
    "    chunk_files.sort(key=get_chunk_number)\n",
    "    \n",
    "    print(f\"Rejoining {len(chunk_files)} chunks for {base_name}\")\n",
    "    \n",
    "    # Rejoin files\n",
    "    output_file = directory / f\"{base_name}.hif\"\n",
    "    with open(output_file, 'w', encoding='utf-8') as outfile:\n",
    "        for chunk_file in chunk_files:\n",
    "            print(f\"  Adding: {chunk_file.name}\")\n",
    "            with open(chunk_file, 'r', encoding='utf-8') as infile:\n",
    "                outfile.write(infile.read())\n",
    "    \n",
    "    print(f\"  Rejoined file created: {output_file}\")\n",
    "    final_size = get_file_size_mb(output_file)\n",
    "    print(f\"  Final size: {final_size:.2f}MB\")\n"
   ]
  },
  {
   "cell_type": "code",
   "execution_count": 3,
   "id": "9dc22f17-d22a-4afa-88d8-d97680446c29",
   "metadata": {},
   "outputs": [
    {
     "name": "stdout",
     "output_type": "stream",
     "text": [
      "Steps 1-2 Complete\n"
     ]
    }
   ],
   "source": [
    "# Step 1: Get all valid gene set libraries\n",
    "stats_url = \"https://maayanlab.cloud/Enrichr/datasetStatistics\"\n",
    "response = requests.get(stats_url)\n",
    "libraries = response.json()\n",
    "\n",
    "# Step 2: Construct base URL and all full URLs\n",
    "base_url = \"https://maayanlab.cloud/Enrichr/geneSetLibrary?mode=text&libraryName=\"\n",
    "library_names = [entry['libraryName'] for entry in libraries['statistics']]\n",
    "urls = [f\"{base_url}{name}\" for name in library_names]\n",
    "print(\"Steps 1-2 Complete\")"
   ]
  },
  {
   "cell_type": "code",
   "execution_count": 23,
   "id": "d7587919-e33c-4b0f-a66b-bfcfe6820137",
   "metadata": {},
   "outputs": [
    {
     "name": "stderr",
     "output_type": "stream",
     "text": [
      "0it [00:00, ?it/s]"
     ]
    },
    {
     "name": "stdout",
     "output_type": "stream",
     "text": [
      "Downloaded: Genome_Browser_PWMs\n"
     ]
    },
    {
     "name": "stderr",
     "output_type": "stream",
     "text": [
      "1it [00:11, 11.48s/it]"
     ]
    },
    {
     "name": "stdout",
     "output_type": "stream",
     "text": [
      "    Written to File\n",
      "Processing: /nfs/turbo/umms-indikar/Joshua/HIF-datasets/datasets/Genome_Browser_PWMs.hif\n",
      "  File is already under 40MB (35.13MB), skipping...\n",
      "    Split to separate files...Complete ✓\n",
      "Downloaded: TRANSFAC_and_JASPAR_PWMs\n",
      "    Written to File\n",
      "Processing: /nfs/turbo/umms-indikar/Joshua/HIF-datasets/datasets/TRANSFAC_and_JASPAR_PWMs.hif\n",
      "  File size: 86.34MB\n",
      "  Number of chunks needed: 3\n",
      "  Total lines: 3937403\n",
      "  Lines per chunk: 1312468\n",
      "  Created: TRANSFAC_and_JASPAR_PWMs_1of3.hif (29.34MB, 1312468 lines)\n",
      "  Created: TRANSFAC_and_JASPAR_PWMs_2of3.hif (28.47MB, 1312468 lines)\n"
     ]
    },
    {
     "name": "stderr",
     "output_type": "stream",
     "text": [
      "2it [00:36, 19.18s/it]"
     ]
    },
    {
     "name": "stdout",
     "output_type": "stream",
     "text": [
      "  Created: TRANSFAC_and_JASPAR_PWMs_3of3.hif (28.53MB, 1312467 lines)\n",
      "  Removed original file: /nfs/turbo/umms-indikar/Joshua/HIF-datasets/datasets/TRANSFAC_and_JASPAR_PWMs.hif\n",
      "  Split complete: 3 files created\n",
      "    Split to separate files...Complete ✓\n",
      "Downloaded: Transcription_Factor_PPIs\n"
     ]
    },
    {
     "name": "stderr",
     "output_type": "stream",
     "text": [
      "3it [00:37, 11.14s/it]"
     ]
    },
    {
     "name": "stdout",
     "output_type": "stream",
     "text": [
      "    Written to File\n",
      "Processing: /nfs/turbo/umms-indikar/Joshua/HIF-datasets/datasets/Transcription_Factor_PPIs.hif\n",
      "  File is already under 40MB (4.94MB), skipping...\n",
      "    Split to separate files...Complete ✓\n",
      "Downloaded: ChEA_2013\n",
      "    Written to File\n",
      "Processing: /nfs/turbo/umms-indikar/Joshua/HIF-datasets/datasets/ChEA_2013.hif\n",
      "  File size: 108.64MB\n",
      "  Number of chunks needed: 3\n",
      "  Total lines: 4638599\n",
      "  Lines per chunk: 1546200\n",
      "  Created: ChEA_2013_1of3.hif (36.00MB, 1546200 lines)\n",
      "  Created: ChEA_2013_2of3.hif (36.39MB, 1546200 lines)\n"
     ]
    },
    {
     "name": "stderr",
     "output_type": "stream",
     "text": [
      "4it [01:12, 20.53s/it]"
     ]
    },
    {
     "name": "stdout",
     "output_type": "stream",
     "text": [
      "  Created: ChEA_2013_3of3.hif (36.25MB, 1546199 lines)\n",
      "  Removed original file: /nfs/turbo/umms-indikar/Joshua/HIF-datasets/datasets/ChEA_2013.hif\n",
      "  Split complete: 3 files created\n",
      "    Split to separate files...Complete ✓\n",
      "Downloaded: Drug_Perturbations_from_GEO_2014\n",
      "    Written to File\n",
      "Processing: /nfs/turbo/umms-indikar/Joshua/HIF-datasets/datasets/Drug_Perturbations_from_GEO_2014.hif\n",
      "  File size: 89.43MB\n",
      "  Number of chunks needed: 3\n",
      "  Total lines: 3502325\n",
      "  Lines per chunk: 1167442\n",
      "  Created: Drug_Perturbations_from_GEO_2014_1of3.hif (28.18MB, 1167442 lines)\n",
      "  Created: Drug_Perturbations_from_GEO_2014_2of3.hif (30.56MB, 1167442 lines)\n"
     ]
    },
    {
     "name": "stderr",
     "output_type": "stream",
     "text": [
      "5it [01:55, 28.65s/it]"
     ]
    },
    {
     "name": "stdout",
     "output_type": "stream",
     "text": [
      "  Created: Drug_Perturbations_from_GEO_2014_3of3.hif (30.69MB, 1167441 lines)\n",
      "  Removed original file: /nfs/turbo/umms-indikar/Joshua/HIF-datasets/datasets/Drug_Perturbations_from_GEO_2014.hif\n",
      "  Split complete: 3 files created\n",
      "    Split to separate files...Complete ✓\n",
      "Downloaded: ENCODE_TF_ChIP-seq_2014\n",
      "    Written to File\n",
      "Processing: /nfs/turbo/umms-indikar/Joshua/HIF-datasets/datasets/ENCODE_TF_ChIP-seq_2014.hif\n",
      "  File size: 596.25MB\n",
      "  Number of chunks needed: 15\n",
      "  Total lines: 27719090\n",
      "  Lines per chunk: 1847940\n",
      "  Created: ENCODE_TF_ChIP-seq_2014_1of15.hif (37.50MB, 1847940 lines)\n",
      "  Created: ENCODE_TF_ChIP-seq_2014_2of15.hif (37.60MB, 1847940 lines)\n",
      "  Created: ENCODE_TF_ChIP-seq_2014_3of15.hif (37.60MB, 1847940 lines)\n",
      "  Created: ENCODE_TF_ChIP-seq_2014_4of15.hif (37.83MB, 1847940 lines)\n",
      "  Created: ENCODE_TF_ChIP-seq_2014_5of15.hif (37.90MB, 1847940 lines)\n",
      "  Created: ENCODE_TF_ChIP-seq_2014_6of15.hif (37.99MB, 1847940 lines)\n",
      "  Created: ENCODE_TF_ChIP-seq_2014_7of15.hif (49.97MB, 1847940 lines)\n",
      "  Created: ENCODE_TF_ChIP-seq_2014_8of15.hif (39.46MB, 1847940 lines)\n",
      "  Created: ENCODE_TF_ChIP-seq_2014_9of15.hif (39.94MB, 1847940 lines)\n",
      "  Created: ENCODE_TF_ChIP-seq_2014_10of15.hif (40.10MB, 1847940 lines)\n",
      "  Created: ENCODE_TF_ChIP-seq_2014_11of15.hif (39.97MB, 1847940 lines)\n",
      "  Created: ENCODE_TF_ChIP-seq_2014_12of15.hif (40.05MB, 1847940 lines)\n",
      "  Created: ENCODE_TF_ChIP-seq_2014_13of15.hif (39.98MB, 1847940 lines)\n",
      "  Created: ENCODE_TF_ChIP-seq_2014_14of15.hif (40.16MB, 1847940 lines)\n"
     ]
    },
    {
     "name": "stderr",
     "output_type": "stream",
     "text": [
      "6it [03:30, 51.01s/it]"
     ]
    },
    {
     "name": "stdout",
     "output_type": "stream",
     "text": [
      "  Created: ENCODE_TF_ChIP-seq_2014_15of15.hif (40.21MB, 1847930 lines)\n",
      "  Removed original file: /nfs/turbo/umms-indikar/Joshua/HIF-datasets/datasets/ENCODE_TF_ChIP-seq_2014.hif\n",
      "  Split complete: 15 files created\n",
      "    Split to separate files...Complete ✓\n",
      "Downloaded: BioCarta_2013\n"
     ]
    },
    {
     "name": "stderr",
     "output_type": "stream",
     "text": [
      "7it [03:33, 35.40s/it]"
     ]
    },
    {
     "name": "stdout",
     "output_type": "stream",
     "text": [
      "    Written to File\n",
      "Processing: /nfs/turbo/umms-indikar/Joshua/HIF-datasets/datasets/BioCarta_2013.hif\n",
      "  File is already under 40MB (1.05MB), skipping...\n",
      "    Split to separate files...Complete ✓\n"
     ]
    },
    {
     "name": "stderr",
     "output_type": "stream",
     "text": [
      "8it [03:34, 24.62s/it]"
     ]
    },
    {
     "name": "stdout",
     "output_type": "stream",
     "text": [
      "Downloaded: WikiPathways_2013\n",
      "    Written to File\n",
      "Processing: /nfs/turbo/umms-indikar/Joshua/HIF-datasets/datasets/WikiPathways_2013.hif\n",
      "  File is already under 40MB (1.88MB), skipping...\n",
      "    Split to separate files...Complete ✓\n",
      "Downloaded: Disease_Signatures_from_GEO_up_2014\n"
     ]
    },
    {
     "name": "stderr",
     "output_type": "stream",
     "text": [
      "9it [03:44, 20.06s/it]"
     ]
    },
    {
     "name": "stdout",
     "output_type": "stream",
     "text": [
      "    Written to File\n",
      "Processing: /nfs/turbo/umms-indikar/Joshua/HIF-datasets/datasets/Disease_Signatures_from_GEO_up_2014.hif\n",
      "  File is already under 40MB (14.32MB), skipping...\n",
      "    Split to separate files...Complete ✓\n",
      "Downloaded: KEGG_2013\n"
     ]
    },
    {
     "name": "stderr",
     "output_type": "stream",
     "text": [
      "10it [03:45, 14.15s/it]"
     ]
    },
    {
     "name": "stdout",
     "output_type": "stream",
     "text": [
      "    Written to File\n",
      "Processing: /nfs/turbo/umms-indikar/Joshua/HIF-datasets/datasets/KEGG_2013.hif\n",
      "  File is already under 40MB (2.61MB), skipping...\n",
      "    Split to separate files...Complete ✓\n",
      "Downloaded: TF-LOF_Expression_from_GEO\n",
      "    Written to File\n",
      "Processing: /nfs/turbo/umms-indikar/Joshua/HIF-datasets/datasets/TF-LOF_Expression_from_GEO.hif\n",
      "  File size: 62.63MB\n",
      "  Number of chunks needed: 2\n",
      "  Total lines: 2577800\n",
      "  Lines per chunk: 1288900\n",
      "  Created: TF-LOF_Expression_from_GEO_1of2.hif (27.77MB, 1288900 lines)\n"
     ]
    },
    {
     "name": "stderr",
     "output_type": "stream",
     "text": [
      "11it [04:12, 18.11s/it]"
     ]
    },
    {
     "name": "stdout",
     "output_type": "stream",
     "text": [
      "  Created: TF-LOF_Expression_from_GEO_2of2.hif (34.86MB, 1288900 lines)\n",
      "  Removed original file: /nfs/turbo/umms-indikar/Joshua/HIF-datasets/datasets/TF-LOF_Expression_from_GEO.hif\n",
      "  Split complete: 2 files created\n",
      "    Split to separate files...Complete ✓\n",
      "Downloaded: TargetScan_microRNA\n"
     ]
    },
    {
     "name": "stderr",
     "output_type": "stream",
     "text": [
      "12it [04:17, 13.93s/it]"
     ]
    },
    {
     "name": "stdout",
     "output_type": "stream",
     "text": [
      "    Written to File\n",
      "Processing: /nfs/turbo/umms-indikar/Joshua/HIF-datasets/datasets/TargetScan_microRNA.hif\n",
      "  File is already under 40MB (7.96MB), skipping...\n",
      "    Split to separate files...Complete ✓\n",
      "Downloaded: PPI_Hub_Proteins\n"
     ]
    },
    {
     "name": "stderr",
     "output_type": "stream",
     "text": [
      "13it [04:28, 13.21s/it]"
     ]
    },
    {
     "name": "stdout",
     "output_type": "stream",
     "text": [
      "    Written to File\n",
      "Processing: /nfs/turbo/umms-indikar/Joshua/HIF-datasets/datasets/PPI_Hub_Proteins.hif\n",
      "  File is already under 40MB (20.01MB), skipping...\n",
      "    Split to separate files...Complete ✓\n",
      "Downloaded: GeneSigDB\n",
      "    Written to File\n",
      "Processing: /nfs/turbo/umms-indikar/Joshua/HIF-datasets/datasets/GeneSigDB.hif\n",
      "  File size: 58.70MB\n",
      "  Number of chunks needed: 2\n",
      "  Total lines: 2600192\n",
      "  Lines per chunk: 1300096\n",
      "  Created: GeneSigDB_1of2.hif (29.28MB, 1300096 lines)\n"
     ]
    },
    {
     "name": "stderr",
     "output_type": "stream",
     "text": [
      "14it [04:44, 13.90s/it]"
     ]
    },
    {
     "name": "stdout",
     "output_type": "stream",
     "text": [
      "  Created: GeneSigDB_2of2.hif (29.42MB, 1300096 lines)\n",
      "  Removed original file: /nfs/turbo/umms-indikar/Joshua/HIF-datasets/datasets/GeneSigDB.hif\n",
      "  Split complete: 2 files created\n",
      "    Split to separate files...Complete ✓\n",
      "Downloaded: Chromosome_Location\n"
     ]
    },
    {
     "name": "stderr",
     "output_type": "stream",
     "text": [
      "15it [05:00, 14.63s/it]"
     ]
    },
    {
     "name": "stdout",
     "output_type": "stream",
     "text": [
      "    Written to File\n",
      "Processing: /nfs/turbo/umms-indikar/Joshua/HIF-datasets/datasets/Chromosome_Location.hif\n",
      "  File is already under 40MB (10.14MB), skipping...\n",
      "    Split to separate files...Complete ✓\n",
      "Downloaded: Human_Gene_Atlas\n"
     ]
    },
    {
     "name": "stderr",
     "output_type": "stream",
     "text": [
      "16it [05:02, 10.69s/it]"
     ]
    },
    {
     "name": "stdout",
     "output_type": "stream",
     "text": [
      "    Written to File\n",
      "Processing: /nfs/turbo/umms-indikar/Joshua/HIF-datasets/datasets/Human_Gene_Atlas.hif\n",
      "  File is already under 40MB (6.91MB), skipping...\n",
      "    Split to separate files...Complete ✓\n",
      "Downloaded: Mouse_Gene_Atlas\n"
     ]
    },
    {
     "name": "stderr",
     "output_type": "stream",
     "text": [
      "17it [05:06,  8.74s/it]"
     ]
    },
    {
     "name": "stdout",
     "output_type": "stream",
     "text": [
      "    Written to File\n",
      "Processing: /nfs/turbo/umms-indikar/Joshua/HIF-datasets/datasets/Mouse_Gene_Atlas.hif\n",
      "  File is already under 40MB (11.98MB), skipping...\n",
      "    Split to separate files...Complete ✓\n",
      "Downloaded: Human_Phenotype_Ontology\n"
     ]
    },
    {
     "name": "stderr",
     "output_type": "stream",
     "text": [
      "18it [05:08,  6.68s/it]"
     ]
    },
    {
     "name": "stdout",
     "output_type": "stream",
     "text": [
      "    Written to File\n",
      "Processing: /nfs/turbo/umms-indikar/Joshua/HIF-datasets/datasets/Human_Phenotype_Ontology.hif\n",
      "  File is already under 40MB (12.64MB), skipping...\n",
      "    Split to separate files...Complete ✓\n",
      "Downloaded: Epigenomics_Roadmap_HM_ChIP-seq\n",
      "    Written to File\n",
      "Processing: /nfs/turbo/umms-indikar/Joshua/HIF-datasets/datasets/Epigenomics_Roadmap_HM_ChIP-seq.hif\n",
      "  File size: 570.84MB\n",
      "  Number of chunks needed: 15\n",
      "  Total lines: 25096277\n",
      "  Lines per chunk: 1673086\n",
      "  Created: Epigenomics_Roadmap_HM_ChIP-seq_1of15.hif (33.99MB, 1673086 lines)\n",
      "  Created: Epigenomics_Roadmap_HM_ChIP-seq_2of15.hif (34.09MB, 1673086 lines)\n",
      "  Created: Epigenomics_Roadmap_HM_ChIP-seq_3of15.hif (34.09MB, 1673086 lines)\n",
      "  Created: Epigenomics_Roadmap_HM_ChIP-seq_4of15.hif (34.20MB, 1673086 lines)\n",
      "  Created: Epigenomics_Roadmap_HM_ChIP-seq_5of15.hif (34.36MB, 1673086 lines)\n",
      "  Created: Epigenomics_Roadmap_HM_ChIP-seq_6of15.hif (34.37MB, 1673086 lines)\n",
      "  Created: Epigenomics_Roadmap_HM_ChIP-seq_7of15.hif (45.20MB, 1673086 lines)\n",
      "  Created: Epigenomics_Roadmap_HM_ChIP-seq_8of15.hif (39.75MB, 1673086 lines)\n",
      "  Created: Epigenomics_Roadmap_HM_ChIP-seq_9of15.hif (40.68MB, 1673086 lines)\n",
      "  Created: Epigenomics_Roadmap_HM_ChIP-seq_10of15.hif (40.74MB, 1673086 lines)\n",
      "  Created: Epigenomics_Roadmap_HM_ChIP-seq_11of15.hif (40.95MB, 1673086 lines)\n",
      "  Created: Epigenomics_Roadmap_HM_ChIP-seq_12of15.hif (39.53MB, 1673086 lines)\n",
      "  Created: Epigenomics_Roadmap_HM_ChIP-seq_13of15.hif (39.19MB, 1673086 lines)\n",
      "  Created: Epigenomics_Roadmap_HM_ChIP-seq_14of15.hif (39.76MB, 1673086 lines)\n"
     ]
    },
    {
     "name": "stderr",
     "output_type": "stream",
     "text": [
      "19it [06:33, 30.26s/it]"
     ]
    },
    {
     "name": "stdout",
     "output_type": "stream",
     "text": [
      "  Created: Epigenomics_Roadmap_HM_ChIP-seq_15of15.hif (39.92MB, 1673073 lines)\n",
      "  Removed original file: /nfs/turbo/umms-indikar/Joshua/HIF-datasets/datasets/Epigenomics_Roadmap_HM_ChIP-seq.hif\n",
      "  Split complete: 15 files created\n",
      "    Split to separate files...Complete ✓\n",
      "Downloaded: KEA_2013\n"
     ]
    },
    {
     "name": "stderr",
     "output_type": "stream",
     "text": [
      "20it [06:38, 22.58s/it]"
     ]
    },
    {
     "name": "stdout",
     "output_type": "stream",
     "text": [
      "    Written to File\n",
      "Processing: /nfs/turbo/umms-indikar/Joshua/HIF-datasets/datasets/KEA_2013.hif\n",
      "  File is already under 40MB (3.90MB), skipping...\n",
      "    Split to separate files...Complete ✓\n",
      "Downloaded: NURSA_Human_Endogenous_Complexome\n",
      "    Written to File\n",
      "Processing: /nfs/turbo/umms-indikar/Joshua/HIF-datasets/datasets/NURSA_Human_Endogenous_Complexome.hif\n",
      "  File size: 58.36MB\n",
      "  Number of chunks needed: 2\n",
      "  Total lines: 2635970\n",
      "  Lines per chunk: 1317985\n",
      "  Created: NURSA_Human_Endogenous_Complexome_1of2.hif (29.36MB, 1317985 lines)\n"
     ]
    },
    {
     "name": "stderr",
     "output_type": "stream",
     "text": [
      "21it [06:50, 19.52s/it]"
     ]
    },
    {
     "name": "stdout",
     "output_type": "stream",
     "text": [
      "  Created: NURSA_Human_Endogenous_Complexome_2of2.hif (29.00MB, 1317985 lines)\n",
      "  Removed original file: /nfs/turbo/umms-indikar/Joshua/HIF-datasets/datasets/NURSA_Human_Endogenous_Complexome.hif\n",
      "  Split complete: 2 files created\n",
      "    Split to separate files...Complete ✓\n",
      "Downloaded: CORUM\n"
     ]
    },
    {
     "name": "stderr",
     "output_type": "stream",
     "text": [
      "22it [06:51, 13.99s/it]"
     ]
    },
    {
     "name": "stdout",
     "output_type": "stream",
     "text": [
      "    Written to File\n",
      "Processing: /nfs/turbo/umms-indikar/Joshua/HIF-datasets/datasets/CORUM.hif\n",
      "  File is already under 40MB (2.38MB), skipping...\n",
      "    Split to separate files...Complete ✓\n",
      "Downloaded: SILAC_Phosphoproteomics\n"
     ]
    },
    {
     "name": "stderr",
     "output_type": "stream",
     "text": [
      "23it [06:53, 10.51s/it]"
     ]
    },
    {
     "name": "stdout",
     "output_type": "stream",
     "text": [
      "    Written to File\n",
      "Processing: /nfs/turbo/umms-indikar/Joshua/HIF-datasets/datasets/SILAC_Phosphoproteomics.hif\n",
      "  File is already under 40MB (7.27MB), skipping...\n",
      "    Split to separate files...Complete ✓\n",
      "Downloaded: Old_CMAP_up\n",
      "    Written to File\n",
      "Processing: /nfs/turbo/umms-indikar/Joshua/HIF-datasets/datasets/Old_CMAP_up.hif\n",
      "  File size: 126.53MB\n",
      "  Number of chunks needed: 4\n",
      "  Total lines: 5612423\n",
      "  Lines per chunk: 1403106\n",
      "  Created: Old_CMAP_up_1of4.hif (32.41MB, 1403106 lines)\n",
      "  Created: Old_CMAP_up_2of4.hif (31.35MB, 1403106 lines)\n",
      "  Created: Old_CMAP_up_3of4.hif (31.38MB, 1403106 lines)\n"
     ]
    },
    {
     "name": "stderr",
     "output_type": "stream",
     "text": [
      "24it [07:14, 13.38s/it]"
     ]
    },
    {
     "name": "stdout",
     "output_type": "stream",
     "text": [
      "  Created: Old_CMAP_up_4of4.hif (31.38MB, 1403105 lines)\n",
      "  Removed original file: /nfs/turbo/umms-indikar/Joshua/HIF-datasets/datasets/Old_CMAP_up.hif\n",
      "  Split complete: 4 files created\n",
      "    Split to separate files...Complete ✓\n",
      "Downloaded: Old_CMAP_down\n",
      "    Written to File\n",
      "Processing: /nfs/turbo/umms-indikar/Joshua/HIF-datasets/datasets/Old_CMAP_down.hif\n",
      "  File size: 126.08MB\n",
      "  Number of chunks needed: 4\n",
      "  Total lines: 5597087\n",
      "  Lines per chunk: 1399272\n",
      "  Created: Old_CMAP_down_1of4.hif (32.29MB, 1399272 lines)\n",
      "  Created: Old_CMAP_down_2of4.hif (31.24MB, 1399272 lines)\n",
      "  Created: Old_CMAP_down_3of4.hif (31.27MB, 1399272 lines)\n"
     ]
    },
    {
     "name": "stderr",
     "output_type": "stream",
     "text": [
      "25it [07:33, 15.15s/it]"
     ]
    },
    {
     "name": "stdout",
     "output_type": "stream",
     "text": [
      "  Created: Old_CMAP_down_4of4.hif (31.28MB, 1399271 lines)\n",
      "  Removed original file: /nfs/turbo/umms-indikar/Joshua/HIF-datasets/datasets/Old_CMAP_down.hif\n",
      "  Split complete: 4 files created\n",
      "    Split to separate files...Complete ✓\n",
      "Downloaded: OMIM_Disease\n"
     ]
    },
    {
     "name": "stderr",
     "output_type": "stream",
     "text": [
      "26it [07:34, 10.95s/it]"
     ]
    },
    {
     "name": "stdout",
     "output_type": "stream",
     "text": [
      "    Written to File\n",
      "Processing: /nfs/turbo/umms-indikar/Joshua/HIF-datasets/datasets/OMIM_Disease.hif\n",
      "  File is already under 40MB (0.65MB), skipping...\n",
      "    Split to separate files...Complete ✓\n",
      "Downloaded: OMIM_Expanded\n"
     ]
    },
    {
     "name": "stderr",
     "output_type": "stream",
     "text": [
      "27it [07:35,  7.89s/it]"
     ]
    },
    {
     "name": "stdout",
     "output_type": "stream",
     "text": [
      "    Written to File\n",
      "Processing: /nfs/turbo/umms-indikar/Joshua/HIF-datasets/datasets/OMIM_Expanded.hif\n",
      "  File is already under 40MB (3.58MB), skipping...\n",
      "    Split to separate files...Complete ✓\n",
      "Downloaded: VirusMINT\n"
     ]
    },
    {
     "name": "stderr",
     "output_type": "stream",
     "text": [
      "28it [07:35,  5.59s/it]"
     ]
    },
    {
     "name": "stdout",
     "output_type": "stream",
     "text": [
      "    Written to File\n",
      "Processing: /nfs/turbo/umms-indikar/Joshua/HIF-datasets/datasets/VirusMINT.hif\n",
      "  File is already under 40MB (0.38MB), skipping...\n",
      "    Split to separate files...Complete ✓\n",
      "Downloaded: MSigDB_Computational\n"
     ]
    },
    {
     "name": "stderr",
     "output_type": "stream",
     "text": [
      "29it [07:38,  4.70s/it]"
     ]
    },
    {
     "name": "stdout",
     "output_type": "stream",
     "text": [
      "    Written to File\n",
      "Processing: /nfs/turbo/umms-indikar/Joshua/HIF-datasets/datasets/MSigDB_Computational.hif\n",
      "  File is already under 40MB (19.04MB), skipping...\n",
      "    Split to separate files...Complete ✓\n",
      "Downloaded: MSigDB_Oncogenic_Signatures\n"
     ]
    },
    {
     "name": "stderr",
     "output_type": "stream",
     "text": [
      "30it [07:39,  3.85s/it]"
     ]
    },
    {
     "name": "stdout",
     "output_type": "stream",
     "text": [
      "    Written to File\n",
      "Processing: /nfs/turbo/umms-indikar/Joshua/HIF-datasets/datasets/MSigDB_Oncogenic_Signatures.hif\n",
      "  File is already under 40MB (7.54MB), skipping...\n",
      "    Split to separate files...Complete ✓\n",
      "Downloaded: Disease_Signatures_from_GEO_down_2014\n"
     ]
    },
    {
     "name": "stderr",
     "output_type": "stream",
     "text": [
      "31it [07:42,  3.34s/it]"
     ]
    },
    {
     "name": "stdout",
     "output_type": "stream",
     "text": [
      "    Written to File\n",
      "Processing: /nfs/turbo/umms-indikar/Joshua/HIF-datasets/datasets/Disease_Signatures_from_GEO_down_2014.hif\n",
      "  File is already under 40MB (14.32MB), skipping...\n",
      "    Split to separate files...Complete ✓\n",
      "Downloaded: Virus_Perturbations_from_GEO_up\n"
     ]
    },
    {
     "name": "stderr",
     "output_type": "stream",
     "text": [
      "32it [07:48,  4.30s/it]"
     ]
    },
    {
     "name": "stdout",
     "output_type": "stream",
     "text": [
      "    Written to File\n",
      "Processing: /nfs/turbo/umms-indikar/Joshua/HIF-datasets/datasets/Virus_Perturbations_from_GEO_up.hif\n",
      "  File is already under 40MB (33.17MB), skipping...\n",
      "    Split to separate files...Complete ✓\n",
      "Downloaded: Virus_Perturbations_from_GEO_down\n"
     ]
    },
    {
     "name": "stderr",
     "output_type": "stream",
     "text": [
      "33it [07:56,  5.36s/it]"
     ]
    },
    {
     "name": "stdout",
     "output_type": "stream",
     "text": [
      "    Written to File\n",
      "Processing: /nfs/turbo/umms-indikar/Joshua/HIF-datasets/datasets/Virus_Perturbations_from_GEO_down.hif\n",
      "  File is already under 40MB (33.17MB), skipping...\n",
      "    Split to separate files...Complete ✓\n",
      "Downloaded: Cancer_Cell_Line_Encyclopedia\n"
     ]
    },
    {
     "name": "stderr",
     "output_type": "stream",
     "text": [
      "34it [08:02,  5.64s/it]"
     ]
    },
    {
     "name": "stdout",
     "output_type": "stream",
     "text": [
      "    Written to File\n",
      "Processing: /nfs/turbo/umms-indikar/Joshua/HIF-datasets/datasets/Cancer_Cell_Line_Encyclopedia.hif\n",
      "  File is already under 40MB (37.38MB), skipping...\n",
      "    Split to separate files...Complete ✓\n",
      "Downloaded: NCI-60_Cancer_Cell_Lines\n"
     ]
    },
    {
     "name": "stderr",
     "output_type": "stream",
     "text": [
      "35it [08:03,  4.31s/it]"
     ]
    },
    {
     "name": "stdout",
     "output_type": "stream",
     "text": [
      "    Written to File\n",
      "Processing: /nfs/turbo/umms-indikar/Joshua/HIF-datasets/datasets/NCI-60_Cancer_Cell_Lines.hif\n",
      "  File is already under 40MB (7.44MB), skipping...\n",
      "    Split to separate files...Complete ✓\n",
      "Downloaded: Tissue_Protein_Expression_from_ProteomicsDB\n"
     ]
    },
    {
     "name": "stderr",
     "output_type": "stream",
     "text": [
      "36it [08:06,  3.93s/it]"
     ]
    },
    {
     "name": "stdout",
     "output_type": "stream",
     "text": [
      "    Written to File\n",
      "Processing: /nfs/turbo/umms-indikar/Joshua/HIF-datasets/datasets/Tissue_Protein_Expression_from_ProteomicsDB.hif\n",
      "  File is already under 40MB (19.86MB), skipping...\n",
      "    Split to separate files...Complete ✓\n",
      "Downloaded: Tissue_Protein_Expression_from_Human_Proteome_Map\n"
     ]
    },
    {
     "name": "stderr",
     "output_type": "stream",
     "text": [
      "37it [08:07,  2.96s/it]"
     ]
    },
    {
     "name": "stdout",
     "output_type": "stream",
     "text": [
      "    Written to File\n",
      "Processing: /nfs/turbo/umms-indikar/Joshua/HIF-datasets/datasets/Tissue_Protein_Expression_from_Human_Proteome_Map.hif\n",
      "  File is already under 40MB (2.85MB), skipping...\n",
      "    Split to separate files...Complete ✓\n",
      "Downloaded: HMDB_Metabolites\n",
      "    Written to File\n",
      "Processing: /nfs/turbo/umms-indikar/Joshua/HIF-datasets/datasets/HMDB_Metabolites.hif\n",
      "  File size: 42.52MB\n",
      "  Number of chunks needed: 2\n",
      "  Total lines: 1714661\n",
      "  Lines per chunk: 857331\n",
      "  Created: HMDB_Metabolites_1of2.hif (21.15MB, 857331 lines)\n"
     ]
    },
    {
     "name": "stderr",
     "output_type": "stream",
     "text": [
      "38it [08:14,  4.04s/it]"
     ]
    },
    {
     "name": "stdout",
     "output_type": "stream",
     "text": [
      "  Created: HMDB_Metabolites_2of2.hif (21.36MB, 857330 lines)\n",
      "  Removed original file: /nfs/turbo/umms-indikar/Joshua/HIF-datasets/datasets/HMDB_Metabolites.hif\n",
      "  Split complete: 2 files created\n",
      "    Split to separate files...Complete ✓\n",
      "Downloaded: Pfam_InterPro_Domains\n"
     ]
    },
    {
     "name": "stderr",
     "output_type": "stream",
     "text": [
      "39it [08:15,  3.17s/it]"
     ]
    },
    {
     "name": "stdout",
     "output_type": "stream",
     "text": [
      "    Written to File\n",
      "Processing: /nfs/turbo/umms-indikar/Joshua/HIF-datasets/datasets/Pfam_InterPro_Domains.hif\n",
      "  File is already under 40MB (3.04MB), skipping...\n",
      "    Split to separate files...Complete ✓\n",
      "Downloaded: Allen_Brain_Atlas_up\n",
      "    Written to File\n",
      "Processing: /nfs/turbo/umms-indikar/Joshua/HIF-datasets/datasets/Allen_Brain_Atlas_up.hif\n",
      "  File size: 212.18MB\n",
      "  Number of chunks needed: 6\n",
      "  Total lines: 9293693\n",
      "  Lines per chunk: 1548949\n",
      "  Created: Allen_Brain_Atlas_up_1of6.hif (30.97MB, 1548949 lines)\n",
      "  Created: Allen_Brain_Atlas_up_2of6.hif (31.08MB, 1548949 lines)\n",
      "  Created: Allen_Brain_Atlas_up_3of6.hif (38.29MB, 1548949 lines)\n",
      "  Created: Allen_Brain_Atlas_up_4of6.hif (37.60MB, 1548949 lines)\n",
      "  Created: Allen_Brain_Atlas_up_5of6.hif (36.54MB, 1548949 lines)\n"
     ]
    },
    {
     "name": "stderr",
     "output_type": "stream",
     "text": [
      "40it [08:45, 11.29s/it]"
     ]
    },
    {
     "name": "stdout",
     "output_type": "stream",
     "text": [
      "  Created: Allen_Brain_Atlas_up_6of6.hif (37.70MB, 1548948 lines)\n",
      "  Removed original file: /nfs/turbo/umms-indikar/Joshua/HIF-datasets/datasets/Allen_Brain_Atlas_up.hif\n",
      "  Split complete: 6 files created\n",
      "    Split to separate files...Complete ✓\n",
      "Downloaded: ENCODE_TF_ChIP-seq_2015\n",
      "    Written to File\n",
      "Processing: /nfs/turbo/umms-indikar/Joshua/HIF-datasets/datasets/ENCODE_TF_ChIP-seq_2015.hif\n",
      "  File size: 305.15MB\n",
      "  Number of chunks needed: 8\n",
      "  Total lines: 13464116\n",
      "  Lines per chunk: 1683015\n",
      "  Created: ENCODE_TF_ChIP-seq_2015_1of8.hif (41.50MB, 1683015 lines)\n",
      "  Created: ENCODE_TF_ChIP-seq_2015_2of8.hif (37.25MB, 1683015 lines)\n",
      "  Created: ENCODE_TF_ChIP-seq_2015_3of8.hif (37.82MB, 1683015 lines)\n",
      "  Created: ENCODE_TF_ChIP-seq_2015_4of8.hif (37.94MB, 1683015 lines)\n",
      "  Created: ENCODE_TF_ChIP-seq_2015_5of8.hif (37.75MB, 1683015 lines)\n",
      "  Created: ENCODE_TF_ChIP-seq_2015_6of8.hif (37.61MB, 1683015 lines)\n",
      "  Created: ENCODE_TF_ChIP-seq_2015_7of8.hif (37.72MB, 1683015 lines)\n"
     ]
    },
    {
     "name": "stderr",
     "output_type": "stream",
     "text": [
      "41it [09:40, 24.49s/it]"
     ]
    },
    {
     "name": "stdout",
     "output_type": "stream",
     "text": [
      "  Created: ENCODE_TF_ChIP-seq_2015_8of8.hif (37.56MB, 1683011 lines)\n",
      "  Removed original file: /nfs/turbo/umms-indikar/Joshua/HIF-datasets/datasets/ENCODE_TF_ChIP-seq_2015.hif\n",
      "  Split complete: 8 files created\n",
      "    Split to separate files...Complete ✓\n",
      "Downloaded: ENCODE_Histone_Modifications_2015\n",
      "    Written to File\n",
      "Processing: /nfs/turbo/umms-indikar/Joshua/HIF-datasets/datasets/ENCODE_Histone_Modifications_2015.hif\n",
      "  File size: 187.57MB\n",
      "  Number of chunks needed: 5\n",
      "  Total lines: 8051684\n",
      "  Lines per chunk: 1610337\n",
      "  Created: ENCODE_Histone_Modifications_2015_1of5.hif (38.20MB, 1610337 lines)\n",
      "  Created: ENCODE_Histone_Modifications_2015_2of5.hif (36.94MB, 1610337 lines)\n",
      "  Created: ENCODE_Histone_Modifications_2015_3of5.hif (37.28MB, 1610337 lines)\n",
      "  Created: ENCODE_Histone_Modifications_2015_4of5.hif (37.74MB, 1610337 lines)\n"
     ]
    },
    {
     "name": "stderr",
     "output_type": "stream",
     "text": [
      "42it [10:15, 27.43s/it]"
     ]
    },
    {
     "name": "stdout",
     "output_type": "stream",
     "text": [
      "  Created: ENCODE_Histone_Modifications_2015_5of5.hif (37.41MB, 1610336 lines)\n",
      "  Removed original file: /nfs/turbo/umms-indikar/Joshua/HIF-datasets/datasets/ENCODE_Histone_Modifications_2015.hif\n",
      "  Split complete: 5 files created\n",
      "    Split to separate files...Complete ✓\n",
      "Downloaded: Phosphatase_Substrates_from_DEPOD\n"
     ]
    },
    {
     "name": "stderr",
     "output_type": "stream",
     "text": [
      "43it [10:15, 19.36s/it]"
     ]
    },
    {
     "name": "stdout",
     "output_type": "stream",
     "text": [
      "    Written to File\n",
      "Processing: /nfs/turbo/umms-indikar/Joshua/HIF-datasets/datasets/Phosphatase_Substrates_from_DEPOD.hif\n",
      "  File is already under 40MB (0.15MB), skipping...\n",
      "    Split to separate files...Complete ✓\n",
      "Downloaded: Allen_Brain_Atlas_down\n",
      "    Written to File\n",
      "Processing: /nfs/turbo/umms-indikar/Joshua/HIF-datasets/datasets/Allen_Brain_Atlas_down.hif\n",
      "  File size: 212.38MB\n",
      "  Number of chunks needed: 6\n",
      "  Total lines: 9278483\n",
      "  Lines per chunk: 1546414\n",
      "  Created: Allen_Brain_Atlas_down_1of6.hif (31.18MB, 1546414 lines)\n",
      "  Created: Allen_Brain_Atlas_down_2of6.hif (31.29MB, 1546414 lines)\n",
      "  Created: Allen_Brain_Atlas_down_3of6.hif (38.26MB, 1546414 lines)\n",
      "  Created: Allen_Brain_Atlas_down_4of6.hif (37.54MB, 1546414 lines)\n",
      "  Created: Allen_Brain_Atlas_down_5of6.hif (36.47MB, 1546414 lines)\n"
     ]
    },
    {
     "name": "stderr",
     "output_type": "stream",
     "text": [
      "44it [10:46, 22.76s/it]"
     ]
    },
    {
     "name": "stdout",
     "output_type": "stream",
     "text": [
      "  Created: Allen_Brain_Atlas_down_6of6.hif (37.64MB, 1546413 lines)\n",
      "  Removed original file: /nfs/turbo/umms-indikar/Joshua/HIF-datasets/datasets/Allen_Brain_Atlas_down.hif\n",
      "  Split complete: 6 files created\n",
      "    Split to separate files...Complete ✓\n",
      "Downloaded: ENCODE_Histone_Modifications_2013\n"
     ]
    },
    {
     "name": "stderr",
     "output_type": "stream",
     "text": [
      "45it [10:52, 17.80s/it]"
     ]
    },
    {
     "name": "stdout",
     "output_type": "stream",
     "text": [
      "    Written to File\n",
      "Processing: /nfs/turbo/umms-indikar/Joshua/HIF-datasets/datasets/ENCODE_Histone_Modifications_2013.hif\n",
      "  File is already under 40MB (21.40MB), skipping...\n",
      "    Split to separate files...Complete ✓\n",
      "Downloaded: Achilles_fitness_increase\n"
     ]
    },
    {
     "name": "stderr",
     "output_type": "stream",
     "text": [
      "46it [10:54, 13.11s/it]"
     ]
    },
    {
     "name": "stdout",
     "output_type": "stream",
     "text": [
      "    Written to File\n",
      "Processing: /nfs/turbo/umms-indikar/Joshua/HIF-datasets/datasets/Achilles_fitness_increase.hif\n",
      "  File is already under 40MB (6.21MB), skipping...\n",
      "    Split to separate files...Complete ✓\n",
      "Downloaded: Achilles_fitness_decrease\n"
     ]
    },
    {
     "name": "stderr",
     "output_type": "stream",
     "text": [
      "47it [10:56,  9.54s/it]"
     ]
    },
    {
     "name": "stdout",
     "output_type": "stream",
     "text": [
      "    Written to File\n",
      "Processing: /nfs/turbo/umms-indikar/Joshua/HIF-datasets/datasets/Achilles_fitness_decrease.hif\n",
      "  File is already under 40MB (6.19MB), skipping...\n",
      "    Split to separate files...Complete ✓\n"
     ]
    },
    {
     "name": "stderr",
     "output_type": "stream",
     "text": [
      "48it [10:56,  6.88s/it]"
     ]
    },
    {
     "name": "stdout",
     "output_type": "stream",
     "text": [
      "Downloaded: BioCarta_2015\n",
      "    Written to File\n",
      "Processing: /nfs/turbo/umms-indikar/Joshua/HIF-datasets/datasets/BioCarta_2015.hif\n",
      "  File is already under 40MB (1.36MB), skipping...\n",
      "    Split to separate files...Complete ✓\n"
     ]
    },
    {
     "name": "stderr",
     "output_type": "stream",
     "text": [
      "49it [10:57,  4.93s/it]"
     ]
    },
    {
     "name": "stdout",
     "output_type": "stream",
     "text": [
      "Downloaded: HumanCyc_2015\n",
      "    Written to File\n",
      "Processing: /nfs/turbo/umms-indikar/Joshua/HIF-datasets/datasets/HumanCyc_2015.hif\n",
      "  File is already under 40MB (0.42MB), skipping...\n",
      "    Split to separate files...Complete ✓\n"
     ]
    },
    {
     "name": "stderr",
     "output_type": "stream",
     "text": [
      "50it [10:58,  3.77s/it]"
     ]
    },
    {
     "name": "stdout",
     "output_type": "stream",
     "text": [
      "Downloaded: KEGG_2015\n",
      "    Written to File\n",
      "Processing: /nfs/turbo/umms-indikar/Joshua/HIF-datasets/datasets/KEGG_2015.hif\n",
      "  File is already under 40MB (2.25MB), skipping...\n",
      "    Split to separate files...Complete ✓\n"
     ]
    },
    {
     "name": "stderr",
     "output_type": "stream",
     "text": [
      "51it [10:58,  2.79s/it]"
     ]
    },
    {
     "name": "stdout",
     "output_type": "stream",
     "text": [
      "Downloaded: Panther_2015\n",
      "    Written to File\n",
      "Processing: /nfs/turbo/umms-indikar/Joshua/HIF-datasets/datasets/Panther_2015.hif\n",
      "  File is already under 40MB (1.12MB), skipping...\n",
      "    Split to separate files...Complete ✓\n",
      "Downloaded: WikiPathways_2015\n"
     ]
    },
    {
     "name": "stderr",
     "output_type": "stream",
     "text": [
      "52it [11:00,  2.41s/it]"
     ]
    },
    {
     "name": "stdout",
     "output_type": "stream",
     "text": [
      "    Written to File\n",
      "Processing: /nfs/turbo/umms-indikar/Joshua/HIF-datasets/datasets/WikiPathways_2015.hif\n",
      "  File is already under 40MB (5.33MB), skipping...\n",
      "    Split to separate files...Complete ✓\n",
      "Downloaded: ESCAPE\n",
      "    Written to File\n",
      "Processing: /nfs/turbo/umms-indikar/Joshua/HIF-datasets/datasets/ESCAPE.hif\n",
      "  File size: 54.82MB\n",
      "  Number of chunks needed: 2\n",
      "  Total lines: 2444000\n",
      "  Lines per chunk: 1222000\n",
      "  Created: ESCAPE_1of2.hif (27.44MB, 1222000 lines)\n"
     ]
    },
    {
     "name": "stderr",
     "output_type": "stream",
     "text": [
      "53it [11:19,  7.61s/it]"
     ]
    },
    {
     "name": "stdout",
     "output_type": "stream",
     "text": [
      "  Created: ESCAPE_2of2.hif (27.38MB, 1222000 lines)\n",
      "  Removed original file: /nfs/turbo/umms-indikar/Joshua/HIF-datasets/datasets/ESCAPE.hif\n",
      "  Split complete: 2 files created\n",
      "    Split to separate files...Complete ✓\n",
      "Downloaded: HomoloGene\n"
     ]
    },
    {
     "name": "stderr",
     "output_type": "stream",
     "text": [
      "54it [11:22,  6.24s/it]"
     ]
    },
    {
     "name": "stdout",
     "output_type": "stream",
     "text": [
      "    Written to File\n",
      "Processing: /nfs/turbo/umms-indikar/Joshua/HIF-datasets/datasets/HomoloGene.hif\n",
      "  File is already under 40MB (6.37MB), skipping...\n",
      "    Split to separate files...Complete ✓\n",
      "Downloaded: Disease_Perturbations_from_GEO_down\n",
      "    Written to File\n",
      "Processing: /nfs/turbo/umms-indikar/Joshua/HIF-datasets/datasets/Disease_Perturbations_from_GEO_down.hif\n",
      "  File size: 61.99MB\n",
      "  Number of chunks needed: 2\n",
      "  Total lines: 2360603\n",
      "  Lines per chunk: 1180302\n",
      "  Created: Disease_Perturbations_from_GEO_down_1of2.hif (30.13MB, 1180302 lines)\n"
     ]
    },
    {
     "name": "stderr",
     "output_type": "stream",
     "text": [
      "55it [11:33,  7.61s/it]"
     ]
    },
    {
     "name": "stdout",
     "output_type": "stream",
     "text": [
      "  Created: Disease_Perturbations_from_GEO_down_2of2.hif (31.86MB, 1180301 lines)\n",
      "  Removed original file: /nfs/turbo/umms-indikar/Joshua/HIF-datasets/datasets/Disease_Perturbations_from_GEO_down.hif\n",
      "  Split complete: 2 files created\n",
      "    Split to separate files...Complete ✓\n",
      "Downloaded: Disease_Perturbations_from_GEO_up\n",
      "    Written to File\n",
      "Processing: /nfs/turbo/umms-indikar/Joshua/HIF-datasets/datasets/Disease_Perturbations_from_GEO_up.hif\n",
      "  File size: 65.02MB\n",
      "  Number of chunks needed: 2\n",
      "  Total lines: 2470124\n",
      "  Lines per chunk: 1235062\n",
      "  Created: Disease_Perturbations_from_GEO_up_1of2.hif (31.66MB, 1235062 lines)\n"
     ]
    },
    {
     "name": "stderr",
     "output_type": "stream",
     "text": [
      "56it [11:42,  8.07s/it]"
     ]
    },
    {
     "name": "stdout",
     "output_type": "stream",
     "text": [
      "  Created: Disease_Perturbations_from_GEO_up_2of2.hif (33.36MB, 1235062 lines)\n",
      "  Removed original file: /nfs/turbo/umms-indikar/Joshua/HIF-datasets/datasets/Disease_Perturbations_from_GEO_up.hif\n",
      "  Split complete: 2 files created\n",
      "    Split to separate files...Complete ✓\n",
      "Downloaded: Drug_Perturbations_from_GEO_down\n",
      "    Written to File\n",
      "Processing: /nfs/turbo/umms-indikar/Joshua/HIF-datasets/datasets/Drug_Perturbations_from_GEO_down.hif\n",
      "  File size: 65.95MB\n",
      "  Number of chunks needed: 2\n",
      "  Total lines: 2606360\n",
      "  Lines per chunk: 1303180\n",
      "  Created: Drug_Perturbations_from_GEO_down_1of2.hif (32.42MB, 1303180 lines)\n"
     ]
    },
    {
     "name": "stderr",
     "output_type": "stream",
     "text": [
      "57it [11:56,  9.65s/it]"
     ]
    },
    {
     "name": "stdout",
     "output_type": "stream",
     "text": [
      "  Created: Drug_Perturbations_from_GEO_down_2of2.hif (33.54MB, 1303180 lines)\n",
      "  Removed original file: /nfs/turbo/umms-indikar/Joshua/HIF-datasets/datasets/Drug_Perturbations_from_GEO_down.hif\n",
      "  Split complete: 2 files created\n",
      "    Split to separate files...Complete ✓\n",
      "Downloaded: Genes_Associated_with_NIH_Grants\n",
      "    Written to File\n",
      "Processing: /nfs/turbo/umms-indikar/Joshua/HIF-datasets/datasets/Genes_Associated_with_NIH_Grants.hif\n",
      "  File size: 68.40MB\n",
      "  Number of chunks needed: 2\n",
      "  Total lines: 3100316\n",
      "  Lines per chunk: 1550158\n",
      "  Created: Genes_Associated_with_NIH_Grants_1of2.hif (34.34MB, 1550158 lines)\n"
     ]
    },
    {
     "name": "stderr",
     "output_type": "stream",
     "text": [
      "58it [12:14, 12.20s/it]"
     ]
    },
    {
     "name": "stdout",
     "output_type": "stream",
     "text": [
      "  Created: Genes_Associated_with_NIH_Grants_2of2.hif (34.06MB, 1550158 lines)\n",
      "  Removed original file: /nfs/turbo/umms-indikar/Joshua/HIF-datasets/datasets/Genes_Associated_with_NIH_Grants.hif\n",
      "  Split complete: 2 files created\n",
      "    Split to separate files...Complete ✓\n",
      "Downloaded: Drug_Perturbations_from_GEO_up\n",
      "    Written to File\n",
      "Processing: /nfs/turbo/umms-indikar/Joshua/HIF-datasets/datasets/Drug_Perturbations_from_GEO_up.hif\n",
      "  File size: 65.52MB\n",
      "  Number of chunks needed: 2\n",
      "  Total lines: 2591741\n",
      "  Lines per chunk: 1295871\n",
      "  Created: Drug_Perturbations_from_GEO_up_1of2.hif (32.19MB, 1295871 lines)\n"
     ]
    },
    {
     "name": "stderr",
     "output_type": "stream",
     "text": [
      "59it [12:28, 12.69s/it]"
     ]
    },
    {
     "name": "stdout",
     "output_type": "stream",
     "text": [
      "  Created: Drug_Perturbations_from_GEO_up_2of2.hif (33.32MB, 1295870 lines)\n",
      "  Removed original file: /nfs/turbo/umms-indikar/Joshua/HIF-datasets/datasets/Drug_Perturbations_from_GEO_up.hif\n",
      "  Split complete: 2 files created\n",
      "    Split to separate files...Complete ✓\n",
      "Downloaded: KEA_2015\n"
     ]
    },
    {
     "name": "stderr",
     "output_type": "stream",
     "text": [
      "60it [12:29,  9.13s/it]"
     ]
    },
    {
     "name": "stdout",
     "output_type": "stream",
     "text": [
      "    Written to File\n",
      "Processing: /nfs/turbo/umms-indikar/Joshua/HIF-datasets/datasets/KEA_2015.hif\n",
      "  File is already under 40MB (2.47MB), skipping...\n",
      "    Split to separate files...Complete ✓\n",
      "Downloaded: Gene_Perturbations_from_GEO_up\n",
      "    Written to File\n",
      "Processing: /nfs/turbo/umms-indikar/Joshua/HIF-datasets/datasets/Gene_Perturbations_from_GEO_up.hif\n",
      "  File size: 171.78MB\n",
      "  Number of chunks needed: 5\n",
      "  Total lines: 6900170\n",
      "  Lines per chunk: 1380034\n",
      "  Created: Gene_Perturbations_from_GEO_up_1of5.hif (33.58MB, 1380034 lines)\n",
      "  Created: Gene_Perturbations_from_GEO_up_2of5.hif (34.36MB, 1380034 lines)\n",
      "  Created: Gene_Perturbations_from_GEO_up_3of5.hif (34.52MB, 1380034 lines)\n",
      "  Created: Gene_Perturbations_from_GEO_up_4of5.hif (34.61MB, 1380034 lines)\n"
     ]
    },
    {
     "name": "stderr",
     "output_type": "stream",
     "text": [
      "61it [12:55, 14.42s/it]"
     ]
    },
    {
     "name": "stdout",
     "output_type": "stream",
     "text": [
      "  Created: Gene_Perturbations_from_GEO_up_5of5.hif (34.72MB, 1380034 lines)\n",
      "  Removed original file: /nfs/turbo/umms-indikar/Joshua/HIF-datasets/datasets/Gene_Perturbations_from_GEO_up.hif\n",
      "  Split complete: 5 files created\n",
      "    Split to separate files...Complete ✓\n",
      "Downloaded: Gene_Perturbations_from_GEO_down\n",
      "    Written to File\n",
      "Processing: /nfs/turbo/umms-indikar/Joshua/HIF-datasets/datasets/Gene_Perturbations_from_GEO_down.hif\n",
      "  File size: 169.10MB\n",
      "  Number of chunks needed: 5\n",
      "  Total lines: 6799928\n",
      "  Lines per chunk: 1359986\n",
      "  Created: Gene_Perturbations_from_GEO_down_1of5.hif (33.07MB, 1359986 lines)\n",
      "  Created: Gene_Perturbations_from_GEO_down_2of5.hif (33.84MB, 1359986 lines)\n",
      "  Created: Gene_Perturbations_from_GEO_down_3of5.hif (33.97MB, 1359986 lines)\n",
      "  Created: Gene_Perturbations_from_GEO_down_4of5.hif (34.07MB, 1359986 lines)\n"
     ]
    },
    {
     "name": "stderr",
     "output_type": "stream",
     "text": [
      "62it [13:25, 18.89s/it]"
     ]
    },
    {
     "name": "stdout",
     "output_type": "stream",
     "text": [
      "  Created: Gene_Perturbations_from_GEO_down_5of5.hif (34.14MB, 1359984 lines)\n",
      "  Removed original file: /nfs/turbo/umms-indikar/Joshua/HIF-datasets/datasets/Gene_Perturbations_from_GEO_down.hif\n",
      "  Split complete: 5 files created\n",
      "    Split to separate files...Complete ✓\n",
      "Downloaded: ChEA_2015\n",
      "    Written to File\n",
      "Processing: /nfs/turbo/umms-indikar/Joshua/HIF-datasets/datasets/ChEA_2015.hif\n",
      "  File size: 130.82MB\n",
      "  Number of chunks needed: 4\n",
      "  Total lines: 5373101\n",
      "  Lines per chunk: 1343276\n",
      "  Created: ChEA_2015_1of4.hif (31.73MB, 1343276 lines)\n",
      "  Created: ChEA_2015_2of4.hif (33.01MB, 1343276 lines)\n",
      "  Created: ChEA_2015_3of4.hif (33.00MB, 1343276 lines)\n"
     ]
    },
    {
     "name": "stderr",
     "output_type": "stream",
     "text": [
      "63it [14:14, 28.09s/it]"
     ]
    },
    {
     "name": "stdout",
     "output_type": "stream",
     "text": [
      "  Created: ChEA_2015_4of4.hif (33.08MB, 1343273 lines)\n",
      "  Removed original file: /nfs/turbo/umms-indikar/Joshua/HIF-datasets/datasets/ChEA_2015.hif\n",
      "  Split complete: 4 files created\n",
      "    Split to separate files...Complete ✓\n",
      "Downloaded: dbGaP\n"
     ]
    },
    {
     "name": "stderr",
     "output_type": "stream",
     "text": [
      "64it [14:15, 20.02s/it]"
     ]
    },
    {
     "name": "stdout",
     "output_type": "stream",
     "text": [
      "    Written to File\n",
      "Processing: /nfs/turbo/umms-indikar/Joshua/HIF-datasets/datasets/dbGaP.hif\n",
      "  File is already under 40MB (3.20MB), skipping...\n",
      "    Split to separate files...Complete ✓\n",
      "Downloaded: LINCS_L1000_Chem_Pert_up\n",
      "    Written to File\n",
      "Processing: /nfs/turbo/umms-indikar/Joshua/HIF-datasets/datasets/LINCS_L1000_Chem_Pert_up.hif\n",
      "  File size: 540.71MB\n",
      "  Number of chunks needed: 14\n",
      "  Total lines: 22161572\n",
      "  Lines per chunk: 1582970\n",
      "  Created: LINCS_L1000_Chem_Pert_up_1of14.hif (38.60MB, 1582970 lines)\n",
      "  Created: LINCS_L1000_Chem_Pert_up_2of14.hif (38.77MB, 1582970 lines)\n",
      "  Created: LINCS_L1000_Chem_Pert_up_3of14.hif (38.86MB, 1582970 lines)\n",
      "  Created: LINCS_L1000_Chem_Pert_up_4of14.hif (38.68MB, 1582970 lines)\n",
      "  Created: LINCS_L1000_Chem_Pert_up_5of14.hif (38.68MB, 1582970 lines)\n",
      "  Created: LINCS_L1000_Chem_Pert_up_6of14.hif (38.68MB, 1582970 lines)\n",
      "  Created: LINCS_L1000_Chem_Pert_up_7of14.hif (39.06MB, 1582970 lines)\n",
      "  Created: LINCS_L1000_Chem_Pert_up_8of14.hif (38.69MB, 1582970 lines)\n",
      "  Created: LINCS_L1000_Chem_Pert_up_9of14.hif (38.49MB, 1582970 lines)\n",
      "  Created: LINCS_L1000_Chem_Pert_up_10of14.hif (38.88MB, 1582970 lines)\n",
      "  Created: LINCS_L1000_Chem_Pert_up_11of14.hif (38.43MB, 1582970 lines)\n",
      "  Created: LINCS_L1000_Chem_Pert_up_12of14.hif (38.33MB, 1582970 lines)\n",
      "  Created: LINCS_L1000_Chem_Pert_up_13of14.hif (38.32MB, 1582970 lines)\n"
     ]
    },
    {
     "name": "stderr",
     "output_type": "stream",
     "text": [
      "65it [15:30, 36.31s/it]"
     ]
    },
    {
     "name": "stdout",
     "output_type": "stream",
     "text": [
      "  Created: LINCS_L1000_Chem_Pert_up_14of14.hif (38.25MB, 1582962 lines)\n",
      "  Removed original file: /nfs/turbo/umms-indikar/Joshua/HIF-datasets/datasets/LINCS_L1000_Chem_Pert_up.hif\n",
      "  Split complete: 14 files created\n",
      "    Split to separate files...Complete ✓\n",
      "Downloaded: LINCS_L1000_Chem_Pert_down\n",
      "    Written to File\n",
      "Processing: /nfs/turbo/umms-indikar/Joshua/HIF-datasets/datasets/LINCS_L1000_Chem_Pert_down.hif\n",
      "  File size: 467.21MB\n",
      "  Number of chunks needed: 12\n",
      "  Total lines: 19152930\n",
      "  Lines per chunk: 1596078\n",
      "  Created: LINCS_L1000_Chem_Pert_down_1of12.hif (38.89MB, 1596078 lines)\n",
      "  Created: LINCS_L1000_Chem_Pert_down_2of12.hif (39.02MB, 1596078 lines)\n",
      "  Created: LINCS_L1000_Chem_Pert_down_3of12.hif (39.16MB, 1596078 lines)\n",
      "  Created: LINCS_L1000_Chem_Pert_down_4of12.hif (39.07MB, 1596078 lines)\n",
      "  Created: LINCS_L1000_Chem_Pert_down_5of12.hif (38.99MB, 1596078 lines)\n",
      "  Created: LINCS_L1000_Chem_Pert_down_6of12.hif (39.39MB, 1596078 lines)\n",
      "  Created: LINCS_L1000_Chem_Pert_down_7of12.hif (38.76MB, 1596078 lines)\n",
      "  Created: LINCS_L1000_Chem_Pert_down_8of12.hif (39.09MB, 1596078 lines)\n",
      "  Created: LINCS_L1000_Chem_Pert_down_9of12.hif (38.97MB, 1596078 lines)\n",
      "  Created: LINCS_L1000_Chem_Pert_down_10of12.hif (38.66MB, 1596078 lines)\n",
      "  Created: LINCS_L1000_Chem_Pert_down_11of12.hif (38.59MB, 1596078 lines)\n"
     ]
    },
    {
     "name": "stderr",
     "output_type": "stream",
     "text": [
      "66it [16:42, 47.19s/it]"
     ]
    },
    {
     "name": "stdout",
     "output_type": "stream",
     "text": [
      "  Created: LINCS_L1000_Chem_Pert_down_12of12.hif (38.62MB, 1596072 lines)\n",
      "  Removed original file: /nfs/turbo/umms-indikar/Joshua/HIF-datasets/datasets/LINCS_L1000_Chem_Pert_down.hif\n",
      "  Split complete: 12 files created\n",
      "    Split to separate files...Complete ✓\n",
      "Downloaded: GTEx_Tissue_Expression_Down\n",
      "    Written to File\n",
      "Processing: /nfs/turbo/umms-indikar/Joshua/HIF-datasets/datasets/GTEx_Tissue_Expression_Down.hif\n",
      "  File size: 981.74MB\n",
      "  Number of chunks needed: 25\n",
      "  Total lines: 38025665\n",
      "  Lines per chunk: 1521027\n",
      "  Created: GTEx_Tissue_Expression_Down_1of25.hif (37.56MB, 1521027 lines)\n",
      "  Created: GTEx_Tissue_Expression_Down_2of25.hif (38.20MB, 1521027 lines)\n",
      "  Created: GTEx_Tissue_Expression_Down_3of25.hif (38.24MB, 1521027 lines)\n",
      "  Created: GTEx_Tissue_Expression_Down_4of25.hif (38.66MB, 1521027 lines)\n",
      "  Created: GTEx_Tissue_Expression_Down_5of25.hif (38.82MB, 1521027 lines)\n",
      "  Created: GTEx_Tissue_Expression_Down_6of25.hif (38.80MB, 1521027 lines)\n",
      "  Created: GTEx_Tissue_Expression_Down_7of25.hif (38.82MB, 1521027 lines)\n",
      "  Created: GTEx_Tissue_Expression_Down_8of25.hif (39.09MB, 1521027 lines)\n",
      "  Created: GTEx_Tissue_Expression_Down_9of25.hif (39.18MB, 1521027 lines)\n",
      "  Created: GTEx_Tissue_Expression_Down_10of25.hif (39.18MB, 1521027 lines)\n",
      "  Created: GTEx_Tissue_Expression_Down_11of25.hif (39.53MB, 1521027 lines)\n",
      "  Created: GTEx_Tissue_Expression_Down_12of25.hif (39.25MB, 1521027 lines)\n",
      "  Created: GTEx_Tissue_Expression_Down_13of25.hif (39.34MB, 1521027 lines)\n",
      "  Created: GTEx_Tissue_Expression_Down_14of25.hif (39.34MB, 1521027 lines)\n",
      "  Created: GTEx_Tissue_Expression_Down_15of25.hif (39.38MB, 1521027 lines)\n",
      "  Created: GTEx_Tissue_Expression_Down_16of25.hif (39.15MB, 1521027 lines)\n",
      "  Created: GTEx_Tissue_Expression_Down_17of25.hif (39.36MB, 1521027 lines)\n",
      "  Created: GTEx_Tissue_Expression_Down_18of25.hif (40.60MB, 1521027 lines)\n",
      "  Created: GTEx_Tissue_Expression_Down_19of25.hif (40.24MB, 1521027 lines)\n",
      "  Created: GTEx_Tissue_Expression_Down_20of25.hif (39.87MB, 1521027 lines)\n",
      "  Created: GTEx_Tissue_Expression_Down_21of25.hif (39.44MB, 1521027 lines)\n",
      "  Created: GTEx_Tissue_Expression_Down_22of25.hif (39.36MB, 1521027 lines)\n",
      "  Created: GTEx_Tissue_Expression_Down_23of25.hif (39.93MB, 1521027 lines)\n",
      "  Created: GTEx_Tissue_Expression_Down_24of25.hif (40.14MB, 1521027 lines)\n"
     ]
    },
    {
     "name": "stderr",
     "output_type": "stream",
     "text": [
      "67it [18:53, 72.37s/it]"
     ]
    },
    {
     "name": "stdout",
     "output_type": "stream",
     "text": [
      "  Created: GTEx_Tissue_Expression_Down_25of25.hif (40.26MB, 1521017 lines)\n",
      "  Removed original file: /nfs/turbo/umms-indikar/Joshua/HIF-datasets/datasets/GTEx_Tissue_Expression_Down.hif\n",
      "  Split complete: 25 files created\n",
      "    Split to separate files...Complete ✓\n",
      "Downloaded: GTEx_Tissue_Expression_Up\n",
      "    Written to File\n",
      "Processing: /nfs/turbo/umms-indikar/Joshua/HIF-datasets/datasets/GTEx_Tissue_Expression_Up.hif\n",
      "  File size: 989.30MB\n",
      "  Number of chunks needed: 25\n",
      "  Total lines: 38035661\n",
      "  Lines per chunk: 1521427\n",
      "  Created: GTEx_Tissue_Expression_Up_1of25.hif (37.60MB, 1521427 lines)\n",
      "  Created: GTEx_Tissue_Expression_Up_2of25.hif (38.34MB, 1521427 lines)\n",
      "  Created: GTEx_Tissue_Expression_Up_3of25.hif (38.38MB, 1521427 lines)\n",
      "  Created: GTEx_Tissue_Expression_Up_4of25.hif (38.98MB, 1521427 lines)\n",
      "  Created: GTEx_Tissue_Expression_Up_5of25.hif (39.37MB, 1521427 lines)\n",
      "  Created: GTEx_Tissue_Expression_Up_6of25.hif (39.29MB, 1521427 lines)\n",
      "  Created: GTEx_Tissue_Expression_Up_7of25.hif (39.25MB, 1521427 lines)\n",
      "  Created: GTEx_Tissue_Expression_Up_8of25.hif (39.55MB, 1521427 lines)\n",
      "  Created: GTEx_Tissue_Expression_Up_9of25.hif (39.57MB, 1521427 lines)\n",
      "  Created: GTEx_Tissue_Expression_Up_10of25.hif (39.56MB, 1521427 lines)\n",
      "  Created: GTEx_Tissue_Expression_Up_11of25.hif (39.46MB, 1521427 lines)\n",
      "  Created: GTEx_Tissue_Expression_Up_12of25.hif (40.36MB, 1521427 lines)\n",
      "  Created: GTEx_Tissue_Expression_Up_13of25.hif (40.62MB, 1521427 lines)\n",
      "  Created: GTEx_Tissue_Expression_Up_14of25.hif (39.82MB, 1521427 lines)\n",
      "  Created: GTEx_Tissue_Expression_Up_15of25.hif (40.67MB, 1521427 lines)\n",
      "  Created: GTEx_Tissue_Expression_Up_16of25.hif (39.53MB, 1521427 lines)\n",
      "  Created: GTEx_Tissue_Expression_Up_17of25.hif (39.97MB, 1521427 lines)\n",
      "  Created: GTEx_Tissue_Expression_Up_18of25.hif (39.91MB, 1521427 lines)\n",
      "  Created: GTEx_Tissue_Expression_Up_19of25.hif (39.52MB, 1521427 lines)\n",
      "  Created: GTEx_Tissue_Expression_Up_20of25.hif (39.66MB, 1521427 lines)\n",
      "  Created: GTEx_Tissue_Expression_Up_21of25.hif (39.39MB, 1521427 lines)\n",
      "  Created: GTEx_Tissue_Expression_Up_22of25.hif (39.97MB, 1521427 lines)\n",
      "  Created: GTEx_Tissue_Expression_Up_23of25.hif (40.25MB, 1521427 lines)\n",
      "  Created: GTEx_Tissue_Expression_Up_24of25.hif (40.17MB, 1521427 lines)\n"
     ]
    },
    {
     "name": "stderr",
     "output_type": "stream",
     "text": [
      "68it [21:05, 90.18s/it]"
     ]
    },
    {
     "name": "stdout",
     "output_type": "stream",
     "text": [
      "  Created: GTEx_Tissue_Expression_Up_25of25.hif (40.11MB, 1521413 lines)\n",
      "  Removed original file: /nfs/turbo/umms-indikar/Joshua/HIF-datasets/datasets/GTEx_Tissue_Expression_Up.hif\n",
      "  Split complete: 25 files created\n",
      "    Split to separate files...Complete ✓\n",
      "Downloaded: Ligand_Perturbations_from_GEO_down\n"
     ]
    },
    {
     "name": "stderr",
     "output_type": "stream",
     "text": [
      "69it [21:19, 67.24s/it]"
     ]
    },
    {
     "name": "stdout",
     "output_type": "stream",
     "text": [
      "    Written to File\n",
      "Processing: /nfs/turbo/umms-indikar/Joshua/HIF-datasets/datasets/Ligand_Perturbations_from_GEO_down.hif\n",
      "  File is already under 40MB (19.59MB), skipping...\n",
      "    Split to separate files...Complete ✓\n",
      "Downloaded: Aging_Perturbations_from_GEO_down\n"
     ]
    },
    {
     "name": "stderr",
     "output_type": "stream",
     "text": [
      "70it [21:27, 49.53s/it]"
     ]
    },
    {
     "name": "stdout",
     "output_type": "stream",
     "text": [
      "    Written to File\n",
      "Processing: /nfs/turbo/umms-indikar/Joshua/HIF-datasets/datasets/Aging_Perturbations_from_GEO_down.hif\n",
      "  File is already under 40MB (21.98MB), skipping...\n",
      "    Split to separate files...Complete ✓\n",
      "Downloaded: Aging_Perturbations_from_GEO_up\n"
     ]
    },
    {
     "name": "stderr",
     "output_type": "stream",
     "text": [
      "71it [21:31, 35.98s/it]"
     ]
    },
    {
     "name": "stdout",
     "output_type": "stream",
     "text": [
      "    Written to File\n",
      "Processing: /nfs/turbo/umms-indikar/Joshua/HIF-datasets/datasets/Aging_Perturbations_from_GEO_up.hif\n",
      "  File is already under 40MB (22.95MB), skipping...\n",
      "    Split to separate files...Complete ✓\n",
      "Downloaded: Ligand_Perturbations_from_GEO_up\n"
     ]
    },
    {
     "name": "stderr",
     "output_type": "stream",
     "text": [
      "72it [21:35, 26.38s/it]"
     ]
    },
    {
     "name": "stdout",
     "output_type": "stream",
     "text": [
      "    Written to File\n",
      "Processing: /nfs/turbo/umms-indikar/Joshua/HIF-datasets/datasets/Ligand_Perturbations_from_GEO_up.hif\n",
      "  File is already under 40MB (21.81MB), skipping...\n",
      "    Split to separate files...Complete ✓\n",
      "Downloaded: MCF7_Perturbations_from_GEO_down\n"
     ]
    },
    {
     "name": "stderr",
     "output_type": "stream",
     "text": [
      "73it [21:40, 19.80s/it]"
     ]
    },
    {
     "name": "stdout",
     "output_type": "stream",
     "text": [
      "    Written to File\n",
      "Processing: /nfs/turbo/umms-indikar/Joshua/HIF-datasets/datasets/MCF7_Perturbations_from_GEO_down.hif\n",
      "  File is already under 40MB (27.40MB), skipping...\n",
      "    Split to separate files...Complete ✓\n",
      "Downloaded: MCF7_Perturbations_from_GEO_up\n"
     ]
    },
    {
     "name": "stderr",
     "output_type": "stream",
     "text": [
      "74it [21:45, 15.34s/it]"
     ]
    },
    {
     "name": "stdout",
     "output_type": "stream",
     "text": [
      "    Written to File\n",
      "Processing: /nfs/turbo/umms-indikar/Joshua/HIF-datasets/datasets/MCF7_Perturbations_from_GEO_up.hif\n",
      "  File is already under 40MB (29.57MB), skipping...\n",
      "    Split to separate files...Complete ✓\n",
      "Downloaded: Microbe_Perturbations_from_GEO_down\n"
     ]
    },
    {
     "name": "stderr",
     "output_type": "stream",
     "text": [
      "75it [21:49, 11.87s/it]"
     ]
    },
    {
     "name": "stdout",
     "output_type": "stream",
     "text": [
      "    Written to File\n",
      "Processing: /nfs/turbo/umms-indikar/Joshua/HIF-datasets/datasets/Microbe_Perturbations_from_GEO_down.hif\n",
      "  File is already under 40MB (23.80MB), skipping...\n",
      "    Split to separate files...Complete ✓\n",
      "Downloaded: Microbe_Perturbations_from_GEO_up\n"
     ]
    },
    {
     "name": "stderr",
     "output_type": "stream",
     "text": [
      "76it [21:52,  9.37s/it]"
     ]
    },
    {
     "name": "stdout",
     "output_type": "stream",
     "text": [
      "    Written to File\n",
      "Processing: /nfs/turbo/umms-indikar/Joshua/HIF-datasets/datasets/Microbe_Perturbations_from_GEO_up.hif\n",
      "  File is already under 40MB (26.98MB), skipping...\n",
      "    Split to separate files...Complete ✓\n",
      "Downloaded: LINCS_L1000_Ligand_Perturbations_down\n"
     ]
    },
    {
     "name": "stderr",
     "output_type": "stream",
     "text": [
      "77it [21:53,  6.76s/it]"
     ]
    },
    {
     "name": "stdout",
     "output_type": "stream",
     "text": [
      "    Written to File\n",
      "Processing: /nfs/turbo/umms-indikar/Joshua/HIF-datasets/datasets/LINCS_L1000_Ligand_Perturbations_down.hif\n",
      "  File is already under 40MB (3.39MB), skipping...\n",
      "    Split to separate files...Complete ✓\n",
      "Downloaded: LINCS_L1000_Ligand_Perturbations_up\n"
     ]
    },
    {
     "name": "stderr",
     "output_type": "stream",
     "text": [
      "78it [21:53,  4.92s/it]"
     ]
    },
    {
     "name": "stdout",
     "output_type": "stream",
     "text": [
      "    Written to File\n",
      "Processing: /nfs/turbo/umms-indikar/Joshua/HIF-datasets/datasets/LINCS_L1000_Ligand_Perturbations_up.hif\n",
      "  File is already under 40MB (3.22MB), skipping...\n",
      "    Split to separate files...Complete ✓\n",
      "Downloaded: L1000_Kinase_and_GPCR_Perturbations_down\n",
      "    Written to File\n",
      "Processing: /nfs/turbo/umms-indikar/Joshua/HIF-datasets/datasets/L1000_Kinase_and_GPCR_Perturbations_down.hif\n",
      "  File size: 232.38MB\n",
      "  Number of chunks needed: 6\n",
      "  Total lines: 9947621\n",
      "  Lines per chunk: 1657937\n",
      "  Created: L1000_Kinase_and_GPCR_Perturbations_down_1of6.hif (39.83MB, 1657937 lines)\n",
      "  Created: L1000_Kinase_and_GPCR_Perturbations_down_2of6.hif (38.16MB, 1657937 lines)\n",
      "  Created: L1000_Kinase_and_GPCR_Perturbations_down_3of6.hif (38.59MB, 1657937 lines)\n",
      "  Created: L1000_Kinase_and_GPCR_Perturbations_down_4of6.hif (38.82MB, 1657937 lines)\n",
      "  Created: L1000_Kinase_and_GPCR_Perturbations_down_5of6.hif (38.56MB, 1657937 lines)\n"
     ]
    },
    {
     "name": "stderr",
     "output_type": "stream",
     "text": [
      "79it [22:31, 14.77s/it]"
     ]
    },
    {
     "name": "stdout",
     "output_type": "stream",
     "text": [
      "  Created: L1000_Kinase_and_GPCR_Perturbations_down_6of6.hif (38.42MB, 1657936 lines)\n",
      "  Removed original file: /nfs/turbo/umms-indikar/Joshua/HIF-datasets/datasets/L1000_Kinase_and_GPCR_Perturbations_down.hif\n",
      "  Split complete: 6 files created\n",
      "    Split to separate files...Complete ✓\n",
      "Downloaded: L1000_Kinase_and_GPCR_Perturbations_up\n",
      "    Written to File\n",
      "Processing: /nfs/turbo/umms-indikar/Joshua/HIF-datasets/datasets/L1000_Kinase_and_GPCR_Perturbations_up.hif\n",
      "  File size: 232.39MB\n",
      "  Number of chunks needed: 6\n",
      "  Total lines: 9947441\n",
      "  Lines per chunk: 1657907\n",
      "  Created: L1000_Kinase_and_GPCR_Perturbations_up_1of6.hif (39.84MB, 1657907 lines)\n",
      "  Created: L1000_Kinase_and_GPCR_Perturbations_up_2of6.hif (38.16MB, 1657907 lines)\n",
      "  Created: L1000_Kinase_and_GPCR_Perturbations_up_3of6.hif (38.59MB, 1657907 lines)\n",
      "  Created: L1000_Kinase_and_GPCR_Perturbations_up_4of6.hif (38.82MB, 1657907 lines)\n",
      "  Created: L1000_Kinase_and_GPCR_Perturbations_up_5of6.hif (38.56MB, 1657907 lines)\n"
     ]
    },
    {
     "name": "stderr",
     "output_type": "stream",
     "text": [
      "80it [23:01, 19.27s/it]"
     ]
    },
    {
     "name": "stdout",
     "output_type": "stream",
     "text": [
      "  Created: L1000_Kinase_and_GPCR_Perturbations_up_6of6.hif (38.42MB, 1657906 lines)\n",
      "  Removed original file: /nfs/turbo/umms-indikar/Joshua/HIF-datasets/datasets/L1000_Kinase_and_GPCR_Perturbations_up.hif\n",
      "  Split complete: 6 files created\n",
      "    Split to separate files...Complete ✓\n",
      "Downloaded: KEGG_2016\n"
     ]
    },
    {
     "name": "stderr",
     "output_type": "stream",
     "text": [
      "81it [23:05, 14.64s/it]"
     ]
    },
    {
     "name": "stdout",
     "output_type": "stream",
     "text": [
      "    Written to File\n",
      "Processing: /nfs/turbo/umms-indikar/Joshua/HIF-datasets/datasets/KEGG_2016.hif\n",
      "  File is already under 40MB (6.66MB), skipping...\n",
      "    Split to separate files...Complete ✓\n",
      "Downloaded: WikiPathways_2016\n"
     ]
    },
    {
     "name": "stderr",
     "output_type": "stream",
     "text": [
      "82it [23:06, 10.61s/it]"
     ]
    },
    {
     "name": "stdout",
     "output_type": "stream",
     "text": [
      "    Written to File\n",
      "Processing: /nfs/turbo/umms-indikar/Joshua/HIF-datasets/datasets/WikiPathways_2016.hif\n",
      "  File is already under 40MB (5.93MB), skipping...\n",
      "    Split to separate files...Complete ✓\n",
      "Downloaded: ENCODE_and_ChEA_Consensus_TFs_from_ChIP-X\n"
     ]
    },
    {
     "name": "stderr",
     "output_type": "stream",
     "text": [
      "83it [23:11,  9.06s/it]"
     ]
    },
    {
     "name": "stdout",
     "output_type": "stream",
     "text": [
      "    Written to File\n",
      "Processing: /nfs/turbo/umms-indikar/Joshua/HIF-datasets/datasets/ENCODE_and_ChEA_Consensus_TFs_from_ChIP-X.hif\n",
      "  File is already under 40MB (19.74MB), skipping...\n",
      "    Split to separate files...Complete ✓\n",
      "Downloaded: Kinase_Perturbations_from_GEO_down\n"
     ]
    },
    {
     "name": "stderr",
     "output_type": "stream",
     "text": [
      "84it [23:18,  8.25s/it]"
     ]
    },
    {
     "name": "stdout",
     "output_type": "stream",
     "text": [
      "    Written to File\n",
      "Processing: /nfs/turbo/umms-indikar/Joshua/HIF-datasets/datasets/Kinase_Perturbations_from_GEO_down.hif\n",
      "  File is already under 40MB (20.23MB), skipping...\n",
      "    Split to separate files...Complete ✓\n",
      "Downloaded: Kinase_Perturbations_from_GEO_up\n"
     ]
    },
    {
     "name": "stderr",
     "output_type": "stream",
     "text": [
      "85it [23:22,  7.05s/it]"
     ]
    },
    {
     "name": "stdout",
     "output_type": "stream",
     "text": [
      "    Written to File\n",
      "Processing: /nfs/turbo/umms-indikar/Joshua/HIF-datasets/datasets/Kinase_Perturbations_from_GEO_up.hif\n",
      "  File is already under 40MB (20.21MB), skipping...\n",
      "    Split to separate files...Complete ✓\n"
     ]
    },
    {
     "name": "stderr",
     "output_type": "stream",
     "text": [
      "86it [23:22,  5.08s/it]"
     ]
    },
    {
     "name": "stdout",
     "output_type": "stream",
     "text": [
      "Downloaded: BioCarta_2016\n",
      "    Written to File\n",
      "Processing: /nfs/turbo/umms-indikar/Joshua/HIF-datasets/datasets/BioCarta_2016.hif\n",
      "  File is already under 40MB (1.32MB), skipping...\n",
      "    Split to separate files...Complete ✓\n",
      "Downloaded: HumanCyc_2016\n"
     ]
    },
    {
     "name": "stderr",
     "output_type": "stream",
     "text": [
      "87it [23:23,  3.76s/it]"
     ]
    },
    {
     "name": "stdout",
     "output_type": "stream",
     "text": [
      "    Written to File\n",
      "Processing: /nfs/turbo/umms-indikar/Joshua/HIF-datasets/datasets/HumanCyc_2016.hif\n",
      "  File is already under 40MB (0.59MB), skipping...\n",
      "    Split to separate files...Complete ✓\n"
     ]
    },
    {
     "name": "stderr",
     "output_type": "stream",
     "text": [
      "88it [23:24,  2.81s/it]"
     ]
    },
    {
     "name": "stdout",
     "output_type": "stream",
     "text": [
      "Downloaded: NCI-Nature_2016\n",
      "    Written to File\n",
      "Processing: /nfs/turbo/umms-indikar/Joshua/HIF-datasets/datasets/NCI-Nature_2016.hif\n",
      "  File is already under 40MB (2.48MB), skipping...\n",
      "    Split to separate files...Complete ✓\n"
     ]
    },
    {
     "name": "stderr",
     "output_type": "stream",
     "text": [
      "89it [23:24,  2.09s/it]"
     ]
    },
    {
     "name": "stdout",
     "output_type": "stream",
     "text": [
      "Downloaded: Panther_2016\n",
      "    Written to File\n",
      "Processing: /nfs/turbo/umms-indikar/Joshua/HIF-datasets/datasets/Panther_2016.hif\n",
      "  File is already under 40MB (1.35MB), skipping...\n",
      "    Split to separate files...Complete ✓\n",
      "Downloaded: DrugMatrix\n",
      "    Written to File\n",
      "Processing: /nfs/turbo/umms-indikar/Joshua/HIF-datasets/datasets/DrugMatrix.hif\n",
      "  File size: 556.93MB\n",
      "  Number of chunks needed: 14\n",
      "  Total lines: 21367355\n",
      "  Lines per chunk: 1526240\n",
      "  Created: DrugMatrix_1of14.hif (37.40MB, 1526240 lines)\n",
      "  Created: DrugMatrix_2of14.hif (38.87MB, 1526240 lines)\n",
      "  Created: DrugMatrix_3of14.hif (39.71MB, 1526240 lines)\n",
      "  Created: DrugMatrix_4of14.hif (40.07MB, 1526240 lines)\n",
      "  Created: DrugMatrix_5of14.hif (40.11MB, 1526240 lines)\n",
      "  Created: DrugMatrix_6of14.hif (40.29MB, 1526240 lines)\n",
      "  Created: DrugMatrix_7of14.hif (40.00MB, 1526240 lines)\n",
      "  Created: DrugMatrix_8of14.hif (40.15MB, 1526240 lines)\n",
      "  Created: DrugMatrix_9of14.hif (40.09MB, 1526240 lines)\n",
      "  Created: DrugMatrix_10of14.hif (40.32MB, 1526240 lines)\n",
      "  Created: DrugMatrix_11of14.hif (40.14MB, 1526240 lines)\n",
      "  Created: DrugMatrix_12of14.hif (39.77MB, 1526240 lines)\n",
      "  Created: DrugMatrix_13of14.hif (40.10MB, 1526240 lines)\n"
     ]
    },
    {
     "name": "stderr",
     "output_type": "stream",
     "text": [
      "90it [24:34, 22.54s/it]"
     ]
    },
    {
     "name": "stdout",
     "output_type": "stream",
     "text": [
      "  Created: DrugMatrix_14of14.hif (39.90MB, 1526235 lines)\n",
      "  Removed original file: /nfs/turbo/umms-indikar/Joshua/HIF-datasets/datasets/DrugMatrix.hif\n",
      "  Split complete: 14 files created\n",
      "    Split to separate files...Complete ✓\n",
      "Downloaded: ChEA_2016\n",
      "    Written to File\n",
      "Processing: /nfs/turbo/umms-indikar/Joshua/HIF-datasets/datasets/ChEA_2016.hif\n",
      "  File size: 227.82MB\n",
      "  Number of chunks needed: 6\n",
      "  Total lines: 9302951\n",
      "  Lines per chunk: 1550492\n",
      "  Created: ChEA_2016_1of6.hif (37.37MB, 1550492 lines)\n",
      "  Created: ChEA_2016_2of6.hif (38.17MB, 1550492 lines)\n",
      "  Created: ChEA_2016_3of6.hif (38.03MB, 1550492 lines)\n",
      "  Created: ChEA_2016_4of6.hif (37.90MB, 1550492 lines)\n",
      "  Created: ChEA_2016_5of6.hif (38.17MB, 1550492 lines)\n"
     ]
    },
    {
     "name": "stderr",
     "output_type": "stream",
     "text": [
      "91it [25:36, 34.20s/it]"
     ]
    },
    {
     "name": "stdout",
     "output_type": "stream",
     "text": [
      "  Created: ChEA_2016_6of6.hif (38.17MB, 1550491 lines)\n",
      "  Removed original file: /nfs/turbo/umms-indikar/Joshua/HIF-datasets/datasets/ChEA_2016.hif\n",
      "  Split complete: 6 files created\n",
      "    Split to separate files...Complete ✓\n",
      "Downloaded: huMAP\n"
     ]
    },
    {
     "name": "stderr",
     "output_type": "stream",
     "text": [
      "92it [25:39, 24.80s/it]"
     ]
    },
    {
     "name": "stdout",
     "output_type": "stream",
     "text": [
      "    Written to File\n",
      "Processing: /nfs/turbo/umms-indikar/Joshua/HIF-datasets/datasets/huMAP.hif\n",
      "  File is already under 40MB (3.94MB), skipping...\n",
      "    Split to separate files...Complete ✓\n",
      "Downloaded: Jensen_TISSUES\n",
      "    Written to File\n",
      "Processing: /nfs/turbo/umms-indikar/Joshua/HIF-datasets/datasets/Jensen_TISSUES.hif\n",
      "  File size: 199.02MB\n",
      "  Number of chunks needed: 5\n",
      "  Total lines: 9180506\n",
      "  Lines per chunk: 1836102\n",
      "  Created: Jensen_TISSUES_1of5.hif (42.68MB, 1836102 lines)\n",
      "  Created: Jensen_TISSUES_2of5.hif (39.08MB, 1836102 lines)\n",
      "  Created: Jensen_TISSUES_3of5.hif (38.85MB, 1836102 lines)\n",
      "  Created: Jensen_TISSUES_4of5.hif (38.96MB, 1836102 lines)\n"
     ]
    },
    {
     "name": "stderr",
     "output_type": "stream",
     "text": [
      "93it [26:16, 28.69s/it]"
     ]
    },
    {
     "name": "stdout",
     "output_type": "stream",
     "text": [
      "  Created: Jensen_TISSUES_5of5.hif (39.45MB, 1836098 lines)\n",
      "  Removed original file: /nfs/turbo/umms-indikar/Joshua/HIF-datasets/datasets/Jensen_TISSUES.hif\n",
      "  Split complete: 5 files created\n",
      "    Split to separate files...Complete ✓\n",
      "Downloaded: RNA-Seq_Disease_Gene_and_Drug_Signatures_from_GEO\n",
      "    Written to File\n",
      "Processing: /nfs/turbo/umms-indikar/Joshua/HIF-datasets/datasets/RNA-Seq_Disease_Gene_and_Drug_Signatures_from_GEO.hif\n",
      "  File size: 154.50MB\n",
      "  Number of chunks needed: 4\n",
      "  Total lines: 6063407\n",
      "  Lines per chunk: 1515852\n",
      "  Created: RNA-Seq_Disease_Gene_and_Drug_Signatures_from_GEO_1of4.hif (37.86MB, 1515852 lines)\n",
      "  Created: RNA-Seq_Disease_Gene_and_Drug_Signatures_from_GEO_2of4.hif (38.94MB, 1515852 lines)\n",
      "  Created: RNA-Seq_Disease_Gene_and_Drug_Signatures_from_GEO_3of4.hif (38.65MB, 1515852 lines)\n"
     ]
    },
    {
     "name": "stderr",
     "output_type": "stream",
     "text": [
      "94it [26:42, 27.86s/it]"
     ]
    },
    {
     "name": "stdout",
     "output_type": "stream",
     "text": [
      "  Created: RNA-Seq_Disease_Gene_and_Drug_Signatures_from_GEO_4of4.hif (39.05MB, 1515851 lines)\n",
      "  Removed original file: /nfs/turbo/umms-indikar/Joshua/HIF-datasets/datasets/RNA-Seq_Disease_Gene_and_Drug_Signatures_from_GEO.hif\n",
      "  Split complete: 4 files created\n",
      "    Split to separate files...Complete ✓\n",
      "Downloaded: Jensen_COMPARTMENTS\n",
      "    Written to File\n",
      "Processing: /nfs/turbo/umms-indikar/Joshua/HIF-datasets/datasets/Jensen_COMPARTMENTS.hif\n",
      "  File size: 78.69MB\n",
      "  Number of chunks needed: 2\n",
      "  Total lines: 3437804\n",
      "  Lines per chunk: 1718902\n",
      "  Created: Jensen_COMPARTMENTS_1of2.hif (39.66MB, 1718902 lines)\n"
     ]
    },
    {
     "name": "stderr",
     "output_type": "stream",
     "text": [
      "95it [26:56, 23.60s/it]"
     ]
    },
    {
     "name": "stdout",
     "output_type": "stream",
     "text": [
      "  Created: Jensen_COMPARTMENTS_2of2.hif (39.04MB, 1718902 lines)\n",
      "  Removed original file: /nfs/turbo/umms-indikar/Joshua/HIF-datasets/datasets/Jensen_COMPARTMENTS.hif\n",
      "  Split complete: 2 files created\n",
      "    Split to separate files...Complete ✓\n",
      "Downloaded: Jensen_DISEASES\n"
     ]
    },
    {
     "name": "stderr",
     "output_type": "stream",
     "text": [
      "96it [26:59, 17.40s/it]"
     ]
    },
    {
     "name": "stdout",
     "output_type": "stream",
     "text": [
      "    Written to File\n",
      "Processing: /nfs/turbo/umms-indikar/Joshua/HIF-datasets/datasets/Jensen_DISEASES.hif\n",
      "  File is already under 40MB (12.35MB), skipping...\n",
      "    Split to separate files...Complete ✓\n",
      "Downloaded: BioPlex_2017\n"
     ]
    },
    {
     "name": "stderr",
     "output_type": "stream",
     "text": [
      "97it [27:03, 13.36s/it]"
     ]
    },
    {
     "name": "stdout",
     "output_type": "stream",
     "text": [
      "    Written to File\n",
      "Processing: /nfs/turbo/umms-indikar/Joshua/HIF-datasets/datasets/BioPlex_2017.hif\n",
      "  File is already under 40MB (18.50MB), skipping...\n",
      "    Split to separate files...Complete ✓\n",
      "Downloaded: ARCHS4_Tissues\n",
      "    Written to File\n",
      "Processing: /nfs/turbo/umms-indikar/Joshua/HIF-datasets/datasets/ARCHS4_Tissues.hif\n",
      "  File size: 52.36MB\n",
      "  Number of chunks needed: 2\n",
      "  Total lines: 2382995\n",
      "  Lines per chunk: 1191498\n",
      "  Created: ARCHS4_Tissues_1of2.hif (26.33MB, 1191498 lines)\n"
     ]
    },
    {
     "name": "stderr",
     "output_type": "stream",
     "text": [
      "98it [27:17, 13.48s/it]"
     ]
    },
    {
     "name": "stdout",
     "output_type": "stream",
     "text": [
      "  Created: ARCHS4_Tissues_2of2.hif (26.03MB, 1191497 lines)\n",
      "  Removed original file: /nfs/turbo/umms-indikar/Joshua/HIF-datasets/datasets/ARCHS4_Tissues.hif\n",
      "  Split complete: 2 files created\n",
      "    Split to separate files...Complete ✓\n",
      "Downloaded: ARCHS4_Cell-lines\n",
      "    Written to File\n",
      "Processing: /nfs/turbo/umms-indikar/Joshua/HIF-datasets/datasets/ARCHS4_Cell-lines.hif\n",
      "  File size: 59.58MB\n",
      "  Number of chunks needed: 2\n",
      "  Total lines: 2837123\n",
      "  Lines per chunk: 1418562\n",
      "  Created: ARCHS4_Cell-lines_1of2.hif (30.32MB, 1418562 lines)\n"
     ]
    },
    {
     "name": "stderr",
     "output_type": "stream",
     "text": [
      "99it [27:27, 12.67s/it]"
     ]
    },
    {
     "name": "stdout",
     "output_type": "stream",
     "text": [
      "  Created: ARCHS4_Cell-lines_2of2.hif (29.27MB, 1418561 lines)\n",
      "  Removed original file: /nfs/turbo/umms-indikar/Joshua/HIF-datasets/datasets/ARCHS4_Cell-lines.hif\n",
      "  Split complete: 2 files created\n",
      "    Split to separate files...Complete ✓\n",
      "Downloaded: ARCHS4_IDG_Coexp\n"
     ]
    },
    {
     "name": "stderr",
     "output_type": "stream",
     "text": [
      "100it [27:33, 10.57s/it]"
     ]
    },
    {
     "name": "stdout",
     "output_type": "stream",
     "text": [
      "    Written to File\n",
      "Processing: /nfs/turbo/umms-indikar/Joshua/HIF-datasets/datasets/ARCHS4_IDG_Coexp.hif\n",
      "  File is already under 40MB (25.77MB), skipping...\n",
      "    Split to separate files...Complete ✓\n",
      "Downloaded: ARCHS4_Kinases_Coexp\n"
     ]
    },
    {
     "name": "stderr",
     "output_type": "stream",
     "text": [
      "101it [27:38,  8.85s/it]"
     ]
    },
    {
     "name": "stdout",
     "output_type": "stream",
     "text": [
      "    Written to File\n",
      "Processing: /nfs/turbo/umms-indikar/Joshua/HIF-datasets/datasets/ARCHS4_Kinases_Coexp.hif\n",
      "  File is already under 40MB (35.46MB), skipping...\n",
      "    Split to separate files...Complete ✓\n",
      "Downloaded: ARCHS4_TFs_Coexp\n",
      "    Written to File\n",
      "Processing: /nfs/turbo/umms-indikar/Joshua/HIF-datasets/datasets/ARCHS4_TFs_Coexp.hif\n",
      "  File size: 116.89MB\n",
      "  Number of chunks needed: 3\n",
      "  Total lines: 4810715\n",
      "  Lines per chunk: 1603572\n",
      "  Created: ARCHS4_TFs_Coexp_1of3.hif (38.52MB, 1603572 lines)\n",
      "  Created: ARCHS4_TFs_Coexp_2of3.hif (38.98MB, 1603572 lines)\n"
     ]
    },
    {
     "name": "stderr",
     "output_type": "stream",
     "text": [
      "102it [27:57, 11.94s/it]"
     ]
    },
    {
     "name": "stdout",
     "output_type": "stream",
     "text": [
      "  Created: ARCHS4_TFs_Coexp_3of3.hif (39.39MB, 1603571 lines)\n",
      "  Removed original file: /nfs/turbo/umms-indikar/Joshua/HIF-datasets/datasets/ARCHS4_TFs_Coexp.hif\n",
      "  Split complete: 3 files created\n",
      "    Split to separate files...Complete ✓\n",
      "Downloaded: SysMyo_Muscle_Gene_Sets\n",
      "    Written to File\n",
      "Processing: /nfs/turbo/umms-indikar/Joshua/HIF-datasets/datasets/SysMyo_Muscle_Gene_Sets.hif\n",
      "  File size: 42.08MB\n",
      "  Number of chunks needed: 2\n",
      "  Total lines: 1526534\n",
      "  Lines per chunk: 763267\n",
      "  Created: SysMyo_Muscle_Gene_Sets_1of2.hif (20.00MB, 763267 lines)\n"
     ]
    },
    {
     "name": "stderr",
     "output_type": "stream",
     "text": [
      "103it [28:14, 13.38s/it]"
     ]
    },
    {
     "name": "stdout",
     "output_type": "stream",
     "text": [
      "  Created: SysMyo_Muscle_Gene_Sets_2of2.hif (22.08MB, 763267 lines)\n",
      "  Removed original file: /nfs/turbo/umms-indikar/Joshua/HIF-datasets/datasets/SysMyo_Muscle_Gene_Sets.hif\n",
      "  Split complete: 2 files created\n",
      "    Split to separate files...Complete ✓\n",
      "Downloaded: miRTarBase_2017\n",
      "    Written to File\n",
      "Processing: /nfs/turbo/umms-indikar/Joshua/HIF-datasets/datasets/miRTarBase_2017.hif\n",
      "  File size: 85.62MB\n",
      "  Number of chunks needed: 3\n",
      "  Total lines: 3849962\n",
      "  Lines per chunk: 1283321\n",
      "  Created: miRTarBase_2017_1of3.hif (29.04MB, 1283321 lines)\n",
      "  Created: miRTarBase_2017_2of3.hif (28.26MB, 1283321 lines)\n"
     ]
    },
    {
     "name": "stderr",
     "output_type": "stream",
     "text": [
      "104it [28:28, 13.60s/it]"
     ]
    },
    {
     "name": "stdout",
     "output_type": "stream",
     "text": [
      "  Created: miRTarBase_2017_3of3.hif (28.33MB, 1283320 lines)\n",
      "  Removed original file: /nfs/turbo/umms-indikar/Joshua/HIF-datasets/datasets/miRTarBase_2017.hif\n",
      "  Split complete: 3 files created\n",
      "    Split to separate files...Complete ✓\n",
      "Downloaded: TargetScan_microRNA_2017\n",
      "    Written to File\n",
      "Processing: /nfs/turbo/umms-indikar/Joshua/HIF-datasets/datasets/TargetScan_microRNA_2017.hif\n",
      "  File size: 165.92MB\n",
      "  Number of chunks needed: 5\n",
      "  Total lines: 7537337\n",
      "  Lines per chunk: 1507468\n",
      "  Created: TargetScan_microRNA_2017_1of5.hif (35.10MB, 1507468 lines)\n",
      "  Created: TargetScan_microRNA_2017_2of5.hif (32.65MB, 1507468 lines)\n",
      "  Created: TargetScan_microRNA_2017_3of5.hif (32.70MB, 1507468 lines)\n",
      "  Created: TargetScan_microRNA_2017_4of5.hif (32.72MB, 1507468 lines)\n"
     ]
    },
    {
     "name": "stderr",
     "output_type": "stream",
     "text": [
      "105it [28:52, 16.81s/it]"
     ]
    },
    {
     "name": "stdout",
     "output_type": "stream",
     "text": [
      "  Created: TargetScan_microRNA_2017_5of5.hif (32.75MB, 1507465 lines)\n",
      "  Removed original file: /nfs/turbo/umms-indikar/Joshua/HIF-datasets/datasets/TargetScan_microRNA_2017.hif\n",
      "  Split complete: 5 files created\n",
      "    Split to separate files...Complete ✓\n",
      "Downloaded: Enrichr_Libraries_Most_Popular_Genes\n"
     ]
    },
    {
     "name": "stderr",
     "output_type": "stream",
     "text": [
      "106it [28:54, 12.27s/it]"
     ]
    },
    {
     "name": "stdout",
     "output_type": "stream",
     "text": [
      "    Written to File\n",
      "Processing: /nfs/turbo/umms-indikar/Joshua/HIF-datasets/datasets/Enrichr_Libraries_Most_Popular_Genes.hif\n",
      "  File is already under 40MB (3.38MB), skipping...\n",
      "    Split to separate files...Complete ✓\n",
      "Downloaded: Enrichr_Submissions_TF-Gene_Coocurrence\n",
      "    Written to File\n",
      "Processing: /nfs/turbo/umms-indikar/Joshua/HIF-datasets/datasets/Enrichr_Submissions_TF-Gene_Coocurrence.hif\n",
      "  File size: 100.41MB\n",
      "  Number of chunks needed: 3\n",
      "  Total lines: 4721633\n",
      "  Lines per chunk: 1573878\n",
      "  Created: Enrichr_Submissions_TF-Gene_Coocurrence_1of3.hif (34.56MB, 1573878 lines)\n",
      "  Created: Enrichr_Submissions_TF-Gene_Coocurrence_2of3.hif (32.68MB, 1573878 lines)\n"
     ]
    },
    {
     "name": "stderr",
     "output_type": "stream",
     "text": [
      "107it [29:10, 13.40s/it]"
     ]
    },
    {
     "name": "stdout",
     "output_type": "stream",
     "text": [
      "  Created: Enrichr_Submissions_TF-Gene_Coocurrence_3of3.hif (33.18MB, 1573877 lines)\n",
      "  Removed original file: /nfs/turbo/umms-indikar/Joshua/HIF-datasets/datasets/Enrichr_Submissions_TF-Gene_Coocurrence.hif\n",
      "  Split complete: 3 files created\n",
      "    Split to separate files...Complete ✓\n"
     ]
    },
    {
     "name": "stderr",
     "output_type": "stream",
     "text": [
      "108it [29:10,  9.50s/it]"
     ]
    },
    {
     "name": "stdout",
     "output_type": "stream",
     "text": [
      "Downloaded: Data_Acquisition_Method_Most_Popular_Genes\n",
      "    Written to File\n",
      "Processing: /nfs/turbo/umms-indikar/Joshua/HIF-datasets/datasets/Data_Acquisition_Method_Most_Popular_Genes.hif\n",
      "  File is already under 40MB (0.36MB), skipping...\n",
      "    Split to separate files...Complete ✓\n",
      "Downloaded: DSigDB\n",
      "    Written to File\n",
      "Processing: /nfs/turbo/umms-indikar/Joshua/HIF-datasets/datasets/DSigDB.hif\n",
      "  File size: 101.14MB\n",
      "  Number of chunks needed: 3\n",
      "  Total lines: 4371074\n",
      "  Lines per chunk: 1457025\n",
      "  Created: DSigDB_1of3.hif (33.58MB, 1457025 lines)\n",
      "  Created: DSigDB_2of3.hif (33.23MB, 1457025 lines)\n"
     ]
    },
    {
     "name": "stderr",
     "output_type": "stream",
     "text": [
      "109it [29:28, 12.07s/it]"
     ]
    },
    {
     "name": "stdout",
     "output_type": "stream",
     "text": [
      "  Created: DSigDB_3of3.hif (34.32MB, 1457024 lines)\n",
      "  Removed original file: /nfs/turbo/umms-indikar/Joshua/HIF-datasets/datasets/DSigDB.hif\n",
      "  Split complete: 3 files created\n",
      "    Split to separate files...Complete ✓\n",
      "Downloaded: TF_Perturbations_Followed_by_Expression\n",
      "    Written to File\n",
      "Processing: /nfs/turbo/umms-indikar/Joshua/HIF-datasets/datasets/TF_Perturbations_Followed_by_Expression.hif\n",
      "  File size: 124.79MB\n",
      "  Number of chunks needed: 4\n",
      "  Total lines: 4896041\n",
      "  Lines per chunk: 1224011\n",
      "  Created: TF_Perturbations_Followed_by_Expression_1of4.hif (30.25MB, 1224011 lines)\n",
      "  Created: TF_Perturbations_Followed_by_Expression_2of4.hif (31.26MB, 1224011 lines)\n",
      "  Created: TF_Perturbations_Followed_by_Expression_3of4.hif (31.58MB, 1224011 lines)\n"
     ]
    },
    {
     "name": "stderr",
     "output_type": "stream",
     "text": [
      "110it [29:46, 13.84s/it]"
     ]
    },
    {
     "name": "stdout",
     "output_type": "stream",
     "text": [
      "  Created: TF_Perturbations_Followed_by_Expression_4of4.hif (31.70MB, 1224008 lines)\n",
      "  Removed original file: /nfs/turbo/umms-indikar/Joshua/HIF-datasets/datasets/TF_Perturbations_Followed_by_Expression.hif\n",
      "  Split complete: 4 files created\n",
      "    Split to separate files...Complete ✓\n",
      "Downloaded: Chromosome_Location_hg19\n"
     ]
    },
    {
     "name": "stderr",
     "output_type": "stream",
     "text": [
      "111it [29:55, 12.21s/it]"
     ]
    },
    {
     "name": "stdout",
     "output_type": "stream",
     "text": [
      "    Written to File\n",
      "Processing: /nfs/turbo/umms-indikar/Joshua/HIF-datasets/datasets/Chromosome_Location_hg19.hif\n",
      "  File is already under 40MB (8.59MB), skipping...\n",
      "    Split to separate files...Complete ✓\n",
      "Downloaded: Rare_Diseases_AutoRIF_ARCHS4_Predictions\n",
      "    Written to File\n",
      "Processing: /nfs/turbo/umms-indikar/Joshua/HIF-datasets/datasets/Rare_Diseases_AutoRIF_ARCHS4_Predictions.hif\n",
      "  File size: 160.57MB\n",
      "  Number of chunks needed: 5\n",
      "  Total lines: 6821264\n",
      "  Lines per chunk: 1364253\n",
      "  Created: Rare_Diseases_AutoRIF_ARCHS4_Predictions_1of5.hif (32.57MB, 1364253 lines)\n",
      "  Created: Rare_Diseases_AutoRIF_ARCHS4_Predictions_2of5.hif (31.91MB, 1364253 lines)\n",
      "  Created: Rare_Diseases_AutoRIF_ARCHS4_Predictions_3of5.hif (32.07MB, 1364253 lines)\n",
      "  Created: Rare_Diseases_AutoRIF_ARCHS4_Predictions_4of5.hif (32.07MB, 1364253 lines)\n"
     ]
    },
    {
     "name": "stderr",
     "output_type": "stream",
     "text": [
      "112it [30:26, 18.00s/it]"
     ]
    },
    {
     "name": "stdout",
     "output_type": "stream",
     "text": [
      "  Created: Rare_Diseases_AutoRIF_ARCHS4_Predictions_5of5.hif (31.95MB, 1364252 lines)\n",
      "  Removed original file: /nfs/turbo/umms-indikar/Joshua/HIF-datasets/datasets/Rare_Diseases_AutoRIF_ARCHS4_Predictions.hif\n",
      "  Split complete: 5 files created\n",
      "    Split to separate files...Complete ✓\n",
      "Downloaded: Rare_Diseases_GeneRIF_ARCHS4_Predictions\n",
      "    Written to File\n",
      "Processing: /nfs/turbo/umms-indikar/Joshua/HIF-datasets/datasets/Rare_Diseases_GeneRIF_ARCHS4_Predictions.hif\n",
      "  File size: 96.55MB\n",
      "  Number of chunks needed: 3\n",
      "  Total lines: 4142987\n",
      "  Lines per chunk: 1380996\n",
      "  Created: Rare_Diseases_GeneRIF_ARCHS4_Predictions_1of3.hif (32.39MB, 1380996 lines)\n",
      "  Created: Rare_Diseases_GeneRIF_ARCHS4_Predictions_2of3.hif (32.01MB, 1380996 lines)\n"
     ]
    },
    {
     "name": "stderr",
     "output_type": "stream",
     "text": [
      "113it [30:48, 19.11s/it]"
     ]
    },
    {
     "name": "stdout",
     "output_type": "stream",
     "text": [
      "  Created: Rare_Diseases_GeneRIF_ARCHS4_Predictions_3of3.hif (32.15MB, 1380995 lines)\n",
      "  Removed original file: /nfs/turbo/umms-indikar/Joshua/HIF-datasets/datasets/Rare_Diseases_GeneRIF_ARCHS4_Predictions.hif\n",
      "  Split complete: 3 files created\n",
      "    Split to separate files...Complete ✓\n",
      "Downloaded: Rare_Diseases_GeneRIF_Gene_Lists\n"
     ]
    },
    {
     "name": "stderr",
     "output_type": "stream",
     "text": [
      "114it [30:54, 15.23s/it]"
     ]
    },
    {
     "name": "stdout",
     "output_type": "stream",
     "text": [
      "    Written to File\n",
      "Processing: /nfs/turbo/umms-indikar/Joshua/HIF-datasets/datasets/Rare_Diseases_GeneRIF_Gene_Lists.hif\n",
      "  File is already under 40MB (28.49MB), skipping...\n",
      "    Split to separate files...Complete ✓\n",
      "Downloaded: Rare_Diseases_AutoRIF_Gene_Lists\n",
      "    Written to File\n",
      "Processing: /nfs/turbo/umms-indikar/Joshua/HIF-datasets/datasets/Rare_Diseases_AutoRIF_Gene_Lists.hif\n",
      "  File size: 61.52MB\n",
      "  Number of chunks needed: 2\n",
      "  Total lines: 2650910\n",
      "  Lines per chunk: 1325455\n",
      "  Created: Rare_Diseases_AutoRIF_Gene_Lists_1of2.hif (30.78MB, 1325455 lines)\n"
     ]
    },
    {
     "name": "stderr",
     "output_type": "stream",
     "text": [
      "115it [31:06, 14.32s/it]"
     ]
    },
    {
     "name": "stdout",
     "output_type": "stream",
     "text": [
      "  Created: Rare_Diseases_AutoRIF_Gene_Lists_2of2.hif (30.74MB, 1325455 lines)\n",
      "  Removed original file: /nfs/turbo/umms-indikar/Joshua/HIF-datasets/datasets/Rare_Diseases_AutoRIF_Gene_Lists.hif\n",
      "  Split complete: 2 files created\n",
      "    Split to separate files...Complete ✓\n",
      "Downloaded: SubCell_BarCode\n"
     ]
    },
    {
     "name": "stderr",
     "output_type": "stream",
     "text": [
      "116it [31:10, 11.09s/it]"
     ]
    },
    {
     "name": "stdout",
     "output_type": "stream",
     "text": [
      "    Written to File\n",
      "Processing: /nfs/turbo/umms-indikar/Joshua/HIF-datasets/datasets/SubCell_BarCode.hif\n",
      "  File is already under 40MB (12.30MB), skipping...\n",
      "    Split to separate files...Complete ✓\n",
      "Downloaded: GWAS_Catalog_2019\n"
     ]
    },
    {
     "name": "stderr",
     "output_type": "stream",
     "text": [
      "117it [31:19, 10.48s/it]"
     ]
    },
    {
     "name": "stdout",
     "output_type": "stream",
     "text": [
      "    Written to File\n",
      "Processing: /nfs/turbo/umms-indikar/Joshua/HIF-datasets/datasets/GWAS_Catalog_2019.hif\n",
      "  File is already under 40MB (16.28MB), skipping...\n",
      "    Split to separate files...Complete ✓\n",
      "Downloaded: WikiPathways_2019_Human\n"
     ]
    },
    {
     "name": "stderr",
     "output_type": "stream",
     "text": [
      "118it [31:20,  7.77s/it]"
     ]
    },
    {
     "name": "stdout",
     "output_type": "stream",
     "text": [
      "    Written to File\n",
      "Processing: /nfs/turbo/umms-indikar/Joshua/HIF-datasets/datasets/WikiPathways_2019_Human.hif\n",
      "  File is already under 40MB (5.52MB), skipping...\n",
      "    Split to separate files...Complete ✓\n",
      "Downloaded: WikiPathways_2019_Mouse\n"
     ]
    },
    {
     "name": "stderr",
     "output_type": "stream",
     "text": [
      "119it [31:22,  5.83s/it]"
     ]
    },
    {
     "name": "stdout",
     "output_type": "stream",
     "text": [
      "    Written to File\n",
      "Processing: /nfs/turbo/umms-indikar/Joshua/HIF-datasets/datasets/WikiPathways_2019_Mouse.hif\n",
      "  File is already under 40MB (2.60MB), skipping...\n",
      "    Split to separate files...Complete ✓\n",
      "Downloaded: TRRUST_Transcription_Factors_2019\n"
     ]
    },
    {
     "name": "stderr",
     "output_type": "stream",
     "text": [
      "120it [31:23,  4.32s/it]"
     ]
    },
    {
     "name": "stdout",
     "output_type": "stream",
     "text": [
      "    Written to File\n",
      "Processing: /nfs/turbo/umms-indikar/Joshua/HIF-datasets/datasets/TRRUST_Transcription_Factors_2019.hif\n",
      "  File is already under 40MB (2.94MB), skipping...\n",
      "    Split to separate files...Complete ✓\n",
      "Downloaded: KEGG_2019_Human\n"
     ]
    },
    {
     "name": "stderr",
     "output_type": "stream",
     "text": [
      "121it [31:24,  3.48s/it]"
     ]
    },
    {
     "name": "stdout",
     "output_type": "stream",
     "text": [
      "    Written to File\n",
      "Processing: /nfs/turbo/umms-indikar/Joshua/HIF-datasets/datasets/KEGG_2019_Human.hif\n",
      "  File is already under 40MB (6.84MB), skipping...\n",
      "    Split to separate files...Complete ✓\n",
      "Downloaded: KEGG_2019_Mouse\n"
     ]
    },
    {
     "name": "stderr",
     "output_type": "stream",
     "text": [
      "122it [31:27,  3.27s/it]"
     ]
    },
    {
     "name": "stdout",
     "output_type": "stream",
     "text": [
      "    Written to File\n",
      "Processing: /nfs/turbo/umms-indikar/Joshua/HIF-datasets/datasets/KEGG_2019_Mouse.hif\n",
      "  File is already under 40MB (7.19MB), skipping...\n",
      "    Split to separate files...Complete ✓\n",
      "Downloaded: InterPro_Domains_2019\n"
     ]
    },
    {
     "name": "stderr",
     "output_type": "stream",
     "text": [
      "123it [31:29,  2.97s/it]"
     ]
    },
    {
     "name": "stdout",
     "output_type": "stream",
     "text": [
      "    Written to File\n",
      "Processing: /nfs/turbo/umms-indikar/Joshua/HIF-datasets/datasets/InterPro_Domains_2019.hif\n",
      "  File is already under 40MB (6.71MB), skipping...\n",
      "    Split to separate files...Complete ✓\n",
      "Downloaded: Pfam_Domains_2019\n"
     ]
    },
    {
     "name": "stderr",
     "output_type": "stream",
     "text": [
      "124it [31:30,  2.37s/it]"
     ]
    },
    {
     "name": "stdout",
     "output_type": "stream",
     "text": [
      "    Written to File\n",
      "Processing: /nfs/turbo/umms-indikar/Joshua/HIF-datasets/datasets/Pfam_Domains_2019.hif\n",
      "  File is already under 40MB (3.49MB), skipping...\n",
      "    Split to separate files...Complete ✓\n",
      "Downloaded: DepMap_WG_CRISPR_Screens_Broad_CellLines_2019\n"
     ]
    },
    {
     "name": "stderr",
     "output_type": "stream",
     "text": [
      "125it [31:36,  3.48s/it]"
     ]
    },
    {
     "name": "stdout",
     "output_type": "stream",
     "text": [
      "    Written to File\n",
      "Processing: /nfs/turbo/umms-indikar/Joshua/HIF-datasets/datasets/DepMap_WG_CRISPR_Screens_Broad_CellLines_2019.hif\n",
      "  File is already under 40MB (39.75MB), skipping...\n",
      "    Split to separate files...Complete ✓\n",
      "Downloaded: DepMap_WG_CRISPR_Screens_Sanger_CellLines_2019\n"
     ]
    },
    {
     "name": "stderr",
     "output_type": "stream",
     "text": [
      "126it [31:40,  3.51s/it]"
     ]
    },
    {
     "name": "stdout",
     "output_type": "stream",
     "text": [
      "    Written to File\n",
      "Processing: /nfs/turbo/umms-indikar/Joshua/HIF-datasets/datasets/DepMap_WG_CRISPR_Screens_Sanger_CellLines_2019.hif\n",
      "  File is already under 40MB (24.80MB), skipping...\n",
      "    Split to separate files...Complete ✓\n",
      "Downloaded: UK_Biobank_GWAS_v1\n"
     ]
    },
    {
     "name": "stderr",
     "output_type": "stream",
     "text": [
      "127it [31:43,  3.48s/it]"
     ]
    },
    {
     "name": "stdout",
     "output_type": "stream",
     "text": [
      "    Written to File\n",
      "Processing: /nfs/turbo/umms-indikar/Joshua/HIF-datasets/datasets/UK_Biobank_GWAS_v1.hif\n",
      "  File is already under 40MB (24.68MB), skipping...\n",
      "    Split to separate files...Complete ✓\n",
      "Downloaded: BioPlanet_2019\n"
     ]
    },
    {
     "name": "stderr",
     "output_type": "stream",
     "text": [
      "128it [31:47,  3.58s/it]"
     ]
    },
    {
     "name": "stdout",
     "output_type": "stream",
     "text": [
      "    Written to File\n",
      "Processing: /nfs/turbo/umms-indikar/Joshua/HIF-datasets/datasets/BioPlanet_2019.hif\n",
      "  File is already under 40MB (17.28MB), skipping...\n",
      "    Split to separate files...Complete ✓\n"
     ]
    },
    {
     "name": "stderr",
     "output_type": "stream",
     "text": [
      "129it [31:47,  2.62s/it]"
     ]
    },
    {
     "name": "stdout",
     "output_type": "stream",
     "text": [
      "Downloaded: ClinVar_2019\n",
      "    Written to File\n",
      "Processing: /nfs/turbo/umms-indikar/Joshua/HIF-datasets/datasets/ClinVar_2019.hif\n",
      "  File is already under 40MB (0.69MB), skipping...\n",
      "    Split to separate files...Complete ✓\n",
      "Downloaded: PheWeb_2019\n"
     ]
    },
    {
     "name": "stderr",
     "output_type": "stream",
     "text": [
      "130it [31:49,  2.44s/it]"
     ]
    },
    {
     "name": "stdout",
     "output_type": "stream",
     "text": [
      "    Written to File\n",
      "Processing: /nfs/turbo/umms-indikar/Joshua/HIF-datasets/datasets/PheWeb_2019.hif\n",
      "  File is already under 40MB (6.64MB), skipping...\n",
      "    Split to separate files...Complete ✓\n",
      "Downloaded: DisGeNET\n",
      "    Written to File\n",
      "Processing: /nfs/turbo/umms-indikar/Joshua/HIF-datasets/datasets/DisGeNET.hif\n",
      "  File size: 130.12MB\n",
      "  Number of chunks needed: 4\n",
      "  Total lines: 5628524\n",
      "  Lines per chunk: 1407131\n",
      "  Created: DisGeNET_1of4.hif (33.46MB, 1407131 lines)\n",
      "  Created: DisGeNET_2of4.hif (32.13MB, 1407131 lines)\n",
      "  Created: DisGeNET_3of4.hif (32.27MB, 1407131 lines)\n"
     ]
    },
    {
     "name": "stderr",
     "output_type": "stream",
     "text": [
      "131it [32:11,  8.24s/it]"
     ]
    },
    {
     "name": "stdout",
     "output_type": "stream",
     "text": [
      "  Created: DisGeNET_4of4.hif (32.25MB, 1407131 lines)\n",
      "  Removed original file: /nfs/turbo/umms-indikar/Joshua/HIF-datasets/datasets/DisGeNET.hif\n",
      "  Split complete: 4 files created\n",
      "    Split to separate files...Complete ✓\n",
      "Downloaded: HMS_LINCS_KinomeScan\n"
     ]
    },
    {
     "name": "stderr",
     "output_type": "stream",
     "text": [
      "132it [32:12,  5.98s/it]"
     ]
    },
    {
     "name": "stdout",
     "output_type": "stream",
     "text": [
      "    Written to File\n",
      "Processing: /nfs/turbo/umms-indikar/Joshua/HIF-datasets/datasets/HMS_LINCS_KinomeScan.hif\n",
      "  File is already under 40MB (2.19MB), skipping...\n",
      "    Split to separate files...Complete ✓\n",
      "Downloaded: CCLE_Proteomics_2020\n",
      "    Written to File\n",
      "Processing: /nfs/turbo/umms-indikar/Joshua/HIF-datasets/datasets/CCLE_Proteomics_2020.hif\n",
      "  File size: 48.33MB\n",
      "  Number of chunks needed: 2\n",
      "  Total lines: 2068790\n",
      "  Lines per chunk: 1034395\n",
      "  Created: CCLE_Proteomics_2020_1of2.hif (24.10MB, 1034395 lines)\n"
     ]
    },
    {
     "name": "stderr",
     "output_type": "stream",
     "text": [
      "133it [32:19,  6.39s/it]"
     ]
    },
    {
     "name": "stdout",
     "output_type": "stream",
     "text": [
      "  Created: CCLE_Proteomics_2020_2of2.hif (24.23MB, 1034395 lines)\n",
      "  Removed original file: /nfs/turbo/umms-indikar/Joshua/HIF-datasets/datasets/CCLE_Proteomics_2020.hif\n",
      "  Split complete: 2 files created\n",
      "    Split to separate files...Complete ✓\n",
      "Downloaded: ProteomicsDB_2020\n",
      "    Written to File\n",
      "Processing: /nfs/turbo/umms-indikar/Joshua/HIF-datasets/datasets/ProteomicsDB_2020.hif\n",
      "  File size: 88.82MB\n",
      "  Number of chunks needed: 3\n",
      "  Total lines: 3517823\n",
      "  Lines per chunk: 1172608\n",
      "  Created: ProteomicsDB_2020_1of3.hif (28.51MB, 1172608 lines)\n",
      "  Created: ProteomicsDB_2020_2of3.hif (30.29MB, 1172608 lines)\n"
     ]
    },
    {
     "name": "stderr",
     "output_type": "stream",
     "text": [
      "134it [32:31,  7.92s/it]"
     ]
    },
    {
     "name": "stdout",
     "output_type": "stream",
     "text": [
      "  Created: ProteomicsDB_2020_3of3.hif (30.01MB, 1172607 lines)\n",
      "  Removed original file: /nfs/turbo/umms-indikar/Joshua/HIF-datasets/datasets/ProteomicsDB_2020.hif\n",
      "  Split complete: 3 files created\n",
      "    Split to separate files...Complete ✓\n",
      "Downloaded: lncHUB_lncRNA_Co-Expression\n",
      "    Written to File\n",
      "Processing: /nfs/turbo/umms-indikar/Joshua/HIF-datasets/datasets/lncHUB_lncRNA_Co-Expression.hif\n",
      "  File size: 76.18MB\n",
      "  Number of chunks needed: 2\n",
      "  Total lines: 3501839\n",
      "  Lines per chunk: 1750920\n",
      "  Created: lncHUB_lncRNA_Co-Expression_1of2.hif (38.49MB, 1750920 lines)\n"
     ]
    },
    {
     "name": "stderr",
     "output_type": "stream",
     "text": [
      "135it [32:49, 10.95s/it]"
     ]
    },
    {
     "name": "stdout",
     "output_type": "stream",
     "text": [
      "  Created: lncHUB_lncRNA_Co-Expression_2of2.hif (37.69MB, 1750919 lines)\n",
      "  Removed original file: /nfs/turbo/umms-indikar/Joshua/HIF-datasets/datasets/lncHUB_lncRNA_Co-Expression.hif\n",
      "  Split complete: 2 files created\n",
      "    Split to separate files...Complete ✓\n",
      "Downloaded: Virus-Host_PPI_P-HIPSTer_2020\n",
      "    Written to File\n",
      "Processing: /nfs/turbo/umms-indikar/Joshua/HIF-datasets/datasets/Virus-Host_PPI_P-HIPSTer_2020.hif\n",
      "  File size: 63.67MB\n",
      "  Number of chunks needed: 2\n",
      "  Total lines: 2464628\n",
      "  Lines per chunk: 1232314\n",
      "  Created: Virus-Host_PPI_P-HIPSTer_2020_1of2.hif (31.24MB, 1232314 lines)\n"
     ]
    },
    {
     "name": "stderr",
     "output_type": "stream",
     "text": [
      "136it [32:58, 10.55s/it]"
     ]
    },
    {
     "name": "stdout",
     "output_type": "stream",
     "text": [
      "  Created: Virus-Host_PPI_P-HIPSTer_2020_2of2.hif (32.43MB, 1232314 lines)\n",
      "  Removed original file: /nfs/turbo/umms-indikar/Joshua/HIF-datasets/datasets/Virus-Host_PPI_P-HIPSTer_2020.hif\n",
      "  Split complete: 2 files created\n",
      "    Split to separate files...Complete ✓\n",
      "Downloaded: Elsevier_Pathway_Collection\n"
     ]
    },
    {
     "name": "stderr",
     "output_type": "stream",
     "text": [
      "137it [33:00,  8.03s/it]"
     ]
    },
    {
     "name": "stdout",
     "output_type": "stream",
     "text": [
      "    Written to File\n",
      "Processing: /nfs/turbo/umms-indikar/Joshua/HIF-datasets/datasets/Elsevier_Pathway_Collection.hif\n",
      "  File is already under 40MB (12.91MB), skipping...\n",
      "    Split to separate files...Complete ✓\n",
      "Downloaded: Table_Mining_of_CRISPR_Studies\n"
     ]
    },
    {
     "name": "stderr",
     "output_type": "stream",
     "text": [
      "138it [33:04,  6.72s/it]"
     ]
    },
    {
     "name": "stdout",
     "output_type": "stream",
     "text": [
      "    Written to File\n",
      "Processing: /nfs/turbo/umms-indikar/Joshua/HIF-datasets/datasets/Table_Mining_of_CRISPR_Studies.hif\n",
      "  File is already under 40MB (9.20MB), skipping...\n",
      "    Split to separate files...Complete ✓\n",
      "Downloaded: COVID-19_Related_Gene_Sets\n"
     ]
    },
    {
     "name": "stderr",
     "output_type": "stream",
     "text": [
      "139it [33:09,  6.05s/it]"
     ]
    },
    {
     "name": "stdout",
     "output_type": "stream",
     "text": [
      "    Written to File\n",
      "Processing: /nfs/turbo/umms-indikar/Joshua/HIF-datasets/datasets/COVID-19_Related_Gene_Sets.hif\n",
      "  File is already under 40MB (16.82MB), skipping...\n",
      "    Split to separate files...Complete ✓\n"
     ]
    },
    {
     "name": "stderr",
     "output_type": "stream",
     "text": [
      "140it [33:09,  4.38s/it]"
     ]
    },
    {
     "name": "stdout",
     "output_type": "stream",
     "text": [
      "Downloaded: MSigDB_Hallmark_2020\n",
      "    Written to File\n",
      "Processing: /nfs/turbo/umms-indikar/Joshua/HIF-datasets/datasets/MSigDB_Hallmark_2020.hif\n",
      "  File is already under 40MB (1.96MB), skipping...\n",
      "    Split to separate files...Complete ✓\n",
      "Downloaded: Enrichr_Users_Contributed_Lists_2020\n",
      "    Written to File\n",
      "Processing: /nfs/turbo/umms-indikar/Joshua/HIF-datasets/datasets/Enrichr_Users_Contributed_Lists_2020.hif\n",
      "  File size: 162.68MB\n",
      "  Number of chunks needed: 5\n",
      "  Total lines: 6784436\n",
      "  Lines per chunk: 1356888\n",
      "  Created: Enrichr_Users_Contributed_Lists_2020_1of5.hif (31.89MB, 1356888 lines)\n",
      "  Created: Enrichr_Users_Contributed_Lists_2020_2of5.hif (32.87MB, 1356888 lines)\n",
      "  Created: Enrichr_Users_Contributed_Lists_2020_3of5.hif (33.65MB, 1356888 lines)\n",
      "  Created: Enrichr_Users_Contributed_Lists_2020_4of5.hif (31.86MB, 1356888 lines)\n"
     ]
    },
    {
     "name": "stderr",
     "output_type": "stream",
     "text": [
      "141it [34:07, 20.30s/it]"
     ]
    },
    {
     "name": "stdout",
     "output_type": "stream",
     "text": [
      "  Created: Enrichr_Users_Contributed_Lists_2020_5of5.hif (32.41MB, 1356884 lines)\n",
      "  Removed original file: /nfs/turbo/umms-indikar/Joshua/HIF-datasets/datasets/Enrichr_Users_Contributed_Lists_2020.hif\n",
      "  Split complete: 5 files created\n",
      "    Split to separate files...Complete ✓\n",
      "Downloaded: TG_GATES_2020\n",
      "    Written to File\n",
      "Processing: /nfs/turbo/umms-indikar/Joshua/HIF-datasets/datasets/TG_GATES_2020.hif\n",
      "  File size: 107.34MB\n",
      "  Number of chunks needed: 3\n",
      "  Total lines: 4883873\n",
      "  Lines per chunk: 1627958\n",
      "  Created: TG_GATES_2020_1of3.hif (36.69MB, 1627958 lines)\n",
      "  Created: TG_GATES_2020_2of3.hif (35.06MB, 1627958 lines)\n"
     ]
    },
    {
     "name": "stderr",
     "output_type": "stream",
     "text": [
      "142it [34:26, 20.14s/it]"
     ]
    },
    {
     "name": "stdout",
     "output_type": "stream",
     "text": [
      "  Created: TG_GATES_2020_3of3.hif (35.59MB, 1627957 lines)\n",
      "  Removed original file: /nfs/turbo/umms-indikar/Joshua/HIF-datasets/datasets/TG_GATES_2020.hif\n",
      "  Split complete: 3 files created\n",
      "    Split to separate files...Complete ✓\n",
      "Downloaded: Allen_Brain_Atlas_10x_scRNA_2021\n"
     ]
    },
    {
     "name": "stderr",
     "output_type": "stream",
     "text": [
      "143it [34:33, 16.01s/it]"
     ]
    },
    {
     "name": "stdout",
     "output_type": "stream",
     "text": [
      "    Written to File\n",
      "Processing: /nfs/turbo/umms-indikar/Joshua/HIF-datasets/datasets/Allen_Brain_Atlas_10x_scRNA_2021.hif\n",
      "  File is already under 40MB (21.19MB), skipping...\n",
      "    Split to separate files...Complete ✓\n",
      "Downloaded: Descartes_Cell_Types_and_Tissue_2021\n"
     ]
    },
    {
     "name": "stderr",
     "output_type": "stream",
     "text": [
      "144it [34:37, 12.41s/it]"
     ]
    },
    {
     "name": "stdout",
     "output_type": "stream",
     "text": [
      "    Written to File\n",
      "Processing: /nfs/turbo/umms-indikar/Joshua/HIF-datasets/datasets/Descartes_Cell_Types_and_Tissue_2021.hif\n",
      "  File is already under 40MB (6.19MB), skipping...\n",
      "    Split to separate files...Complete ✓\n",
      "Downloaded: KEGG_2021_Human\n"
     ]
    },
    {
     "name": "stderr",
     "output_type": "stream",
     "text": [
      "145it [34:40,  9.53s/it]"
     ]
    },
    {
     "name": "stdout",
     "output_type": "stream",
     "text": [
      "    Written to File\n",
      "Processing: /nfs/turbo/umms-indikar/Joshua/HIF-datasets/datasets/KEGG_2021_Human.hif\n",
      "  File is already under 40MB (7.74MB), skipping...\n",
      "    Split to separate files...Complete ✓\n",
      "Downloaded: WikiPathway_2021_Human\n"
     ]
    },
    {
     "name": "stderr",
     "output_type": "stream",
     "text": [
      "146it [34:41,  7.21s/it]"
     ]
    },
    {
     "name": "stdout",
     "output_type": "stream",
     "text": [
      "    Written to File\n",
      "Processing: /nfs/turbo/umms-indikar/Joshua/HIF-datasets/datasets/WikiPathway_2021_Human.hif\n",
      "  File is already under 40MB (6.96MB), skipping...\n",
      "    Split to separate files...Complete ✓\n",
      "Downloaded: HuBMAP_ASCT_plus_B_augmented_w_RNAseq_Coexpression\n"
     ]
    },
    {
     "name": "stderr",
     "output_type": "stream",
     "text": [
      "147it [34:43,  5.52s/it]"
     ]
    },
    {
     "name": "stdout",
     "output_type": "stream",
     "text": [
      "    Written to File\n",
      "Processing: /nfs/turbo/umms-indikar/Joshua/HIF-datasets/datasets/HuBMAP_ASCT_plus_B_augmented_w_RNAseq_Coexpression.hif\n",
      "  File is already under 40MB (8.12MB), skipping...\n",
      "    Split to separate files...Complete ✓\n",
      "Downloaded: GO_Biological_Process_2021\n",
      "    Written to File\n",
      "Processing: /nfs/turbo/umms-indikar/Joshua/HIF-datasets/datasets/GO_Biological_Process_2021.hif\n",
      "  File size: 50.03MB\n",
      "  Number of chunks needed: 2\n",
      "  Total lines: 1922327\n",
      "  Lines per chunk: 961164\n",
      "  Created: GO_Biological_Process_2021_1of2.hif (24.28MB, 961164 lines)\n"
     ]
    },
    {
     "name": "stderr",
     "output_type": "stream",
     "text": [
      "148it [34:51,  6.42s/it]"
     ]
    },
    {
     "name": "stdout",
     "output_type": "stream",
     "text": [
      "  Created: GO_Biological_Process_2021_2of2.hif (25.75MB, 961163 lines)\n",
      "  Removed original file: /nfs/turbo/umms-indikar/Joshua/HIF-datasets/datasets/GO_Biological_Process_2021.hif\n",
      "  Split complete: 2 files created\n",
      "    Split to separate files...Complete ✓\n",
      "Downloaded: GO_Cellular_Component_2021\n"
     ]
    },
    {
     "name": "stderr",
     "output_type": "stream",
     "text": [
      "149it [34:54,  5.33s/it]"
     ]
    },
    {
     "name": "stdout",
     "output_type": "stream",
     "text": [
      "    Written to File\n",
      "Processing: /nfs/turbo/umms-indikar/Joshua/HIF-datasets/datasets/GO_Cellular_Component_2021.hif\n",
      "  File is already under 40MB (10.47MB), skipping...\n",
      "    Split to separate files...Complete ✓\n",
      "Downloaded: GO_Molecular_Function_2021\n"
     ]
    },
    {
     "name": "stderr",
     "output_type": "stream",
     "text": [
      "150it [34:57,  4.57s/it]"
     ]
    },
    {
     "name": "stdout",
     "output_type": "stream",
     "text": [
      "    Written to File\n",
      "Processing: /nfs/turbo/umms-indikar/Joshua/HIF-datasets/datasets/GO_Molecular_Function_2021.hif\n",
      "  File is already under 40MB (11.79MB), skipping...\n",
      "    Split to separate files...Complete ✓\n",
      "Downloaded: MGI_Mammalian_Phenotype_Level_4_2021\n"
     ]
    },
    {
     "name": "stderr",
     "output_type": "stream",
     "text": [
      "151it [35:02,  4.83s/it]"
     ]
    },
    {
     "name": "stdout",
     "output_type": "stream",
     "text": [
      "    Written to File\n",
      "Processing: /nfs/turbo/umms-indikar/Joshua/HIF-datasets/datasets/MGI_Mammalian_Phenotype_Level_4_2021.hif\n",
      "  File is already under 40MB (36.73MB), skipping...\n",
      "    Split to separate files...Complete ✓\n",
      "Downloaded: CellMarker_Augmented_2021\n"
     ]
    },
    {
     "name": "stderr",
     "output_type": "stream",
     "text": [
      "152it [35:06,  4.57s/it]"
     ]
    },
    {
     "name": "stdout",
     "output_type": "stream",
     "text": [
      "    Written to File\n",
      "Processing: /nfs/turbo/umms-indikar/Joshua/HIF-datasets/datasets/CellMarker_Augmented_2021.hif\n",
      "  File is already under 40MB (20.86MB), skipping...\n",
      "    Split to separate files...Complete ✓\n",
      "Downloaded: Orphanet_Augmented_2021\n",
      "    Written to File\n",
      "Processing: /nfs/turbo/umms-indikar/Joshua/HIF-datasets/datasets/Orphanet_Augmented_2021.hif\n",
      "  File size: 94.58MB\n",
      "  Number of chunks needed: 3\n",
      "  Total lines: 3601292\n",
      "  Lines per chunk: 1200431\n",
      "  Created: Orphanet_Augmented_2021_1of3.hif (30.38MB, 1200431 lines)\n",
      "  Created: Orphanet_Augmented_2021_2of3.hif (32.12MB, 1200431 lines)\n"
     ]
    },
    {
     "name": "stderr",
     "output_type": "stream",
     "text": [
      "153it [35:24,  8.57s/it]"
     ]
    },
    {
     "name": "stdout",
     "output_type": "stream",
     "text": [
      "  Created: Orphanet_Augmented_2021_3of3.hif (32.08MB, 1200430 lines)\n",
      "  Removed original file: /nfs/turbo/umms-indikar/Joshua/HIF-datasets/datasets/Orphanet_Augmented_2021.hif\n",
      "  Split complete: 3 files created\n",
      "    Split to separate files...Complete ✓\n",
      "Downloaded: COVID-19_Related_Gene_Sets_2021\n",
      "    Written to File\n",
      "Processing: /nfs/turbo/umms-indikar/Joshua/HIF-datasets/datasets/COVID-19_Related_Gene_Sets_2021.hif\n",
      "  File size: 49.49MB\n",
      "  Number of chunks needed: 2\n",
      "  Total lines: 1652375\n",
      "  Lines per chunk: 826188\n",
      "  Created: COVID-19_Related_Gene_Sets_2021_1of2.hif (22.71MB, 826188 lines)\n"
     ]
    },
    {
     "name": "stderr",
     "output_type": "stream",
     "text": [
      "154it [35:32,  8.27s/it]"
     ]
    },
    {
     "name": "stdout",
     "output_type": "stream",
     "text": [
      "  Created: COVID-19_Related_Gene_Sets_2021_2of2.hif (26.78MB, 826187 lines)\n",
      "  Removed original file: /nfs/turbo/umms-indikar/Joshua/HIF-datasets/datasets/COVID-19_Related_Gene_Sets_2021.hif\n",
      "  Split complete: 2 files created\n",
      "    Split to separate files...Complete ✓\n",
      "Downloaded: PanglaoDB_Augmented_2021\n"
     ]
    },
    {
     "name": "stderr",
     "output_type": "stream",
     "text": [
      "155it [35:33,  6.10s/it]"
     ]
    },
    {
     "name": "stdout",
     "output_type": "stream",
     "text": [
      "    Written to File\n",
      "Processing: /nfs/turbo/umms-indikar/Joshua/HIF-datasets/datasets/PanglaoDB_Augmented_2021.hif\n",
      "  File is already under 40MB (5.62MB), skipping...\n",
      "    Split to separate files...Complete ✓\n"
     ]
    },
    {
     "name": "stderr",
     "output_type": "stream",
     "text": [
      "156it [35:33,  4.39s/it]"
     ]
    },
    {
     "name": "stdout",
     "output_type": "stream",
     "text": [
      "Downloaded: Azimuth_Cell_Types_2021\n",
      "    Written to File\n",
      "Processing: /nfs/turbo/umms-indikar/Joshua/HIF-datasets/datasets/Azimuth_Cell_Types_2021.hif\n",
      "  File is already under 40MB (1.04MB), skipping...\n",
      "    Split to separate files...Complete ✓\n",
      "Downloaded: PhenGenI_Association_2021\n"
     ]
    },
    {
     "name": "stderr",
     "output_type": "stream",
     "text": [
      "157it [35:43,  5.98s/it]"
     ]
    },
    {
     "name": "stdout",
     "output_type": "stream",
     "text": [
      "    Written to File\n",
      "Processing: /nfs/turbo/umms-indikar/Joshua/HIF-datasets/datasets/PhenGenI_Association_2021.hif\n",
      "  File is already under 40MB (24.03MB), skipping...\n",
      "    Split to separate files...Complete ✓\n",
      "Downloaded: GTEx_Aging_Signatures_2021\n"
     ]
    },
    {
     "name": "stderr",
     "output_type": "stream",
     "text": [
      "158it [35:49,  5.97s/it]"
     ]
    },
    {
     "name": "stdout",
     "output_type": "stream",
     "text": [
      "    Written to File\n",
      "Processing: /nfs/turbo/umms-indikar/Joshua/HIF-datasets/datasets/GTEx_Aging_Signatures_2021.hif\n",
      "  File is already under 40MB (15.93MB), skipping...\n",
      "    Split to separate files...Complete ✓\n",
      "Downloaded: HDSigDB_Human_2021\n",
      "    Written to File\n",
      "Processing: /nfs/turbo/umms-indikar/Joshua/HIF-datasets/datasets/HDSigDB_Human_2021.hif\n",
      "  File size: 537.94MB\n",
      "  Number of chunks needed: 14\n",
      "  Total lines: 18775916\n",
      "  Lines per chunk: 1341137\n",
      "  Created: HDSigDB_Human_2021_1of14.hif (32.90MB, 1341137 lines)\n",
      "  Created: HDSigDB_Human_2021_2of14.hif (35.27MB, 1341137 lines)\n",
      "  Created: HDSigDB_Human_2021_3of14.hif (38.41MB, 1341137 lines)\n",
      "  Created: HDSigDB_Human_2021_4of14.hif (38.29MB, 1341137 lines)\n",
      "  Created: HDSigDB_Human_2021_5of14.hif (38.27MB, 1341137 lines)\n",
      "  Created: HDSigDB_Human_2021_6of14.hif (38.63MB, 1341137 lines)\n",
      "  Created: HDSigDB_Human_2021_7of14.hif (40.98MB, 1341137 lines)\n",
      "  Created: HDSigDB_Human_2021_8of14.hif (40.58MB, 1341137 lines)\n",
      "  Created: HDSigDB_Human_2021_9of14.hif (39.83MB, 1341137 lines)\n",
      "  Created: HDSigDB_Human_2021_10of14.hif (40.93MB, 1341137 lines)\n",
      "  Created: HDSigDB_Human_2021_11of14.hif (40.56MB, 1341137 lines)\n",
      "  Created: HDSigDB_Human_2021_12of14.hif (38.70MB, 1341137 lines)\n",
      "  Created: HDSigDB_Human_2021_13of14.hif (36.82MB, 1341137 lines)\n"
     ]
    },
    {
     "name": "stderr",
     "output_type": "stream",
     "text": [
      "159it [36:49, 22.27s/it]"
     ]
    },
    {
     "name": "stdout",
     "output_type": "stream",
     "text": [
      "  Created: HDSigDB_Human_2021_14of14.hif (37.78MB, 1341135 lines)\n",
      "  Removed original file: /nfs/turbo/umms-indikar/Joshua/HIF-datasets/datasets/HDSigDB_Human_2021.hif\n",
      "  Split complete: 14 files created\n",
      "    Split to separate files...Complete ✓\n",
      "Downloaded: HDSigDB_Mouse_2021\n",
      "    Written to File\n",
      "Processing: /nfs/turbo/umms-indikar/Joshua/HIF-datasets/datasets/HDSigDB_Mouse_2021.hif\n",
      "  File size: 548.53MB\n",
      "  Number of chunks needed: 14\n",
      "  Total lines: 19129472\n",
      "  Lines per chunk: 1366391\n",
      "  Created: HDSigDB_Mouse_2021_1of14.hif (33.57MB, 1366391 lines)\n",
      "  Created: HDSigDB_Mouse_2021_2of14.hif (35.82MB, 1366391 lines)\n",
      "  Created: HDSigDB_Mouse_2021_3of14.hif (39.21MB, 1366391 lines)\n",
      "  Created: HDSigDB_Mouse_2021_4of14.hif (38.86MB, 1366391 lines)\n",
      "  Created: HDSigDB_Mouse_2021_5of14.hif (39.00MB, 1366391 lines)\n",
      "  Created: HDSigDB_Mouse_2021_6of14.hif (39.97MB, 1366391 lines)\n",
      "  Created: HDSigDB_Mouse_2021_7of14.hif (41.71MB, 1366391 lines)\n",
      "  Created: HDSigDB_Mouse_2021_8of14.hif (41.33MB, 1366391 lines)\n",
      "  Created: HDSigDB_Mouse_2021_9of14.hif (40.76MB, 1366391 lines)\n",
      "  Created: HDSigDB_Mouse_2021_10of14.hif (41.71MB, 1366391 lines)\n",
      "  Created: HDSigDB_Mouse_2021_11of14.hif (41.26MB, 1366391 lines)\n",
      "  Created: HDSigDB_Mouse_2021_12of14.hif (39.31MB, 1366391 lines)\n",
      "  Created: HDSigDB_Mouse_2021_13of14.hif (37.56MB, 1366391 lines)\n"
     ]
    },
    {
     "name": "stderr",
     "output_type": "stream",
     "text": [
      "160it [38:07, 38.81s/it]"
     ]
    },
    {
     "name": "stdout",
     "output_type": "stream",
     "text": [
      "  Created: HDSigDB_Mouse_2021_14of14.hif (38.46MB, 1366389 lines)\n",
      "  Removed original file: /nfs/turbo/umms-indikar/Joshua/HIF-datasets/datasets/HDSigDB_Mouse_2021.hif\n",
      "  Split complete: 14 files created\n",
      "    Split to separate files...Complete ✓\n",
      "Downloaded: HuBMAP_ASCTplusB_augmented_2022\n"
     ]
    },
    {
     "name": "stderr",
     "output_type": "stream",
     "text": [
      "161it [38:13, 29.09s/it]"
     ]
    },
    {
     "name": "stdout",
     "output_type": "stream",
     "text": [
      "    Written to File\n",
      "Processing: /nfs/turbo/umms-indikar/Joshua/HIF-datasets/datasets/HuBMAP_ASCTplusB_augmented_2022.hif\n",
      "  File is already under 40MB (19.40MB), skipping...\n",
      "    Split to separate files...Complete ✓\n",
      "Downloaded: FANTOM6_lncRNA_KD_DEGs\n"
     ]
    },
    {
     "name": "stderr",
     "output_type": "stream",
     "text": [
      "162it [38:19, 22.06s/it]"
     ]
    },
    {
     "name": "stdout",
     "output_type": "stream",
     "text": [
      "    Written to File\n",
      "Processing: /nfs/turbo/umms-indikar/Joshua/HIF-datasets/datasets/FANTOM6_lncRNA_KD_DEGs.hif\n",
      "  File is already under 40MB (28.07MB), skipping...\n",
      "    Split to separate files...Complete ✓\n",
      "Downloaded: MAGMA_Drugs_and_Diseases\n"
     ]
    },
    {
     "name": "stderr",
     "output_type": "stream",
     "text": [
      "163it [38:20, 15.75s/it]"
     ]
    },
    {
     "name": "stdout",
     "output_type": "stream",
     "text": [
      "    Written to File\n",
      "Processing: /nfs/turbo/umms-indikar/Joshua/HIF-datasets/datasets/MAGMA_Drugs_and_Diseases.hif\n",
      "  File is already under 40MB (5.49MB), skipping...\n",
      "    Split to separate files...Complete ✓\n",
      "Downloaded: Tabula_Sapiens\n"
     ]
    },
    {
     "name": "stderr",
     "output_type": "stream",
     "text": [
      "164it [38:21, 11.42s/it]"
     ]
    },
    {
     "name": "stdout",
     "output_type": "stream",
     "text": [
      "    Written to File\n",
      "Processing: /nfs/turbo/umms-indikar/Joshua/HIF-datasets/datasets/Tabula_Sapiens.hif\n",
      "  File is already under 40MB (10.10MB), skipping...\n",
      "    Split to separate files...Complete ✓\n",
      "Downloaded: ChEA_2022\n",
      "    Written to File\n",
      "Processing: /nfs/turbo/umms-indikar/Joshua/HIF-datasets/datasets/ChEA_2022.hif\n",
      "  File size: 207.75MB\n",
      "  Number of chunks needed: 6\n",
      "  Total lines: 8390828\n",
      "  Lines per chunk: 1398472\n",
      "  Created: ChEA_2022_1of6.hif (34.21MB, 1398472 lines)\n",
      "  Created: ChEA_2022_2of6.hif (34.40MB, 1398472 lines)\n",
      "  Created: ChEA_2022_3of6.hif (34.09MB, 1398472 lines)\n",
      "  Created: ChEA_2022_4of6.hif (34.30MB, 1398472 lines)\n",
      "  Created: ChEA_2022_5of6.hif (34.30MB, 1398472 lines)\n"
     ]
    },
    {
     "name": "stderr",
     "output_type": "stream",
     "text": [
      "165it [38:49, 16.33s/it]"
     ]
    },
    {
     "name": "stdout",
     "output_type": "stream",
     "text": [
      "  Created: ChEA_2022_6of6.hif (36.45MB, 1398468 lines)\n",
      "  Removed original file: /nfs/turbo/umms-indikar/Joshua/HIF-datasets/datasets/ChEA_2022.hif\n",
      "  Split complete: 6 files created\n",
      "    Split to separate files...Complete ✓\n",
      "Downloaded: Diabetes_Perturbations_GEO_2022\n"
     ]
    },
    {
     "name": "stderr",
     "output_type": "stream",
     "text": [
      "166it [38:55, 13.16s/it]"
     ]
    },
    {
     "name": "stdout",
     "output_type": "stream",
     "text": [
      "    Written to File\n",
      "Processing: /nfs/turbo/umms-indikar/Joshua/HIF-datasets/datasets/Diabetes_Perturbations_GEO_2022.hif\n",
      "  File is already under 40MB (25.29MB), skipping...\n",
      "    Split to separate files...Complete ✓\n",
      "Downloaded: LINCS_L1000_Chem_Pert_Consensus_Sigs\n",
      "    Written to File\n",
      "Processing: /nfs/turbo/umms-indikar/Joshua/HIF-datasets/datasets/LINCS_L1000_Chem_Pert_Consensus_Sigs.hif\n",
      "  File size: 538.86MB\n",
      "  Number of chunks needed: 14\n",
      "  Total lines: 24121970\n",
      "  Lines per chunk: 1722998\n",
      "  Created: LINCS_L1000_Chem_Pert_Consensus_Sigs_1of14.hif (41.99MB, 1722998 lines)\n",
      "  Created: LINCS_L1000_Chem_Pert_Consensus_Sigs_2of14.hif (40.45MB, 1722998 lines)\n",
      "  Created: LINCS_L1000_Chem_Pert_Consensus_Sigs_3of14.hif (37.45MB, 1722998 lines)\n",
      "  Created: LINCS_L1000_Chem_Pert_Consensus_Sigs_4of14.hif (37.81MB, 1722998 lines)\n",
      "  Created: LINCS_L1000_Chem_Pert_Consensus_Sigs_5of14.hif (37.82MB, 1722998 lines)\n",
      "  Created: LINCS_L1000_Chem_Pert_Consensus_Sigs_6of14.hif (38.03MB, 1722998 lines)\n",
      "  Created: LINCS_L1000_Chem_Pert_Consensus_Sigs_7of14.hif (37.69MB, 1722998 lines)\n",
      "  Created: LINCS_L1000_Chem_Pert_Consensus_Sigs_8of14.hif (37.84MB, 1722998 lines)\n",
      "  Created: LINCS_L1000_Chem_Pert_Consensus_Sigs_9of14.hif (38.17MB, 1722998 lines)\n",
      "  Created: LINCS_L1000_Chem_Pert_Consensus_Sigs_10of14.hif (38.22MB, 1722998 lines)\n",
      "  Created: LINCS_L1000_Chem_Pert_Consensus_Sigs_11of14.hif (38.20MB, 1722998 lines)\n",
      "  Created: LINCS_L1000_Chem_Pert_Consensus_Sigs_12of14.hif (38.45MB, 1722998 lines)\n",
      "  Created: LINCS_L1000_Chem_Pert_Consensus_Sigs_13of14.hif (38.15MB, 1722998 lines)\n"
     ]
    },
    {
     "name": "stderr",
     "output_type": "stream",
     "text": [
      "167it [40:13, 32.73s/it]"
     ]
    },
    {
     "name": "stdout",
     "output_type": "stream",
     "text": [
      "  Created: LINCS_L1000_Chem_Pert_Consensus_Sigs_14of14.hif (38.58MB, 1722996 lines)\n",
      "  Removed original file: /nfs/turbo/umms-indikar/Joshua/HIF-datasets/datasets/LINCS_L1000_Chem_Pert_Consensus_Sigs.hif\n",
      "  Split complete: 14 files created\n",
      "    Split to separate files...Complete ✓\n",
      "Downloaded: LINCS_L1000_CRISPR_KO_Consensus_Sigs\n",
      "    Written to File\n",
      "Processing: /nfs/turbo/umms-indikar/Joshua/HIF-datasets/datasets/LINCS_L1000_CRISPR_KO_Consensus_Sigs.hif\n",
      "  File size: 504.64MB\n",
      "  Number of chunks needed: 13\n",
      "  Total lines: 23154158\n",
      "  Lines per chunk: 1781090\n",
      "  Created: LINCS_L1000_CRISPR_KO_Consensus_Sigs_1of13.hif (43.39MB, 1781090 lines)\n",
      "  Created: LINCS_L1000_CRISPR_KO_Consensus_Sigs_2of13.hif (40.74MB, 1781090 lines)\n",
      "  Created: LINCS_L1000_CRISPR_KO_Consensus_Sigs_3of13.hif (37.74MB, 1781090 lines)\n",
      "  Created: LINCS_L1000_CRISPR_KO_Consensus_Sigs_4of13.hif (37.97MB, 1781090 lines)\n",
      "  Created: LINCS_L1000_CRISPR_KO_Consensus_Sigs_5of13.hif (37.99MB, 1781090 lines)\n",
      "  Created: LINCS_L1000_CRISPR_KO_Consensus_Sigs_6of13.hif (37.99MB, 1781090 lines)\n",
      "  Created: LINCS_L1000_CRISPR_KO_Consensus_Sigs_7of13.hif (38.12MB, 1781090 lines)\n",
      "  Created: LINCS_L1000_CRISPR_KO_Consensus_Sigs_8of13.hif (38.33MB, 1781090 lines)\n",
      "  Created: LINCS_L1000_CRISPR_KO_Consensus_Sigs_9of13.hif (38.40MB, 1781090 lines)\n",
      "  Created: LINCS_L1000_CRISPR_KO_Consensus_Sigs_10of13.hif (38.40MB, 1781090 lines)\n",
      "  Created: LINCS_L1000_CRISPR_KO_Consensus_Sigs_11of13.hif (38.41MB, 1781090 lines)\n",
      "  Created: LINCS_L1000_CRISPR_KO_Consensus_Sigs_12of13.hif (38.45MB, 1781090 lines)\n"
     ]
    },
    {
     "name": "stderr",
     "output_type": "stream",
     "text": [
      "168it [41:27, 44.97s/it]"
     ]
    },
    {
     "name": "stdout",
     "output_type": "stream",
     "text": [
      "  Created: LINCS_L1000_CRISPR_KO_Consensus_Sigs_13of13.hif (38.71MB, 1781078 lines)\n",
      "  Removed original file: /nfs/turbo/umms-indikar/Joshua/HIF-datasets/datasets/LINCS_L1000_CRISPR_KO_Consensus_Sigs.hif\n",
      "  Split complete: 13 files created\n",
      "    Split to separate files...Complete ✓\n",
      "Downloaded: Tabula_Muris\n"
     ]
    },
    {
     "name": "stderr",
     "output_type": "stream",
     "text": [
      "169it [41:30, 32.46s/it]"
     ]
    },
    {
     "name": "stdout",
     "output_type": "stream",
     "text": [
      "    Written to File\n",
      "Processing: /nfs/turbo/umms-indikar/Joshua/HIF-datasets/datasets/Tabula_Muris.hif\n",
      "  File is already under 40MB (2.30MB), skipping...\n",
      "    Split to separate files...Complete ✓\n",
      "Downloaded: Reactome_2022\n"
     ]
    },
    {
     "name": "stderr",
     "output_type": "stream",
     "text": [
      "170it [41:39, 25.54s/it]"
     ]
    },
    {
     "name": "stdout",
     "output_type": "stream",
     "text": [
      "    Written to File\n",
      "Processing: /nfs/turbo/umms-indikar/Joshua/HIF-datasets/datasets/Reactome_2022.hif\n",
      "  File is already under 40MB (26.98MB), skipping...\n",
      "    Split to separate files...Complete ✓\n"
     ]
    },
    {
     "name": "stderr",
     "output_type": "stream",
     "text": [
      "171it [41:40, 18.02s/it]"
     ]
    },
    {
     "name": "stdout",
     "output_type": "stream",
     "text": [
      "Downloaded: SynGO_2022\n",
      "    Written to File\n",
      "Processing: /nfs/turbo/umms-indikar/Joshua/HIF-datasets/datasets/SynGO_2022.hif\n",
      "  File is already under 40MB (0.79MB), skipping...\n",
      "    Split to separate files...Complete ✓\n",
      "Downloaded: GlyGen_Glycosylated_Proteins_2022\n"
     ]
    },
    {
     "name": "stderr",
     "output_type": "stream",
     "text": [
      "172it [41:41, 12.88s/it]"
     ]
    },
    {
     "name": "stdout",
     "output_type": "stream",
     "text": [
      "    Written to File\n",
      "Processing: /nfs/turbo/umms-indikar/Joshua/HIF-datasets/datasets/GlyGen_Glycosylated_Proteins_2022.hif\n",
      "  File is already under 40MB (3.31MB), skipping...\n",
      "    Split to separate files...Complete ✓\n",
      "Downloaded: IDG_Drug_Targets_2022\n"
     ]
    },
    {
     "name": "stderr",
     "output_type": "stream",
     "text": [
      "173it [41:41,  9.26s/it]"
     ]
    },
    {
     "name": "stdout",
     "output_type": "stream",
     "text": [
      "    Written to File\n",
      "Processing: /nfs/turbo/umms-indikar/Joshua/HIF-datasets/datasets/IDG_Drug_Targets_2022.hif\n",
      "  File is already under 40MB (3.07MB), skipping...\n",
      "    Split to separate files...Complete ✓\n",
      "Downloaded: KOMP2_Mouse_Phenotypes_2022\n"
     ]
    },
    {
     "name": "stderr",
     "output_type": "stream",
     "text": [
      "174it [41:44,  7.35s/it]"
     ]
    },
    {
     "name": "stdout",
     "output_type": "stream",
     "text": [
      "    Written to File\n",
      "Processing: /nfs/turbo/umms-indikar/Joshua/HIF-datasets/datasets/KOMP2_Mouse_Phenotypes_2022.hif\n",
      "  File is already under 40MB (8.90MB), skipping...\n",
      "    Split to separate files...Complete ✓\n"
     ]
    },
    {
     "name": "stderr",
     "output_type": "stream",
     "text": [
      "175it [41:45,  5.24s/it]"
     ]
    },
    {
     "name": "stdout",
     "output_type": "stream",
     "text": [
      "Downloaded: Metabolomics_Workbench_Metabolites_2022\n",
      "    Written to File\n",
      "Processing: /nfs/turbo/umms-indikar/Joshua/HIF-datasets/datasets/Metabolomics_Workbench_Metabolites_2022.hif\n",
      "  File is already under 40MB (0.82MB), skipping...\n",
      "    Split to separate files...Complete ✓\n",
      "Downloaded: Proteomics_Drug_Atlas_2023\n",
      "    Written to File\n",
      "Processing: /nfs/turbo/umms-indikar/Joshua/HIF-datasets/datasets/Proteomics_Drug_Atlas_2023.hif\n",
      "  File size: 52.00MB\n",
      "  Number of chunks needed: 2\n",
      "  Total lines: 2356289\n",
      "  Lines per chunk: 1178145\n",
      "  Created: Proteomics_Drug_Atlas_2023_1of2.hif (26.16MB, 1178145 lines)\n"
     ]
    },
    {
     "name": "stderr",
     "output_type": "stream",
     "text": [
      "176it [41:53,  6.15s/it]"
     ]
    },
    {
     "name": "stdout",
     "output_type": "stream",
     "text": [
      "  Created: Proteomics_Drug_Atlas_2023_2of2.hif (25.84MB, 1178144 lines)\n",
      "  Removed original file: /nfs/turbo/umms-indikar/Joshua/HIF-datasets/datasets/Proteomics_Drug_Atlas_2023.hif\n",
      "  Split complete: 2 files created\n",
      "    Split to separate files...Complete ✓\n",
      "Downloaded: The_Kinase_Library_2023\n",
      "    Written to File\n",
      "Processing: /nfs/turbo/umms-indikar/Joshua/HIF-datasets/datasets/The_Kinase_Library_2023.hif\n",
      "  File size: 46.55MB\n",
      "  Number of chunks needed: 2\n",
      "  Total lines: 2218994\n",
      "  Lines per chunk: 1109497\n",
      "  Created: The_Kinase_Library_2023_1of2.hif (23.64MB, 1109497 lines)\n"
     ]
    },
    {
     "name": "stderr",
     "output_type": "stream",
     "text": [
      "177it [42:01,  6.77s/it]"
     ]
    },
    {
     "name": "stdout",
     "output_type": "stream",
     "text": [
      "  Created: The_Kinase_Library_2023_2of2.hif (22.91MB, 1109497 lines)\n",
      "  Removed original file: /nfs/turbo/umms-indikar/Joshua/HIF-datasets/datasets/The_Kinase_Library_2023.hif\n",
      "  Split complete: 2 files created\n",
      "    Split to separate files...Complete ✓\n",
      "Downloaded: GTEx_Tissues_V8_2023\n"
     ]
    },
    {
     "name": "stderr",
     "output_type": "stream",
     "text": [
      "178it [42:05,  5.78s/it]"
     ]
    },
    {
     "name": "stdout",
     "output_type": "stream",
     "text": [
      "    Written to File\n",
      "Processing: /nfs/turbo/umms-indikar/Joshua/HIF-datasets/datasets/GTEx_Tissues_V8_2023.hif\n",
      "  File is already under 40MB (11.75MB), skipping...\n",
      "    Split to separate files...Complete ✓\n",
      "Downloaded: GO_Biological_Process_2023\n",
      "    Written to File\n",
      "Processing: /nfs/turbo/umms-indikar/Joshua/HIF-datasets/datasets/GO_Biological_Process_2023.hif\n",
      "  File size: 44.84MB\n",
      "  Number of chunks needed: 2\n",
      "  Total lines: 1728824\n",
      "  Lines per chunk: 864412\n",
      "  Created: GO_Biological_Process_2023_1of2.hif (21.71MB, 864412 lines)\n"
     ]
    },
    {
     "name": "stderr",
     "output_type": "stream",
     "text": [
      "179it [42:11,  6.08s/it]"
     ]
    },
    {
     "name": "stdout",
     "output_type": "stream",
     "text": [
      "  Created: GO_Biological_Process_2023_2of2.hif (23.13MB, 864412 lines)\n",
      "  Removed original file: /nfs/turbo/umms-indikar/Joshua/HIF-datasets/datasets/GO_Biological_Process_2023.hif\n",
      "  Split complete: 2 files created\n",
      "    Split to separate files...Complete ✓\n",
      "Downloaded: GO_Cellular_Component_2023\n"
     ]
    },
    {
     "name": "stderr",
     "output_type": "stream",
     "text": [
      "180it [42:13,  4.80s/it]"
     ]
    },
    {
     "name": "stdout",
     "output_type": "stream",
     "text": [
      "    Written to File\n",
      "Processing: /nfs/turbo/umms-indikar/Joshua/HIF-datasets/datasets/GO_Cellular_Component_2023.hif\n",
      "  File is already under 40MB (10.18MB), skipping...\n",
      "    Split to separate files...Complete ✓\n",
      "Downloaded: GO_Molecular_Function_2023\n"
     ]
    },
    {
     "name": "stderr",
     "output_type": "stream",
     "text": [
      "181it [42:15,  3.88s/it]"
     ]
    },
    {
     "name": "stdout",
     "output_type": "stream",
     "text": [
      "    Written to File\n",
      "Processing: /nfs/turbo/umms-indikar/Joshua/HIF-datasets/datasets/GO_Molecular_Function_2023.hif\n",
      "  File is already under 40MB (11.72MB), skipping...\n",
      "    Split to separate files...Complete ✓\n",
      "Downloaded: PFOCR_Pathways_2023\n",
      "    Written to File\n",
      "Processing: /nfs/turbo/umms-indikar/Joshua/HIF-datasets/datasets/PFOCR_Pathways_2023.hif\n",
      "  File size: 60.78MB\n",
      "  Number of chunks needed: 2\n",
      "  Total lines: 2732687\n",
      "  Lines per chunk: 1366344\n",
      "  Created: PFOCR_Pathways_2023_1of2.hif (30.48MB, 1366344 lines)\n"
     ]
    },
    {
     "name": "stderr",
     "output_type": "stream",
     "text": [
      "182it [42:30,  7.25s/it]"
     ]
    },
    {
     "name": "stdout",
     "output_type": "stream",
     "text": [
      "  Created: PFOCR_Pathways_2023_2of2.hif (30.30MB, 1366343 lines)\n",
      "  Removed original file: /nfs/turbo/umms-indikar/Joshua/HIF-datasets/datasets/PFOCR_Pathways_2023.hif\n",
      "  Split complete: 2 files created\n",
      "    Split to separate files...Complete ✓\n",
      "Downloaded: GWAS_Catalog_2023\n",
      "    Written to File\n",
      "Processing: /nfs/turbo/umms-indikar/Joshua/HIF-datasets/datasets/GWAS_Catalog_2023.hif\n",
      "  File size: 42.39MB\n",
      "  Number of chunks needed: 2\n",
      "  Total lines: 1781705\n",
      "  Lines per chunk: 890853\n",
      "  Created: GWAS_Catalog_2023_1of2.hif (20.36MB, 890853 lines)\n"
     ]
    },
    {
     "name": "stderr",
     "output_type": "stream",
     "text": [
      "183it [42:42,  8.57s/it]"
     ]
    },
    {
     "name": "stdout",
     "output_type": "stream",
     "text": [
      "  Created: GWAS_Catalog_2023_2of2.hif (22.03MB, 890852 lines)\n",
      "  Removed original file: /nfs/turbo/umms-indikar/Joshua/HIF-datasets/datasets/GWAS_Catalog_2023.hif\n",
      "  Split complete: 2 files created\n",
      "    Split to separate files...Complete ✓\n",
      "Downloaded: GeDiPNet_2023\n"
     ]
    },
    {
     "name": "stderr",
     "output_type": "stream",
     "text": [
      "184it [42:46,  7.26s/it]"
     ]
    },
    {
     "name": "stdout",
     "output_type": "stream",
     "text": [
      "    Written to File\n",
      "Processing: /nfs/turbo/umms-indikar/Joshua/HIF-datasets/datasets/GeDiPNet_2023.hif\n",
      "  File is already under 40MB (25.99MB), skipping...\n",
      "    Split to separate files...Complete ✓\n",
      "Downloaded: MAGNET_2023\n"
     ]
    },
    {
     "name": "stderr",
     "output_type": "stream",
     "text": [
      "185it [42:48,  5.62s/it]"
     ]
    },
    {
     "name": "stdout",
     "output_type": "stream",
     "text": [
      "    Written to File\n",
      "Processing: /nfs/turbo/umms-indikar/Joshua/HIF-datasets/datasets/MAGNET_2023.hif\n",
      "  File is already under 40MB (9.15MB), skipping...\n",
      "    Split to separate files...Complete ✓\n",
      "Downloaded: Azimuth_2023\n"
     ]
    },
    {
     "name": "stderr",
     "output_type": "stream",
     "text": [
      "186it [42:49,  4.27s/it]"
     ]
    },
    {
     "name": "stdout",
     "output_type": "stream",
     "text": [
      "    Written to File\n",
      "Processing: /nfs/turbo/umms-indikar/Joshua/HIF-datasets/datasets/Azimuth_2023.hif\n",
      "  File is already under 40MB (3.60MB), skipping...\n",
      "    Split to separate files...Complete ✓\n",
      "Downloaded: Rummagene_kinases\n",
      "    Written to File\n",
      "Processing: /nfs/turbo/umms-indikar/Joshua/HIF-datasets/datasets/Rummagene_kinases.hif\n",
      "  File size: 223.39MB\n",
      "  Number of chunks needed: 6\n",
      "  Total lines: 7633928\n",
      "  Lines per chunk: 1272322\n",
      "  Created: Rummagene_kinases_1of6.hif (32.36MB, 1272322 lines)\n",
      "  Created: Rummagene_kinases_2of6.hif (37.40MB, 1272322 lines)\n",
      "  Created: Rummagene_kinases_3of6.hif (38.75MB, 1272322 lines)\n",
      "  Created: Rummagene_kinases_4of6.hif (37.63MB, 1272322 lines)\n",
      "  Created: Rummagene_kinases_5of6.hif (38.53MB, 1272322 lines)\n"
     ]
    },
    {
     "name": "stderr",
     "output_type": "stream",
     "text": [
      "187it [43:14, 10.52s/it]"
     ]
    },
    {
     "name": "stdout",
     "output_type": "stream",
     "text": [
      "  Created: Rummagene_kinases_6of6.hif (38.72MB, 1272318 lines)\n",
      "  Removed original file: /nfs/turbo/umms-indikar/Joshua/HIF-datasets/datasets/Rummagene_kinases.hif\n",
      "  Split complete: 6 files created\n",
      "    Split to separate files...Complete ✓\n",
      "Downloaded: Rummagene_signatures\n",
      "    Written to File\n",
      "Processing: /nfs/turbo/umms-indikar/Joshua/HIF-datasets/datasets/Rummagene_signatures.hif\n",
      "  File size: 1081.48MB\n",
      "  Number of chunks needed: 28\n",
      "  Total lines: 37153970\n",
      "  Lines per chunk: 1326928\n",
      "  Created: Rummagene_signatures_1of28.hif (32.74MB, 1326928 lines)\n",
      "  Created: Rummagene_signatures_2of28.hif (33.55MB, 1326928 lines)\n",
      "  Created: Rummagene_signatures_3of28.hif (33.57MB, 1326928 lines)\n",
      "  Created: Rummagene_signatures_4of28.hif (37.39MB, 1326928 lines)\n",
      "  Created: Rummagene_signatures_5of28.hif (38.54MB, 1326928 lines)\n",
      "  Created: Rummagene_signatures_6of28.hif (38.93MB, 1326928 lines)\n",
      "  Created: Rummagene_signatures_7of28.hif (37.58MB, 1326928 lines)\n",
      "  Created: Rummagene_signatures_8of28.hif (36.85MB, 1326928 lines)\n",
      "  Created: Rummagene_signatures_9of28.hif (36.96MB, 1326928 lines)\n",
      "  Created: Rummagene_signatures_10of28.hif (37.08MB, 1326928 lines)\n",
      "  Created: Rummagene_signatures_11of28.hif (39.39MB, 1326928 lines)\n",
      "  Created: Rummagene_signatures_12of28.hif (42.35MB, 1326928 lines)\n",
      "  Created: Rummagene_signatures_13of28.hif (40.46MB, 1326928 lines)\n",
      "  Created: Rummagene_signatures_14of28.hif (38.42MB, 1326928 lines)\n",
      "  Created: Rummagene_signatures_15of28.hif (39.04MB, 1326928 lines)\n",
      "  Created: Rummagene_signatures_16of28.hif (41.15MB, 1326928 lines)\n",
      "  Created: Rummagene_signatures_17of28.hif (38.70MB, 1326928 lines)\n",
      "  Created: Rummagene_signatures_18of28.hif (38.38MB, 1326928 lines)\n",
      "  Created: Rummagene_signatures_19of28.hif (39.01MB, 1326928 lines)\n",
      "  Created: Rummagene_signatures_20of28.hif (40.06MB, 1326928 lines)\n",
      "  Created: Rummagene_signatures_21of28.hif (40.40MB, 1326928 lines)\n",
      "  Created: Rummagene_signatures_22of28.hif (39.43MB, 1326928 lines)\n",
      "  Created: Rummagene_signatures_23of28.hif (40.22MB, 1326928 lines)\n",
      "  Created: Rummagene_signatures_24of28.hif (41.79MB, 1326928 lines)\n",
      "  Created: Rummagene_signatures_25of28.hif (38.11MB, 1326928 lines)\n",
      "  Created: Rummagene_signatures_26of28.hif (40.85MB, 1326928 lines)\n",
      "  Created: Rummagene_signatures_27of28.hif (40.46MB, 1326928 lines)\n"
     ]
    },
    {
     "name": "stderr",
     "output_type": "stream",
     "text": [
      "188it [45:24, 46.50s/it]"
     ]
    },
    {
     "name": "stdout",
     "output_type": "stream",
     "text": [
      "  Created: Rummagene_signatures_28of28.hif (40.06MB, 1326914 lines)\n",
      "  Removed original file: /nfs/turbo/umms-indikar/Joshua/HIF-datasets/datasets/Rummagene_signatures.hif\n",
      "  Split complete: 28 files created\n",
      "    Split to separate files...Complete ✓\n",
      "Downloaded: Rummagene_transcription_factors\n",
      "    Written to File\n",
      "Processing: /nfs/turbo/umms-indikar/Joshua/HIF-datasets/datasets/Rummagene_transcription_factors.hif\n",
      "  File size: 489.45MB\n",
      "  Number of chunks needed: 13\n",
      "  Total lines: 16462919\n",
      "  Lines per chunk: 1266379\n",
      "  Created: Rummagene_transcription_factors_1of13.hif (31.28MB, 1266379 lines)\n",
      "  Created: Rummagene_transcription_factors_2of13.hif (34.09MB, 1266379 lines)\n",
      "  Created: Rummagene_transcription_factors_3of13.hif (38.81MB, 1266379 lines)\n",
      "  Created: Rummagene_transcription_factors_4of13.hif (39.35MB, 1266379 lines)\n",
      "  Created: Rummagene_transcription_factors_5of13.hif (38.14MB, 1266379 lines)\n",
      "  Created: Rummagene_transcription_factors_6of13.hif (38.78MB, 1266379 lines)\n",
      "  Created: Rummagene_transcription_factors_7of13.hif (36.73MB, 1266379 lines)\n",
      "  Created: Rummagene_transcription_factors_8of13.hif (38.11MB, 1266379 lines)\n",
      "  Created: Rummagene_transcription_factors_9of13.hif (37.74MB, 1266379 lines)\n",
      "  Created: Rummagene_transcription_factors_10of13.hif (39.60MB, 1266379 lines)\n",
      "  Created: Rummagene_transcription_factors_11of13.hif (38.50MB, 1266379 lines)\n",
      "  Created: Rummagene_transcription_factors_12of13.hif (39.39MB, 1266379 lines)\n"
     ]
    },
    {
     "name": "stderr",
     "output_type": "stream",
     "text": [
      "189it [46:32, 52.75s/it]"
     ]
    },
    {
     "name": "stdout",
     "output_type": "stream",
     "text": [
      "  Created: Rummagene_transcription_factors_13of13.hif (38.94MB, 1266371 lines)\n",
      "  Removed original file: /nfs/turbo/umms-indikar/Joshua/HIF-datasets/datasets/Rummagene_transcription_factors.hif\n",
      "  Split complete: 13 files created\n",
      "    Split to separate files...Complete ✓\n",
      "Downloaded: MoTrPAC_2023\n"
     ]
    },
    {
     "name": "stderr",
     "output_type": "stream",
     "text": [
      "190it [46:36, 38.21s/it]"
     ]
    },
    {
     "name": "stdout",
     "output_type": "stream",
     "text": [
      "    Written to File\n",
      "Processing: /nfs/turbo/umms-indikar/Joshua/HIF-datasets/datasets/MoTrPAC_2023.hif\n",
      "  File is already under 40MB (6.59MB), skipping...\n",
      "    Split to separate files...Complete ✓\n",
      "Downloaded: WikiPathway_2023_Human\n"
     ]
    },
    {
     "name": "stderr",
     "output_type": "stream",
     "text": [
      "191it [46:37, 27.16s/it]"
     ]
    },
    {
     "name": "stdout",
     "output_type": "stream",
     "text": [
      "    Written to File\n",
      "Processing: /nfs/turbo/umms-indikar/Joshua/HIF-datasets/datasets/WikiPathway_2023_Human.hif\n",
      "  File is already under 40MB (8.59MB), skipping...\n",
      "    Split to separate files...Complete ✓\n",
      "Downloaded: DepMap_CRISPR_GeneDependency_CellLines_2023\n",
      "    Written to File\n",
      "Processing: /nfs/turbo/umms-indikar/Joshua/HIF-datasets/datasets/DepMap_CRISPR_GeneDependency_CellLines_2023.hif\n",
      "  File size: 88.14MB\n",
      "  Number of chunks needed: 3\n",
      "  Total lines: 4140971\n",
      "  Lines per chunk: 1380324\n",
      "  Created: DepMap_CRISPR_GeneDependency_CellLines_2023_1of3.hif (30.34MB, 1380324 lines)\n",
      "  Created: DepMap_CRISPR_GeneDependency_CellLines_2023_2of3.hif (28.86MB, 1380324 lines)\n"
     ]
    },
    {
     "name": "stderr",
     "output_type": "stream",
     "text": [
      "192it [46:49, 22.47s/it]"
     ]
    },
    {
     "name": "stdout",
     "output_type": "stream",
     "text": [
      "  Created: DepMap_CRISPR_GeneDependency_CellLines_2023_3of3.hif (28.94MB, 1380323 lines)\n",
      "  Removed original file: /nfs/turbo/umms-indikar/Joshua/HIF-datasets/datasets/DepMap_CRISPR_GeneDependency_CellLines_2023.hif\n",
      "  Split complete: 3 files created\n",
      "    Split to separate files...Complete ✓\n"
     ]
    },
    {
     "name": "stderr",
     "output_type": "stream",
     "text": [
      "193it [46:49, 15.85s/it]"
     ]
    },
    {
     "name": "stdout",
     "output_type": "stream",
     "text": [
      "Downloaded: SynGO_2024\n",
      "    Written to File\n",
      "Processing: /nfs/turbo/umms-indikar/Joshua/HIF-datasets/datasets/SynGO_2024.hif\n",
      "  File is already under 40MB (1.04MB), skipping...\n",
      "    Split to separate files...Complete ✓\n",
      "Downloaded: CellMarker_2024\n"
     ]
    },
    {
     "name": "stderr",
     "output_type": "stream",
     "text": [
      "194it [46:51, 11.64s/it]"
     ]
    },
    {
     "name": "stdout",
     "output_type": "stream",
     "text": [
      "    Written to File\n",
      "Processing: /nfs/turbo/umms-indikar/Joshua/HIF-datasets/datasets/CellMarker_2024.hif\n",
      "  File is already under 40MB (12.86MB), skipping...\n",
      "    Split to separate files...Complete ✓\n",
      "Downloaded: DGIdb_Drug_Targets_2024\n"
     ]
    },
    {
     "name": "stderr",
     "output_type": "stream",
     "text": [
      "195it [46:52,  8.34s/it]"
     ]
    },
    {
     "name": "stdout",
     "output_type": "stream",
     "text": [
      "    Written to File\n",
      "Processing: /nfs/turbo/umms-indikar/Joshua/HIF-datasets/datasets/DGIdb_Drug_Targets_2024.hif\n",
      "  File is already under 40MB (2.94MB), skipping...\n",
      "    Split to separate files...Complete ✓\n",
      "Downloaded: MGI_Mammalian_Phenotype_Level_4_2024\n",
      "    Written to File\n",
      "Processing: /nfs/turbo/umms-indikar/Joshua/HIF-datasets/datasets/MGI_Mammalian_Phenotype_Level_4_2024.hif\n",
      "  File size: 43.45MB\n",
      "  Number of chunks needed: 2\n",
      "  Total lines: 1747979\n",
      "  Lines per chunk: 873990\n",
      "  Created: MGI_Mammalian_Phenotype_Level_4_2024_1of2.hif (21.45MB, 873990 lines)\n"
     ]
    },
    {
     "name": "stderr",
     "output_type": "stream",
     "text": [
      "196it [46:58,  7.88s/it]"
     ]
    },
    {
     "name": "stdout",
     "output_type": "stream",
     "text": [
      "  Created: MGI_Mammalian_Phenotype_Level_4_2024_2of2.hif (22.01MB, 873989 lines)\n",
      "  Removed original file: /nfs/turbo/umms-indikar/Joshua/HIF-datasets/datasets/MGI_Mammalian_Phenotype_Level_4_2024.hif\n",
      "  Split complete: 2 files created\n",
      "    Split to separate files...Complete ✓\n",
      "Downloaded: WikiPathways_2024_Mouse\n"
     ]
    },
    {
     "name": "stderr",
     "output_type": "stream",
     "text": [
      "197it [46:59,  5.82s/it]"
     ]
    },
    {
     "name": "stdout",
     "output_type": "stream",
     "text": [
      "    Written to File\n",
      "Processing: /nfs/turbo/umms-indikar/Joshua/HIF-datasets/datasets/WikiPathways_2024_Mouse.hif\n",
      "  File is already under 40MB (2.61MB), skipping...\n",
      "    Split to separate files...Complete ✓\n",
      "Downloaded: WikiPathways_2024_Human\n"
     ]
    },
    {
     "name": "stderr",
     "output_type": "stream",
     "text": [
      "198it [47:01,  4.45s/it]"
     ]
    },
    {
     "name": "stdout",
     "output_type": "stream",
     "text": [
      "    Written to File\n",
      "Processing: /nfs/turbo/umms-indikar/Joshua/HIF-datasets/datasets/WikiPathways_2024_Human.hif\n",
      "  File is already under 40MB (9.11MB), skipping...\n",
      "    Split to separate files...Complete ✓\n",
      "Downloaded: The_Kinase_Library_2024\n",
      "    Written to File\n",
      "Processing: /nfs/turbo/umms-indikar/Joshua/HIF-datasets/datasets/The_Kinase_Library_2024.hif\n",
      "  File size: 47.68MB\n",
      "  Number of chunks needed: 2\n",
      "  Total lines: 2270945\n",
      "  Lines per chunk: 1135473\n",
      "  Created: The_Kinase_Library_2024_1of2.hif (24.30MB, 1135473 lines)\n"
     ]
    },
    {
     "name": "stderr",
     "output_type": "stream",
     "text": [
      "199it [47:08,  5.36s/it]"
     ]
    },
    {
     "name": "stdout",
     "output_type": "stream",
     "text": [
      "  Created: The_Kinase_Library_2024_2of2.hif (23.38MB, 1135472 lines)\n",
      "  Removed original file: /nfs/turbo/umms-indikar/Joshua/HIF-datasets/datasets/The_Kinase_Library_2024.hif\n",
      "  Split complete: 2 files created\n",
      "    Split to separate files...Complete ✓\n",
      "Downloaded: PerturbAtlas\n",
      "    Written to File\n",
      "Processing: /nfs/turbo/umms-indikar/Joshua/HIF-datasets/datasets/PerturbAtlas.hif\n",
      "  File size: 223.41MB\n",
      "  Number of chunks needed: 6\n",
      "  Total lines: 9053450\n",
      "  Lines per chunk: 1508909\n",
      "  Created: PerturbAtlas_1of6.hif (37.19MB, 1508909 lines)\n",
      "  Created: PerturbAtlas_2of6.hif (37.54MB, 1508909 lines)\n",
      "  Created: PerturbAtlas_3of6.hif (37.33MB, 1508909 lines)\n",
      "  Created: PerturbAtlas_4of6.hif (37.16MB, 1508909 lines)\n",
      "  Created: PerturbAtlas_5of6.hif (37.05MB, 1508909 lines)\n"
     ]
    },
    {
     "name": "stderr",
     "output_type": "stream",
     "text": [
      "200it [47:39, 12.92s/it]"
     ]
    },
    {
     "name": "stdout",
     "output_type": "stream",
     "text": [
      "  Created: PerturbAtlas_6of6.hif (37.14MB, 1508905 lines)\n",
      "  Removed original file: /nfs/turbo/umms-indikar/Joshua/HIF-datasets/datasets/PerturbAtlas.hif\n",
      "  Split complete: 6 files created\n",
      "    Split to separate files...Complete ✓\n",
      "Downloaded: Reactome_Pathways_2024\n"
     ]
    },
    {
     "name": "stderr",
     "output_type": "stream",
     "text": [
      "201it [47:49, 12.01s/it]"
     ]
    },
    {
     "name": "stdout",
     "output_type": "stream",
     "text": [
      "    Written to File\n",
      "Processing: /nfs/turbo/umms-indikar/Joshua/HIF-datasets/datasets/Reactome_Pathways_2024.hif\n",
      "  File is already under 40MB (30.01MB), skipping...\n",
      "    Split to separate files...Complete ✓\n",
      "Downloaded: GO_Biological_Process_2025\n",
      "    Written to File\n",
      "Processing: /nfs/turbo/umms-indikar/Joshua/HIF-datasets/datasets/GO_Biological_Process_2025.hif\n",
      "  File size: 43.99MB\n",
      "  Number of chunks needed: 2\n",
      "  Total lines: 1698179\n",
      "  Lines per chunk: 849090\n",
      "  Created: GO_Biological_Process_2025_1of2.hif (21.28MB, 849090 lines)\n"
     ]
    },
    {
     "name": "stderr",
     "output_type": "stream",
     "text": [
      "202it [47:58, 11.10s/it]"
     ]
    },
    {
     "name": "stdout",
     "output_type": "stream",
     "text": [
      "  Created: GO_Biological_Process_2025_2of2.hif (22.71MB, 849089 lines)\n",
      "  Removed original file: /nfs/turbo/umms-indikar/Joshua/HIF-datasets/datasets/GO_Biological_Process_2025.hif\n",
      "  Split complete: 2 files created\n",
      "    Split to separate files...Complete ✓\n",
      "Downloaded: GO_Cellular_Component_2025\n"
     ]
    },
    {
     "name": "stderr",
     "output_type": "stream",
     "text": [
      "203it [48:00,  8.43s/it]"
     ]
    },
    {
     "name": "stdout",
     "output_type": "stream",
     "text": [
      "    Written to File\n",
      "Processing: /nfs/turbo/umms-indikar/Joshua/HIF-datasets/datasets/GO_Cellular_Component_2025.hif\n",
      "  File is already under 40MB (10.59MB), skipping...\n",
      "    Split to separate files...Complete ✓\n",
      "Downloaded: GO_Molecular_Function_2025\n"
     ]
    },
    {
     "name": "stderr",
     "output_type": "stream",
     "text": [
      "204it [48:01,  6.39s/it]"
     ]
    },
    {
     "name": "stdout",
     "output_type": "stream",
     "text": [
      "    Written to File\n",
      "Processing: /nfs/turbo/umms-indikar/Joshua/HIF-datasets/datasets/GO_Molecular_Function_2025.hif\n",
      "  File is already under 40MB (11.25MB), skipping...\n",
      "    Split to separate files...Complete ✓\n",
      "Downloaded: NIBR_DRUGseq_2025_up\n",
      "    Written to File\n",
      "Processing: /nfs/turbo/umms-indikar/Joshua/HIF-datasets/datasets/NIBR_DRUGseq_2025_up.hif\n",
      "  File size: 194.31MB\n",
      "  Number of chunks needed: 5\n",
      "  Total lines: 7796618\n",
      "  Lines per chunk: 1559324\n",
      "  Created: NIBR_DRUGseq_2025_up_1of5.hif (40.17MB, 1559324 lines)\n",
      "  Created: NIBR_DRUGseq_2025_up_2of5.hif (40.23MB, 1559324 lines)\n",
      "  Created: NIBR_DRUGseq_2025_up_3of5.hif (39.17MB, 1559324 lines)\n",
      "  Created: NIBR_DRUGseq_2025_up_4of5.hif (38.10MB, 1559324 lines)\n"
     ]
    },
    {
     "name": "stderr",
     "output_type": "stream",
     "text": [
      "205it [48:32, 13.70s/it]"
     ]
    },
    {
     "name": "stdout",
     "output_type": "stream",
     "text": [
      "  Created: NIBR_DRUGseq_2025_up_5of5.hif (36.64MB, 1559322 lines)\n",
      "  Removed original file: /nfs/turbo/umms-indikar/Joshua/HIF-datasets/datasets/NIBR_DRUGseq_2025_up.hif\n",
      "  Split complete: 5 files created\n",
      "    Split to separate files...Complete ✓\n",
      "Downloaded: NIBR_DRUGseq_2025_down\n",
      "    Written to File\n",
      "Processing: /nfs/turbo/umms-indikar/Joshua/HIF-datasets/datasets/NIBR_DRUGseq_2025_down.hif\n",
      "  File size: 205.16MB\n",
      "  Number of chunks needed: 6\n",
      "  Total lines: 8233496\n",
      "  Lines per chunk: 1372250\n",
      "  Created: NIBR_DRUGseq_2025_down_1of6.hif (35.07MB, 1372250 lines)\n",
      "  Created: NIBR_DRUGseq_2025_down_2of6.hif (35.80MB, 1372250 lines)\n",
      "  Created: NIBR_DRUGseq_2025_down_3of6.hif (34.92MB, 1372250 lines)\n",
      "  Created: NIBR_DRUGseq_2025_down_4of6.hif (33.85MB, 1372250 lines)\n",
      "  Created: NIBR_DRUGseq_2025_down_5of6.hif (33.44MB, 1372250 lines)\n"
     ]
    },
    {
     "name": "stderr",
     "output_type": "stream",
     "text": [
      "206it [49:01, 18.24s/it]"
     ]
    },
    {
     "name": "stdout",
     "output_type": "stream",
     "text": [
      "  Created: NIBR_DRUGseq_2025_down_6of6.hif (32.08MB, 1372246 lines)\n",
      "  Removed original file: /nfs/turbo/umms-indikar/Joshua/HIF-datasets/datasets/NIBR_DRUGseq_2025_down.hif\n",
      "  Split complete: 6 files created\n",
      "    Split to separate files...Complete ✓\n",
      "Downloaded: Jensen_DISEASES_Curated_2025\n"
     ]
    },
    {
     "name": "stderr",
     "output_type": "stream",
     "text": [
      "207it [49:04, 13.56s/it]"
     ]
    },
    {
     "name": "stdout",
     "output_type": "stream",
     "text": [
      "    Written to File\n",
      "Processing: /nfs/turbo/umms-indikar/Joshua/HIF-datasets/datasets/Jensen_DISEASES_Curated_2025.hif\n",
      "  File is already under 40MB (7.93MB), skipping...\n",
      "    Split to separate files...Complete ✓\n",
      "Downloaded: Jensen_DISEASES_Experimental_2025\n"
     ]
    },
    {
     "name": "stderr",
     "output_type": "stream",
     "text": [
      "208it [49:11, 11.80s/it]"
     ]
    },
    {
     "name": "stdout",
     "output_type": "stream",
     "text": [
      "    Written to File\n",
      "Processing: /nfs/turbo/umms-indikar/Joshua/HIF-datasets/datasets/Jensen_DISEASES_Experimental_2025.hif\n",
      "  File is already under 40MB (36.55MB), skipping...\n",
      "    Split to separate files...Complete ✓\n",
      "Downloaded: COMPARTMENTS_Curated_2025\n"
     ]
    },
    {
     "name": "stderr",
     "output_type": "stream",
     "text": [
      "209it [49:20, 10.69s/it]"
     ]
    },
    {
     "name": "stdout",
     "output_type": "stream",
     "text": [
      "    Written to File\n",
      "Processing: /nfs/turbo/umms-indikar/Joshua/HIF-datasets/datasets/COMPARTMENTS_Curated_2025.hif\n",
      "  File is already under 40MB (25.92MB), skipping...\n",
      "    Split to separate files...Complete ✓\n",
      "Downloaded: PerturbAtlas_MouseGenePerturbationSigs\n",
      "    Written to File\n",
      "Processing: /nfs/turbo/umms-indikar/Joshua/HIF-datasets/datasets/PerturbAtlas_MouseGenePerturbationSigs.hif\n",
      "  File size: 167.68MB\n",
      "  Number of chunks needed: 5\n",
      "  Total lines: 6797813\n",
      "  Lines per chunk: 1359563\n",
      "  Created: PerturbAtlas_MouseGenePerturbationSigs_1of5.hif (33.53MB, 1359563 lines)\n",
      "  Created: PerturbAtlas_MouseGenePerturbationSigs_2of5.hif (33.87MB, 1359563 lines)\n",
      "  Created: PerturbAtlas_MouseGenePerturbationSigs_3of5.hif (33.60MB, 1359563 lines)\n",
      "  Created: PerturbAtlas_MouseGenePerturbationSigs_4of5.hif (33.40MB, 1359563 lines)\n"
     ]
    },
    {
     "name": "stderr",
     "output_type": "stream",
     "text": [
      "210it [49:44, 14.82s/it]"
     ]
    },
    {
     "name": "stdout",
     "output_type": "stream",
     "text": [
      "  Created: PerturbAtlas_MouseGenePerturbationSigs_5of5.hif (33.27MB, 1359561 lines)\n",
      "  Removed original file: /nfs/turbo/umms-indikar/Joshua/HIF-datasets/datasets/PerturbAtlas_MouseGenePerturbationSigs.hif\n",
      "  Split complete: 5 files created\n",
      "    Split to separate files...Complete ✓\n",
      "Downloaded: PerturbSeq_ReplogleK562\n",
      "    Written to File\n",
      "Processing: /nfs/turbo/umms-indikar/Joshua/HIF-datasets/datasets/PerturbSeq_ReplogleK562.hif\n",
      "  File size: 71.91MB\n",
      "  Number of chunks needed: 2\n",
      "  Total lines: 3164330\n",
      "  Lines per chunk: 1582165\n",
      "  Created: PerturbSeq_ReplogleK562_1of2.hif (36.40MB, 1582165 lines)\n"
     ]
    },
    {
     "name": "stderr",
     "output_type": "stream",
     "text": [
      "211it [49:56, 14.11s/it]"
     ]
    },
    {
     "name": "stdout",
     "output_type": "stream",
     "text": [
      "  Created: PerturbSeq_ReplogleK562_2of2.hif (35.51MB, 1582165 lines)\n",
      "  Removed original file: /nfs/turbo/umms-indikar/Joshua/HIF-datasets/datasets/PerturbSeq_ReplogleK562.hif\n",
      "  Split complete: 2 files created\n",
      "    Split to separate files...Complete ✓\n",
      "Downloaded: TISSUES_Experimental_2025\n",
      "    Written to File\n",
      "Processing: /nfs/turbo/umms-indikar/Joshua/HIF-datasets/datasets/TISSUES_Experimental_2025.hif\n",
      "  File size: 54.80MB\n",
      "  Number of chunks needed: 2\n",
      "  Total lines: 2505701\n",
      "  Lines per chunk: 1252851\n",
      "  Created: TISSUES_Experimental_2025_1of2.hif (28.19MB, 1252851 lines)\n"
     ]
    },
    {
     "name": "stderr",
     "output_type": "stream",
     "text": [
      "212it [50:07, 13.03s/it]"
     ]
    },
    {
     "name": "stdout",
     "output_type": "stream",
     "text": [
      "  Created: TISSUES_Experimental_2025_2of2.hif (26.60MB, 1252850 lines)\n",
      "  Removed original file: /nfs/turbo/umms-indikar/Joshua/HIF-datasets/datasets/TISSUES_Experimental_2025.hif\n",
      "  Split complete: 2 files created\n",
      "    Split to separate files...Complete ✓\n",
      "Downloaded: COMPARTMENTS_Experimental_2025\n"
     ]
    },
    {
     "name": "stderr",
     "output_type": "stream",
     "text": [
      "213it [50:08,  9.52s/it]"
     ]
    },
    {
     "name": "stdout",
     "output_type": "stream",
     "text": [
      "    Written to File\n",
      "Processing: /nfs/turbo/umms-indikar/Joshua/HIF-datasets/datasets/COMPARTMENTS_Experimental_2025.hif\n",
      "  File is already under 40MB (6.89MB), skipping...\n",
      "    Split to separate files...Complete ✓\n",
      "Downloaded: PerturbSeq_ReplogleRPE1\n"
     ]
    },
    {
     "name": "stderr",
     "output_type": "stream",
     "text": [
      "214it [50:14,  8.33s/it]"
     ]
    },
    {
     "name": "stdout",
     "output_type": "stream",
     "text": [
      "    Written to File\n",
      "Processing: /nfs/turbo/umms-indikar/Joshua/HIF-datasets/datasets/PerturbSeq_ReplogleRPE1.hif\n",
      "  File is already under 40MB (38.92MB), skipping...\n",
      "    Split to separate files...Complete ✓\n",
      "Downloaded: TISSUES_Curated_2025\n",
      "    Written to File\n",
      "Processing: /nfs/turbo/umms-indikar/Joshua/HIF-datasets/datasets/TISSUES_Curated_2025.hif\n",
      "  File size: 63.59MB\n",
      "  Number of chunks needed: 2\n",
      "  Total lines: 2865809\n",
      "  Lines per chunk: 1432905\n",
      "  Created: TISSUES_Curated_2025_1of2.hif (33.05MB, 1432905 lines)\n"
     ]
    },
    {
     "name": "stderr",
     "output_type": "stream",
     "text": [
      "215it [50:24,  8.87s/it]"
     ]
    },
    {
     "name": "stdout",
     "output_type": "stream",
     "text": [
      "  Created: TISSUES_Curated_2025_2of2.hif (30.54MB, 1432904 lines)\n",
      "  Removed original file: /nfs/turbo/umms-indikar/Joshua/HIF-datasets/datasets/TISSUES_Curated_2025.hif\n",
      "  Split complete: 2 files created\n",
      "    Split to separate files...Complete ✓\n",
      "Downloaded: RummaGEO_DrugPerturbations_2025\n",
      "    Written to File\n",
      "Processing: /nfs/turbo/umms-indikar/Joshua/HIF-datasets/datasets/RummaGEO_DrugPerturbations_2025.hif\n",
      "  File size: 901.75MB\n",
      "  Number of chunks needed: 23\n",
      "  Total lines: 36313181\n",
      "  Lines per chunk: 1578834\n",
      "  Created: RummaGEO_DrugPerturbations_2025_1of23.hif (39.03MB, 1578834 lines)\n",
      "  Created: RummaGEO_DrugPerturbations_2025_2of23.hif (39.75MB, 1578834 lines)\n",
      "  Created: RummaGEO_DrugPerturbations_2025_3of23.hif (40.08MB, 1578834 lines)\n",
      "  Created: RummaGEO_DrugPerturbations_2025_4of23.hif (40.76MB, 1578834 lines)\n",
      "  Created: RummaGEO_DrugPerturbations_2025_5of23.hif (40.60MB, 1578834 lines)\n",
      "  Created: RummaGEO_DrugPerturbations_2025_6of23.hif (40.27MB, 1578834 lines)\n",
      "  Created: RummaGEO_DrugPerturbations_2025_7of23.hif (39.55MB, 1578834 lines)\n",
      "  Created: RummaGEO_DrugPerturbations_2025_8of23.hif (39.43MB, 1578834 lines)\n",
      "  Created: RummaGEO_DrugPerturbations_2025_9of23.hif (39.34MB, 1578834 lines)\n",
      "  Created: RummaGEO_DrugPerturbations_2025_10of23.hif (39.23MB, 1578834 lines)\n",
      "  Created: RummaGEO_DrugPerturbations_2025_11of23.hif (39.23MB, 1578834 lines)\n",
      "  Created: RummaGEO_DrugPerturbations_2025_12of23.hif (39.08MB, 1578834 lines)\n",
      "  Created: RummaGEO_DrugPerturbations_2025_13of23.hif (39.04MB, 1578834 lines)\n",
      "  Created: RummaGEO_DrugPerturbations_2025_14of23.hif (39.04MB, 1578834 lines)\n",
      "  Created: RummaGEO_DrugPerturbations_2025_15of23.hif (38.94MB, 1578834 lines)\n",
      "  Created: RummaGEO_DrugPerturbations_2025_16of23.hif (38.85MB, 1578834 lines)\n",
      "  Created: RummaGEO_DrugPerturbations_2025_17of23.hif (38.83MB, 1578834 lines)\n",
      "  Created: RummaGEO_DrugPerturbations_2025_18of23.hif (38.66MB, 1578834 lines)\n",
      "  Created: RummaGEO_DrugPerturbations_2025_19of23.hif (38.66MB, 1578834 lines)\n",
      "  Created: RummaGEO_DrugPerturbations_2025_20of23.hif (38.66MB, 1578834 lines)\n",
      "  Created: RummaGEO_DrugPerturbations_2025_21of23.hif (38.54MB, 1578834 lines)\n",
      "  Created: RummaGEO_DrugPerturbations_2025_22of23.hif (38.33MB, 1578834 lines)\n"
     ]
    },
    {
     "name": "stderr",
     "output_type": "stream",
     "text": [
      "216it [52:27, 43.17s/it]"
     ]
    },
    {
     "name": "stdout",
     "output_type": "stream",
     "text": [
      "  Created: RummaGEO_DrugPerturbations_2025_23of23.hif (37.87MB, 1578833 lines)\n",
      "  Removed original file: /nfs/turbo/umms-indikar/Joshua/HIF-datasets/datasets/RummaGEO_DrugPerturbations_2025.hif\n",
      "  Split complete: 23 files created\n",
      "    Split to separate files...Complete ✓\n",
      "Downloaded: RummaGEO_GenePerturbations_2025\n",
      "    Written to File\n",
      "Processing: /nfs/turbo/umms-indikar/Joshua/HIF-datasets/datasets/RummaGEO_GenePerturbations_2025.hif\n",
      "  File size: 726.68MB\n",
      "  Number of chunks needed: 19\n",
      "  Total lines: 27469775\n",
      "  Lines per chunk: 1445778\n",
      "  Created: RummaGEO_GenePerturbations_2025_1of19.hif (35.69MB, 1445778 lines)\n",
      "  Created: RummaGEO_GenePerturbations_2025_2of19.hif (36.43MB, 1445778 lines)\n",
      "  Created: RummaGEO_GenePerturbations_2025_3of19.hif (37.83MB, 1445778 lines)\n",
      "  Created: RummaGEO_GenePerturbations_2025_4of19.hif (38.08MB, 1445778 lines)\n",
      "  Created: RummaGEO_GenePerturbations_2025_5of19.hif (37.69MB, 1445778 lines)\n",
      "  Created: RummaGEO_GenePerturbations_2025_6of19.hif (37.78MB, 1445778 lines)\n",
      "  Created: RummaGEO_GenePerturbations_2025_7of19.hif (39.42MB, 1445778 lines)\n",
      "  Created: RummaGEO_GenePerturbations_2025_8of19.hif (38.05MB, 1445778 lines)\n",
      "  Created: RummaGEO_GenePerturbations_2025_9of19.hif (38.26MB, 1445778 lines)\n",
      "  Created: RummaGEO_GenePerturbations_2025_10of19.hif (38.43MB, 1445778 lines)\n",
      "  Created: RummaGEO_GenePerturbations_2025_11of19.hif (39.10MB, 1445778 lines)\n",
      "  Created: RummaGEO_GenePerturbations_2025_12of19.hif (38.69MB, 1445778 lines)\n",
      "  Created: RummaGEO_GenePerturbations_2025_13of19.hif (38.29MB, 1445778 lines)\n",
      "  Created: RummaGEO_GenePerturbations_2025_14of19.hif (38.42MB, 1445778 lines)\n",
      "  Created: RummaGEO_GenePerturbations_2025_15of19.hif (38.72MB, 1445778 lines)\n",
      "  Created: RummaGEO_GenePerturbations_2025_16of19.hif (39.42MB, 1445778 lines)\n",
      "  Created: RummaGEO_GenePerturbations_2025_17of19.hif (38.53MB, 1445778 lines)\n",
      "  Created: RummaGEO_GenePerturbations_2025_18of19.hif (38.54MB, 1445778 lines)\n"
     ]
    },
    {
     "name": "stderr",
     "output_type": "stream",
     "text": [
      "217it [54:04, 14.95s/it]"
     ]
    },
    {
     "name": "stdout",
     "output_type": "stream",
     "text": [
      "  Created: RummaGEO_GenePerturbations_2025_19of19.hif (39.30MB, 1445771 lines)\n",
      "  Removed original file: /nfs/turbo/umms-indikar/Joshua/HIF-datasets/datasets/RummaGEO_GenePerturbations_2025.hif\n",
      "  Split complete: 19 files created\n",
      "    Split to separate files...Complete ✓\n"
     ]
    },
    {
     "name": "stderr",
     "output_type": "stream",
     "text": [
      "\n"
     ]
    }
   ],
   "source": [
    "for network_name, url in tqdm(zip(library_names, urls)):\n",
    "    try:\n",
    "        # Download Data from Enrichr\n",
    "        r = requests.get(url)\n",
    "        r.raise_for_status()  # Raise an error for bad responses\n",
    "        network_text = r.text\n",
    "        print(f\"Downloaded: {network_name}\")\n",
    "\n",
    "        # Convert to HAT Hypergraph\n",
    "        hyperedge_texts = network_text.split(\"\\n\")\n",
    "        hyperedges = [] #{}\n",
    "        hyperedge_names = []\n",
    "        for hyperedge_text in hyperedge_texts:\n",
    "            if len(hyperedge_text) == 0:\n",
    "                continue\n",
    "            hyperedge_split = hyperedge_text.split(\"\\t\")\n",
    "            hyperedge_split = [f for f in hyperedge_split if f != '']\n",
    "            hyperedge_name  = hyperedge_split[0]\n",
    "            hyperedge_nodes = hyperedge_split[1:]\n",
    "            hyperedges.append(hyperedge_nodes)\n",
    "            hyperedge_names.append(hyperedge_name)\n",
    "        H = Hypergraph(edge_list=hyperedges, compress=False)\n",
    "        H.edges['Pathway'] = hyperedge_names\n",
    "        \n",
    "        # Convert to HIF, add metadata, make JSON writable\n",
    "        hif = H.to_hif()\n",
    "        hif['metadata']['name'] = network_name\n",
    "        hif['metadata']['source'] = \"Enrichr: \" + url\n",
    "        hif['metadata']['date'] = datetime.now().strftime(\"%Y-%m-%d\")\n",
    "        hif_clean = convert_numpy(hif)\n",
    "        \n",
    "        # Write to a file\n",
    "        hif_file_name = \"/nfs/turbo/umms-indikar/Joshua/HIF-datasets/datasets/\" + network_name + \".hif\"\n",
    "        with open(hif_file_name, \"w\") as f:\n",
    "            json.dump(hif_clean, f, indent=4)\n",
    "        print(\"    Written to File\")\n",
    "\n",
    "        # Convert to split files\n",
    "        split_file_by_lines(hif_file_name, max_size_mb=40)\n",
    "        print(\"    Split to separate files...Complete ✓\")\n",
    "\n",
    "    except requests.exceptions.RequestException as e:\n",
    "        print(f\"✗ Failed to download {name}: {e}\")\n"
   ]
  },
  {
   "cell_type": "code",
   "execution_count": null,
   "id": "1a8b44e8-5cf7-48ab-93b0-efcf6d6834dc",
   "metadata": {},
   "outputs": [],
   "source": []
  },
  {
   "cell_type": "code",
   "execution_count": null,
   "id": "2698785d-badc-477e-8a70-de6a2e17989c",
   "metadata": {},
   "outputs": [],
   "source": []
  },
  {
   "cell_type": "code",
   "execution_count": null,
   "id": "df0c3d3c-6972-4751-9584-0fb88c6977bd",
   "metadata": {},
   "outputs": [],
   "source": []
  },
  {
   "cell_type": "code",
   "execution_count": null,
   "id": "8d522e1e-993f-4619-96b6-c84e8bc495fe",
   "metadata": {},
   "outputs": [],
   "source": []
  },
  {
   "cell_type": "code",
   "execution_count": null,
   "id": "ca9702a1-1556-4b29-8298-2668d7048585",
   "metadata": {},
   "outputs": [],
   "source": []
  },
  {
   "cell_type": "code",
   "execution_count": null,
   "id": "66229ddd-c5d9-4128-a20f-99c187b3d91b",
   "metadata": {},
   "outputs": [],
   "source": []
  },
  {
   "cell_type": "code",
   "execution_count": null,
   "id": "f2f188e2-3003-4b50-b9f8-045238b8330e",
   "metadata": {},
   "outputs": [],
   "source": []
  }
 ],
 "metadata": {
  "kernelspec": {
   "display_name": "Python 3 (ipykernel)",
   "language": "python",
   "name": "python3"
  },
  "language_info": {
   "codemirror_mode": {
    "name": "ipython",
    "version": 3
   },
   "file_extension": ".py",
   "mimetype": "text/x-python",
   "name": "python",
   "nbconvert_exporter": "python",
   "pygments_lexer": "ipython3",
   "version": "3.11.7"
  }
 },
 "nbformat": 4,
 "nbformat_minor": 5
}
