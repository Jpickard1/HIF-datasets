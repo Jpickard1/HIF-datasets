{
 "cells": [
  {
   "cell_type": "markdown",
   "id": "f2a70f3b-719b-4d87-800d-1877948bac2f",
   "metadata": {},
   "source": [
    "# Enrichr Hypergraphs"
   ]
  },
  {
   "cell_type": "code",
   "execution_count": 1,
   "id": "5a20c0ee-c41b-4e02-be72-de7a34cfcc92",
   "metadata": {},
   "outputs": [],
   "source": [
    "import requests\n",
    "import time\n",
    "from tqdm import tqdm\n",
    "from HAT import Hypergraph\n",
    "from datetime import datetime\n",
    "import json\n",
    "import numpy as np\n",
    "import os\n",
    "import math\n",
    "from pathlib import Path"
   ]
  },
  {
   "cell_type": "code",
   "execution_count": 2,
   "id": "09b3e5e7-7d3f-40c9-80c0-b54946e50040",
   "metadata": {},
   "outputs": [],
   "source": [
    "def convert_numpy(obj):\n",
    "    if isinstance(obj, dict):\n",
    "        return {k: convert_numpy(v) for k, v in obj.items()}\n",
    "    elif isinstance(obj, list):\n",
    "        return [convert_numpy(i) for i in obj]\n",
    "    elif isinstance(obj, np.integer):\n",
    "        return int(obj)\n",
    "    elif isinstance(obj, np.floating):\n",
    "        return float(obj)\n",
    "    elif isinstance(obj, np.ndarray):\n",
    "        return obj.tolist()\n",
    "    else:\n",
    "        return obj\n",
    "\n",
    "def get_file_size_mb(filepath):\n",
    "    \"\"\"Get file size in MB\"\"\"\n",
    "    return os.path.getsize(filepath) / (1024 * 1024)\n",
    "\n",
    "def count_lines_in_file(filepath):\n",
    "    \"\"\"Count total lines in a file\"\"\"\n",
    "    with open(filepath, 'r', encoding='utf-8') as f:\n",
    "        return sum(1 for _ in f)\n",
    "\n",
    "def split_file_by_lines(filepath, max_size_mb=100):\n",
    "    \"\"\"Split a file into chunks based on line count\"\"\"\n",
    "    print(f\"Processing: {filepath}\")\n",
    "    \n",
    "    # Check if file needs splitting\n",
    "    file_size_mb = get_file_size_mb(filepath)\n",
    "    if file_size_mb <= max_size_mb:\n",
    "        print(f\"  File is already under {max_size_mb}MB ({file_size_mb:.2f}MB), skipping...\")\n",
    "        return\n",
    "    \n",
    "    # Calculate number of chunks needed\n",
    "    num_chunks = math.ceil(file_size_mb / max_size_mb)\n",
    "    print(f\"  File size: {file_size_mb:.2f}MB\")\n",
    "    print(f\"  Number of chunks needed: {num_chunks}\")\n",
    "    \n",
    "    # Count total lines\n",
    "    total_lines = count_lines_in_file(filepath)\n",
    "    print(f\"  Total lines: {total_lines}\")\n",
    "    \n",
    "    # Calculate lines per chunk\n",
    "    lines_per_chunk = math.ceil(total_lines / num_chunks)\n",
    "    print(f\"  Lines per chunk: {lines_per_chunk}\")\n",
    "    \n",
    "    # Get the base name without extension\n",
    "    base_name = Path(filepath).stem\n",
    "    \n",
    "    # Split the file\n",
    "    chunk_files = []\n",
    "    with open(filepath, 'r', encoding='utf-8') as input_file:\n",
    "        chunk_num = 1\n",
    "        lines_written = 0\n",
    "        \n",
    "        while True:\n",
    "            # Create chunk filename\n",
    "            chunk_filename = f\"{base_name}_{chunk_num}of{num_chunks}.hif\"\n",
    "            chunk_filepath = Path(filepath).parent / chunk_filename\n",
    "            \n",
    "            # Write lines to current chunk\n",
    "            with open(chunk_filepath, 'w', encoding='utf-8') as chunk_file:\n",
    "                for _ in range(lines_per_chunk):\n",
    "                    line = input_file.readline()\n",
    "                    if not line:  # End of file\n",
    "                        break\n",
    "                    chunk_file.write(line)\n",
    "                    lines_written += 1\n",
    "            \n",
    "            # Check if we wrote anything to this chunk\n",
    "            if lines_written == 0:\n",
    "                # Remove empty chunk file if created\n",
    "                if chunk_filepath.exists():\n",
    "                    os.remove(chunk_filepath)\n",
    "                break\n",
    "            \n",
    "            chunk_size = get_file_size_mb(chunk_filepath)\n",
    "            chunk_files.append(chunk_filename)\n",
    "            print(f\"  Created: {chunk_filename} ({chunk_size:.2f}MB, {min(lines_per_chunk, total_lines - (chunk_num-1)*lines_per_chunk)} lines)\")\n",
    "            \n",
    "            chunk_num += 1\n",
    "            \n",
    "            # Break if we've processed all lines\n",
    "            if lines_written >= total_lines:\n",
    "                break\n",
    "    \n",
    "    # Update the actual number of chunks created\n",
    "    actual_chunks = len(chunk_files)\n",
    "    if actual_chunks != num_chunks:\n",
    "        print(f\"  Note: Created {actual_chunks} chunks instead of estimated {num_chunks}\")\n",
    "        \n",
    "        # Rename files to reflect actual count\n",
    "        for i, old_filename in enumerate(chunk_files, 1):\n",
    "            old_filepath = Path(filepath).parent / old_filename\n",
    "            new_filename = f\"{base_name}_{i}of{actual_chunks}.hif\"\n",
    "            new_filepath = Path(filepath).parent / new_filename\n",
    "            \n",
    "            if old_filepath != new_filepath:\n",
    "                os.rename(old_filepath, new_filepath)\n",
    "                print(f\"  Renamed: {old_filename} -> {new_filename}\")\n",
    "    \n",
    "    # Remove original file after successful splitting\n",
    "    try:\n",
    "        os.remove(filepath)\n",
    "        print(f\"  Removed original file: {filepath}\")\n",
    "    except Exception as e:\n",
    "        print(f\"  Warning: Could not remove original file: {e}\")\n",
    "    \n",
    "    print(f\"  Split complete: {actual_chunks} files created\")\n",
    "\n",
    "def rejoin_files(base_name, directory=\".\"):\n",
    "    \"\"\"Rejoin split files back into original file\"\"\"\n",
    "    directory = Path(directory)\n",
    "    \n",
    "    # Find all chunks for this base name\n",
    "    pattern = f\"{base_name}_*of*.hif\"\n",
    "    chunk_files = list(directory.glob(pattern))\n",
    "    \n",
    "    if not chunk_files:\n",
    "        print(f\"No chunk files found for {base_name}\")\n",
    "        return\n",
    "    \n",
    "    # Sort chunks by number\n",
    "    def get_chunk_number(filename):\n",
    "        # Extract number from filename like \"name_1of3.hif\"\n",
    "        stem = filename.stem\n",
    "        if \"_\" in stem and \"of\" in stem:\n",
    "            try:\n",
    "                number_part = stem.split(\"_\")[-1]  # Get \"1of3\"\n",
    "                return int(number_part.split(\"of\")[0])  # Get \"1\"\n",
    "            except:\n",
    "                return 0\n",
    "        return 0\n",
    "    \n",
    "    chunk_files.sort(key=get_chunk_number)\n",
    "    \n",
    "    print(f\"Rejoining {len(chunk_files)} chunks for {base_name}\")\n",
    "    \n",
    "    # Rejoin files\n",
    "    output_file = directory / f\"{base_name}.hif\"\n",
    "    with open(output_file, 'w', encoding='utf-8') as outfile:\n",
    "        for chunk_file in chunk_files:\n",
    "            print(f\"  Adding: {chunk_file.name}\")\n",
    "            with open(chunk_file, 'r', encoding='utf-8') as infile:\n",
    "                outfile.write(infile.read())\n",
    "    \n",
    "    print(f\"  Rejoined file created: {output_file}\")\n",
    "    final_size = get_file_size_mb(output_file)\n",
    "    print(f\"  Final size: {final_size:.2f}MB\")\n"
   ]
  },
  {
   "cell_type": "code",
   "execution_count": 3,
   "id": "9dc22f17-d22a-4afa-88d8-d97680446c29",
   "metadata": {},
   "outputs": [
    {
     "name": "stdout",
     "output_type": "stream",
     "text": [
      "Steps 1-2 Complete\n"
     ]
    }
   ],
   "source": [
    "# Step 1: Get all valid gene set libraries\n",
    "stats_url = \"https://maayanlab.cloud/Enrichr/datasetStatistics\"\n",
    "response = requests.get(stats_url)\n",
    "libraries = response.json()\n",
    "\n",
    "# Step 2: Construct base URL and all full URLs\n",
    "base_url = \"https://maayanlab.cloud/Enrichr/geneSetLibrary?mode=text&libraryName=\"\n",
    "library_names = [entry['libraryName'] for entry in libraries['statistics']]\n",
    "urls = [f\"{base_url}{name}\" for name in library_names]\n",
    "print(\"Steps 1-2 Complete\")"
   ]
  },
  {
   "cell_type": "code",
   "execution_count": 5,
   "id": "d7587919-e33c-4b0f-a66b-bfcfe6820137",
   "metadata": {},
   "outputs": [
    {
     "name": "stderr",
     "output_type": "stream",
     "text": [
      "0it [00:00, ?it/s]"
     ]
    },
    {
     "name": "stdout",
     "output_type": "stream",
     "text": [
      "Downloaded: Genome_Browser_PWMs\n"
     ]
    },
    {
     "name": "stderr",
     "output_type": "stream",
     "text": [
      "1it [00:04,  4.84s/it]"
     ]
    },
    {
     "name": "stdout",
     "output_type": "stream",
     "text": [
      "    Written to File\n",
      "Processing: /nfs/turbo/umms-indikar/Joshua/HIF-datasets/datasets/Genome_Browser_PWMs.hif\n",
      "  File is already under 40MB (27.92MB), skipping...\n",
      "    Split to separate files...Complete ✓\n",
      "Downloaded: TRANSFAC_and_JASPAR_PWMs\n",
      "    Written to File\n",
      "Processing: /nfs/turbo/umms-indikar/Joshua/HIF-datasets/datasets/TRANSFAC_and_JASPAR_PWMs.hif\n",
      "  File size: 68.64MB\n",
      "  Number of chunks needed: 2\n",
      "  Total lines: 3504593\n",
      "  Lines per chunk: 1752297\n",
      "  Created: TRANSFAC_and_JASPAR_PWMs_1of2.hif (35.55MB, 1752297 lines)\n"
     ]
    },
    {
     "name": "stderr",
     "output_type": "stream",
     "text": [
      "2it [00:32, 18.21s/it]"
     ]
    },
    {
     "name": "stdout",
     "output_type": "stream",
     "text": [
      "  Created: TRANSFAC_and_JASPAR_PWMs_2of2.hif (33.09MB, 1752296 lines)\n",
      "  Removed original file: /nfs/turbo/umms-indikar/Joshua/HIF-datasets/datasets/TRANSFAC_and_JASPAR_PWMs.hif\n",
      "  Split complete: 2 files created\n",
      "    Split to separate files...Complete ✓\n",
      "Downloaded: Transcription_Factor_PPIs\n"
     ]
    },
    {
     "name": "stderr",
     "output_type": "stream",
     "text": [
      "3it [00:33, 10.55s/it]"
     ]
    },
    {
     "name": "stdout",
     "output_type": "stream",
     "text": [
      "    Written to File\n",
      "Processing: /nfs/turbo/umms-indikar/Joshua/HIF-datasets/datasets/Transcription_Factor_PPIs.hif\n",
      "  File is already under 40MB (4.17MB), skipping...\n",
      "    Split to separate files...Complete ✓\n",
      "Downloaded: ChEA_2013\n",
      "    Written to File\n",
      "Processing: /nfs/turbo/umms-indikar/Joshua/HIF-datasets/datasets/ChEA_2013.hif\n",
      "  File size: 80.96MB\n",
      "  Number of chunks needed: 3\n",
      "  Total lines: 4127065\n",
      "  Lines per chunk: 1375689\n",
      "  Created: ChEA_2013_1of3.hif (29.04MB, 1375689 lines)\n",
      "  Created: ChEA_2013_2of3.hif (25.92MB, 1375689 lines)\n"
     ]
    },
    {
     "name": "stderr",
     "output_type": "stream",
     "text": [
      "4it [01:09, 20.45s/it]"
     ]
    },
    {
     "name": "stdout",
     "output_type": "stream",
     "text": [
      "  Created: ChEA_2013_3of3.hif (26.01MB, 1375687 lines)\n",
      "  Removed original file: /nfs/turbo/umms-indikar/Joshua/HIF-datasets/datasets/ChEA_2013.hif\n",
      "  Split complete: 3 files created\n",
      "    Split to separate files...Complete ✓\n",
      "Downloaded: Drug_Perturbations_from_GEO_2014\n",
      "    Written to File\n",
      "Processing: /nfs/turbo/umms-indikar/Joshua/HIF-datasets/datasets/Drug_Perturbations_from_GEO_2014.hif\n",
      "  File size: 61.14MB\n",
      "  Number of chunks needed: 2\n",
      "  Total lines: 3114402\n",
      "  Lines per chunk: 1557201\n",
      "  Created: Drug_Perturbations_from_GEO_2014_1of2.hif (31.70MB, 1557201 lines)\n"
     ]
    },
    {
     "name": "stderr",
     "output_type": "stream",
     "text": [
      "5it [01:45, 26.23s/it]"
     ]
    },
    {
     "name": "stdout",
     "output_type": "stream",
     "text": [
      "  Created: Drug_Perturbations_from_GEO_2014_2of2.hif (29.44MB, 1557201 lines)\n",
      "  Removed original file: /nfs/turbo/umms-indikar/Joshua/HIF-datasets/datasets/Drug_Perturbations_from_GEO_2014.hif\n",
      "  Split complete: 2 files created\n",
      "    Split to separate files...Complete ✓\n",
      "Downloaded: ENCODE_TF_ChIP-seq_2014\n",
      "    Written to File\n",
      "Processing: /nfs/turbo/umms-indikar/Joshua/HIF-datasets/datasets/ENCODE_TF_ChIP-seq_2014.hif\n",
      "  File size: 522.97MB\n",
      "  Number of chunks needed: 14\n",
      "  Total lines: 25869663\n",
      "  Lines per chunk: 1847834\n",
      "  Created: ENCODE_TF_ChIP-seq_2014_1of14.hif (37.50MB, 1847834 lines)\n",
      "  Created: ENCODE_TF_ChIP-seq_2014_2of14.hif (37.60MB, 1847834 lines)\n",
      "  Created: ENCODE_TF_ChIP-seq_2014_3of14.hif (37.60MB, 1847834 lines)\n",
      "  Created: ENCODE_TF_ChIP-seq_2014_4of14.hif (37.82MB, 1847834 lines)\n",
      "  Created: ENCODE_TF_ChIP-seq_2014_5of14.hif (37.89MB, 1847834 lines)\n",
      "  Created: ENCODE_TF_ChIP-seq_2014_6of14.hif (37.98MB, 1847834 lines)\n",
      "  Created: ENCODE_TF_ChIP-seq_2014_7of14.hif (49.95MB, 1847834 lines)\n",
      "  Created: ENCODE_TF_ChIP-seq_2014_8of14.hif (34.76MB, 1847834 lines)\n",
      "  Created: ENCODE_TF_ChIP-seq_2014_9of14.hif (35.14MB, 1847834 lines)\n",
      "  Created: ENCODE_TF_ChIP-seq_2014_10of14.hif (35.35MB, 1847834 lines)\n",
      "  Created: ENCODE_TF_ChIP-seq_2014_11of14.hif (35.34MB, 1847834 lines)\n",
      "  Created: ENCODE_TF_ChIP-seq_2014_12of14.hif (35.35MB, 1847834 lines)\n",
      "  Created: ENCODE_TF_ChIP-seq_2014_13of14.hif (35.34MB, 1847834 lines)\n"
     ]
    },
    {
     "name": "stderr",
     "output_type": "stream",
     "text": [
      "6it [03:23, 50.51s/it]"
     ]
    },
    {
     "name": "stdout",
     "output_type": "stream",
     "text": [
      "  Created: ENCODE_TF_ChIP-seq_2014_14of14.hif (35.34MB, 1847821 lines)\n",
      "  Removed original file: /nfs/turbo/umms-indikar/Joshua/HIF-datasets/datasets/ENCODE_TF_ChIP-seq_2014.hif\n",
      "  Split complete: 14 files created\n",
      "    Split to separate files...Complete ✓\n",
      "Downloaded: BioCarta_2013\n"
     ]
    },
    {
     "name": "stderr",
     "output_type": "stream",
     "text": [
      "7it [03:27, 35.19s/it]"
     ]
    },
    {
     "name": "stdout",
     "output_type": "stream",
     "text": [
      "    Written to File\n",
      "Processing: /nfs/turbo/umms-indikar/Joshua/HIF-datasets/datasets/BioCarta_2013.hif\n",
      "  File is already under 40MB (0.85MB), skipping...\n",
      "    Split to separate files...Complete ✓\n"
     ]
    },
    {
     "name": "stderr",
     "output_type": "stream",
     "text": [
      "8it [03:28, 24.49s/it]"
     ]
    },
    {
     "name": "stdout",
     "output_type": "stream",
     "text": [
      "Downloaded: WikiPathways_2013\n",
      "    Written to File\n",
      "Processing: /nfs/turbo/umms-indikar/Joshua/HIF-datasets/datasets/WikiPathways_2013.hif\n",
      "  File is already under 40MB (1.20MB), skipping...\n",
      "    Split to separate files...Complete ✓\n",
      "Downloaded: Disease_Signatures_from_GEO_up_2014\n"
     ]
    },
    {
     "name": "stderr",
     "output_type": "stream",
     "text": [
      "9it [03:39, 20.07s/it]"
     ]
    },
    {
     "name": "stdout",
     "output_type": "stream",
     "text": [
      "    Written to File\n",
      "Processing: /nfs/turbo/umms-indikar/Joshua/HIF-datasets/datasets/Disease_Signatures_from_GEO_up_2014.hif\n",
      "  File is already under 40MB (11.83MB), skipping...\n",
      "    Split to separate files...Complete ✓\n",
      "Downloaded: KEGG_2013\n"
     ]
    },
    {
     "name": "stderr",
     "output_type": "stream",
     "text": [
      "10it [03:40, 14.16s/it]"
     ]
    },
    {
     "name": "stdout",
     "output_type": "stream",
     "text": [
      "    Written to File\n",
      "Processing: /nfs/turbo/umms-indikar/Joshua/HIF-datasets/datasets/KEGG_2013.hif\n",
      "  File is already under 40MB (1.99MB), skipping...\n",
      "    Split to separate files...Complete ✓\n",
      "Downloaded: TF-LOF_Expression_from_GEO\n",
      "    Written to File\n",
      "Processing: /nfs/turbo/umms-indikar/Joshua/HIF-datasets/datasets/TF-LOF_Expression_from_GEO.hif\n",
      "  File size: 47.73MB\n",
      "  Number of chunks needed: 2\n",
      "  Total lines: 2388451\n",
      "  Lines per chunk: 1194226\n",
      "  Created: TF-LOF_Expression_from_GEO_1of2.hif (25.20MB, 1194226 lines)\n"
     ]
    },
    {
     "name": "stderr",
     "output_type": "stream",
     "text": [
      "11it [04:06, 18.03s/it]"
     ]
    },
    {
     "name": "stdout",
     "output_type": "stream",
     "text": [
      "  Created: TF-LOF_Expression_from_GEO_2of2.hif (22.53MB, 1194225 lines)\n",
      "  Removed original file: /nfs/turbo/umms-indikar/Joshua/HIF-datasets/datasets/TF-LOF_Expression_from_GEO.hif\n",
      "  Split complete: 2 files created\n",
      "    Split to separate files...Complete ✓\n",
      "Downloaded: TargetScan_microRNA\n"
     ]
    },
    {
     "name": "stderr",
     "output_type": "stream",
     "text": [
      "12it [04:09, 13.39s/it]"
     ]
    },
    {
     "name": "stdout",
     "output_type": "stream",
     "text": [
      "    Written to File\n",
      "Processing: /nfs/turbo/umms-indikar/Joshua/HIF-datasets/datasets/TargetScan_microRNA.hif\n",
      "  File is already under 40MB (6.20MB), skipping...\n",
      "    Split to separate files...Complete ✓\n",
      "Downloaded: PPI_Hub_Proteins\n"
     ]
    },
    {
     "name": "stderr",
     "output_type": "stream",
     "text": [
      "13it [04:19, 12.38s/it]"
     ]
    },
    {
     "name": "stdout",
     "output_type": "stream",
     "text": [
      "    Written to File\n",
      "Processing: /nfs/turbo/umms-indikar/Joshua/HIF-datasets/datasets/PPI_Hub_Proteins.hif\n",
      "  File is already under 40MB (16.77MB), skipping...\n",
      "    Split to separate files...Complete ✓\n",
      "    Written to File\n",
      "Processing: /nfs/turbo/umms-indikar/Joshua/HIF-datasets/datasets/Epigenomics_Roadmap_HM_ChIP-seq.hif\n",
      "  File size: 473.35MB\n",
      "  Number of chunks needed: 12\n",
      "  Total lines: 23422911\n",
      "  Lines per chunk: 1951910\n",
      "  Created: Epigenomics_Roadmap_HM_ChIP-seq_1of12.hif (39.67MB, 1951910 lines)\n",
      "  Created: Epigenomics_Roadmap_HM_ChIP-seq_2of12.hif (39.77MB, 1951910 lines)\n",
      "  Created: Epigenomics_Roadmap_HM_ChIP-seq_3of12.hif (39.78MB, 1951910 lines)\n",
      "  Created: Epigenomics_Roadmap_HM_ChIP-seq_4of12.hif (40.06MB, 1951910 lines)\n",
      "  Created: Epigenomics_Roadmap_HM_ChIP-seq_5of12.hif (40.09MB, 1951910 lines)\n",
      "  Created: Epigenomics_Roadmap_HM_ChIP-seq_6of12.hif (50.93MB, 1951910 lines)\n",
      "  Created: Epigenomics_Roadmap_HM_ChIP-seq_7of12.hif (36.71MB, 1951910 lines)\n",
      "  Created: Epigenomics_Roadmap_HM_ChIP-seq_8of12.hif (37.07MB, 1951910 lines)\n",
      "  Created: Epigenomics_Roadmap_HM_ChIP-seq_9of12.hif (37.32MB, 1951910 lines)\n",
      "  Created: Epigenomics_Roadmap_HM_ChIP-seq_10of12.hif (37.32MB, 1951910 lines)\n",
      "  Created: Epigenomics_Roadmap_HM_ChIP-seq_11of12.hif (37.32MB, 1951910 lines)\n"
     ]
    },
    {
     "name": "stderr",
     "output_type": "stream",
     "text": [
      "19it [06:24, 31.01s/it]"
     ]
    },
    {
     "name": "stdout",
     "output_type": "stream",
     "text": [
      "  Created: Epigenomics_Roadmap_HM_ChIP-seq_12of12.hif (37.32MB, 1951901 lines)\n",
      "  Removed original file: /nfs/turbo/umms-indikar/Joshua/HIF-datasets/datasets/Epigenomics_Roadmap_HM_ChIP-seq.hif\n",
      "  Split complete: 12 files created\n",
      "    Split to separate files...Complete ✓\n",
      "Downloaded: KEA_2013\n"
     ]
    },
    {
     "name": "stderr",
     "output_type": "stream",
     "text": [
      "20it [06:29, 23.18s/it]"
     ]
    },
    {
     "name": "stdout",
     "output_type": "stream",
     "text": [
      "    Written to File\n",
      "Processing: /nfs/turbo/umms-indikar/Joshua/HIF-datasets/datasets/KEA_2013.hif\n",
      "  File is already under 40MB (3.28MB), skipping...\n",
      "    Split to separate files...Complete ✓\n",
      "Downloaded: NURSA_Human_Endogenous_Complexome\n",
      "    Written to File\n",
      "Processing: /nfs/turbo/umms-indikar/Joshua/HIF-datasets/datasets/NURSA_Human_Endogenous_Complexome.hif\n",
      "  File size: 46.04MB\n",
      "  Number of chunks needed: 2\n",
      "  Total lines: 2349907\n",
      "  Lines per chunk: 1174954\n",
      "  Created: NURSA_Human_Endogenous_Complexome_1of2.hif (23.72MB, 1174954 lines)\n"
     ]
    },
    {
     "name": "stderr",
     "output_type": "stream",
     "text": [
      "21it [06:43, 20.20s/it]"
     ]
    },
    {
     "name": "stdout",
     "output_type": "stream",
     "text": [
      "  Created: NURSA_Human_Endogenous_Complexome_2of2.hif (22.32MB, 1174953 lines)\n",
      "  Removed original file: /nfs/turbo/umms-indikar/Joshua/HIF-datasets/datasets/NURSA_Human_Endogenous_Complexome.hif\n",
      "  Split complete: 2 files created\n",
      "    Split to separate files...Complete ✓\n",
      "Downloaded: CORUM\n"
     ]
    },
    {
     "name": "stderr",
     "output_type": "stream",
     "text": [
      "22it [06:44, 14.50s/it]"
     ]
    },
    {
     "name": "stdout",
     "output_type": "stream",
     "text": [
      "    Written to File\n",
      "Processing: /nfs/turbo/umms-indikar/Joshua/HIF-datasets/datasets/CORUM.hif\n",
      "  File is already under 40MB (1.75MB), skipping...\n",
      "    Split to separate files...Complete ✓\n",
      "Downloaded: SILAC_Phosphoproteomics\n"
     ]
    },
    {
     "name": "stderr",
     "output_type": "stream",
     "text": [
      "23it [06:47, 10.95s/it]"
     ]
    },
    {
     "name": "stdout",
     "output_type": "stream",
     "text": [
      "    Written to File\n",
      "Processing: /nfs/turbo/umms-indikar/Joshua/HIF-datasets/datasets/SILAC_Phosphoproteomics.hif\n",
      "  File is already under 40MB (5.06MB), skipping...\n",
      "    Split to separate files...Complete ✓\n",
      "Downloaded: Old_CMAP_up\n",
      "    Written to File\n",
      "Processing: /nfs/turbo/umms-indikar/Joshua/HIF-datasets/datasets/Old_CMAP_up.hif\n",
      "  File size: 98.55MB\n",
      "  Number of chunks needed: 3\n",
      "  Total lines: 4996323\n",
      "  Lines per chunk: 1665441\n",
      "  Created: Old_CMAP_up_1of3.hif (35.02MB, 1665441 lines)\n",
      "  Created: Old_CMAP_up_2of3.hif (31.77MB, 1665441 lines)\n"
     ]
    },
    {
     "name": "stderr",
     "output_type": "stream",
     "text": [
      "24it [07:07, 13.86s/it]"
     ]
    },
    {
     "name": "stdout",
     "output_type": "stream",
     "text": [
      "  Created: Old_CMAP_up_3of3.hif (31.77MB, 1665441 lines)\n",
      "  Removed original file: /nfs/turbo/umms-indikar/Joshua/HIF-datasets/datasets/Old_CMAP_up.hif\n",
      "  Split complete: 3 files created\n",
      "    Split to separate files...Complete ✓\n",
      "Downloaded: Old_CMAP_down\n",
      "    Written to File\n",
      "Processing: /nfs/turbo/umms-indikar/Joshua/HIF-datasets/datasets/Old_CMAP_down.hif\n",
      "  File size: 98.09MB\n",
      "  Number of chunks needed: 3\n",
      "  Total lines: 4980987\n",
      "  Lines per chunk: 1660329\n",
      "  Created: Old_CMAP_down_1of3.hif (34.82MB, 1660329 lines)\n",
      "  Created: Old_CMAP_down_2of3.hif (31.64MB, 1660329 lines)\n"
     ]
    },
    {
     "name": "stderr",
     "output_type": "stream",
     "text": [
      "25it [07:25, 14.95s/it]"
     ]
    },
    {
     "name": "stdout",
     "output_type": "stream",
     "text": [
      "  Created: Old_CMAP_down_3of3.hif (31.64MB, 1660329 lines)\n",
      "  Removed original file: /nfs/turbo/umms-indikar/Joshua/HIF-datasets/datasets/Old_CMAP_down.hif\n",
      "  Split complete: 3 files created\n",
      "    Split to separate files...Complete ✓\n",
      "Downloaded: OMIM_Disease\n"
     ]
    },
    {
     "name": "stderr",
     "output_type": "stream",
     "text": [
      "26it [07:26, 10.78s/it]"
     ]
    },
    {
     "name": "stdout",
     "output_type": "stream",
     "text": [
      "    Written to File\n",
      "Processing: /nfs/turbo/umms-indikar/Joshua/HIF-datasets/datasets/OMIM_Disease.hif\n",
      "  File is already under 40MB (0.55MB), skipping...\n",
      "    Split to separate files...Complete ✓\n",
      "Downloaded: OMIM_Expanded\n"
     ]
    },
    {
     "name": "stderr",
     "output_type": "stream",
     "text": [
      "27it [07:26,  7.76s/it]"
     ]
    },
    {
     "name": "stdout",
     "output_type": "stream",
     "text": [
      "    Written to File\n",
      "Processing: /nfs/turbo/umms-indikar/Joshua/HIF-datasets/datasets/OMIM_Expanded.hif\n",
      "  File is already under 40MB (2.83MB), skipping...\n",
      "    Split to separate files...Complete ✓\n",
      "Downloaded: VirusMINT\n"
     ]
    },
    {
     "name": "stderr",
     "output_type": "stream",
     "text": [
      "28it [07:27,  5.50s/it]"
     ]
    },
    {
     "name": "stdout",
     "output_type": "stream",
     "text": [
      "    Written to File\n",
      "Processing: /nfs/turbo/umms-indikar/Joshua/HIF-datasets/datasets/VirusMINT.hif\n",
      "  File is already under 40MB (0.30MB), skipping...\n",
      "    Split to separate files...Complete ✓\n",
      "Downloaded: MSigDB_Computational\n"
     ]
    },
    {
     "name": "stderr",
     "output_type": "stream",
     "text": [
      "29it [07:29,  4.70s/it]"
     ]
    },
    {
     "name": "stdout",
     "output_type": "stream",
     "text": [
      "    Written to File\n",
      "Processing: /nfs/turbo/umms-indikar/Joshua/HIF-datasets/datasets/MSigDB_Computational.hif\n",
      "  File is already under 40MB (15.47MB), skipping...\n",
      "    Split to separate files...Complete ✓\n",
      "Downloaded: MSigDB_Oncogenic_Signatures\n"
     ]
    },
    {
     "name": "stderr",
     "output_type": "stream",
     "text": [
      "30it [07:31,  3.75s/it]"
     ]
    },
    {
     "name": "stdout",
     "output_type": "stream",
     "text": [
      "    Written to File\n",
      "Processing: /nfs/turbo/umms-indikar/Joshua/HIF-datasets/datasets/MSigDB_Oncogenic_Signatures.hif\n",
      "  File is already under 40MB (6.15MB), skipping...\n",
      "    Split to separate files...Complete ✓\n",
      "Downloaded: Disease_Signatures_from_GEO_down_2014\n"
     ]
    },
    {
     "name": "stderr",
     "output_type": "stream",
     "text": [
      "31it [07:35,  3.68s/it]"
     ]
    },
    {
     "name": "stdout",
     "output_type": "stream",
     "text": [
      "    Written to File\n",
      "Processing: /nfs/turbo/umms-indikar/Joshua/HIF-datasets/datasets/Disease_Signatures_from_GEO_down_2014.hif\n",
      "  File is already under 40MB (11.83MB), skipping...\n",
      "    Split to separate files...Complete ✓\n",
      "Downloaded: Virus_Perturbations_from_GEO_up\n"
     ]
    },
    {
     "name": "stderr",
     "output_type": "stream",
     "text": [
      "32it [07:40,  4.24s/it]"
     ]
    },
    {
     "name": "stdout",
     "output_type": "stream",
     "text": [
      "    Written to File\n",
      "Processing: /nfs/turbo/umms-indikar/Joshua/HIF-datasets/datasets/Virus_Perturbations_from_GEO_up.hif\n",
      "  File is already under 40MB (27.04MB), skipping...\n",
      "    Split to separate files...Complete ✓\n",
      "Downloaded: Virus_Perturbations_from_GEO_down\n"
     ]
    },
    {
     "name": "stderr",
     "output_type": "stream",
     "text": [
      "33it [07:46,  4.74s/it]"
     ]
    },
    {
     "name": "stdout",
     "output_type": "stream",
     "text": [
      "    Written to File\n",
      "Processing: /nfs/turbo/umms-indikar/Joshua/HIF-datasets/datasets/Virus_Perturbations_from_GEO_down.hif\n",
      "  File is already under 40MB (27.04MB), skipping...\n",
      "    Split to separate files...Complete ✓\n",
      "Downloaded: Cancer_Cell_Line_Encyclopedia\n"
     ]
    },
    {
     "name": "stderr",
     "output_type": "stream",
     "text": [
      "34it [07:52,  5.05s/it]"
     ]
    },
    {
     "name": "stdout",
     "output_type": "stream",
     "text": [
      "    Written to File\n",
      "Processing: /nfs/turbo/umms-indikar/Joshua/HIF-datasets/datasets/Cancer_Cell_Line_Encyclopedia.hif\n",
      "  File is already under 40MB (28.63MB), skipping...\n",
      "    Split to separate files...Complete ✓\n",
      "Downloaded: NCI-60_Cancer_Cell_Lines\n"
     ]
    },
    {
     "name": "stderr",
     "output_type": "stream",
     "text": [
      "35it [07:53,  3.98s/it]"
     ]
    },
    {
     "name": "stdout",
     "output_type": "stream",
     "text": [
      "    Written to File\n",
      "Processing: /nfs/turbo/umms-indikar/Joshua/HIF-datasets/datasets/NCI-60_Cancer_Cell_Lines.hif\n",
      "  File is already under 40MB (6.31MB), skipping...\n",
      "    Split to separate files...Complete ✓\n",
      "Downloaded: Tissue_Protein_Expression_from_ProteomicsDB\n"
     ]
    },
    {
     "name": "stderr",
     "output_type": "stream",
     "text": [
      "36it [07:56,  3.66s/it]"
     ]
    },
    {
     "name": "stdout",
     "output_type": "stream",
     "text": [
      "    Written to File\n",
      "Processing: /nfs/turbo/umms-indikar/Joshua/HIF-datasets/datasets/Tissue_Protein_Expression_from_ProteomicsDB.hif\n",
      "  File is already under 40MB (17.35MB), skipping...\n",
      "    Split to separate files...Complete ✓\n",
      "Downloaded: Tissue_Protein_Expression_from_Human_Proteome_Map\n"
     ]
    },
    {
     "name": "stderr",
     "output_type": "stream",
     "text": [
      "37it [07:57,  2.76s/it]"
     ]
    },
    {
     "name": "stdout",
     "output_type": "stream",
     "text": [
      "    Written to File\n",
      "Processing: /nfs/turbo/umms-indikar/Joshua/HIF-datasets/datasets/Tissue_Protein_Expression_from_Human_Proteome_Map.hif\n",
      "  File is already under 40MB (2.48MB), skipping...\n",
      "    Split to separate files...Complete ✓\n",
      "Downloaded: HMDB_Metabolites\n"
     ]
    },
    {
     "name": "stderr",
     "output_type": "stream",
     "text": [
      "38it [08:00,  2.76s/it]"
     ]
    },
    {
     "name": "stdout",
     "output_type": "stream",
     "text": [
      "    Written to File\n",
      "Processing: /nfs/turbo/umms-indikar/Joshua/HIF-datasets/datasets/HMDB_Metabolites.hif\n",
      "  File is already under 40MB (2.05MB), skipping...\n",
      "    Split to separate files...Complete ✓\n",
      "Downloaded: Pfam_InterPro_Domains\n"
     ]
    },
    {
     "name": "stderr",
     "output_type": "stream",
     "text": [
      "39it [08:01,  2.24s/it]"
     ]
    },
    {
     "name": "stdout",
     "output_type": "stream",
     "text": [
      "    Written to File\n",
      "Processing: /nfs/turbo/umms-indikar/Joshua/HIF-datasets/datasets/Pfam_InterPro_Domains.hif\n",
      "  File is already under 40MB (2.60MB), skipping...\n",
      "    Split to separate files...Complete ✓\n",
      "Downloaded: Allen_Brain_Atlas_up\n",
      "    Written to File\n",
      "Processing: /nfs/turbo/umms-indikar/Joshua/HIF-datasets/datasets/Allen_Brain_Atlas_up.hif\n",
      "  File size: 168.14MB\n",
      "  Number of chunks needed: 5\n",
      "  Total lines: 8380007\n",
      "  Lines per chunk: 1676002\n",
      "  Created: Allen_Brain_Atlas_up_1of5.hif (33.52MB, 1676002 lines)\n",
      "  Created: Allen_Brain_Atlas_up_2of5.hif (34.16MB, 1676002 lines)\n",
      "  Created: Allen_Brain_Atlas_up_3of5.hif (35.99MB, 1676002 lines)\n",
      "  Created: Allen_Brain_Atlas_up_4of5.hif (32.09MB, 1676002 lines)\n"
     ]
    },
    {
     "name": "stderr",
     "output_type": "stream",
     "text": [
      "40it [08:31, 10.78s/it]"
     ]
    },
    {
     "name": "stdout",
     "output_type": "stream",
     "text": [
      "  Created: Allen_Brain_Atlas_up_5of5.hif (32.38MB, 1675999 lines)\n",
      "  Removed original file: /nfs/turbo/umms-indikar/Joshua/HIF-datasets/datasets/Allen_Brain_Atlas_up.hif\n",
      "  Split complete: 5 files created\n",
      "    Split to separate files...Complete ✓\n",
      "Downloaded: ENCODE_TF_ChIP-seq_2015\n",
      "    Written to File\n",
      "Processing: /nfs/turbo/umms-indikar/Joshua/HIF-datasets/datasets/ENCODE_TF_ChIP-seq_2015.hif\n",
      "  File size: 235.44MB\n",
      "  Number of chunks needed: 6\n",
      "  Total lines: 11985693\n",
      "  Lines per chunk: 1997616\n",
      "  Created: ENCODE_TF_ChIP-seq_2015_1of6.hif (47.14MB, 1997616 lines)\n",
      "  Created: ENCODE_TF_ChIP-seq_2015_2of6.hif (37.44MB, 1997616 lines)\n",
      "  Created: ENCODE_TF_ChIP-seq_2015_3of6.hif (37.71MB, 1997616 lines)\n",
      "  Created: ENCODE_TF_ChIP-seq_2015_4of6.hif (37.71MB, 1997616 lines)\n",
      "  Created: ENCODE_TF_ChIP-seq_2015_5of6.hif (37.71MB, 1997616 lines)\n"
     ]
    },
    {
     "name": "stderr",
     "output_type": "stream",
     "text": [
      "41it [09:25, 23.71s/it]"
     ]
    },
    {
     "name": "stdout",
     "output_type": "stream",
     "text": [
      "  Created: ENCODE_TF_ChIP-seq_2015_6of6.hif (37.71MB, 1997613 lines)\n",
      "  Removed original file: /nfs/turbo/umms-indikar/Joshua/HIF-datasets/datasets/ENCODE_TF_ChIP-seq_2015.hif\n",
      "  Split complete: 6 files created\n",
      "    Split to separate files...Complete ✓\n",
      "Downloaded: ENCODE_Histone_Modifications_2015\n",
      "    Written to File\n",
      "Processing: /nfs/turbo/umms-indikar/Joshua/HIF-datasets/datasets/ENCODE_Histone_Modifications_2015.hif\n",
      "  File size: 140.73MB\n",
      "  Number of chunks needed: 4\n",
      "  Total lines: 7176431\n",
      "  Lines per chunk: 1794108\n",
      "  Created: ENCODE_Histone_Modifications_2015_1of4.hif (39.33MB, 1794108 lines)\n",
      "  Created: ENCODE_Histone_Modifications_2015_2of4.hif (33.64MB, 1794108 lines)\n",
      "  Created: ENCODE_Histone_Modifications_2015_3of4.hif (33.88MB, 1794108 lines)\n"
     ]
    },
    {
     "name": "stderr",
     "output_type": "stream",
     "text": [
      "42it [09:52, 24.65s/it]"
     ]
    },
    {
     "name": "stdout",
     "output_type": "stream",
     "text": [
      "  Created: ENCODE_Histone_Modifications_2015_4of4.hif (33.88MB, 1794107 lines)\n",
      "  Removed original file: /nfs/turbo/umms-indikar/Joshua/HIF-datasets/datasets/ENCODE_Histone_Modifications_2015.hif\n",
      "  Split complete: 4 files created\n",
      "    Split to separate files...Complete ✓\n",
      "Downloaded: Phosphatase_Substrates_from_DEPOD\n"
     ]
    },
    {
     "name": "stderr",
     "output_type": "stream",
     "text": [
      "43it [09:52, 17.39s/it]"
     ]
    },
    {
     "name": "stdout",
     "output_type": "stream",
     "text": [
      "    Written to File\n",
      "Processing: /nfs/turbo/umms-indikar/Joshua/HIF-datasets/datasets/Phosphatase_Substrates_from_DEPOD.hif\n",
      "  File is already under 40MB (0.12MB), skipping...\n",
      "    Split to separate files...Complete ✓\n",
      "Downloaded: Allen_Brain_Atlas_down\n",
      "    Written to File\n",
      "Processing: /nfs/turbo/umms-indikar/Joshua/HIF-datasets/datasets/Allen_Brain_Atlas_down.hif\n",
      "  File size: 172.64MB\n",
      "  Number of chunks needed: 5\n",
      "  Total lines: 8575909\n",
      "  Lines per chunk: 1715182\n",
      "  Created: Allen_Brain_Atlas_down_1of5.hif (34.59MB, 1715182 lines)\n",
      "  Created: Allen_Brain_Atlas_down_2of5.hif (35.75MB, 1715182 lines)\n",
      "  Created: Allen_Brain_Atlas_down_3of5.hif (36.29MB, 1715182 lines)\n",
      "  Created: Allen_Brain_Atlas_down_4of5.hif (32.88MB, 1715182 lines)\n"
     ]
    },
    {
     "name": "stderr",
     "output_type": "stream",
     "text": [
      "44it [10:24, 21.60s/it]"
     ]
    },
    {
     "name": "stdout",
     "output_type": "stream",
     "text": [
      "  Created: Allen_Brain_Atlas_down_5of5.hif (33.13MB, 1715181 lines)\n",
      "  Removed original file: /nfs/turbo/umms-indikar/Joshua/HIF-datasets/datasets/Allen_Brain_Atlas_down.hif\n",
      "  Split complete: 5 files created\n",
      "    Split to separate files...Complete ✓\n",
      "Downloaded: ENCODE_Histone_Modifications_2013\n"
     ]
    },
    {
     "name": "stderr",
     "output_type": "stream",
     "text": [
      "45it [10:29, 16.68s/it]"
     ]
    },
    {
     "name": "stdout",
     "output_type": "stream",
     "text": [
      "    Written to File\n",
      "Processing: /nfs/turbo/umms-indikar/Joshua/HIF-datasets/datasets/ENCODE_Histone_Modifications_2013.hif\n",
      "  File is already under 40MB (16.89MB), skipping...\n",
      "    Split to separate files...Complete ✓\n",
      "Downloaded: Achilles_fitness_increase\n"
     ]
    },
    {
     "name": "stderr",
     "output_type": "stream",
     "text": [
      "46it [10:30, 11.98s/it]"
     ]
    },
    {
     "name": "stdout",
     "output_type": "stream",
     "text": [
      "    Written to File\n",
      "Processing: /nfs/turbo/umms-indikar/Joshua/HIF-datasets/datasets/Achilles_fitness_increase.hif\n",
      "  File is already under 40MB (4.83MB), skipping...\n",
      "    Split to separate files...Complete ✓\n",
      "Downloaded: Achilles_fitness_decrease\n"
     ]
    },
    {
     "name": "stderr",
     "output_type": "stream",
     "text": [
      "47it [10:31,  8.62s/it]"
     ]
    },
    {
     "name": "stdout",
     "output_type": "stream",
     "text": [
      "    Written to File\n",
      "Processing: /nfs/turbo/umms-indikar/Joshua/HIF-datasets/datasets/Achilles_fitness_decrease.hif\n",
      "  File is already under 40MB (4.80MB), skipping...\n",
      "    Split to separate files...Complete ✓\n"
     ]
    },
    {
     "name": "stderr",
     "output_type": "stream",
     "text": [
      "48it [10:31,  6.14s/it]"
     ]
    },
    {
     "name": "stdout",
     "output_type": "stream",
     "text": [
      "Downloaded: BioCarta_2015\n",
      "    Written to File\n",
      "Processing: /nfs/turbo/umms-indikar/Joshua/HIF-datasets/datasets/BioCarta_2015.hif\n",
      "  File is already under 40MB (1.00MB), skipping...\n",
      "    Split to separate files...Complete ✓\n"
     ]
    },
    {
     "name": "stderr",
     "output_type": "stream",
     "text": [
      "49it [10:31,  4.36s/it]"
     ]
    },
    {
     "name": "stdout",
     "output_type": "stream",
     "text": [
      "Downloaded: HumanCyc_2015\n",
      "    Written to File\n",
      "Processing: /nfs/turbo/umms-indikar/Joshua/HIF-datasets/datasets/HumanCyc_2015.hif\n",
      "  File is already under 40MB (0.32MB), skipping...\n",
      "    Split to separate files...Complete ✓\n"
     ]
    },
    {
     "name": "stderr",
     "output_type": "stream",
     "text": [
      "50it [10:32,  3.20s/it]"
     ]
    },
    {
     "name": "stdout",
     "output_type": "stream",
     "text": [
      "Downloaded: KEGG_2015\n",
      "    Written to File\n",
      "Processing: /nfs/turbo/umms-indikar/Joshua/HIF-datasets/datasets/KEGG_2015.hif\n",
      "  File is already under 40MB (1.78MB), skipping...\n",
      "    Split to separate files...Complete ✓\n"
     ]
    },
    {
     "name": "stderr",
     "output_type": "stream",
     "text": [
      "51it [10:32,  2.34s/it]"
     ]
    },
    {
     "name": "stdout",
     "output_type": "stream",
     "text": [
      "Downloaded: Panther_2015\n",
      "    Written to File\n",
      "Processing: /nfs/turbo/umms-indikar/Joshua/HIF-datasets/datasets/Panther_2015.hif\n",
      "  File is already under 40MB (0.86MB), skipping...\n",
      "    Split to separate files...Complete ✓\n",
      "Downloaded: WikiPathways_2015\n"
     ]
    },
    {
     "name": "stderr",
     "output_type": "stream",
     "text": [
      "52it [10:33,  1.98s/it]"
     ]
    },
    {
     "name": "stdout",
     "output_type": "stream",
     "text": [
      "    Written to File\n",
      "Processing: /nfs/turbo/umms-indikar/Joshua/HIF-datasets/datasets/WikiPathways_2015.hif\n",
      "  File is already under 40MB (3.87MB), skipping...\n",
      "    Split to separate files...Complete ✓\n",
      "Downloaded: ESCAPE\n",
      "    Written to File\n",
      "Processing: /nfs/turbo/umms-indikar/Joshua/HIF-datasets/datasets/ESCAPE.hif\n",
      "  File size: 42.81MB\n",
      "  Number of chunks needed: 2\n",
      "  Total lines: 2187835\n",
      "  Lines per chunk: 1093918\n",
      "  Created: ESCAPE_1of2.hif (22.16MB, 1093918 lines)\n"
     ]
    },
    {
     "name": "stderr",
     "output_type": "stream",
     "text": [
      "53it [10:53,  7.22s/it]"
     ]
    },
    {
     "name": "stdout",
     "output_type": "stream",
     "text": [
      "  Created: ESCAPE_2of2.hif (20.65MB, 1093917 lines)\n",
      "  Removed original file: /nfs/turbo/umms-indikar/Joshua/HIF-datasets/datasets/ESCAPE.hif\n",
      "  Split complete: 2 files created\n",
      "    Split to separate files...Complete ✓\n",
      "Downloaded: HomoloGene\n"
     ]
    },
    {
     "name": "stderr",
     "output_type": "stream",
     "text": [
      "54it [10:59,  6.92s/it]"
     ]
    },
    {
     "name": "stdout",
     "output_type": "stream",
     "text": [
      "    Written to File\n",
      "Processing: /nfs/turbo/umms-indikar/Joshua/HIF-datasets/datasets/HomoloGene.hif\n",
      "  File is already under 40MB (5.09MB), skipping...\n",
      "    Split to separate files...Complete ✓\n",
      "Downloaded: Disease_Perturbations_from_GEO_down\n",
      "    Written to File\n",
      "Processing: /nfs/turbo/umms-indikar/Joshua/HIF-datasets/datasets/Disease_Perturbations_from_GEO_down.hif\n",
      "  File size: 41.43MB\n",
      "  Number of chunks needed: 2\n",
      "  Total lines: 2114275\n",
      "  Lines per chunk: 1057138\n",
      "  Created: Disease_Perturbations_from_GEO_down_1of2.hif (21.47MB, 1057138 lines)\n"
     ]
    },
    {
     "name": "stderr",
     "output_type": "stream",
     "text": [
      "55it [11:11,  8.36s/it]"
     ]
    },
    {
     "name": "stdout",
     "output_type": "stream",
     "text": [
      "  Created: Disease_Perturbations_from_GEO_down_2of2.hif (19.95MB, 1057137 lines)\n",
      "  Removed original file: /nfs/turbo/umms-indikar/Joshua/HIF-datasets/datasets/Disease_Perturbations_from_GEO_down.hif\n",
      "  Split complete: 2 files created\n",
      "    Split to separate files...Complete ✓\n",
      "Downloaded: Disease_Perturbations_from_GEO_up\n",
      "    Written to File\n",
      "Processing: /nfs/turbo/umms-indikar/Joshua/HIF-datasets/datasets/Disease_Perturbations_from_GEO_up.hif\n",
      "  File size: 43.33MB\n",
      "  Number of chunks needed: 2\n",
      "  Total lines: 2211375\n",
      "  Lines per chunk: 1105688\n",
      "  Created: Disease_Perturbations_from_GEO_up_1of2.hif (22.46MB, 1105688 lines)\n"
     ]
    },
    {
     "name": "stderr",
     "output_type": "stream",
     "text": [
      "56it [11:23,  9.46s/it]"
     ]
    },
    {
     "name": "stdout",
     "output_type": "stream",
     "text": [
      "  Created: Disease_Perturbations_from_GEO_up_2of2.hif (20.87MB, 1105687 lines)\n",
      "  Removed original file: /nfs/turbo/umms-indikar/Joshua/HIF-datasets/datasets/Disease_Perturbations_from_GEO_up.hif\n",
      "  Split complete: 2 files created\n",
      "    Split to separate files...Complete ✓\n",
      "Downloaded: Drug_Perturbations_from_GEO_down\n",
      "    Written to File\n",
      "Processing: /nfs/turbo/umms-indikar/Joshua/HIF-datasets/datasets/Drug_Perturbations_from_GEO_down.hif\n",
      "  File size: 45.72MB\n",
      "  Number of chunks needed: 2\n",
      "  Total lines: 2332670\n",
      "  Lines per chunk: 1166335\n",
      "  Created: Drug_Perturbations_from_GEO_down_1of2.hif (23.71MB, 1166335 lines)\n"
     ]
    },
    {
     "name": "stderr",
     "output_type": "stream",
     "text": [
      "57it [11:35, 10.15s/it]"
     ]
    },
    {
     "name": "stdout",
     "output_type": "stream",
     "text": [
      "  Created: Drug_Perturbations_from_GEO_down_2of2.hif (22.01MB, 1166335 lines)\n",
      "  Removed original file: /nfs/turbo/umms-indikar/Joshua/HIF-datasets/datasets/Drug_Perturbations_from_GEO_down.hif\n",
      "  Split complete: 2 files created\n",
      "    Split to separate files...Complete ✓\n",
      "Downloaded: Genes_Associated_with_NIH_Grants\n",
      "    Written to File\n",
      "Processing: /nfs/turbo/umms-indikar/Joshua/HIF-datasets/datasets/Genes_Associated_with_NIH_Grants.hif\n",
      "  File size: 50.87MB\n",
      "  Number of chunks needed: 2\n",
      "  Total lines: 2558893\n",
      "  Lines per chunk: 1279447\n",
      "  Created: Genes_Associated_with_NIH_Grants_1of2.hif (26.06MB, 1279447 lines)\n"
     ]
    },
    {
     "name": "stderr",
     "output_type": "stream",
     "text": [
      "58it [11:51, 12.16s/it]"
     ]
    },
    {
     "name": "stdout",
     "output_type": "stream",
     "text": [
      "  Created: Genes_Associated_with_NIH_Grants_2of2.hif (24.81MB, 1279446 lines)\n",
      "  Removed original file: /nfs/turbo/umms-indikar/Joshua/HIF-datasets/datasets/Genes_Associated_with_NIH_Grants.hif\n",
      "  Split complete: 2 files created\n",
      "    Split to separate files...Complete ✓\n",
      "Downloaded: Drug_Perturbations_from_GEO_up\n",
      "    Written to File\n",
      "Processing: /nfs/turbo/umms-indikar/Joshua/HIF-datasets/datasets/Drug_Perturbations_from_GEO_up.hif\n",
      "  File size: 45.48MB\n",
      "  Number of chunks needed: 2\n",
      "  Total lines: 2320005\n",
      "  Lines per chunk: 1160003\n",
      "  Created: Drug_Perturbations_from_GEO_up_1of2.hif (23.58MB, 1160003 lines)\n"
     ]
    },
    {
     "name": "stderr",
     "output_type": "stream",
     "text": [
      "59it [12:02, 11.77s/it]"
     ]
    },
    {
     "name": "stdout",
     "output_type": "stream",
     "text": [
      "  Created: Drug_Perturbations_from_GEO_up_2of2.hif (21.90MB, 1160002 lines)\n",
      "  Removed original file: /nfs/turbo/umms-indikar/Joshua/HIF-datasets/datasets/Drug_Perturbations_from_GEO_up.hif\n",
      "  Split complete: 2 files created\n",
      "    Split to separate files...Complete ✓\n",
      "Downloaded: KEA_2015\n"
     ]
    },
    {
     "name": "stderr",
     "output_type": "stream",
     "text": [
      "60it [12:03,  8.48s/it]"
     ]
    },
    {
     "name": "stdout",
     "output_type": "stream",
     "text": [
      "    Written to File\n",
      "Processing: /nfs/turbo/umms-indikar/Joshua/HIF-datasets/datasets/KEA_2015.hif\n",
      "  File is already under 40MB (2.07MB), skipping...\n",
      "    Split to separate files...Complete ✓\n",
      "Downloaded: Gene_Perturbations_from_GEO_up\n",
      "    Written to File\n",
      "Processing: /nfs/turbo/umms-indikar/Joshua/HIF-datasets/datasets/Gene_Perturbations_from_GEO_up.hif\n",
      "  File size: 121.83MB\n",
      "  Number of chunks needed: 4\n",
      "  Total lines: 6151153\n",
      "  Lines per chunk: 1537789\n",
      "  Created: Gene_Perturbations_from_GEO_up_1of4.hif (33.85MB, 1537789 lines)\n",
      "  Created: Gene_Perturbations_from_GEO_up_2of4.hif (29.05MB, 1537789 lines)\n",
      "  Created: Gene_Perturbations_from_GEO_up_3of4.hif (29.47MB, 1537789 lines)\n"
     ]
    },
    {
     "name": "stderr",
     "output_type": "stream",
     "text": [
      "61it [12:28, 13.50s/it]"
     ]
    },
    {
     "name": "stdout",
     "output_type": "stream",
     "text": [
      "  Created: Gene_Perturbations_from_GEO_up_4of4.hif (29.47MB, 1537786 lines)\n",
      "  Removed original file: /nfs/turbo/umms-indikar/Joshua/HIF-datasets/datasets/Gene_Perturbations_from_GEO_up.hif\n",
      "  Split complete: 4 files created\n",
      "    Split to separate files...Complete ✓\n",
      "Downloaded: Gene_Perturbations_from_GEO_down\n",
      "    Written to File\n",
      "Processing: /nfs/turbo/umms-indikar/Joshua/HIF-datasets/datasets/Gene_Perturbations_from_GEO_down.hif\n",
      "  File size: 120.09MB\n",
      "  Number of chunks needed: 4\n",
      "  Total lines: 6063209\n",
      "  Lines per chunk: 1515803\n",
      "  Created: Gene_Perturbations_from_GEO_down_1of4.hif (33.37MB, 1515803 lines)\n",
      "  Created: Gene_Perturbations_from_GEO_down_2of4.hif (28.64MB, 1515803 lines)\n",
      "  Created: Gene_Perturbations_from_GEO_down_3of4.hif (29.05MB, 1515803 lines)\n"
     ]
    },
    {
     "name": "stderr",
     "output_type": "stream",
     "text": [
      "62it [12:52, 16.43s/it]"
     ]
    },
    {
     "name": "stdout",
     "output_type": "stream",
     "text": [
      "  Created: Gene_Perturbations_from_GEO_down_4of4.hif (29.05MB, 1515800 lines)\n",
      "  Removed original file: /nfs/turbo/umms-indikar/Joshua/HIF-datasets/datasets/Gene_Perturbations_from_GEO_down.hif\n",
      "  Split complete: 4 files created\n",
      "    Split to separate files...Complete ✓\n",
      "Downloaded: ChEA_2015\n",
      "    Written to File\n",
      "Processing: /nfs/turbo/umms-indikar/Joshua/HIF-datasets/datasets/ChEA_2015.hif\n",
      "  File size: 93.88MB\n",
      "  Number of chunks needed: 3\n",
      "  Total lines: 4782325\n",
      "  Lines per chunk: 1594109\n",
      "  Created: ChEA_2015_1of3.hif (33.67MB, 1594109 lines)\n",
      "  Created: ChEA_2015_2of3.hif (30.08MB, 1594109 lines)\n"
     ]
    },
    {
     "name": "stderr",
     "output_type": "stream",
     "text": [
      "63it [13:42, 26.67s/it]"
     ]
    },
    {
     "name": "stdout",
     "output_type": "stream",
     "text": [
      "  Created: ChEA_2015_3of3.hif (30.14MB, 1594107 lines)\n",
      "  Removed original file: /nfs/turbo/umms-indikar/Joshua/HIF-datasets/datasets/ChEA_2015.hif\n",
      "  Split complete: 3 files created\n",
      "    Split to separate files...Complete ✓\n",
      "Downloaded: dbGaP\n"
     ]
    },
    {
     "name": "stderr",
     "output_type": "stream",
     "text": [
      "64it [13:44, 19.36s/it]"
     ]
    },
    {
     "name": "stdout",
     "output_type": "stream",
     "text": [
      "    Written to File\n",
      "Processing: /nfs/turbo/umms-indikar/Joshua/HIF-datasets/datasets/dbGaP.hif\n",
      "  File is already under 40MB (2.62MB), skipping...\n",
      "    Split to separate files...Complete ✓\n",
      "Downloaded: LINCS_L1000_Chem_Pert_up\n",
      "    Written to File\n",
      "Processing: /nfs/turbo/umms-indikar/Joshua/HIF-datasets/datasets/LINCS_L1000_Chem_Pert_up.hif\n",
      "  File size: 392.08MB\n",
      "  Number of chunks needed: 10\n",
      "  Total lines: 19705514\n",
      "  Lines per chunk: 1970552\n",
      "  Created: LINCS_L1000_Chem_Pert_up_1of10.hif (47.24MB, 1970552 lines)\n",
      "  Created: LINCS_L1000_Chem_Pert_up_2of10.hif (41.34MB, 1970552 lines)\n",
      "  Created: LINCS_L1000_Chem_Pert_up_3of10.hif (37.55MB, 1970552 lines)\n",
      "  Created: LINCS_L1000_Chem_Pert_up_4of10.hif (37.55MB, 1970552 lines)\n",
      "  Created: LINCS_L1000_Chem_Pert_up_5of10.hif (37.95MB, 1970552 lines)\n",
      "  Created: LINCS_L1000_Chem_Pert_up_6of10.hif (38.09MB, 1970552 lines)\n",
      "  Created: LINCS_L1000_Chem_Pert_up_7of10.hif (38.09MB, 1970552 lines)\n",
      "  Created: LINCS_L1000_Chem_Pert_up_8of10.hif (38.09MB, 1970552 lines)\n",
      "  Created: LINCS_L1000_Chem_Pert_up_9of10.hif (38.09MB, 1970552 lines)\n"
     ]
    },
    {
     "name": "stderr",
     "output_type": "stream",
     "text": [
      "65it [14:53, 34.24s/it]"
     ]
    },
    {
     "name": "stdout",
     "output_type": "stream",
     "text": [
      "  Created: LINCS_L1000_Chem_Pert_up_10of10.hif (38.09MB, 1970546 lines)\n",
      "  Removed original file: /nfs/turbo/umms-indikar/Joshua/HIF-datasets/datasets/LINCS_L1000_Chem_Pert_up.hif\n",
      "  Split complete: 10 files created\n",
      "    Split to separate files...Complete ✓\n",
      "Downloaded: LINCS_L1000_Chem_Pert_down\n",
      "    Written to File\n",
      "Processing: /nfs/turbo/umms-indikar/Joshua/HIF-datasets/datasets/LINCS_L1000_Chem_Pert_down.hif\n",
      "  File size: 338.92MB\n",
      "  Number of chunks needed: 9\n",
      "  Total lines: 17031040\n",
      "  Lines per chunk: 1892338\n",
      "  Created: LINCS_L1000_Chem_Pert_down_1of9.hif (45.18MB, 1892338 lines)\n",
      "  Created: LINCS_L1000_Chem_Pert_down_2of9.hif (38.56MB, 1892338 lines)\n",
      "  Created: LINCS_L1000_Chem_Pert_down_3of9.hif (36.06MB, 1892338 lines)\n",
      "  Created: LINCS_L1000_Chem_Pert_down_4of9.hif (36.21MB, 1892338 lines)\n",
      "  Created: LINCS_L1000_Chem_Pert_down_5of9.hif (36.58MB, 1892338 lines)\n",
      "  Created: LINCS_L1000_Chem_Pert_down_6of9.hif (36.58MB, 1892338 lines)\n",
      "  Created: LINCS_L1000_Chem_Pert_down_7of9.hif (36.58MB, 1892338 lines)\n",
      "  Created: LINCS_L1000_Chem_Pert_down_8of9.hif (36.58MB, 1892338 lines)\n"
     ]
    },
    {
     "name": "stderr",
     "output_type": "stream",
     "text": [
      "66it [15:58, 43.36s/it]"
     ]
    },
    {
     "name": "stdout",
     "output_type": "stream",
     "text": [
      "  Created: LINCS_L1000_Chem_Pert_down_9of9.hif (36.58MB, 1892336 lines)\n",
      "  Removed original file: /nfs/turbo/umms-indikar/Joshua/HIF-datasets/datasets/LINCS_L1000_Chem_Pert_down.hif\n",
      "  Split complete: 9 files created\n",
      "    Split to separate files...Complete ✓\n",
      "Downloaded: GTEx_Tissue_Expression_Down\n",
      "    Written to File\n",
      "Processing: /nfs/turbo/umms-indikar/Joshua/HIF-datasets/datasets/GTEx_Tissue_Expression_Down.hif\n",
      "  File size: 664.81MB\n",
      "  Number of chunks needed: 17\n",
      "  Total lines: 33811743\n",
      "  Lines per chunk: 1988927\n",
      "  Created: GTEx_Tissue_Expression_Down_1of17.hif (49.30MB, 1988927 lines)\n",
      "  Created: GTEx_Tissue_Expression_Down_2of17.hif (49.84MB, 1988927 lines)\n",
      "  Created: GTEx_Tissue_Expression_Down_3of17.hif (39.07MB, 1988927 lines)\n",
      "  Created: GTEx_Tissue_Expression_Down_4of17.hif (36.94MB, 1988927 lines)\n",
      "  Created: GTEx_Tissue_Expression_Down_5of17.hif (36.94MB, 1988927 lines)\n",
      "  Created: GTEx_Tissue_Expression_Down_6of17.hif (37.47MB, 1988927 lines)\n",
      "  Created: GTEx_Tissue_Expression_Down_7of17.hif (37.48MB, 1988927 lines)\n",
      "  Created: GTEx_Tissue_Expression_Down_8of17.hif (37.48MB, 1988927 lines)\n",
      "  Created: GTEx_Tissue_Expression_Down_9of17.hif (37.49MB, 1988927 lines)\n",
      "  Created: GTEx_Tissue_Expression_Down_10of17.hif (37.49MB, 1988927 lines)\n",
      "  Created: GTEx_Tissue_Expression_Down_11of17.hif (37.49MB, 1988927 lines)\n",
      "  Created: GTEx_Tissue_Expression_Down_12of17.hif (37.69MB, 1988927 lines)\n",
      "  Created: GTEx_Tissue_Expression_Down_13of17.hif (38.02MB, 1988927 lines)\n",
      "  Created: GTEx_Tissue_Expression_Down_14of17.hif (38.03MB, 1988927 lines)\n",
      "  Created: GTEx_Tissue_Expression_Down_15of17.hif (38.03MB, 1988927 lines)\n",
      "  Created: GTEx_Tissue_Expression_Down_16of17.hif (38.03MB, 1988927 lines)\n"
     ]
    },
    {
     "name": "stderr",
     "output_type": "stream",
     "text": [
      "67it [17:50, 63.85s/it]"
     ]
    },
    {
     "name": "stdout",
     "output_type": "stream",
     "text": [
      "  Created: GTEx_Tissue_Expression_Down_17of17.hif (38.02MB, 1988911 lines)\n",
      "  Removed original file: /nfs/turbo/umms-indikar/Joshua/HIF-datasets/datasets/GTEx_Tissue_Expression_Down.hif\n",
      "  Split complete: 17 files created\n",
      "    Split to separate files...Complete ✓\n",
      "Downloaded: GTEx_Tissue_Expression_Up\n",
      "    Written to File\n",
      "Processing: /nfs/turbo/umms-indikar/Joshua/HIF-datasets/datasets/GTEx_Tissue_Expression_Up.hif\n",
      "  File size: 669.30MB\n",
      "  Number of chunks needed: 17\n",
      "  Total lines: 33822311\n",
      "  Lines per chunk: 1989548\n",
      "  Created: GTEx_Tissue_Expression_Up_1of17.hif (49.33MB, 1989548 lines)\n",
      "  Created: GTEx_Tissue_Expression_Up_2of17.hif (50.06MB, 1989548 lines)\n",
      "  Created: GTEx_Tissue_Expression_Up_3of17.hif (39.58MB, 1989548 lines)\n",
      "  Created: GTEx_Tissue_Expression_Up_4of17.hif (37.52MB, 1989548 lines)\n",
      "  Created: GTEx_Tissue_Expression_Up_5of17.hif (37.52MB, 1989548 lines)\n",
      "  Created: GTEx_Tissue_Expression_Up_6of17.hif (37.52MB, 1989548 lines)\n",
      "  Created: GTEx_Tissue_Expression_Up_7of17.hif (37.52MB, 1989548 lines)\n",
      "  Created: GTEx_Tissue_Expression_Up_8of17.hif (37.70MB, 1989548 lines)\n",
      "  Created: GTEx_Tissue_Expression_Up_9of17.hif (38.06MB, 1989548 lines)\n",
      "  Created: GTEx_Tissue_Expression_Up_10of17.hif (38.06MB, 1989548 lines)\n",
      "  Created: GTEx_Tissue_Expression_Up_11of17.hif (38.06MB, 1989548 lines)\n",
      "  Created: GTEx_Tissue_Expression_Up_12of17.hif (38.07MB, 1989548 lines)\n",
      "  Created: GTEx_Tissue_Expression_Up_13of17.hif (38.06MB, 1989548 lines)\n",
      "  Created: GTEx_Tissue_Expression_Up_14of17.hif (38.06MB, 1989548 lines)\n",
      "  Created: GTEx_Tissue_Expression_Up_15of17.hif (38.06MB, 1989548 lines)\n",
      "  Created: GTEx_Tissue_Expression_Up_16of17.hif (38.06MB, 1989548 lines)\n"
     ]
    },
    {
     "name": "stderr",
     "output_type": "stream",
     "text": [
      "68it [19:57, 82.82s/it]"
     ]
    },
    {
     "name": "stdout",
     "output_type": "stream",
     "text": [
      "  Created: GTEx_Tissue_Expression_Up_17of17.hif (38.06MB, 1989543 lines)\n",
      "  Removed original file: /nfs/turbo/umms-indikar/Joshua/HIF-datasets/datasets/GTEx_Tissue_Expression_Up.hif\n",
      "  Split complete: 17 files created\n",
      "    Split to separate files...Complete ✓\n",
      "Downloaded: Ligand_Perturbations_from_GEO_down\n"
     ]
    },
    {
     "name": "stderr",
     "output_type": "stream",
     "text": [
      "69it [20:05, 60.47s/it]"
     ]
    },
    {
     "name": "stdout",
     "output_type": "stream",
     "text": [
      "    Written to File\n",
      "Processing: /nfs/turbo/umms-indikar/Joshua/HIF-datasets/datasets/Ligand_Perturbations_from_GEO_down.hif\n",
      "  File is already under 40MB (13.20MB), skipping...\n",
      "    Split to separate files...Complete ✓\n",
      "Downloaded: Aging_Perturbations_from_GEO_down\n"
     ]
    },
    {
     "name": "stderr",
     "output_type": "stream",
     "text": [
      "70it [20:11, 44.15s/it]"
     ]
    },
    {
     "name": "stdout",
     "output_type": "stream",
     "text": [
      "    Written to File\n",
      "Processing: /nfs/turbo/umms-indikar/Joshua/HIF-datasets/datasets/Aging_Perturbations_from_GEO_down.hif\n",
      "  File is already under 40MB (14.91MB), skipping...\n",
      "    Split to separate files...Complete ✓\n",
      "Downloaded: Aging_Perturbations_from_GEO_up\n"
     ]
    },
    {
     "name": "stderr",
     "output_type": "stream",
     "text": [
      "71it [20:15, 32.03s/it]"
     ]
    },
    {
     "name": "stdout",
     "output_type": "stream",
     "text": [
      "    Written to File\n",
      "Processing: /nfs/turbo/umms-indikar/Joshua/HIF-datasets/datasets/Aging_Perturbations_from_GEO_up.hif\n",
      "  File is already under 40MB (15.53MB), skipping...\n",
      "    Split to separate files...Complete ✓\n",
      "Downloaded: Ligand_Perturbations_from_GEO_up\n"
     ]
    },
    {
     "name": "stderr",
     "output_type": "stream",
     "text": [
      "72it [20:18, 23.41s/it]"
     ]
    },
    {
     "name": "stdout",
     "output_type": "stream",
     "text": [
      "    Written to File\n",
      "Processing: /nfs/turbo/umms-indikar/Joshua/HIF-datasets/datasets/Ligand_Perturbations_from_GEO_up.hif\n",
      "  File is already under 40MB (14.64MB), skipping...\n",
      "    Split to separate files...Complete ✓\n",
      "Downloaded: MCF7_Perturbations_from_GEO_down\n"
     ]
    },
    {
     "name": "stderr",
     "output_type": "stream",
     "text": [
      "73it [20:22, 17.53s/it]"
     ]
    },
    {
     "name": "stdout",
     "output_type": "stream",
     "text": [
      "    Written to File\n",
      "Processing: /nfs/turbo/umms-indikar/Joshua/HIF-datasets/datasets/MCF7_Perturbations_from_GEO_down.hif\n",
      "  File is already under 40MB (19.88MB), skipping...\n",
      "    Split to separate files...Complete ✓\n",
      "Downloaded: MCF7_Perturbations_from_GEO_up\n"
     ]
    },
    {
     "name": "stderr",
     "output_type": "stream",
     "text": [
      "74it [20:26, 13.40s/it]"
     ]
    },
    {
     "name": "stdout",
     "output_type": "stream",
     "text": [
      "    Written to File\n",
      "Processing: /nfs/turbo/umms-indikar/Joshua/HIF-datasets/datasets/MCF7_Perturbations_from_GEO_up.hif\n",
      "  File is already under 40MB (21.24MB), skipping...\n",
      "    Split to separate files...Complete ✓\n",
      "Downloaded: Microbe_Perturbations_from_GEO_down\n"
     ]
    },
    {
     "name": "stderr",
     "output_type": "stream",
     "text": [
      "75it [20:29, 10.28s/it]"
     ]
    },
    {
     "name": "stdout",
     "output_type": "stream",
     "text": [
      "    Written to File\n",
      "Processing: /nfs/turbo/umms-indikar/Joshua/HIF-datasets/datasets/Microbe_Perturbations_from_GEO_down.hif\n",
      "  File is already under 40MB (15.46MB), skipping...\n",
      "    Split to separate files...Complete ✓\n",
      "Downloaded: Microbe_Perturbations_from_GEO_up\n"
     ]
    },
    {
     "name": "stderr",
     "output_type": "stream",
     "text": [
      "76it [20:32,  8.14s/it]"
     ]
    },
    {
     "name": "stdout",
     "output_type": "stream",
     "text": [
      "    Written to File\n",
      "Processing: /nfs/turbo/umms-indikar/Joshua/HIF-datasets/datasets/Microbe_Perturbations_from_GEO_up.hif\n",
      "  File is already under 40MB (17.38MB), skipping...\n",
      "    Split to separate files...Complete ✓\n",
      "Downloaded: LINCS_L1000_Ligand_Perturbations_down\n"
     ]
    },
    {
     "name": "stderr",
     "output_type": "stream",
     "text": [
      "77it [20:33,  5.90s/it]"
     ]
    },
    {
     "name": "stdout",
     "output_type": "stream",
     "text": [
      "    Written to File\n",
      "Processing: /nfs/turbo/umms-indikar/Joshua/HIF-datasets/datasets/LINCS_L1000_Ligand_Perturbations_down.hif\n",
      "  File is already under 40MB (2.79MB), skipping...\n",
      "    Split to separate files...Complete ✓\n",
      "Downloaded: LINCS_L1000_Ligand_Perturbations_up\n"
     ]
    },
    {
     "name": "stderr",
     "output_type": "stream",
     "text": [
      "78it [20:33,  4.30s/it]"
     ]
    },
    {
     "name": "stdout",
     "output_type": "stream",
     "text": [
      "    Written to File\n",
      "Processing: /nfs/turbo/umms-indikar/Joshua/HIF-datasets/datasets/LINCS_L1000_Ligand_Perturbations_up.hif\n",
      "  File is already under 40MB (2.64MB), skipping...\n",
      "    Split to separate files...Complete ✓\n",
      "Downloaded: L1000_Kinase_and_GPCR_Perturbations_down\n",
      "    Written to File\n",
      "Processing: /nfs/turbo/umms-indikar/Joshua/HIF-datasets/datasets/L1000_Kinase_and_GPCR_Perturbations_down.hif\n",
      "  File size: 174.68MB\n",
      "  Number of chunks needed: 5\n",
      "  Total lines: 8850777\n",
      "  Lines per chunk: 1770156\n",
      "  Created: L1000_Kinase_and_GPCR_Perturbations_down_1of5.hif (39.91MB, 1770156 lines)\n",
      "  Created: L1000_Kinase_and_GPCR_Perturbations_down_2of5.hif (33.38MB, 1770156 lines)\n",
      "  Created: L1000_Kinase_and_GPCR_Perturbations_down_3of5.hif (33.79MB, 1770156 lines)\n",
      "  Created: L1000_Kinase_and_GPCR_Perturbations_down_4of5.hif (33.80MB, 1770156 lines)\n"
     ]
    },
    {
     "name": "stderr",
     "output_type": "stream",
     "text": [
      "79it [21:10, 13.99s/it]"
     ]
    },
    {
     "name": "stdout",
     "output_type": "stream",
     "text": [
      "  Created: L1000_Kinase_and_GPCR_Perturbations_down_5of5.hif (33.80MB, 1770153 lines)\n",
      "  Removed original file: /nfs/turbo/umms-indikar/Joshua/HIF-datasets/datasets/L1000_Kinase_and_GPCR_Perturbations_down.hif\n",
      "  Split complete: 5 files created\n",
      "    Split to separate files...Complete ✓\n",
      "Downloaded: L1000_Kinase_and_GPCR_Perturbations_up\n",
      "    Written to File\n",
      "Processing: /nfs/turbo/umms-indikar/Joshua/HIF-datasets/datasets/L1000_Kinase_and_GPCR_Perturbations_up.hif\n",
      "  File size: 174.67MB\n",
      "  Number of chunks needed: 5\n",
      "  Total lines: 8850597\n",
      "  Lines per chunk: 1770120\n",
      "  Created: L1000_Kinase_and_GPCR_Perturbations_up_1of5.hif (39.91MB, 1770120 lines)\n",
      "  Created: L1000_Kinase_and_GPCR_Perturbations_up_2of5.hif (33.38MB, 1770120 lines)\n",
      "  Created: L1000_Kinase_and_GPCR_Perturbations_up_3of5.hif (33.79MB, 1770120 lines)\n",
      "  Created: L1000_Kinase_and_GPCR_Perturbations_up_4of5.hif (33.79MB, 1770120 lines)\n"
     ]
    },
    {
     "name": "stderr",
     "output_type": "stream",
     "text": [
      "80it [21:42, 19.58s/it]"
     ]
    },
    {
     "name": "stdout",
     "output_type": "stream",
     "text": [
      "  Created: L1000_Kinase_and_GPCR_Perturbations_up_5of5.hif (33.79MB, 1770117 lines)\n",
      "  Removed original file: /nfs/turbo/umms-indikar/Joshua/HIF-datasets/datasets/L1000_Kinase_and_GPCR_Perturbations_up.hif\n",
      "  Split complete: 5 files created\n",
      "    Split to separate files...Complete ✓\n",
      "Downloaded: KEGG_2016\n"
     ]
    },
    {
     "name": "stderr",
     "output_type": "stream",
     "text": [
      "81it [21:45, 14.56s/it]"
     ]
    },
    {
     "name": "stdout",
     "output_type": "stream",
     "text": [
      "    Written to File\n",
      "Processing: /nfs/turbo/umms-indikar/Joshua/HIF-datasets/datasets/KEGG_2016.hif\n",
      "  File is already under 40MB (4.77MB), skipping...\n",
      "    Split to separate files...Complete ✓\n",
      "Downloaded: WikiPathways_2016\n"
     ]
    },
    {
     "name": "stderr",
     "output_type": "stream",
     "text": [
      "82it [21:47, 10.57s/it]"
     ]
    },
    {
     "name": "stdout",
     "output_type": "stream",
     "text": [
      "    Written to File\n",
      "Processing: /nfs/turbo/umms-indikar/Joshua/HIF-datasets/datasets/WikiPathways_2016.hif\n",
      "  File is already under 40MB (4.15MB), skipping...\n",
      "    Split to separate files...Complete ✓\n",
      "Downloaded: ENCODE_and_ChEA_Consensus_TFs_from_ChIP-X\n"
     ]
    },
    {
     "name": "stderr",
     "output_type": "stream",
     "text": [
      "83it [21:53,  9.19s/it]"
     ]
    },
    {
     "name": "stdout",
     "output_type": "stream",
     "text": [
      "    Written to File\n",
      "Processing: /nfs/turbo/umms-indikar/Joshua/HIF-datasets/datasets/ENCODE_and_ChEA_Consensus_TFs_from_ChIP-X.hif\n",
      "  File is already under 40MB (16.06MB), skipping...\n",
      "    Split to separate files...Complete ✓\n",
      "Downloaded: Kinase_Perturbations_from_GEO_down\n"
     ]
    },
    {
     "name": "stderr",
     "output_type": "stream",
     "text": [
      "84it [21:57,  7.69s/it]"
     ]
    },
    {
     "name": "stdout",
     "output_type": "stream",
     "text": [
      "    Written to File\n",
      "Processing: /nfs/turbo/umms-indikar/Joshua/HIF-datasets/datasets/Kinase_Perturbations_from_GEO_down.hif\n",
      "  File is already under 40MB (15.04MB), skipping...\n",
      "    Split to separate files...Complete ✓\n",
      "Downloaded: Kinase_Perturbations_from_GEO_up\n"
     ]
    },
    {
     "name": "stderr",
     "output_type": "stream",
     "text": [
      "85it [22:00,  6.44s/it]"
     ]
    },
    {
     "name": "stdout",
     "output_type": "stream",
     "text": [
      "    Written to File\n",
      "Processing: /nfs/turbo/umms-indikar/Joshua/HIF-datasets/datasets/Kinase_Perturbations_from_GEO_up.hif\n",
      "  File is already under 40MB (15.02MB), skipping...\n",
      "    Split to separate files...Complete ✓\n"
     ]
    },
    {
     "name": "stderr",
     "output_type": "stream",
     "text": [
      "86it [22:01,  4.71s/it]"
     ]
    },
    {
     "name": "stdout",
     "output_type": "stream",
     "text": [
      "Downloaded: BioCarta_2016\n",
      "    Written to File\n",
      "Processing: /nfs/turbo/umms-indikar/Joshua/HIF-datasets/datasets/BioCarta_2016.hif\n",
      "  File is already under 40MB (0.87MB), skipping...\n",
      "    Split to separate files...Complete ✓\n"
     ]
    },
    {
     "name": "stderr",
     "output_type": "stream",
     "text": [
      "87it [22:01,  3.43s/it]"
     ]
    },
    {
     "name": "stdout",
     "output_type": "stream",
     "text": [
      "Downloaded: HumanCyc_2016\n",
      "    Written to File\n",
      "Processing: /nfs/turbo/umms-indikar/Joshua/HIF-datasets/datasets/HumanCyc_2016.hif\n",
      "  File is already under 40MB (0.41MB), skipping...\n",
      "    Split to separate files...Complete ✓\n"
     ]
    },
    {
     "name": "stderr",
     "output_type": "stream",
     "text": [
      "88it [22:02,  2.65s/it]"
     ]
    },
    {
     "name": "stdout",
     "output_type": "stream",
     "text": [
      "Downloaded: NCI-Nature_2016\n",
      "    Written to File\n",
      "Processing: /nfs/turbo/umms-indikar/Joshua/HIF-datasets/datasets/NCI-Nature_2016.hif\n",
      "  File is already under 40MB (1.57MB), skipping...\n",
      "    Split to separate files...Complete ✓\n"
     ]
    },
    {
     "name": "stderr",
     "output_type": "stream",
     "text": [
      "89it [22:03,  1.99s/it]"
     ]
    },
    {
     "name": "stdout",
     "output_type": "stream",
     "text": [
      "Downloaded: Panther_2016\n",
      "    Written to File\n",
      "Processing: /nfs/turbo/umms-indikar/Joshua/HIF-datasets/datasets/Panther_2016.hif\n",
      "  File is already under 40MB (0.96MB), skipping...\n",
      "    Split to separate files...Complete ✓\n",
      "Downloaded: DrugMatrix\n",
      "    Written to File\n",
      "Processing: /nfs/turbo/umms-indikar/Joshua/HIF-datasets/datasets/DrugMatrix.hif\n",
      "  File size: 374.27MB\n",
      "  Number of chunks needed: 10\n",
      "  Total lines: 18996679\n",
      "  Lines per chunk: 1899668\n",
      "  Created: DrugMatrix_1of10.hif (46.27MB, 1899668 lines)\n",
      "  Created: DrugMatrix_2of10.hif (38.76MB, 1899668 lines)\n",
      "  Created: DrugMatrix_3of10.hif (35.97MB, 1899668 lines)\n",
      "  Created: DrugMatrix_4of10.hif (36.18MB, 1899668 lines)\n",
      "  Created: DrugMatrix_5of10.hif (36.18MB, 1899668 lines)\n",
      "  Created: DrugMatrix_6of10.hif (36.18MB, 1899668 lines)\n",
      "  Created: DrugMatrix_7of10.hif (36.18MB, 1899668 lines)\n",
      "  Created: DrugMatrix_8of10.hif (36.18MB, 1899668 lines)\n",
      "  Created: DrugMatrix_9of10.hif (36.18MB, 1899668 lines)\n"
     ]
    },
    {
     "name": "stderr",
     "output_type": "stream",
     "text": [
      "90it [23:14, 22.69s/it]"
     ]
    },
    {
     "name": "stdout",
     "output_type": "stream",
     "text": [
      "  Created: DrugMatrix_10of10.hif (36.18MB, 1899667 lines)\n",
      "  Removed original file: /nfs/turbo/umms-indikar/Joshua/HIF-datasets/datasets/DrugMatrix.hif\n",
      "  Split complete: 10 files created\n",
      "    Split to separate files...Complete ✓\n",
      "Downloaded: ChEA_2016\n",
      "    Written to File\n",
      "Processing: /nfs/turbo/umms-indikar/Joshua/HIF-datasets/datasets/ChEA_2016.hif\n",
      "  File size: 162.80MB\n",
      "  Number of chunks needed: 5\n",
      "  Total lines: 8262757\n",
      "  Lines per chunk: 1652552\n",
      "  Created: ChEA_2016_1of5.hif (37.83MB, 1652552 lines)\n",
      "  Created: ChEA_2016_2of5.hif (31.24MB, 1652552 lines)\n",
      "  Created: ChEA_2016_3of5.hif (31.24MB, 1652552 lines)\n",
      "  Created: ChEA_2016_4of5.hif (31.24MB, 1652552 lines)\n"
     ]
    },
    {
     "name": "stderr",
     "output_type": "stream",
     "text": [
      "91it [24:26, 37.72s/it]"
     ]
    },
    {
     "name": "stdout",
     "output_type": "stream",
     "text": [
      "  Created: ChEA_2016_5of5.hif (31.24MB, 1652549 lines)\n",
      "  Removed original file: /nfs/turbo/umms-indikar/Joshua/HIF-datasets/datasets/ChEA_2016.hif\n",
      "  Split complete: 5 files created\n",
      "    Split to separate files...Complete ✓\n",
      "Downloaded: huMAP\n"
     ]
    },
    {
     "name": "stderr",
     "output_type": "stream",
     "text": [
      "92it [24:28, 26.95s/it]"
     ]
    },
    {
     "name": "stdout",
     "output_type": "stream",
     "text": [
      "    Written to File\n",
      "Processing: /nfs/turbo/umms-indikar/Joshua/HIF-datasets/datasets/huMAP.hif\n",
      "  File is already under 40MB (3.27MB), skipping...\n",
      "    Split to separate files...Complete ✓\n",
      "Downloaded: Jensen_TISSUES\n",
      "    Written to File\n",
      "Processing: /nfs/turbo/umms-indikar/Joshua/HIF-datasets/datasets/Jensen_TISSUES.hif\n",
      "  File size: 158.70MB\n",
      "  Number of chunks needed: 4\n",
      "  Total lines: 8173509\n",
      "  Lines per chunk: 2043378\n",
      "  Created: Jensen_TISSUES_1of4.hif (44.53MB, 2043378 lines)\n",
      "  Created: Jensen_TISSUES_2of4.hif (37.98MB, 2043378 lines)\n",
      "  Created: Jensen_TISSUES_3of4.hif (37.98MB, 2043378 lines)\n"
     ]
    },
    {
     "name": "stderr",
     "output_type": "stream",
     "text": [
      "93it [25:03, 29.42s/it]"
     ]
    },
    {
     "name": "stdout",
     "output_type": "stream",
     "text": [
      "  Created: Jensen_TISSUES_4of4.hif (38.20MB, 2043375 lines)\n",
      "  Removed original file: /nfs/turbo/umms-indikar/Joshua/HIF-datasets/datasets/Jensen_TISSUES.hif\n",
      "  Split complete: 4 files created\n",
      "    Split to separate files...Complete ✓\n",
      "Downloaded: RNA-Seq_Disease_Gene_and_Drug_Signatures_from_GEO\n",
      "    Written to File\n",
      "Processing: /nfs/turbo/umms-indikar/Joshua/HIF-datasets/datasets/RNA-Seq_Disease_Gene_and_Drug_Signatures_from_GEO.hif\n",
      "  File size: 105.58MB\n",
      "  Number of chunks needed: 3\n",
      "  Total lines: 5364785\n",
      "  Lines per chunk: 1788262\n",
      "  Created: RNA-Seq_Disease_Gene_and_Drug_Signatures_from_GEO_1of3.hif (37.82MB, 1788262 lines)\n",
      "  Created: RNA-Seq_Disease_Gene_and_Drug_Signatures_from_GEO_2of3.hif (33.75MB, 1788262 lines)\n"
     ]
    },
    {
     "name": "stderr",
     "output_type": "stream",
     "text": [
      "94it [25:29, 28.22s/it]"
     ]
    },
    {
     "name": "stdout",
     "output_type": "stream",
     "text": [
      "  Created: RNA-Seq_Disease_Gene_and_Drug_Signatures_from_GEO_3of3.hif (34.02MB, 1788261 lines)\n",
      "  Removed original file: /nfs/turbo/umms-indikar/Joshua/HIF-datasets/datasets/RNA-Seq_Disease_Gene_and_Drug_Signatures_from_GEO.hif\n",
      "  Split complete: 3 files created\n",
      "    Split to separate files...Complete ✓\n",
      "Downloaded: Jensen_COMPARTMENTS\n",
      "    Written to File\n",
      "Processing: /nfs/turbo/umms-indikar/Joshua/HIF-datasets/datasets/Jensen_COMPARTMENTS.hif\n",
      "  File size: 60.67MB\n",
      "  Number of chunks needed: 2\n",
      "  Total lines: 3067615\n",
      "  Lines per chunk: 1533808\n",
      "  Created: Jensen_COMPARTMENTS_1of2.hif (31.34MB, 1533808 lines)\n"
     ]
    },
    {
     "name": "stderr",
     "output_type": "stream",
     "text": [
      "95it [25:50, 26.03s/it]"
     ]
    },
    {
     "name": "stdout",
     "output_type": "stream",
     "text": [
      "  Created: Jensen_COMPARTMENTS_2of2.hif (29.34MB, 1533807 lines)\n",
      "  Removed original file: /nfs/turbo/umms-indikar/Joshua/HIF-datasets/datasets/Jensen_COMPARTMENTS.hif\n",
      "  Split complete: 2 files created\n",
      "    Split to separate files...Complete ✓\n",
      "Downloaded: Jensen_DISEASES\n"
     ]
    },
    {
     "name": "stderr",
     "output_type": "stream",
     "text": [
      "96it [25:54, 19.50s/it]"
     ]
    },
    {
     "name": "stdout",
     "output_type": "stream",
     "text": [
      "    Written to File\n",
      "Processing: /nfs/turbo/umms-indikar/Joshua/HIF-datasets/datasets/Jensen_DISEASES.hif\n",
      "  File is already under 40MB (10.00MB), skipping...\n",
      "    Split to separate files...Complete ✓\n",
      "Downloaded: BioPlex_2017\n"
     ]
    },
    {
     "name": "stderr",
     "output_type": "stream",
     "text": [
      "97it [25:58, 14.77s/it]"
     ]
    },
    {
     "name": "stdout",
     "output_type": "stream",
     "text": [
      "    Written to File\n",
      "Processing: /nfs/turbo/umms-indikar/Joshua/HIF-datasets/datasets/BioPlex_2017.hif\n",
      "  File is already under 40MB (15.36MB), skipping...\n",
      "    Split to separate files...Complete ✓\n",
      "Downloaded: ARCHS4_Tissues\n",
      "    Written to File\n",
      "Processing: /nfs/turbo/umms-indikar/Joshua/HIF-datasets/datasets/ARCHS4_Tissues.hif\n",
      "  File size: 40.98MB\n",
      "  Number of chunks needed: 2\n",
      "  Total lines: 2114223\n",
      "  Lines per chunk: 1057112\n",
      "  Created: ARCHS4_Tissues_1of2.hif (21.29MB, 1057112 lines)\n"
     ]
    },
    {
     "name": "stderr",
     "output_type": "stream",
     "text": [
      "98it [26:12, 14.49s/it]"
     ]
    },
    {
     "name": "stdout",
     "output_type": "stream",
     "text": [
      "  Created: ARCHS4_Tissues_2of2.hif (19.69MB, 1057111 lines)\n",
      "  Removed original file: /nfs/turbo/umms-indikar/Joshua/HIF-datasets/datasets/ARCHS4_Tissues.hif\n",
      "  Split complete: 2 files created\n",
      "    Split to separate files...Complete ✓\n",
      "Downloaded: ARCHS4_Cell-lines\n",
      "    Written to File\n",
      "Processing: /nfs/turbo/umms-indikar/Joshua/HIF-datasets/datasets/ARCHS4_Cell-lines.hif\n",
      "  File size: 49.31MB\n",
      "  Number of chunks needed: 2\n",
      "  Total lines: 2537623\n",
      "  Lines per chunk: 1268812\n",
      "  Created: ARCHS4_Cell-lines_1of2.hif (25.59MB, 1268812 lines)\n"
     ]
    },
    {
     "name": "stderr",
     "output_type": "stream",
     "text": [
      "99it [26:22, 13.34s/it]"
     ]
    },
    {
     "name": "stdout",
     "output_type": "stream",
     "text": [
      "  Created: ARCHS4_Cell-lines_2of2.hif (23.72MB, 1268811 lines)\n",
      "  Removed original file: /nfs/turbo/umms-indikar/Joshua/HIF-datasets/datasets/ARCHS4_Cell-lines.hif\n",
      "  Split complete: 2 files created\n",
      "    Split to separate files...Complete ✓\n",
      "Downloaded: ARCHS4_IDG_Coexp\n"
     ]
    },
    {
     "name": "stderr",
     "output_type": "stream",
     "text": [
      "100it [26:28, 11.12s/it]"
     ]
    },
    {
     "name": "stdout",
     "output_type": "stream",
     "text": [
      "    Written to File\n",
      "Processing: /nfs/turbo/umms-indikar/Joshua/HIF-datasets/datasets/ARCHS4_IDG_Coexp.hif\n",
      "  File is already under 40MB (18.92MB), skipping...\n",
      "    Split to separate files...Complete ✓\n",
      "Downloaded: ARCHS4_Kinases_Coexp\n"
     ]
    },
    {
     "name": "stderr",
     "output_type": "stream",
     "text": [
      "101it [26:34,  9.45s/it]"
     ]
    },
    {
     "name": "stdout",
     "output_type": "stream",
     "text": [
      "    Written to File\n",
      "Processing: /nfs/turbo/umms-indikar/Joshua/HIF-datasets/datasets/ARCHS4_Kinases_Coexp.hif\n",
      "  File is already under 40MB (25.64MB), skipping...\n",
      "    Split to separate files...Complete ✓\n",
      "Downloaded: ARCHS4_TFs_Coexp\n",
      "    Written to File\n",
      "Processing: /nfs/turbo/umms-indikar/Joshua/HIF-datasets/datasets/ARCHS4_TFs_Coexp.hif\n",
      "  File size: 84.76MB\n",
      "  Number of chunks needed: 3\n",
      "  Total lines: 4293515\n",
      "  Lines per chunk: 1431172\n",
      "  Created: ARCHS4_TFs_Coexp_1of3.hif (30.30MB, 1431172 lines)\n",
      "  Created: ARCHS4_TFs_Coexp_2of3.hif (27.04MB, 1431172 lines)\n"
     ]
    },
    {
     "name": "stderr",
     "output_type": "stream",
     "text": [
      "102it [26:55, 13.07s/it]"
     ]
    },
    {
     "name": "stdout",
     "output_type": "stream",
     "text": [
      "  Created: ARCHS4_TFs_Coexp_3of3.hif (27.41MB, 1431171 lines)\n",
      "  Removed original file: /nfs/turbo/umms-indikar/Joshua/HIF-datasets/datasets/ARCHS4_TFs_Coexp.hif\n",
      "  Split complete: 3 files created\n",
      "    Split to separate files...Complete ✓\n",
      "Downloaded: SysMyo_Muscle_Gene_Sets\n"
     ]
    },
    {
     "name": "stderr",
     "output_type": "stream",
     "text": [
      "103it [27:04, 11.89s/it]"
     ]
    },
    {
     "name": "stdout",
     "output_type": "stream",
     "text": [
      "    Written to File\n",
      "Processing: /nfs/turbo/umms-indikar/Joshua/HIF-datasets/datasets/SysMyo_Muscle_Gene_Sets.hif\n",
      "  File is already under 40MB (26.78MB), skipping...\n",
      "    Split to separate files...Complete ✓\n",
      "Downloaded: miRTarBase_2017\n",
      "    Written to File\n",
      "Processing: /nfs/turbo/umms-indikar/Joshua/HIF-datasets/datasets/miRTarBase_2017.hif\n",
      "  File size: 64.37MB\n",
      "  Number of chunks needed: 2\n",
      "  Total lines: 3262951\n",
      "  Lines per chunk: 1631476\n",
      "  Created: miRTarBase_2017_1of2.hif (33.19MB, 1631476 lines)\n"
     ]
    },
    {
     "name": "stderr",
     "output_type": "stream",
     "text": [
      "104it [27:18, 12.38s/it]"
     ]
    },
    {
     "name": "stdout",
     "output_type": "stream",
     "text": [
      "  Created: miRTarBase_2017_2of2.hif (31.18MB, 1631475 lines)\n",
      "  Removed original file: /nfs/turbo/umms-indikar/Joshua/HIF-datasets/datasets/miRTarBase_2017.hif\n",
      "  Split complete: 2 files created\n",
      "    Split to separate files...Complete ✓\n",
      "Downloaded: TargetScan_microRNA_2017\n",
      "    Written to File\n",
      "Processing: /nfs/turbo/umms-indikar/Joshua/HIF-datasets/datasets/TargetScan_microRNA_2017.hif\n",
      "  File size: 110.60MB\n",
      "  Number of chunks needed: 3\n",
      "  Total lines: 5648981\n",
      "  Lines per chunk: 1882994\n",
      "  Created: TargetScan_microRNA_2017_1of3.hif (39.60MB, 1882994 lines)\n",
      "  Created: TargetScan_microRNA_2017_2of3.hif (35.50MB, 1882994 lines)\n"
     ]
    },
    {
     "name": "stderr",
     "output_type": "stream",
     "text": [
      "105it [27:40, 15.38s/it]"
     ]
    },
    {
     "name": "stdout",
     "output_type": "stream",
     "text": [
      "  Created: TargetScan_microRNA_2017_3of3.hif (35.50MB, 1882993 lines)\n",
      "  Removed original file: /nfs/turbo/umms-indikar/Joshua/HIF-datasets/datasets/TargetScan_microRNA_2017.hif\n",
      "  Split complete: 3 files created\n",
      "    Split to separate files...Complete ✓\n",
      "Downloaded: Enrichr_Libraries_Most_Popular_Genes\n"
     ]
    },
    {
     "name": "stderr",
     "output_type": "stream",
     "text": [
      "106it [27:44, 11.86s/it]"
     ]
    },
    {
     "name": "stdout",
     "output_type": "stream",
     "text": [
      "    Written to File\n",
      "Processing: /nfs/turbo/umms-indikar/Joshua/HIF-datasets/datasets/Enrichr_Libraries_Most_Popular_Genes.hif\n",
      "  File is already under 40MB (2.70MB), skipping...\n",
      "    Split to separate files...Complete ✓\n",
      "Downloaded: Enrichr_Submissions_TF-Gene_Coocurrence\n",
      "    Written to File\n",
      "Processing: /nfs/turbo/umms-indikar/Joshua/HIF-datasets/datasets/Enrichr_Submissions_TF-Gene_Coocurrence.hif\n",
      "  File size: 82.59MB\n",
      "  Number of chunks needed: 3\n",
      "  Total lines: 4205333\n",
      "  Lines per chunk: 1401778\n",
      "  Created: Enrichr_Submissions_TF-Gene_Coocurrence_1of3.hif (29.43MB, 1401778 lines)\n",
      "  Created: Enrichr_Submissions_TF-Gene_Coocurrence_2of3.hif (26.40MB, 1401778 lines)\n"
     ]
    },
    {
     "name": "stderr",
     "output_type": "stream",
     "text": [
      "107it [28:03, 14.03s/it]"
     ]
    },
    {
     "name": "stdout",
     "output_type": "stream",
     "text": [
      "  Created: Enrichr_Submissions_TF-Gene_Coocurrence_3of3.hif (26.76MB, 1401777 lines)\n",
      "  Removed original file: /nfs/turbo/umms-indikar/Joshua/HIF-datasets/datasets/Enrichr_Submissions_TF-Gene_Coocurrence.hif\n",
      "  Split complete: 3 files created\n",
      "    Split to separate files...Complete ✓\n"
     ]
    },
    {
     "name": "stderr",
     "output_type": "stream",
     "text": [
      "108it [28:03,  9.95s/it]"
     ]
    },
    {
     "name": "stdout",
     "output_type": "stream",
     "text": [
      "Downloaded: Data_Acquisition_Method_Most_Popular_Genes\n",
      "    Written to File\n",
      "Processing: /nfs/turbo/umms-indikar/Joshua/HIF-datasets/datasets/Data_Acquisition_Method_Most_Popular_Genes.hif\n",
      "  File is already under 40MB (0.30MB), skipping...\n",
      "    Split to separate files...Complete ✓\n",
      "Downloaded: DSigDB\n",
      "    Written to File\n",
      "Processing: /nfs/turbo/umms-indikar/Joshua/HIF-datasets/datasets/DSigDB.hif\n",
      "  File size: 76.94MB\n",
      "  Number of chunks needed: 2\n",
      "  Total lines: 3891441\n",
      "  Lines per chunk: 1945721\n",
      "  Created: DSigDB_1of2.hif (39.72MB, 1945721 lines)\n"
     ]
    },
    {
     "name": "stderr",
     "output_type": "stream",
     "text": [
      "109it [28:24, 13.27s/it]"
     ]
    },
    {
     "name": "stdout",
     "output_type": "stream",
     "text": [
      "  Created: DSigDB_2of2.hif (37.22MB, 1945720 lines)\n",
      "  Removed original file: /nfs/turbo/umms-indikar/Joshua/HIF-datasets/datasets/DSigDB.hif\n",
      "  Split complete: 2 files created\n",
      "    Split to separate files...Complete ✓\n",
      "Downloaded: TF_Perturbations_Followed_by_Expression\n",
      "    Written to File\n",
      "Processing: /nfs/turbo/umms-indikar/Joshua/HIF-datasets/datasets/TF_Perturbations_Followed_by_Expression.hif\n",
      "  File size: 85.74MB\n",
      "  Number of chunks needed: 3\n",
      "  Total lines: 4346215\n",
      "  Lines per chunk: 1448739\n",
      "  Created: TF_Perturbations_Followed_by_Expression_1of3.hif (30.61MB, 1448739 lines)\n",
      "  Created: TF_Perturbations_Followed_by_Expression_2of3.hif (27.41MB, 1448739 lines)\n"
     ]
    },
    {
     "name": "stderr",
     "output_type": "stream",
     "text": [
      "110it [28:43, 14.99s/it]"
     ]
    },
    {
     "name": "stdout",
     "output_type": "stream",
     "text": [
      "  Created: TF_Perturbations_Followed_by_Expression_3of3.hif (27.72MB, 1448737 lines)\n",
      "  Removed original file: /nfs/turbo/umms-indikar/Joshua/HIF-datasets/datasets/TF_Perturbations_Followed_by_Expression.hif\n",
      "  Split complete: 3 files created\n",
      "    Split to separate files...Complete ✓\n",
      "Downloaded: Chromosome_Location_hg19\n"
     ]
    },
    {
     "name": "stderr",
     "output_type": "stream",
     "text": [
      "111it [28:56, 14.28s/it]"
     ]
    },
    {
     "name": "stdout",
     "output_type": "stream",
     "text": [
      "    Written to File\n",
      "Processing: /nfs/turbo/umms-indikar/Joshua/HIF-datasets/datasets/Chromosome_Location_hg19.hif\n",
      "  File is already under 40MB (7.59MB), skipping...\n",
      "    Split to separate files...Complete ✓\n",
      "Downloaded: Rare_Diseases_AutoRIF_ARCHS4_Predictions\n",
      "    Written to File\n",
      "Processing: /nfs/turbo/umms-indikar/Joshua/HIF-datasets/datasets/Rare_Diseases_AutoRIF_ARCHS4_Predictions.hif\n",
      "  File size: 116.65MB\n",
      "  Number of chunks needed: 3\n",
      "  Total lines: 5908523\n",
      "  Lines per chunk: 1969508\n",
      "  Created: Rare_Diseases_AutoRIF_ARCHS4_Predictions_1of3.hif (41.49MB, 1969508 lines)\n",
      "  Created: Rare_Diseases_AutoRIF_ARCHS4_Predictions_2of3.hif (37.54MB, 1969508 lines)\n"
     ]
    },
    {
     "name": "stderr",
     "output_type": "stream",
     "text": [
      "112it [29:26, 19.02s/it]"
     ]
    },
    {
     "name": "stdout",
     "output_type": "stream",
     "text": [
      "  Created: Rare_Diseases_AutoRIF_ARCHS4_Predictions_3of3.hif (37.62MB, 1969507 lines)\n",
      "  Removed original file: /nfs/turbo/umms-indikar/Joshua/HIF-datasets/datasets/Rare_Diseases_AutoRIF_ARCHS4_Predictions.hif\n",
      "  Split complete: 3 files created\n",
      "    Split to separate files...Complete ✓\n",
      "Downloaded: Rare_Diseases_GeneRIF_ARCHS4_Predictions\n",
      "    Written to File\n",
      "Processing: /nfs/turbo/umms-indikar/Joshua/HIF-datasets/datasets/Rare_Diseases_GeneRIF_ARCHS4_Predictions.hif\n",
      "  File size: 69.64MB\n",
      "  Number of chunks needed: 2\n",
      "  Total lines: 3537575\n",
      "  Lines per chunk: 1768788\n",
      "  Created: Rare_Diseases_GeneRIF_ARCHS4_Predictions_1of2.hif (35.90MB, 1768788 lines)\n"
     ]
    },
    {
     "name": "stderr",
     "output_type": "stream",
     "text": [
      "113it [29:40, 17.49s/it]"
     ]
    },
    {
     "name": "stdout",
     "output_type": "stream",
     "text": [
      "  Created: Rare_Diseases_GeneRIF_ARCHS4_Predictions_2of2.hif (33.74MB, 1768787 lines)\n",
      "  Removed original file: /nfs/turbo/umms-indikar/Joshua/HIF-datasets/datasets/Rare_Diseases_GeneRIF_ARCHS4_Predictions.hif\n",
      "  Split complete: 2 files created\n",
      "    Split to separate files...Complete ✓\n",
      "Downloaded: Rare_Diseases_GeneRIF_Gene_Lists\n"
     ]
    },
    {
     "name": "stderr",
     "output_type": "stream",
     "text": [
      "114it [29:45, 13.65s/it]"
     ]
    },
    {
     "name": "stdout",
     "output_type": "stream",
     "text": [
      "    Written to File\n",
      "Processing: /nfs/turbo/umms-indikar/Joshua/HIF-datasets/datasets/Rare_Diseases_GeneRIF_Gene_Lists.hif\n",
      "  File is already under 40MB (20.61MB), skipping...\n",
      "    Split to separate files...Complete ✓\n",
      "Downloaded: Rare_Diseases_AutoRIF_Gene_Lists\n",
      "    Written to File\n",
      "Processing: /nfs/turbo/umms-indikar/Joshua/HIF-datasets/datasets/Rare_Diseases_AutoRIF_Gene_Lists.hif\n",
      "  File size: 44.93MB\n",
      "  Number of chunks needed: 2\n",
      "  Total lines: 2284235\n",
      "  Lines per chunk: 1142118\n",
      "  Created: Rare_Diseases_AutoRIF_Gene_Lists_1of2.hif (23.15MB, 1142118 lines)\n"
     ]
    },
    {
     "name": "stderr",
     "output_type": "stream",
     "text": [
      "115it [29:59, 13.89s/it]"
     ]
    },
    {
     "name": "stdout",
     "output_type": "stream",
     "text": [
      "  Created: Rare_Diseases_AutoRIF_Gene_Lists_2of2.hif (21.78MB, 1142117 lines)\n",
      "  Removed original file: /nfs/turbo/umms-indikar/Joshua/HIF-datasets/datasets/Rare_Diseases_AutoRIF_Gene_Lists.hif\n",
      "  Split complete: 2 files created\n",
      "    Split to separate files...Complete ✓\n",
      "Downloaded: SubCell_BarCode\n"
     ]
    },
    {
     "name": "stderr",
     "output_type": "stream",
     "text": [
      "116it [30:02, 10.56s/it]"
     ]
    },
    {
     "name": "stdout",
     "output_type": "stream",
     "text": [
      "    Written to File\n",
      "Processing: /nfs/turbo/umms-indikar/Joshua/HIF-datasets/datasets/SubCell_BarCode.hif\n",
      "  File is already under 40MB (9.29MB), skipping...\n",
      "    Split to separate files...Complete ✓\n",
      "Downloaded: GWAS_Catalog_2019\n"
     ]
    },
    {
     "name": "stderr",
     "output_type": "stream",
     "text": [
      "117it [30:10,  9.89s/it]"
     ]
    },
    {
     "name": "stdout",
     "output_type": "stream",
     "text": [
      "    Written to File\n",
      "Processing: /nfs/turbo/umms-indikar/Joshua/HIF-datasets/datasets/GWAS_Catalog_2019.hif\n",
      "  File is already under 40MB (12.49MB), skipping...\n",
      "    Split to separate files...Complete ✓\n",
      "Downloaded: WikiPathways_2019_Human\n"
     ]
    },
    {
     "name": "stderr",
     "output_type": "stream",
     "text": [
      "118it [30:12,  7.33s/it]"
     ]
    },
    {
     "name": "stdout",
     "output_type": "stream",
     "text": [
      "    Written to File\n",
      "Processing: /nfs/turbo/umms-indikar/Joshua/HIF-datasets/datasets/WikiPathways_2019_Human.hif\n",
      "  File is already under 40MB (4.05MB), skipping...\n",
      "    Split to separate files...Complete ✓\n",
      "Downloaded: WikiPathways_2019_Mouse\n"
     ]
    },
    {
     "name": "stderr",
     "output_type": "stream",
     "text": [
      "119it [30:12,  5.36s/it]"
     ]
    },
    {
     "name": "stdout",
     "output_type": "stream",
     "text": [
      "    Written to File\n",
      "Processing: /nfs/turbo/umms-indikar/Joshua/HIF-datasets/datasets/WikiPathways_2019_Mouse.hif\n",
      "  File is already under 40MB (2.02MB), skipping...\n",
      "    Split to separate files...Complete ✓\n",
      "Downloaded: TRRUST_Transcription_Factors_2019\n"
     ]
    },
    {
     "name": "stderr",
     "output_type": "stream",
     "text": [
      "120it [30:13,  3.96s/it]"
     ]
    },
    {
     "name": "stdout",
     "output_type": "stream",
     "text": [
      "    Written to File\n",
      "Processing: /nfs/turbo/umms-indikar/Joshua/HIF-datasets/datasets/TRRUST_Transcription_Factors_2019.hif\n",
      "  File is already under 40MB (2.42MB), skipping...\n",
      "    Split to separate files...Complete ✓\n",
      "Downloaded: KEGG_2019_Human\n"
     ]
    },
    {
     "name": "stderr",
     "output_type": "stream",
     "text": [
      "121it [30:15,  3.34s/it]"
     ]
    },
    {
     "name": "stdout",
     "output_type": "stream",
     "text": [
      "    Written to File\n",
      "Processing: /nfs/turbo/umms-indikar/Joshua/HIF-datasets/datasets/KEGG_2019_Human.hif\n",
      "  File is already under 40MB (5.32MB), skipping...\n",
      "    Split to separate files...Complete ✓\n",
      "Downloaded: KEGG_2019_Mouse\n"
     ]
    },
    {
     "name": "stderr",
     "output_type": "stream",
     "text": [
      "122it [30:17,  2.98s/it]"
     ]
    },
    {
     "name": "stdout",
     "output_type": "stream",
     "text": [
      "    Written to File\n",
      "Processing: /nfs/turbo/umms-indikar/Joshua/HIF-datasets/datasets/KEGG_2019_Mouse.hif\n",
      "  File is already under 40MB (5.60MB), skipping...\n",
      "    Split to separate files...Complete ✓\n",
      "Downloaded: InterPro_Domains_2019\n"
     ]
    },
    {
     "name": "stderr",
     "output_type": "stream",
     "text": [
      "123it [30:19,  2.70s/it]"
     ]
    },
    {
     "name": "stdout",
     "output_type": "stream",
     "text": [
      "    Written to File\n",
      "Processing: /nfs/turbo/umms-indikar/Joshua/HIF-datasets/datasets/InterPro_Domains_2019.hif\n",
      "  File is already under 40MB (5.21MB), skipping...\n",
      "    Split to separate files...Complete ✓\n",
      "Downloaded: Pfam_Domains_2019\n"
     ]
    },
    {
     "name": "stderr",
     "output_type": "stream",
     "text": [
      "124it [30:20,  2.18s/it]"
     ]
    },
    {
     "name": "stdout",
     "output_type": "stream",
     "text": [
      "    Written to File\n",
      "Processing: /nfs/turbo/umms-indikar/Joshua/HIF-datasets/datasets/Pfam_Domains_2019.hif\n",
      "  File is already under 40MB (2.99MB), skipping...\n",
      "    Split to separate files...Complete ✓\n",
      "Downloaded: DepMap_WG_CRISPR_Screens_Broad_CellLines_2019\n"
     ]
    },
    {
     "name": "stderr",
     "output_type": "stream",
     "text": [
      "125it [30:26,  3.30s/it]"
     ]
    },
    {
     "name": "stdout",
     "output_type": "stream",
     "text": [
      "    Written to File\n",
      "Processing: /nfs/turbo/umms-indikar/Joshua/HIF-datasets/datasets/DepMap_WG_CRISPR_Screens_Broad_CellLines_2019.hif\n",
      "  File is already under 40MB (32.49MB), skipping...\n",
      "    Split to separate files...Complete ✓\n",
      "Downloaded: DepMap_WG_CRISPR_Screens_Sanger_CellLines_2019\n"
     ]
    },
    {
     "name": "stderr",
     "output_type": "stream",
     "text": [
      "126it [30:30,  3.41s/it]"
     ]
    },
    {
     "name": "stdout",
     "output_type": "stream",
     "text": [
      "    Written to File\n",
      "Processing: /nfs/turbo/umms-indikar/Joshua/HIF-datasets/datasets/DepMap_WG_CRISPR_Screens_Sanger_CellLines_2019.hif\n",
      "  File is already under 40MB (20.28MB), skipping...\n",
      "    Split to separate files...Complete ✓\n",
      "Downloaded: UK_Biobank_GWAS_v1\n"
     ]
    },
    {
     "name": "stderr",
     "output_type": "stream",
     "text": [
      "127it [30:34,  3.53s/it]"
     ]
    },
    {
     "name": "stdout",
     "output_type": "stream",
     "text": [
      "    Written to File\n",
      "Processing: /nfs/turbo/umms-indikar/Joshua/HIF-datasets/datasets/UK_Biobank_GWAS_v1.hif\n",
      "  File is already under 40MB (17.73MB), skipping...\n",
      "    Split to separate files...Complete ✓\n",
      "Downloaded: BioPlanet_2019\n"
     ]
    },
    {
     "name": "stderr",
     "output_type": "stream",
     "text": [
      "128it [30:37,  3.35s/it]"
     ]
    },
    {
     "name": "stdout",
     "output_type": "stream",
     "text": [
      "    Written to File\n",
      "Processing: /nfs/turbo/umms-indikar/Joshua/HIF-datasets/datasets/BioPlanet_2019.hif\n",
      "  File is already under 40MB (12.86MB), skipping...\n",
      "    Split to separate files...Complete ✓\n"
     ]
    },
    {
     "name": "stderr",
     "output_type": "stream",
     "text": [
      "129it [30:37,  2.44s/it]"
     ]
    },
    {
     "name": "stdout",
     "output_type": "stream",
     "text": [
      "Downloaded: ClinVar_2019\n",
      "    Written to File\n",
      "Processing: /nfs/turbo/umms-indikar/Joshua/HIF-datasets/datasets/ClinVar_2019.hif\n",
      "  File is already under 40MB (0.53MB), skipping...\n",
      "    Split to separate files...Complete ✓\n",
      "Downloaded: PheWeb_2019\n"
     ]
    },
    {
     "name": "stderr",
     "output_type": "stream",
     "text": [
      "130it [30:38,  2.17s/it]"
     ]
    },
    {
     "name": "stdout",
     "output_type": "stream",
     "text": [
      "    Written to File\n",
      "Processing: /nfs/turbo/umms-indikar/Joshua/HIF-datasets/datasets/PheWeb_2019.hif\n",
      "  File is already under 40MB (5.13MB), skipping...\n",
      "    Split to separate files...Complete ✓\n",
      "Downloaded: DisGeNET\n",
      "    Written to File\n",
      "Processing: /nfs/turbo/umms-indikar/Joshua/HIF-datasets/datasets/DisGeNET.hif\n",
      "  File size: 95.48MB\n",
      "  Number of chunks needed: 3\n",
      "  Total lines: 4818065\n",
      "  Lines per chunk: 1606022\n",
      "  Created: DisGeNET_1of3.hif (34.06MB, 1606022 lines)\n",
      "  Created: DisGeNET_2of3.hif (30.71MB, 1606022 lines)\n"
     ]
    },
    {
     "name": "stderr",
     "output_type": "stream",
     "text": [
      "131it [31:00,  8.02s/it]"
     ]
    },
    {
     "name": "stdout",
     "output_type": "stream",
     "text": [
      "  Created: DisGeNET_3of3.hif (30.71MB, 1606021 lines)\n",
      "  Removed original file: /nfs/turbo/umms-indikar/Joshua/HIF-datasets/datasets/DisGeNET.hif\n",
      "  Split complete: 3 files created\n",
      "    Split to separate files...Complete ✓\n",
      "Downloaded: HMS_LINCS_KinomeScan\n"
     ]
    },
    {
     "name": "stderr",
     "output_type": "stream",
     "text": [
      "132it [31:01,  5.84s/it]"
     ]
    },
    {
     "name": "stdout",
     "output_type": "stream",
     "text": [
      "    Written to File\n",
      "Processing: /nfs/turbo/umms-indikar/Joshua/HIF-datasets/datasets/HMS_LINCS_KinomeScan.hif\n",
      "  File is already under 40MB (1.76MB), skipping...\n",
      "    Split to separate files...Complete ✓\n",
      "Downloaded: CCLE_Proteomics_2020\n"
     ]
    },
    {
     "name": "stderr",
     "output_type": "stream",
     "text": [
      "133it [31:10,  6.82s/it]"
     ]
    },
    {
     "name": "stdout",
     "output_type": "stream",
     "text": [
      "    Written to File\n",
      "Processing: /nfs/turbo/umms-indikar/Joshua/HIF-datasets/datasets/CCLE_Proteomics_2020.hif\n",
      "  File is already under 40MB (35.95MB), skipping...\n",
      "    Split to separate files...Complete ✓\n",
      "Downloaded: ProteomicsDB_2020\n",
      "    Written to File\n",
      "Processing: /nfs/turbo/umms-indikar/Joshua/HIF-datasets/datasets/ProteomicsDB_2020.hif\n",
      "  File size: 44.65MB\n",
      "  Number of chunks needed: 2\n",
      "  Total lines: 2293983\n",
      "  Lines per chunk: 1146992\n",
      "  Created: ProteomicsDB_2020_1of2.hif (23.10MB, 1146992 lines)\n"
     ]
    },
    {
     "name": "stderr",
     "output_type": "stream",
     "text": [
      "134it [31:20,  7.83s/it]"
     ]
    },
    {
     "name": "stdout",
     "output_type": "stream",
     "text": [
      "  Created: ProteomicsDB_2020_2of2.hif (21.54MB, 1146991 lines)\n",
      "  Removed original file: /nfs/turbo/umms-indikar/Joshua/HIF-datasets/datasets/ProteomicsDB_2020.hif\n",
      "  Split complete: 2 files created\n",
      "    Split to separate files...Complete ✓\n",
      "Downloaded: lncHUB_lncRNA_Co-Expression\n",
      "    Written to File\n",
      "Processing: /nfs/turbo/umms-indikar/Joshua/HIF-datasets/datasets/lncHUB_lncRNA_Co-Expression.hif\n",
      "  File size: 61.74MB\n",
      "  Number of chunks needed: 2\n",
      "  Total lines: 3123601\n",
      "  Lines per chunk: 1561801\n",
      "  Created: lncHUB_lncRNA_Co-Expression_1of2.hif (31.87MB, 1561801 lines)\n"
     ]
    },
    {
     "name": "stderr",
     "output_type": "stream",
     "text": [
      "135it [31:35, 10.05s/it]"
     ]
    },
    {
     "name": "stdout",
     "output_type": "stream",
     "text": [
      "  Created: lncHUB_lncRNA_Co-Expression_2of2.hif (29.87MB, 1561800 lines)\n",
      "  Removed original file: /nfs/turbo/umms-indikar/Joshua/HIF-datasets/datasets/lncHUB_lncRNA_Co-Expression.hif\n",
      "  Split complete: 2 files created\n",
      "    Split to separate files...Complete ✓\n",
      "Downloaded: Virus-Host_PPI_P-HIPSTer_2020\n"
     ]
    },
    {
     "name": "stderr",
     "output_type": "stream",
     "text": [
      "136it [31:43,  9.20s/it]"
     ]
    },
    {
     "name": "stdout",
     "output_type": "stream",
     "text": [
      "    Written to File\n",
      "Processing: /nfs/turbo/umms-indikar/Joshua/HIF-datasets/datasets/Virus-Host_PPI_P-HIPSTer_2020.hif\n",
      "  File is already under 40MB (35.76MB), skipping...\n",
      "    Split to separate files...Complete ✓\n",
      "Downloaded: Elsevier_Pathway_Collection\n"
     ]
    },
    {
     "name": "stderr",
     "output_type": "stream",
     "text": [
      "137it [31:45,  7.09s/it]"
     ]
    },
    {
     "name": "stdout",
     "output_type": "stream",
     "text": [
      "    Written to File\n",
      "Processing: /nfs/turbo/umms-indikar/Joshua/HIF-datasets/datasets/Elsevier_Pathway_Collection.hif\n",
      "  File is already under 40MB (9.12MB), skipping...\n",
      "    Split to separate files...Complete ✓\n",
      "Downloaded: Table_Mining_of_CRISPR_Studies\n"
     ]
    },
    {
     "name": "stderr",
     "output_type": "stream",
     "text": [
      "138it [31:49,  6.20s/it]"
     ]
    },
    {
     "name": "stdout",
     "output_type": "stream",
     "text": [
      "    Written to File\n",
      "Processing: /nfs/turbo/umms-indikar/Joshua/HIF-datasets/datasets/Table_Mining_of_CRISPR_Studies.hif\n",
      "  File is already under 40MB (6.64MB), skipping...\n",
      "    Split to separate files...Complete ✓\n",
      "Downloaded: COVID-19_Related_Gene_Sets\n"
     ]
    },
    {
     "name": "stderr",
     "output_type": "stream",
     "text": [
      "139it [31:55,  6.21s/it]"
     ]
    },
    {
     "name": "stdout",
     "output_type": "stream",
     "text": [
      "    Written to File\n",
      "Processing: /nfs/turbo/umms-indikar/Joshua/HIF-datasets/datasets/COVID-19_Related_Gene_Sets.hif\n",
      "  File is already under 40MB (10.91MB), skipping...\n",
      "    Split to separate files...Complete ✓\n",
      "Downloaded: MSigDB_Hallmark_2020\n"
     ]
    },
    {
     "name": "stderr",
     "output_type": "stream",
     "text": [
      "140it [31:56,  4.59s/it]"
     ]
    },
    {
     "name": "stdout",
     "output_type": "stream",
     "text": [
      "    Written to File\n",
      "Processing: /nfs/turbo/umms-indikar/Joshua/HIF-datasets/datasets/MSigDB_Hallmark_2020.hif\n",
      "  File is already under 40MB (1.62MB), skipping...\n",
      "    Split to separate files...Complete ✓\n",
      "Downloaded: Enrichr_Users_Contributed_Lists_2020\n",
      "    Written to File\n",
      "Processing: /nfs/turbo/umms-indikar/Joshua/HIF-datasets/datasets/Enrichr_Users_Contributed_Lists_2020.hif\n",
      "  File size: 119.83MB\n",
      "  Number of chunks needed: 3\n",
      "  Total lines: 6062597\n",
      "  Lines per chunk: 2020866\n",
      "  Created: Enrichr_Users_Contributed_Lists_2020_1of3.hif (42.97MB, 2020866 lines)\n",
      "  Created: Enrichr_Users_Contributed_Lists_2020_2of3.hif (38.21MB, 2020866 lines)\n"
     ]
    },
    {
     "name": "stderr",
     "output_type": "stream",
     "text": [
      "141it [32:54, 20.68s/it]"
     ]
    },
    {
     "name": "stdout",
     "output_type": "stream",
     "text": [
      "  Created: Enrichr_Users_Contributed_Lists_2020_3of3.hif (38.64MB, 2020865 lines)\n",
      "  Removed original file: /nfs/turbo/umms-indikar/Joshua/HIF-datasets/datasets/Enrichr_Users_Contributed_Lists_2020.hif\n",
      "  Split complete: 3 files created\n",
      "    Split to separate files...Complete ✓\n",
      "Downloaded: TG_GATES_2020\n",
      "    Written to File\n",
      "Processing: /nfs/turbo/umms-indikar/Joshua/HIF-datasets/datasets/TG_GATES_2020.hif\n",
      "  File size: 85.12MB\n",
      "  Number of chunks needed: 3\n",
      "  Total lines: 4349301\n",
      "  Lines per chunk: 1449767\n",
      "  Created: TG_GATES_2020_1of3.hif (30.40MB, 1449767 lines)\n",
      "  Created: TG_GATES_2020_2of3.hif (27.27MB, 1449767 lines)\n"
     ]
    },
    {
     "name": "stderr",
     "output_type": "stream",
     "text": [
      "142it [33:14, 20.48s/it]"
     ]
    },
    {
     "name": "stdout",
     "output_type": "stream",
     "text": [
      "  Created: TG_GATES_2020_3of3.hif (27.45MB, 1449767 lines)\n",
      "  Removed original file: /nfs/turbo/umms-indikar/Joshua/HIF-datasets/datasets/TG_GATES_2020.hif\n",
      "  Split complete: 3 files created\n",
      "    Split to separate files...Complete ✓\n",
      "Downloaded: Allen_Brain_Atlas_10x_scRNA_2021\n"
     ]
    },
    {
     "name": "stderr",
     "output_type": "stream",
     "text": [
      "143it [33:20, 16.10s/it]"
     ]
    },
    {
     "name": "stdout",
     "output_type": "stream",
     "text": [
      "    Written to File\n",
      "Processing: /nfs/turbo/umms-indikar/Joshua/HIF-datasets/datasets/Allen_Brain_Atlas_10x_scRNA_2021.hif\n",
      "  File is already under 40MB (16.29MB), skipping...\n",
      "    Split to separate files...Complete ✓\n",
      "Downloaded: Descartes_Cell_Types_and_Tissue_2021\n"
     ]
    },
    {
     "name": "stderr",
     "output_type": "stream",
     "text": [
      "144it [33:23, 12.24s/it]"
     ]
    },
    {
     "name": "stdout",
     "output_type": "stream",
     "text": [
      "    Written to File\n",
      "Processing: /nfs/turbo/umms-indikar/Joshua/HIF-datasets/datasets/Descartes_Cell_Types_and_Tissue_2021.hif\n",
      "  File is already under 40MB (4.83MB), skipping...\n",
      "    Split to separate files...Complete ✓\n",
      "Downloaded: KEGG_2021_Human\n"
     ]
    },
    {
     "name": "stderr",
     "output_type": "stream",
     "text": [
      "145it [33:25,  9.20s/it]"
     ]
    },
    {
     "name": "stdout",
     "output_type": "stream",
     "text": [
      "    Written to File\n",
      "Processing: /nfs/turbo/umms-indikar/Joshua/HIF-datasets/datasets/KEGG_2021_Human.hif\n",
      "  File is already under 40MB (6.00MB), skipping...\n",
      "    Split to separate files...Complete ✓\n",
      "Downloaded: WikiPathway_2021_Human\n"
     ]
    },
    {
     "name": "stderr",
     "output_type": "stream",
     "text": [
      "146it [33:27,  6.82s/it]"
     ]
    },
    {
     "name": "stdout",
     "output_type": "stream",
     "text": [
      "    Written to File\n",
      "Processing: /nfs/turbo/umms-indikar/Joshua/HIF-datasets/datasets/WikiPathway_2021_Human.hif\n",
      "  File is already under 40MB (5.06MB), skipping...\n",
      "    Split to separate files...Complete ✓\n",
      "Downloaded: HuBMAP_ASCT_plus_B_augmented_w_RNAseq_Coexpression\n"
     ]
    },
    {
     "name": "stderr",
     "output_type": "stream",
     "text": [
      "147it [33:28,  5.32s/it]"
     ]
    },
    {
     "name": "stdout",
     "output_type": "stream",
     "text": [
      "    Written to File\n",
      "Processing: /nfs/turbo/umms-indikar/Joshua/HIF-datasets/datasets/HuBMAP_ASCT_plus_B_augmented_w_RNAseq_Coexpression.hif\n",
      "  File is already under 40MB (6.06MB), skipping...\n",
      "    Split to separate files...Complete ✓\n",
      "Downloaded: GO_Biological_Process_2021\n"
     ]
    },
    {
     "name": "stderr",
     "output_type": "stream",
     "text": [
      "148it [33:35,  5.77s/it]"
     ]
    },
    {
     "name": "stdout",
     "output_type": "stream",
     "text": [
      "    Written to File\n",
      "Processing: /nfs/turbo/umms-indikar/Joshua/HIF-datasets/datasets/GO_Biological_Process_2021.hif\n",
      "  File is already under 40MB (33.45MB), skipping...\n",
      "    Split to separate files...Complete ✓\n",
      "Downloaded: GO_Cellular_Component_2021\n"
     ]
    },
    {
     "name": "stderr",
     "output_type": "stream",
     "text": [
      "149it [33:37,  4.53s/it]"
     ]
    },
    {
     "name": "stdout",
     "output_type": "stream",
     "text": [
      "    Written to File\n",
      "Processing: /nfs/turbo/umms-indikar/Joshua/HIF-datasets/datasets/GO_Cellular_Component_2021.hif\n",
      "  File is already under 40MB (7.72MB), skipping...\n",
      "    Split to separate files...Complete ✓\n",
      "Downloaded: GO_Molecular_Function_2021\n"
     ]
    },
    {
     "name": "stderr",
     "output_type": "stream",
     "text": [
      "150it [33:39,  3.77s/it]"
     ]
    },
    {
     "name": "stdout",
     "output_type": "stream",
     "text": [
      "    Written to File\n",
      "Processing: /nfs/turbo/umms-indikar/Joshua/HIF-datasets/datasets/GO_Molecular_Function_2021.hif\n",
      "  File is already under 40MB (8.35MB), skipping...\n",
      "    Split to separate files...Complete ✓\n",
      "Downloaded: MGI_Mammalian_Phenotype_Level_4_2021\n"
     ]
    },
    {
     "name": "stderr",
     "output_type": "stream",
     "text": [
      "151it [33:44,  4.27s/it]"
     ]
    },
    {
     "name": "stdout",
     "output_type": "stream",
     "text": [
      "    Written to File\n",
      "Processing: /nfs/turbo/umms-indikar/Joshua/HIF-datasets/datasets/MGI_Mammalian_Phenotype_Level_4_2021.hif\n",
      "  File is already under 40MB (25.97MB), skipping...\n",
      "    Split to separate files...Complete ✓\n",
      "Downloaded: CellMarker_Augmented_2021\n"
     ]
    },
    {
     "name": "stderr",
     "output_type": "stream",
     "text": [
      "152it [33:48,  3.99s/it]"
     ]
    },
    {
     "name": "stdout",
     "output_type": "stream",
     "text": [
      "    Written to File\n",
      "Processing: /nfs/turbo/umms-indikar/Joshua/HIF-datasets/datasets/CellMarker_Augmented_2021.hif\n",
      "  File is already under 40MB (12.85MB), skipping...\n",
      "    Split to separate files...Complete ✓\n",
      "Downloaded: Orphanet_Augmented_2021\n",
      "    Written to File\n",
      "Processing: /nfs/turbo/umms-indikar/Joshua/HIF-datasets/datasets/Orphanet_Augmented_2021.hif\n",
      "  File size: 49.48MB\n",
      "  Number of chunks needed: 2\n",
      "  Total lines: 2507283\n",
      "  Lines per chunk: 1253642\n",
      "  Created: Orphanet_Augmented_2021_1of2.hif (25.50MB, 1253642 lines)\n"
     ]
    },
    {
     "name": "stderr",
     "output_type": "stream",
     "text": [
      "153it [34:01,  6.73s/it]"
     ]
    },
    {
     "name": "stdout",
     "output_type": "stream",
     "text": [
      "  Created: Orphanet_Augmented_2021_2of2.hif (23.97MB, 1253641 lines)\n",
      "  Removed original file: /nfs/turbo/umms-indikar/Joshua/HIF-datasets/datasets/Orphanet_Augmented_2021.hif\n",
      "  Split complete: 2 files created\n",
      "    Split to separate files...Complete ✓\n",
      "Downloaded: COVID-19_Related_Gene_Sets_2021\n"
     ]
    },
    {
     "name": "stderr",
     "output_type": "stream",
     "text": [
      "154it [34:10,  7.58s/it]"
     ]
    },
    {
     "name": "stdout",
     "output_type": "stream",
     "text": [
      "    Written to File\n",
      "Processing: /nfs/turbo/umms-indikar/Joshua/HIF-datasets/datasets/COVID-19_Related_Gene_Sets_2021.hif\n",
      "  File is already under 40MB (27.77MB), skipping...\n",
      "    Split to separate files...Complete ✓\n",
      "Downloaded: PanglaoDB_Augmented_2021\n"
     ]
    },
    {
     "name": "stderr",
     "output_type": "stream",
     "text": [
      "155it [34:12,  5.67s/it]"
     ]
    },
    {
     "name": "stdout",
     "output_type": "stream",
     "text": [
      "    Written to File\n",
      "Processing: /nfs/turbo/umms-indikar/Joshua/HIF-datasets/datasets/PanglaoDB_Augmented_2021.hif\n",
      "  File is already under 40MB (4.52MB), skipping...\n",
      "    Split to separate files...Complete ✓\n"
     ]
    },
    {
     "name": "stderr",
     "output_type": "stream",
     "text": [
      "156it [34:12,  4.08s/it]"
     ]
    },
    {
     "name": "stdout",
     "output_type": "stream",
     "text": [
      "Downloaded: Azimuth_Cell_Types_2021\n",
      "    Written to File\n",
      "Processing: /nfs/turbo/umms-indikar/Joshua/HIF-datasets/datasets/Azimuth_Cell_Types_2021.hif\n",
      "  File is already under 40MB (0.78MB), skipping...\n",
      "    Split to separate files...Complete ✓\n",
      "Downloaded: PhenGenI_Association_2021\n"
     ]
    },
    {
     "name": "stderr",
     "output_type": "stream",
     "text": [
      "157it [34:22,  5.92s/it]"
     ]
    },
    {
     "name": "stdout",
     "output_type": "stream",
     "text": [
      "    Written to File\n",
      "Processing: /nfs/turbo/umms-indikar/Joshua/HIF-datasets/datasets/PhenGenI_Association_2021.hif\n",
      "  File is already under 40MB (19.08MB), skipping...\n",
      "    Split to separate files...Complete ✓\n",
      "Downloaded: GTEx_Aging_Signatures_2021\n"
     ]
    },
    {
     "name": "stderr",
     "output_type": "stream",
     "text": [
      "158it [34:28,  5.85s/it]"
     ]
    },
    {
     "name": "stdout",
     "output_type": "stream",
     "text": [
      "    Written to File\n",
      "Processing: /nfs/turbo/umms-indikar/Joshua/HIF-datasets/datasets/GTEx_Aging_Signatures_2021.hif\n",
      "  File is already under 40MB (11.91MB), skipping...\n",
      "    Split to separate files...Complete ✓\n",
      "Downloaded: HDSigDB_Human_2021\n",
      "    Written to File\n",
      "Processing: /nfs/turbo/umms-indikar/Joshua/HIF-datasets/datasets/HDSigDB_Human_2021.hif\n",
      "  File size: 330.62MB\n",
      "  Number of chunks needed: 9\n",
      "  Total lines: 16686421\n",
      "  Lines per chunk: 1854047\n",
      "  Created: HDSigDB_Human_2021_1of9.hif (45.81MB, 1854047 lines)\n",
      "  Created: HDSigDB_Human_2021_2of9.hif (37.56MB, 1854047 lines)\n",
      "  Created: HDSigDB_Human_2021_3of9.hif (35.02MB, 1854047 lines)\n",
      "  Created: HDSigDB_Human_2021_4of9.hif (35.02MB, 1854047 lines)\n",
      "  Created: HDSigDB_Human_2021_5of9.hif (35.12MB, 1854047 lines)\n",
      "  Created: HDSigDB_Human_2021_6of9.hif (35.53MB, 1854047 lines)\n",
      "  Created: HDSigDB_Human_2021_7of9.hif (35.52MB, 1854047 lines)\n",
      "  Created: HDSigDB_Human_2021_8of9.hif (35.53MB, 1854047 lines)\n"
     ]
    },
    {
     "name": "stderr",
     "output_type": "stream",
     "text": [
      "159it [35:37, 24.73s/it]"
     ]
    },
    {
     "name": "stdout",
     "output_type": "stream",
     "text": [
      "  Created: HDSigDB_Human_2021_9of9.hif (35.53MB, 1854045 lines)\n",
      "  Removed original file: /nfs/turbo/umms-indikar/Joshua/HIF-datasets/datasets/HDSigDB_Human_2021.hif\n",
      "  Split complete: 9 files created\n",
      "    Split to separate files...Complete ✓\n",
      "Downloaded: HDSigDB_Mouse_2021\n",
      "    Written to File\n",
      "Processing: /nfs/turbo/umms-indikar/Joshua/HIF-datasets/datasets/HDSigDB_Mouse_2021.hif\n",
      "  File size: 336.84MB\n",
      "  Number of chunks needed: 9\n",
      "  Total lines: 17000149\n",
      "  Lines per chunk: 1888906\n",
      "  Created: HDSigDB_Mouse_2021_1of9.hif (46.71MB, 1888906 lines)\n",
      "  Created: HDSigDB_Mouse_2021_2of9.hif (38.20MB, 1888906 lines)\n",
      "  Created: HDSigDB_Mouse_2021_3of9.hif (35.68MB, 1888906 lines)\n",
      "  Created: HDSigDB_Mouse_2021_4of9.hif (35.68MB, 1888906 lines)\n",
      "  Created: HDSigDB_Mouse_2021_5of9.hif (35.82MB, 1888906 lines)\n",
      "  Created: HDSigDB_Mouse_2021_6of9.hif (36.19MB, 1888906 lines)\n",
      "  Created: HDSigDB_Mouse_2021_7of9.hif (36.19MB, 1888906 lines)\n",
      "  Created: HDSigDB_Mouse_2021_8of9.hif (36.19MB, 1888906 lines)\n"
     ]
    },
    {
     "name": "stderr",
     "output_type": "stream",
     "text": [
      "160it [37:04, 43.56s/it]"
     ]
    },
    {
     "name": "stdout",
     "output_type": "stream",
     "text": [
      "  Created: HDSigDB_Mouse_2021_9of9.hif (36.19MB, 1888901 lines)\n",
      "  Removed original file: /nfs/turbo/umms-indikar/Joshua/HIF-datasets/datasets/HDSigDB_Mouse_2021.hif\n",
      "  Split complete: 9 files created\n",
      "    Split to separate files...Complete ✓\n",
      "Downloaded: HuBMAP_ASCTplusB_augmented_2022\n"
     ]
    },
    {
     "name": "stderr",
     "output_type": "stream",
     "text": [
      "161it [37:14, 33.51s/it]"
     ]
    },
    {
     "name": "stdout",
     "output_type": "stream",
     "text": [
      "    Written to File\n",
      "Processing: /nfs/turbo/umms-indikar/Joshua/HIF-datasets/datasets/HuBMAP_ASCTplusB_augmented_2022.hif\n",
      "  File is already under 40MB (13.12MB), skipping...\n",
      "    Split to separate files...Complete ✓\n",
      "Downloaded: FANTOM6_lncRNA_KD_DEGs\n"
     ]
    },
    {
     "name": "stderr",
     "output_type": "stream",
     "text": [
      "162it [37:21, 25.43s/it]"
     ]
    },
    {
     "name": "stdout",
     "output_type": "stream",
     "text": [
      "    Written to File\n",
      "Processing: /nfs/turbo/umms-indikar/Joshua/HIF-datasets/datasets/FANTOM6_lncRNA_KD_DEGs.hif\n",
      "  File is already under 40MB (20.30MB), skipping...\n",
      "    Split to separate files...Complete ✓\n",
      "Downloaded: MAGMA_Drugs_and_Diseases\n"
     ]
    },
    {
     "name": "stderr",
     "output_type": "stream",
     "text": [
      "163it [37:22, 18.09s/it]"
     ]
    },
    {
     "name": "stdout",
     "output_type": "stream",
     "text": [
      "    Written to File\n",
      "Processing: /nfs/turbo/umms-indikar/Joshua/HIF-datasets/datasets/MAGMA_Drugs_and_Diseases.hif\n",
      "  File is already under 40MB (2.26MB), skipping...\n",
      "    Split to separate files...Complete ✓\n",
      "Downloaded: Tabula_Sapiens\n"
     ]
    },
    {
     "name": "stderr",
     "output_type": "stream",
     "text": [
      "164it [37:23, 13.05s/it]"
     ]
    },
    {
     "name": "stdout",
     "output_type": "stream",
     "text": [
      "    Written to File\n",
      "Processing: /nfs/turbo/umms-indikar/Joshua/HIF-datasets/datasets/Tabula_Sapiens.hif\n",
      "  File is already under 40MB (7.49MB), skipping...\n",
      "    Split to separate files...Complete ✓\n",
      "Downloaded: ChEA_2022\n",
      "    Written to File\n",
      "Processing: /nfs/turbo/umms-indikar/Joshua/HIF-datasets/datasets/ChEA_2022.hif\n",
      "  File size: 145.08MB\n",
      "  Number of chunks needed: 4\n",
      "  Total lines: 7393135\n",
      "  Lines per chunk: 1848284\n",
      "  Created: ChEA_2022_1of4.hif (40.54MB, 1848284 lines)\n",
      "  Created: ChEA_2022_2of4.hif (34.85MB, 1848284 lines)\n",
      "  Created: ChEA_2022_3of4.hif (34.85MB, 1848284 lines)\n"
     ]
    },
    {
     "name": "stderr",
     "output_type": "stream",
     "text": [
      "165it [37:52, 17.98s/it]"
     ]
    },
    {
     "name": "stdout",
     "output_type": "stream",
     "text": [
      "  Created: ChEA_2022_4of4.hif (34.85MB, 1848283 lines)\n",
      "  Removed original file: /nfs/turbo/umms-indikar/Joshua/HIF-datasets/datasets/ChEA_2022.hif\n",
      "  Split complete: 4 files created\n",
      "    Split to separate files...Complete ✓\n",
      "Downloaded: Diabetes_Perturbations_GEO_2022\n"
     ]
    },
    {
     "name": "stderr",
     "output_type": "stream",
     "text": [
      "166it [38:02, 15.58s/it]"
     ]
    },
    {
     "name": "stdout",
     "output_type": "stream",
     "text": [
      "    Written to File\n",
      "Processing: /nfs/turbo/umms-indikar/Joshua/HIF-datasets/datasets/Diabetes_Perturbations_GEO_2022.hif\n",
      "  File is already under 40MB (18.07MB), skipping...\n",
      "    Split to separate files...Complete ✓\n",
      "Downloaded: LINCS_L1000_Chem_Pert_Consensus_Sigs\n",
      "    Written to File\n",
      "Processing: /nfs/turbo/umms-indikar/Joshua/HIF-datasets/datasets/LINCS_L1000_Chem_Pert_Consensus_Sigs.hif\n",
      "  File size: 423.54MB\n",
      "  Number of chunks needed: 11\n",
      "  Total lines: 21448103\n",
      "  Lines per chunk: 1949828\n",
      "  Created: LINCS_L1000_Chem_Pert_Consensus_Sigs_1of11.hif (47.43MB, 1949828 lines)\n",
      "  Created: LINCS_L1000_Chem_Pert_Consensus_Sigs_2of11.hif (41.47MB, 1949828 lines)\n",
      "  Created: LINCS_L1000_Chem_Pert_Consensus_Sigs_3of11.hif (36.99MB, 1949828 lines)\n",
      "  Created: LINCS_L1000_Chem_Pert_Consensus_Sigs_4of11.hif (37.16MB, 1949828 lines)\n",
      "  Created: LINCS_L1000_Chem_Pert_Consensus_Sigs_5of11.hif (37.16MB, 1949828 lines)\n",
      "  Created: LINCS_L1000_Chem_Pert_Consensus_Sigs_6of11.hif (37.16MB, 1949828 lines)\n",
      "  Created: LINCS_L1000_Chem_Pert_Consensus_Sigs_7of11.hif (37.16MB, 1949828 lines)\n",
      "  Created: LINCS_L1000_Chem_Pert_Consensus_Sigs_8of11.hif (37.16MB, 1949828 lines)\n",
      "  Created: LINCS_L1000_Chem_Pert_Consensus_Sigs_9of11.hif (37.16MB, 1949828 lines)\n",
      "  Created: LINCS_L1000_Chem_Pert_Consensus_Sigs_10of11.hif (37.16MB, 1949828 lines)\n"
     ]
    },
    {
     "name": "stderr",
     "output_type": "stream",
     "text": [
      "167it [39:21, 34.45s/it]"
     ]
    },
    {
     "name": "stdout",
     "output_type": "stream",
     "text": [
      "  Created: LINCS_L1000_Chem_Pert_Consensus_Sigs_11of11.hif (37.56MB, 1949823 lines)\n",
      "  Removed original file: /nfs/turbo/umms-indikar/Joshua/HIF-datasets/datasets/LINCS_L1000_Chem_Pert_Consensus_Sigs.hif\n",
      "  Split complete: 11 files created\n",
      "    Split to separate files...Complete ✓\n",
      "Downloaded: LINCS_L1000_CRISPR_KO_Consensus_Sigs\n",
      "    Written to File\n",
      "Processing: /nfs/turbo/umms-indikar/Joshua/HIF-datasets/datasets/LINCS_L1000_CRISPR_KO_Consensus_Sigs.hif\n",
      "  File size: 406.34MB\n",
      "  Number of chunks needed: 11\n",
      "  Total lines: 20587769\n",
      "  Lines per chunk: 1871616\n",
      "  Created: LINCS_L1000_CRISPR_KO_Consensus_Sigs_1of11.hif (45.51MB, 1871616 lines)\n",
      "  Created: LINCS_L1000_CRISPR_KO_Consensus_Sigs_2of11.hif (39.81MB, 1871616 lines)\n",
      "  Created: LINCS_L1000_CRISPR_KO_Consensus_Sigs_3of11.hif (35.48MB, 1871616 lines)\n",
      "  Created: LINCS_L1000_CRISPR_KO_Consensus_Sigs_4of11.hif (35.67MB, 1871616 lines)\n",
      "  Created: LINCS_L1000_CRISPR_KO_Consensus_Sigs_5of11.hif (35.67MB, 1871616 lines)\n",
      "  Created: LINCS_L1000_CRISPR_KO_Consensus_Sigs_6of11.hif (35.67MB, 1871616 lines)\n",
      "  Created: LINCS_L1000_CRISPR_KO_Consensus_Sigs_7of11.hif (35.67MB, 1871616 lines)\n",
      "  Created: LINCS_L1000_CRISPR_KO_Consensus_Sigs_8of11.hif (35.67MB, 1871616 lines)\n",
      "  Created: LINCS_L1000_CRISPR_KO_Consensus_Sigs_9of11.hif (35.67MB, 1871616 lines)\n",
      "  Created: LINCS_L1000_CRISPR_KO_Consensus_Sigs_10of11.hif (35.67MB, 1871616 lines)\n"
     ]
    },
    {
     "name": "stderr",
     "output_type": "stream",
     "text": [
      "168it [40:41, 48.14s/it]"
     ]
    },
    {
     "name": "stdout",
     "output_type": "stream",
     "text": [
      "  Created: LINCS_L1000_CRISPR_KO_Consensus_Sigs_11of11.hif (35.86MB, 1871609 lines)\n",
      "  Removed original file: /nfs/turbo/umms-indikar/Joshua/HIF-datasets/datasets/LINCS_L1000_CRISPR_KO_Consensus_Sigs.hif\n",
      "  Split complete: 11 files created\n",
      "    Split to separate files...Complete ✓\n",
      "Downloaded: Tabula_Muris\n"
     ]
    },
    {
     "name": "stderr",
     "output_type": "stream",
     "text": [
      "169it [40:43, 34.30s/it]"
     ]
    },
    {
     "name": "stdout",
     "output_type": "stream",
     "text": [
      "    Written to File\n",
      "Processing: /nfs/turbo/umms-indikar/Joshua/HIF-datasets/datasets/Tabula_Muris.hif\n",
      "  File is already under 40MB (1.76MB), skipping...\n",
      "    Split to separate files...Complete ✓\n",
      "Downloaded: Reactome_2022\n"
     ]
    },
    {
     "name": "stderr",
     "output_type": "stream",
     "text": [
      "170it [40:48, 25.57s/it]"
     ]
    },
    {
     "name": "stdout",
     "output_type": "stream",
     "text": [
      "    Written to File\n",
      "Processing: /nfs/turbo/umms-indikar/Joshua/HIF-datasets/datasets/Reactome_2022.hif\n",
      "  File is already under 40MB (18.90MB), skipping...\n",
      "    Split to separate files...Complete ✓\n"
     ]
    },
    {
     "name": "stderr",
     "output_type": "stream",
     "text": [
      "171it [40:49, 18.00s/it]"
     ]
    },
    {
     "name": "stdout",
     "output_type": "stream",
     "text": [
      "Downloaded: SynGO_2022\n",
      "    Written to File\n",
      "Processing: /nfs/turbo/umms-indikar/Joshua/HIF-datasets/datasets/SynGO_2022.hif\n",
      "  File is already under 40MB (0.57MB), skipping...\n",
      "    Split to separate files...Complete ✓\n",
      "Downloaded: GlyGen_Glycosylated_Proteins_2022\n"
     ]
    },
    {
     "name": "stderr",
     "output_type": "stream",
     "text": [
      "172it [40:50, 12.90s/it]"
     ]
    },
    {
     "name": "stdout",
     "output_type": "stream",
     "text": [
      "    Written to File\n",
      "Processing: /nfs/turbo/umms-indikar/Joshua/HIF-datasets/datasets/GlyGen_Glycosylated_Proteins_2022.hif\n",
      "  File is already under 40MB (2.71MB), skipping...\n",
      "    Split to separate files...Complete ✓\n",
      "Downloaded: IDG_Drug_Targets_2022\n"
     ]
    },
    {
     "name": "stderr",
     "output_type": "stream",
     "text": [
      "173it [40:50,  9.23s/it]"
     ]
    },
    {
     "name": "stdout",
     "output_type": "stream",
     "text": [
      "    Written to File\n",
      "Processing: /nfs/turbo/umms-indikar/Joshua/HIF-datasets/datasets/IDG_Drug_Targets_2022.hif\n",
      "  File is already under 40MB (2.35MB), skipping...\n",
      "    Split to separate files...Complete ✓\n",
      "Downloaded: KOMP2_Mouse_Phenotypes_2022\n"
     ]
    },
    {
     "name": "stderr",
     "output_type": "stream",
     "text": [
      "174it [40:52,  7.06s/it]"
     ]
    },
    {
     "name": "stdout",
     "output_type": "stream",
     "text": [
      "    Written to File\n",
      "Processing: /nfs/turbo/umms-indikar/Joshua/HIF-datasets/datasets/KOMP2_Mouse_Phenotypes_2022.hif\n",
      "  File is already under 40MB (6.38MB), skipping...\n",
      "    Split to separate files...Complete ✓\n"
     ]
    },
    {
     "name": "stderr",
     "output_type": "stream",
     "text": [
      "175it [40:52,  5.02s/it]"
     ]
    },
    {
     "name": "stdout",
     "output_type": "stream",
     "text": [
      "Downloaded: Metabolomics_Workbench_Metabolites_2022\n",
      "    Written to File\n",
      "Processing: /nfs/turbo/umms-indikar/Joshua/HIF-datasets/datasets/Metabolomics_Workbench_Metabolites_2022.hif\n",
      "  File is already under 40MB (0.62MB), skipping...\n",
      "    Split to separate files...Complete ✓\n",
      "Downloaded: Proteomics_Drug_Atlas_2023\n",
      "    Written to File\n",
      "Processing: /nfs/turbo/umms-indikar/Joshua/HIF-datasets/datasets/Proteomics_Drug_Atlas_2023.hif\n",
      "  File size: 41.11MB\n",
      "  Number of chunks needed: 2\n",
      "  Total lines: 2099961\n",
      "  Lines per chunk: 1049981\n",
      "  Created: Proteomics_Drug_Atlas_2023_1of2.hif (21.18MB, 1049981 lines)\n"
     ]
    },
    {
     "name": "stderr",
     "output_type": "stream",
     "text": [
      "176it [41:01,  6.11s/it]"
     ]
    },
    {
     "name": "stdout",
     "output_type": "stream",
     "text": [
      "  Created: Proteomics_Drug_Atlas_2023_2of2.hif (19.93MB, 1049980 lines)\n",
      "  Removed original file: /nfs/turbo/umms-indikar/Joshua/HIF-datasets/datasets/Proteomics_Drug_Atlas_2023.hif\n",
      "  Split complete: 2 files created\n",
      "    Split to separate files...Complete ✓\n",
      "Downloaded: The_Kinase_Library_2023\n"
     ]
    },
    {
     "name": "stderr",
     "output_type": "stream",
     "text": [
      "177it [41:08,  6.32s/it]"
     ]
    },
    {
     "name": "stdout",
     "output_type": "stream",
     "text": [
      "    Written to File\n",
      "Processing: /nfs/turbo/umms-indikar/Joshua/HIF-datasets/datasets/The_Kinase_Library_2023.hif\n",
      "  File is already under 40MB (38.41MB), skipping...\n",
      "    Split to separate files...Complete ✓\n",
      "Downloaded: GTEx_Tissues_V8_2023\n"
     ]
    },
    {
     "name": "stderr",
     "output_type": "stream",
     "text": [
      "178it [41:10,  5.08s/it]"
     ]
    },
    {
     "name": "stdout",
     "output_type": "stream",
     "text": [
      "    Written to File\n",
      "Processing: /nfs/turbo/umms-indikar/Joshua/HIF-datasets/datasets/GTEx_Tissues_V8_2023.hif\n",
      "  File is already under 40MB (8.65MB), skipping...\n",
      "    Split to separate files...Complete ✓\n",
      "Downloaded: GO_Biological_Process_2023\n"
     ]
    },
    {
     "name": "stderr",
     "output_type": "stream",
     "text": [
      "179it [41:17,  5.49s/it]"
     ]
    },
    {
     "name": "stdout",
     "output_type": "stream",
     "text": [
      "    Written to File\n",
      "Processing: /nfs/turbo/umms-indikar/Joshua/HIF-datasets/datasets/GO_Biological_Process_2023.hif\n",
      "  File is already under 40MB (30.24MB), skipping...\n",
      "    Split to separate files...Complete ✓\n",
      "Downloaded: GO_Cellular_Component_2023\n"
     ]
    },
    {
     "name": "stderr",
     "output_type": "stream",
     "text": [
      "180it [41:18,  4.37s/it]"
     ]
    },
    {
     "name": "stdout",
     "output_type": "stream",
     "text": [
      "    Written to File\n",
      "Processing: /nfs/turbo/umms-indikar/Joshua/HIF-datasets/datasets/GO_Cellular_Component_2023.hif\n",
      "  File is already under 40MB (7.52MB), skipping...\n",
      "    Split to separate files...Complete ✓\n",
      "Downloaded: GO_Molecular_Function_2023\n"
     ]
    },
    {
     "name": "stderr",
     "output_type": "stream",
     "text": [
      "181it [41:20,  3.57s/it]"
     ]
    },
    {
     "name": "stdout",
     "output_type": "stream",
     "text": [
      "    Written to File\n",
      "Processing: /nfs/turbo/umms-indikar/Joshua/HIF-datasets/datasets/GO_Molecular_Function_2023.hif\n",
      "  File is already under 40MB (8.33MB), skipping...\n",
      "    Split to separate files...Complete ✓\n",
      "Downloaded: PFOCR_Pathways_2023\n",
      "    Written to File\n",
      "Processing: /nfs/turbo/umms-indikar/Joshua/HIF-datasets/datasets/PFOCR_Pathways_2023.hif\n",
      "  File size: 47.91MB\n",
      "  Number of chunks needed: 2\n",
      "  Total lines: 2413493\n",
      "  Lines per chunk: 1206747\n",
      "  Created: PFOCR_Pathways_2023_1of2.hif (24.57MB, 1206747 lines)\n"
     ]
    },
    {
     "name": "stderr",
     "output_type": "stream",
     "text": [
      "182it [41:35,  7.00s/it]"
     ]
    },
    {
     "name": "stdout",
     "output_type": "stream",
     "text": [
      "  Created: PFOCR_Pathways_2023_2of2.hif (23.33MB, 1206746 lines)\n",
      "  Removed original file: /nfs/turbo/umms-indikar/Joshua/HIF-datasets/datasets/PFOCR_Pathways_2023.hif\n",
      "  Split complete: 2 files created\n",
      "    Split to separate files...Complete ✓\n",
      "Downloaded: GWAS_Catalog_2023\n"
     ]
    },
    {
     "name": "stderr",
     "output_type": "stream",
     "text": [
      "183it [41:51,  9.63s/it]"
     ]
    },
    {
     "name": "stdout",
     "output_type": "stream",
     "text": [
      "    Written to File\n",
      "Processing: /nfs/turbo/umms-indikar/Joshua/HIF-datasets/datasets/GWAS_Catalog_2023.hif\n",
      "  File is already under 40MB (30.74MB), skipping...\n",
      "    Split to separate files...Complete ✓\n",
      "Downloaded: GeDiPNet_2023\n"
     ]
    },
    {
     "name": "stderr",
     "output_type": "stream",
     "text": [
      "184it [41:56,  8.40s/it]"
     ]
    },
    {
     "name": "stdout",
     "output_type": "stream",
     "text": [
      "    Written to File\n",
      "Processing: /nfs/turbo/umms-indikar/Joshua/HIF-datasets/datasets/GeDiPNet_2023.hif\n",
      "  File is already under 40MB (20.06MB), skipping...\n",
      "    Split to separate files...Complete ✓\n",
      "Downloaded: MAGNET_2023\n"
     ]
    },
    {
     "name": "stderr",
     "output_type": "stream",
     "text": [
      "185it [41:59,  6.60s/it]"
     ]
    },
    {
     "name": "stdout",
     "output_type": "stream",
     "text": [
      "    Written to File\n",
      "Processing: /nfs/turbo/umms-indikar/Joshua/HIF-datasets/datasets/MAGNET_2023.hif\n",
      "  File is already under 40MB (6.85MB), skipping...\n",
      "    Split to separate files...Complete ✓\n",
      "Downloaded: Azimuth_2023\n"
     ]
    },
    {
     "name": "stderr",
     "output_type": "stream",
     "text": [
      "186it [42:00,  5.10s/it]"
     ]
    },
    {
     "name": "stdout",
     "output_type": "stream",
     "text": [
      "    Written to File\n",
      "Processing: /nfs/turbo/umms-indikar/Joshua/HIF-datasets/datasets/Azimuth_2023.hif\n",
      "  File is already under 40MB (2.35MB), skipping...\n",
      "    Split to separate files...Complete ✓\n",
      "Downloaded: Rummagene_kinases\n",
      "    Written to File\n",
      "Processing: /nfs/turbo/umms-indikar/Joshua/HIF-datasets/datasets/Rummagene_kinases.hif\n",
      "  File size: 118.68MB\n",
      "  Number of chunks needed: 3\n",
      "  Total lines: 5987317\n",
      "  Lines per chunk: 1995773\n",
      "  Created: Rummagene_kinases_1of3.hif (42.32MB, 1995773 lines)\n",
      "  Created: Rummagene_kinases_2of3.hif (38.18MB, 1995773 lines)\n"
     ]
    },
    {
     "name": "stderr",
     "output_type": "stream",
     "text": [
      "187it [42:28, 11.92s/it]"
     ]
    },
    {
     "name": "stdout",
     "output_type": "stream",
     "text": [
      "  Created: Rummagene_kinases_3of3.hif (38.18MB, 1995771 lines)\n",
      "  Removed original file: /nfs/turbo/umms-indikar/Joshua/HIF-datasets/datasets/Rummagene_kinases.hif\n",
      "  Split complete: 3 files created\n",
      "    Split to separate files...Complete ✓\n",
      "Downloaded: Rummagene_signatures\n",
      "    Written to File\n",
      "Processing: /nfs/turbo/umms-indikar/Joshua/HIF-datasets/datasets/Rummagene_signatures.hif\n",
      "  File size: 619.21MB\n",
      "  Number of chunks needed: 16\n",
      "  Total lines: 31159797\n",
      "  Lines per chunk: 1947488\n",
      "  Created: Rummagene_signatures_1of16.hif (48.14MB, 1947488 lines)\n",
      "  Created: Rummagene_signatures_2of16.hif (48.76MB, 1947488 lines)\n",
      "  Created: Rummagene_signatures_3of16.hif (37.71MB, 1947488 lines)\n",
      "  Created: Rummagene_signatures_4of16.hif (37.22MB, 1947488 lines)\n",
      "  Created: Rummagene_signatures_5of16.hif (37.26MB, 1947488 lines)\n",
      "  Created: Rummagene_signatures_6of16.hif (37.26MB, 1947488 lines)\n",
      "  Created: Rummagene_signatures_7of16.hif (37.26MB, 1947488 lines)\n",
      "  Created: Rummagene_signatures_8of16.hif (37.26MB, 1947488 lines)\n",
      "  Created: Rummagene_signatures_9of16.hif (37.26MB, 1947488 lines)\n",
      "  Created: Rummagene_signatures_10of16.hif (37.26MB, 1947488 lines)\n",
      "  Created: Rummagene_signatures_11of16.hif (37.26MB, 1947488 lines)\n",
      "  Created: Rummagene_signatures_12of16.hif (37.26MB, 1947488 lines)\n",
      "  Created: Rummagene_signatures_13of16.hif (37.26MB, 1947488 lines)\n",
      "  Created: Rummagene_signatures_14of16.hif (37.26MB, 1947488 lines)\n",
      "  Created: Rummagene_signatures_15of16.hif (37.26MB, 1947488 lines)\n"
     ]
    },
    {
     "name": "stderr",
     "output_type": "stream",
     "text": [
      "188it [44:38, 47.36s/it]"
     ]
    },
    {
     "name": "stdout",
     "output_type": "stream",
     "text": [
      "  Created: Rummagene_signatures_16of16.hif (37.55MB, 1947477 lines)\n",
      "  Removed original file: /nfs/turbo/umms-indikar/Joshua/HIF-datasets/datasets/Rummagene_signatures.hif\n",
      "  Split complete: 16 files created\n",
      "    Split to separate files...Complete ✓\n",
      "Downloaded: Rummagene_transcription_factors\n",
      "    Written to File\n",
      "Processing: /nfs/turbo/umms-indikar/Joshua/HIF-datasets/datasets/Rummagene_transcription_factors.hif\n",
      "  File size: 271.55MB\n",
      "  Number of chunks needed: 7\n",
      "  Total lines: 13670155\n",
      "  Lines per chunk: 1952880\n",
      "  Created: Rummagene_transcription_factors_1of7.hif (47.51MB, 1952880 lines)\n",
      "  Created: Rummagene_transcription_factors_2of7.hif (37.24MB, 1952880 lines)\n",
      "  Created: Rummagene_transcription_factors_3of7.hif (37.36MB, 1952880 lines)\n",
      "  Created: Rummagene_transcription_factors_4of7.hif (37.36MB, 1952880 lines)\n",
      "  Created: Rummagene_transcription_factors_5of7.hif (37.36MB, 1952880 lines)\n",
      "  Created: Rummagene_transcription_factors_6of7.hif (37.36MB, 1952880 lines)\n"
     ]
    },
    {
     "name": "stderr",
     "output_type": "stream",
     "text": [
      "189it [45:33, 49.70s/it]"
     ]
    },
    {
     "name": "stdout",
     "output_type": "stream",
     "text": [
      "  Created: Rummagene_transcription_factors_7of7.hif (37.36MB, 1952875 lines)\n",
      "  Removed original file: /nfs/turbo/umms-indikar/Joshua/HIF-datasets/datasets/Rummagene_transcription_factors.hif\n",
      "  Split complete: 7 files created\n",
      "    Split to separate files...Complete ✓\n",
      "Downloaded: MoTrPAC_2023\n"
     ]
    },
    {
     "name": "stderr",
     "output_type": "stream",
     "text": [
      "190it [45:38, 36.06s/it]"
     ]
    },
    {
     "name": "stdout",
     "output_type": "stream",
     "text": [
      "    Written to File\n",
      "Processing: /nfs/turbo/umms-indikar/Joshua/HIF-datasets/datasets/MoTrPAC_2023.hif\n",
      "  File is already under 40MB (5.24MB), skipping...\n",
      "    Split to separate files...Complete ✓\n",
      "Downloaded: WikiPathway_2023_Human\n"
     ]
    },
    {
     "name": "stderr",
     "output_type": "stream",
     "text": [
      "191it [45:39, 25.62s/it]"
     ]
    },
    {
     "name": "stdout",
     "output_type": "stream",
     "text": [
      "    Written to File\n",
      "Processing: /nfs/turbo/umms-indikar/Joshua/HIF-datasets/datasets/WikiPathway_2023_Human.hif\n",
      "  File is already under 40MB (6.17MB), skipping...\n",
      "    Split to separate files...Complete ✓\n",
      "Downloaded: DepMap_CRISPR_GeneDependency_CellLines_2023\n",
      "    Written to File\n",
      "Processing: /nfs/turbo/umms-indikar/Joshua/HIF-datasets/datasets/DepMap_CRISPR_GeneDependency_CellLines_2023.hif\n",
      "  File size: 71.93MB\n",
      "  Number of chunks needed: 2\n",
      "  Total lines: 3687339\n",
      "  Lines per chunk: 1843670\n",
      "  Created: DepMap_CRISPR_GeneDependency_CellLines_2023_1of2.hif (37.21MB, 1843670 lines)\n"
     ]
    },
    {
     "name": "stderr",
     "output_type": "stream",
     "text": [
      "192it [45:52, 21.97s/it]"
     ]
    },
    {
     "name": "stdout",
     "output_type": "stream",
     "text": [
      "  Created: DepMap_CRISPR_GeneDependency_CellLines_2023_2of2.hif (34.72MB, 1843669 lines)\n",
      "  Removed original file: /nfs/turbo/umms-indikar/Joshua/HIF-datasets/datasets/DepMap_CRISPR_GeneDependency_CellLines_2023.hif\n",
      "  Split complete: 2 files created\n",
      "    Split to separate files...Complete ✓\n"
     ]
    },
    {
     "name": "stderr",
     "output_type": "stream",
     "text": [
      "193it [45:53, 15.50s/it]"
     ]
    },
    {
     "name": "stdout",
     "output_type": "stream",
     "text": [
      "Downloaded: SynGO_2024\n",
      "    Written to File\n",
      "Processing: /nfs/turbo/umms-indikar/Joshua/HIF-datasets/datasets/SynGO_2024.hif\n",
      "  File is already under 40MB (0.75MB), skipping...\n",
      "    Split to separate files...Complete ✓\n",
      "Downloaded: CellMarker_2024\n"
     ]
    },
    {
     "name": "stderr",
     "output_type": "stream",
     "text": [
      "194it [45:55, 11.42s/it]"
     ]
    },
    {
     "name": "stdout",
     "output_type": "stream",
     "text": [
      "    Written to File\n",
      "Processing: /nfs/turbo/umms-indikar/Joshua/HIF-datasets/datasets/CellMarker_2024.hif\n",
      "  File is already under 40MB (9.57MB), skipping...\n",
      "    Split to separate files...Complete ✓\n",
      "Downloaded: DGIdb_Drug_Targets_2024\n"
     ]
    },
    {
     "name": "stderr",
     "output_type": "stream",
     "text": [
      "195it [45:55,  8.24s/it]"
     ]
    },
    {
     "name": "stdout",
     "output_type": "stream",
     "text": [
      "    Written to File\n",
      "Processing: /nfs/turbo/umms-indikar/Joshua/HIF-datasets/datasets/DGIdb_Drug_Targets_2024.hif\n",
      "  File is already under 40MB (2.39MB), skipping...\n",
      "    Split to separate files...Complete ✓\n",
      "Downloaded: MGI_Mammalian_Phenotype_Level_4_2024\n"
     ]
    },
    {
     "name": "stderr",
     "output_type": "stream",
     "text": [
      "196it [46:02,  7.72s/it]"
     ]
    },
    {
     "name": "stdout",
     "output_type": "stream",
     "text": [
      "    Written to File\n",
      "Processing: /nfs/turbo/umms-indikar/Joshua/HIF-datasets/datasets/MGI_Mammalian_Phenotype_Level_4_2024.hif\n",
      "  File is already under 40MB (30.73MB), skipping...\n",
      "    Split to separate files...Complete ✓\n",
      "Downloaded: WikiPathways_2024_Mouse\n"
     ]
    },
    {
     "name": "stderr",
     "output_type": "stream",
     "text": [
      "197it [46:03,  5.68s/it]"
     ]
    },
    {
     "name": "stdout",
     "output_type": "stream",
     "text": [
      "    Written to File\n",
      "Processing: /nfs/turbo/umms-indikar/Joshua/HIF-datasets/datasets/WikiPathways_2024_Mouse.hif\n",
      "  File is already under 40MB (2.01MB), skipping...\n",
      "    Split to separate files...Complete ✓\n",
      "Downloaded: WikiPathways_2024_Human\n"
     ]
    },
    {
     "name": "stderr",
     "output_type": "stream",
     "text": [
      "198it [46:05,  4.60s/it]"
     ]
    },
    {
     "name": "stdout",
     "output_type": "stream",
     "text": [
      "    Written to File\n",
      "Processing: /nfs/turbo/umms-indikar/Joshua/HIF-datasets/datasets/WikiPathways_2024_Human.hif\n",
      "  File is already under 40MB (6.58MB), skipping...\n",
      "    Split to separate files...Complete ✓\n",
      "Downloaded: The_Kinase_Library_2024\n"
     ]
    },
    {
     "name": "stderr",
     "output_type": "stream",
     "text": [
      "199it [46:12,  5.24s/it]"
     ]
    },
    {
     "name": "stdout",
     "output_type": "stream",
     "text": [
      "    Written to File\n",
      "Processing: /nfs/turbo/umms-indikar/Joshua/HIF-datasets/datasets/The_Kinase_Library_2024.hif\n",
      "  File is already under 40MB (39.34MB), skipping...\n",
      "    Split to separate files...Complete ✓\n",
      "Downloaded: PerturbAtlas\n",
      "    Written to File\n",
      "Processing: /nfs/turbo/umms-indikar/Joshua/HIF-datasets/datasets/PerturbAtlas.hif\n",
      "  File size: 159.53MB\n",
      "  Number of chunks needed: 4\n",
      "  Total lines: 8025851\n",
      "  Lines per chunk: 2006463\n",
      "  Created: PerturbAtlas_1of4.hif (44.02MB, 2006463 lines)\n",
      "  Created: PerturbAtlas_2of4.hif (38.37MB, 2006463 lines)\n",
      "  Created: PerturbAtlas_3of4.hif (38.37MB, 2006463 lines)\n"
     ]
    },
    {
     "name": "stderr",
     "output_type": "stream",
     "text": [
      "200it [46:44, 13.40s/it]"
     ]
    },
    {
     "name": "stdout",
     "output_type": "stream",
     "text": [
      "  Created: PerturbAtlas_4of4.hif (38.78MB, 2006462 lines)\n",
      "  Removed original file: /nfs/turbo/umms-indikar/Joshua/HIF-datasets/datasets/PerturbAtlas.hif\n",
      "  Split complete: 4 files created\n",
      "    Split to separate files...Complete ✓\n",
      "Downloaded: Reactome_Pathways_2024\n"
     ]
    },
    {
     "name": "stderr",
     "output_type": "stream",
     "text": [
      "201it [46:49, 10.90s/it]"
     ]
    },
    {
     "name": "stdout",
     "output_type": "stream",
     "text": [
      "    Written to File\n",
      "Processing: /nfs/turbo/umms-indikar/Joshua/HIF-datasets/datasets/Reactome_Pathways_2024.hif\n",
      "  File is already under 40MB (21.31MB), skipping...\n",
      "    Split to separate files...Complete ✓\n",
      "Downloaded: GO_Biological_Process_2025\n"
     ]
    },
    {
     "name": "stderr",
     "output_type": "stream",
     "text": [
      "202it [46:55,  9.27s/it]"
     ]
    },
    {
     "name": "stdout",
     "output_type": "stream",
     "text": [
      "    Written to File\n",
      "Processing: /nfs/turbo/umms-indikar/Joshua/HIF-datasets/datasets/GO_Biological_Process_2025.hif\n",
      "  File is already under 40MB (29.68MB), skipping...\n",
      "    Split to separate files...Complete ✓\n",
      "Downloaded: GO_Cellular_Component_2025\n"
     ]
    },
    {
     "name": "stderr",
     "output_type": "stream",
     "text": [
      "203it [46:57,  7.12s/it]"
     ]
    },
    {
     "name": "stdout",
     "output_type": "stream",
     "text": [
      "    Written to File\n",
      "Processing: /nfs/turbo/umms-indikar/Joshua/HIF-datasets/datasets/GO_Cellular_Component_2025.hif\n",
      "  File is already under 40MB (7.85MB), skipping...\n",
      "    Split to separate files...Complete ✓\n",
      "Downloaded: GO_Molecular_Function_2025\n"
     ]
    },
    {
     "name": "stderr",
     "output_type": "stream",
     "text": [
      "204it [46:59,  5.59s/it]"
     ]
    },
    {
     "name": "stdout",
     "output_type": "stream",
     "text": [
      "    Written to File\n",
      "Processing: /nfs/turbo/umms-indikar/Joshua/HIF-datasets/datasets/GO_Molecular_Function_2025.hif\n",
      "  File is already under 40MB (7.98MB), skipping...\n",
      "    Split to separate files...Complete ✓\n",
      "Downloaded: NIBR_DRUGseq_2025_up\n",
      "    Written to File\n",
      "Processing: /nfs/turbo/umms-indikar/Joshua/HIF-datasets/datasets/NIBR_DRUGseq_2025_up.hif\n",
      "  File size: 136.97MB\n",
      "  Number of chunks needed: 4\n",
      "  Total lines: 6938351\n",
      "  Lines per chunk: 1734588\n",
      "  Created: NIBR_DRUGseq_2025_up_1of4.hif (37.76MB, 1734588 lines)\n",
      "  Created: NIBR_DRUGseq_2025_up_2of4.hif (33.01MB, 1734588 lines)\n",
      "  Created: NIBR_DRUGseq_2025_up_3of4.hif (33.10MB, 1734588 lines)\n"
     ]
    },
    {
     "name": "stderr",
     "output_type": "stream",
     "text": [
      "205it [47:27, 12.27s/it]"
     ]
    },
    {
     "name": "stdout",
     "output_type": "stream",
     "text": [
      "  Created: NIBR_DRUGseq_2025_up_4of4.hif (33.10MB, 1734587 lines)\n",
      "  Removed original file: /nfs/turbo/umms-indikar/Joshua/HIF-datasets/datasets/NIBR_DRUGseq_2025_up.hif\n",
      "  Split complete: 4 files created\n",
      "    Split to separate files...Complete ✓\n",
      "Downloaded: NIBR_DRUGseq_2025_down\n",
      "    Written to File\n",
      "Processing: /nfs/turbo/umms-indikar/Joshua/HIF-datasets/datasets/NIBR_DRUGseq_2025_down.hif\n",
      "  File size: 144.38MB\n",
      "  Number of chunks needed: 4\n",
      "  Total lines: 7325759\n",
      "  Lines per chunk: 1831440\n",
      "  Created: NIBR_DRUGseq_2025_down_1of4.hif (39.77MB, 1831440 lines)\n",
      "  Created: NIBR_DRUGseq_2025_down_2of4.hif (34.76MB, 1831440 lines)\n",
      "  Created: NIBR_DRUGseq_2025_down_3of4.hif (34.92MB, 1831440 lines)\n"
     ]
    },
    {
     "name": "stderr",
     "output_type": "stream",
     "text": [
      "206it [47:55, 17.16s/it]"
     ]
    },
    {
     "name": "stdout",
     "output_type": "stream",
     "text": [
      "  Created: NIBR_DRUGseq_2025_down_4of4.hif (34.92MB, 1831439 lines)\n",
      "  Removed original file: /nfs/turbo/umms-indikar/Joshua/HIF-datasets/datasets/NIBR_DRUGseq_2025_down.hif\n",
      "  Split complete: 4 files created\n",
      "    Split to separate files...Complete ✓\n",
      "Downloaded: Jensen_DISEASES_Curated_2025\n"
     ]
    },
    {
     "name": "stderr",
     "output_type": "stream",
     "text": [
      "207it [47:57, 12.49s/it]"
     ]
    },
    {
     "name": "stdout",
     "output_type": "stream",
     "text": [
      "    Written to File\n",
      "Processing: /nfs/turbo/umms-indikar/Joshua/HIF-datasets/datasets/Jensen_DISEASES_Curated_2025.hif\n",
      "  File is already under 40MB (5.72MB), skipping...\n",
      "    Split to separate files...Complete ✓\n",
      "Downloaded: Jensen_DISEASES_Experimental_2025\n"
     ]
    },
    {
     "name": "stderr",
     "output_type": "stream",
     "text": [
      "208it [48:01, 10.14s/it]"
     ]
    },
    {
     "name": "stdout",
     "output_type": "stream",
     "text": [
      "    Written to File\n",
      "Processing: /nfs/turbo/umms-indikar/Joshua/HIF-datasets/datasets/Jensen_DISEASES_Experimental_2025.hif\n",
      "  File is already under 40MB (23.96MB), skipping...\n",
      "    Split to separate files...Complete ✓\n",
      "Downloaded: COMPARTMENTS_Curated_2025\n"
     ]
    },
    {
     "name": "stderr",
     "output_type": "stream",
     "text": [
      "209it [48:05,  8.28s/it]"
     ]
    },
    {
     "name": "stdout",
     "output_type": "stream",
     "text": [
      "    Written to File\n",
      "Processing: /nfs/turbo/umms-indikar/Joshua/HIF-datasets/datasets/COMPARTMENTS_Curated_2025.hif\n",
      "  File is already under 40MB (19.48MB), skipping...\n",
      "    Split to separate files...Complete ✓\n",
      "Downloaded: PerturbAtlas_MouseGenePerturbationSigs\n",
      "    Written to File\n",
      "Processing: /nfs/turbo/umms-indikar/Joshua/HIF-datasets/datasets/PerturbAtlas_MouseGenePerturbationSigs.hif\n",
      "  File size: 119.60MB\n",
      "  Number of chunks needed: 3\n",
      "  Total lines: 6034519\n",
      "  Lines per chunk: 2011507\n",
      "  Created: PerturbAtlas_MouseGenePerturbationSigs_1of3.hif (42.61MB, 2011507 lines)\n",
      "  Created: PerturbAtlas_MouseGenePerturbationSigs_2of3.hif (38.45MB, 2011507 lines)\n"
     ]
    },
    {
     "name": "stderr",
     "output_type": "stream",
     "text": [
      "210it [48:32, 13.74s/it]"
     ]
    },
    {
     "name": "stdout",
     "output_type": "stream",
     "text": [
      "  Created: PerturbAtlas_MouseGenePerturbationSigs_3of3.hif (38.54MB, 2011505 lines)\n",
      "  Removed original file: /nfs/turbo/umms-indikar/Joshua/HIF-datasets/datasets/PerturbAtlas_MouseGenePerturbationSigs.hif\n",
      "  Split complete: 3 files created\n",
      "    Split to separate files...Complete ✓\n",
      "Downloaded: PerturbSeq_ReplogleK562\n",
      "    Written to File\n",
      "Processing: /nfs/turbo/umms-indikar/Joshua/HIF-datasets/datasets/PerturbSeq_ReplogleK562.hif\n",
      "  File size: 55.45MB\n",
      "  Number of chunks needed: 2\n",
      "  Total lines: 2817769\n",
      "  Lines per chunk: 1408885\n",
      "  Created: PerturbSeq_ReplogleK562_1of2.hif (28.61MB, 1408885 lines)\n"
     ]
    },
    {
     "name": "stderr",
     "output_type": "stream",
     "text": [
      "211it [48:43, 13.07s/it]"
     ]
    },
    {
     "name": "stdout",
     "output_type": "stream",
     "text": [
      "  Created: PerturbSeq_ReplogleK562_2of2.hif (26.84MB, 1408884 lines)\n",
      "  Removed original file: /nfs/turbo/umms-indikar/Joshua/HIF-datasets/datasets/PerturbSeq_ReplogleK562.hif\n",
      "  Split complete: 2 files created\n",
      "    Split to separate files...Complete ✓\n",
      "Downloaded: TISSUES_Experimental_2025\n"
     ]
    },
    {
     "name": "stderr",
     "output_type": "stream",
     "text": [
      "212it [48:50, 11.16s/it]"
     ]
    },
    {
     "name": "stdout",
     "output_type": "stream",
     "text": [
      "    Written to File\n",
      "Processing: /nfs/turbo/umms-indikar/Joshua/HIF-datasets/datasets/TISSUES_Experimental_2025.hif\n",
      "  File is already under 40MB (35.29MB), skipping...\n",
      "    Split to separate files...Complete ✓\n",
      "Downloaded: COMPARTMENTS_Experimental_2025\n"
     ]
    },
    {
     "name": "stderr",
     "output_type": "stream",
     "text": [
      "213it [48:52,  8.32s/it]"
     ]
    },
    {
     "name": "stdout",
     "output_type": "stream",
     "text": [
      "    Written to File\n",
      "Processing: /nfs/turbo/umms-indikar/Joshua/HIF-datasets/datasets/COMPARTMENTS_Experimental_2025.hif\n",
      "  File is already under 40MB (4.68MB), skipping...\n",
      "    Split to separate files...Complete ✓\n",
      "Downloaded: PerturbSeq_ReplogleRPE1\n"
     ]
    },
    {
     "name": "stderr",
     "output_type": "stream",
     "text": [
      "214it [48:57,  7.52s/it]"
     ]
    },
    {
     "name": "stdout",
     "output_type": "stream",
     "text": [
      "    Written to File\n",
      "Processing: /nfs/turbo/umms-indikar/Joshua/HIF-datasets/datasets/PerturbSeq_ReplogleRPE1.hif\n",
      "  File is already under 40MB (30.13MB), skipping...\n",
      "    Split to separate files...Complete ✓\n",
      "Downloaded: TISSUES_Curated_2025\n",
      "    Written to File\n",
      "Processing: /nfs/turbo/umms-indikar/Joshua/HIF-datasets/datasets/TISSUES_Curated_2025.hif\n",
      "  File size: 44.00MB\n",
      "  Number of chunks needed: 2\n",
      "  Total lines: 2256723\n",
      "  Lines per chunk: 1128362\n",
      "  Created: TISSUES_Curated_2025_1of2.hif (22.73MB, 1128362 lines)\n"
     ]
    },
    {
     "name": "stderr",
     "output_type": "stream",
     "text": [
      "215it [49:08,  8.37s/it]"
     ]
    },
    {
     "name": "stdout",
     "output_type": "stream",
     "text": [
      "  Created: TISSUES_Curated_2025_2of2.hif (21.26MB, 1128361 lines)\n",
      "  Removed original file: /nfs/turbo/umms-indikar/Joshua/HIF-datasets/datasets/TISSUES_Curated_2025.hif\n",
      "  Split complete: 2 files created\n",
      "    Split to separate files...Complete ✓\n",
      "Downloaded: RummaGEO_DrugPerturbations_2025\n",
      "    Written to File\n",
      "Processing: /nfs/turbo/umms-indikar/Joshua/HIF-datasets/datasets/RummaGEO_DrugPerturbations_2025.hif\n",
      "  File size: 640.21MB\n",
      "  Number of chunks needed: 17\n",
      "  Total lines: 32287737\n",
      "  Lines per chunk: 1899279\n",
      "  Created: RummaGEO_DrugPerturbations_2025_1of17.hif (46.99MB, 1899279 lines)\n",
      "  Created: RummaGEO_DrugPerturbations_2025_2of17.hif (47.71MB, 1899279 lines)\n",
      "  Created: RummaGEO_DrugPerturbations_2025_3of17.hif (37.99MB, 1899279 lines)\n",
      "  Created: RummaGEO_DrugPerturbations_2025_4of17.hif (35.81MB, 1899279 lines)\n",
      "  Created: RummaGEO_DrugPerturbations_2025_5of17.hif (35.81MB, 1899279 lines)\n",
      "  Created: RummaGEO_DrugPerturbations_2025_6of17.hif (36.25MB, 1899279 lines)\n",
      "  Created: RummaGEO_DrugPerturbations_2025_7of17.hif (36.33MB, 1899279 lines)\n",
      "  Created: RummaGEO_DrugPerturbations_2025_8of17.hif (36.33MB, 1899279 lines)\n",
      "  Created: RummaGEO_DrugPerturbations_2025_9of17.hif (36.33MB, 1899279 lines)\n",
      "  Created: RummaGEO_DrugPerturbations_2025_10of17.hif (36.33MB, 1899279 lines)\n",
      "  Created: RummaGEO_DrugPerturbations_2025_11of17.hif (36.33MB, 1899279 lines)\n",
      "  Created: RummaGEO_DrugPerturbations_2025_12of17.hif (36.33MB, 1899279 lines)\n",
      "  Created: RummaGEO_DrugPerturbations_2025_13of17.hif (36.33MB, 1899279 lines)\n",
      "  Created: RummaGEO_DrugPerturbations_2025_14of17.hif (36.33MB, 1899279 lines)\n",
      "  Created: RummaGEO_DrugPerturbations_2025_15of17.hif (36.33MB, 1899279 lines)\n",
      "  Created: RummaGEO_DrugPerturbations_2025_16of17.hif (36.33MB, 1899279 lines)\n"
     ]
    },
    {
     "name": "stderr",
     "output_type": "stream",
     "text": [
      "216it [51:13, 43.46s/it]"
     ]
    },
    {
     "name": "stdout",
     "output_type": "stream",
     "text": [
      "  Created: RummaGEO_DrugPerturbations_2025_17of17.hif (36.33MB, 1899273 lines)\n",
      "  Removed original file: /nfs/turbo/umms-indikar/Joshua/HIF-datasets/datasets/RummaGEO_DrugPerturbations_2025.hif\n",
      "  Split complete: 17 files created\n",
      "    Split to separate files...Complete ✓\n",
      "Downloaded: RummaGEO_GenePerturbations_2025\n",
      "    Written to File\n",
      "Processing: /nfs/turbo/umms-indikar/Joshua/HIF-datasets/datasets/RummaGEO_GenePerturbations_2025.hif\n",
      "  File size: 483.33MB\n",
      "  Number of chunks needed: 13\n",
      "  Total lines: 24385897\n",
      "  Lines per chunk: 1875839\n",
      "  Created: RummaGEO_GenePerturbations_2025_1of13.hif (46.39MB, 1875839 lines)\n",
      "  Created: RummaGEO_GenePerturbations_2025_2of13.hif (43.37MB, 1875839 lines)\n",
      "  Created: RummaGEO_GenePerturbations_2025_3of13.hif (35.37MB, 1875839 lines)\n",
      "  Created: RummaGEO_GenePerturbations_2025_4of13.hif (35.37MB, 1875839 lines)\n",
      "  Created: RummaGEO_GenePerturbations_2025_5of13.hif (35.76MB, 1875839 lines)\n",
      "  Created: RummaGEO_GenePerturbations_2025_6of13.hif (35.88MB, 1875839 lines)\n",
      "  Created: RummaGEO_GenePerturbations_2025_7of13.hif (35.88MB, 1875839 lines)\n",
      "  Created: RummaGEO_GenePerturbations_2025_8of13.hif (35.88MB, 1875839 lines)\n",
      "  Created: RummaGEO_GenePerturbations_2025_9of13.hif (35.88MB, 1875839 lines)\n",
      "  Created: RummaGEO_GenePerturbations_2025_10of13.hif (35.88MB, 1875839 lines)\n",
      "  Created: RummaGEO_GenePerturbations_2025_11of13.hif (35.88MB, 1875839 lines)\n",
      "  Created: RummaGEO_GenePerturbations_2025_12of13.hif (35.88MB, 1875839 lines)\n"
     ]
    },
    {
     "name": "stderr",
     "output_type": "stream",
     "text": [
      "217it [52:50, 14.61s/it]"
     ]
    },
    {
     "name": "stdout",
     "output_type": "stream",
     "text": [
      "  Created: RummaGEO_GenePerturbations_2025_13of13.hif (35.88MB, 1875829 lines)\n",
      "  Removed original file: /nfs/turbo/umms-indikar/Joshua/HIF-datasets/datasets/RummaGEO_GenePerturbations_2025.hif\n",
      "  Split complete: 13 files created\n",
      "    Split to separate files...Complete ✓\n"
     ]
    },
    {
     "name": "stderr",
     "output_type": "stream",
     "text": [
      "\n"
     ]
    }
   ],
   "source": [
    "for network_name, url in tqdm(zip(library_names, urls)):\n",
    "    try:\n",
    "        # Download Data from Enrichr\n",
    "        r = requests.get(url)\n",
    "        r.raise_for_status()  # Raise an error for bad responses\n",
    "        network_text = r.text\n",
    "        print(f\"Downloaded: {network_name}\")\n",
    "\n",
    "        # Convert to HAT Hypergraph\n",
    "        hyperedge_texts = network_text.split(\"\\n\")\n",
    "        hyperedges = [] #{}\n",
    "        for hyperedge_text in hyperedge_texts:\n",
    "            if len(hyperedge_text) == 0:\n",
    "                continue\n",
    "            hyperedge_split = hyperedge_text.split(\"\\t\")\n",
    "            hyperedge_split = [f for f in hyperedge_split if f != '']\n",
    "            hyperedge_name  = hyperedge_split[0]\n",
    "            hyperedge_nodes = hyperedge_split[1:]\n",
    "            hyperedges.append(hyperedge_nodes)\n",
    "        H = Hypergraph(edge_list=hyperedges)\n",
    "\n",
    "        # Convert to HIF, add metadata, make JSON writable\n",
    "        hif = H.to_hif()\n",
    "        hif['metadata']['name'] = network_name\n",
    "        hif['metadata']['source'] = \"Enrichr: \" + url\n",
    "        hif['metadata']['date'] = datetime.now().strftime(\"%Y-%m-%d\")\n",
    "        hif_clean = convert_numpy(hif)\n",
    "\n",
    "        # Write to a file\n",
    "        hif_file_name = \"/nfs/turbo/umms-indikar/Joshua/HIF-datasets/datasets/\" + network_name + \".hif\"\n",
    "        with open(hif_file_name, \"w\") as f:\n",
    "            json.dump(hif_clean, f, indent=4)\n",
    "        print(\"    Written to File\")\n",
    "\n",
    "        # Convert to split files\n",
    "        split_file_by_lines(hif_file_name, max_size_mb=40)\n",
    "        print(\"    Split to separate files...Complete ✓\")\n",
    "    \n",
    "    except requests.exceptions.RequestException as e:\n",
    "        print(f\"✗ Failed to download {name}: {e}\")\n"
   ]
  },
  {
   "cell_type": "markdown",
   "id": "0446efc2-7ffb-4709-9b49-d42a58cdcff4",
   "metadata": {},
   "source": [
    "# Scratch"
   ]
  },
  {
   "cell_type": "code",
   "execution_count": 13,
   "id": "71741507-bd5d-4b61-8f9e-6f22be43d26a",
   "metadata": {},
   "outputs": [
    {
     "name": "stdout",
     "output_type": "stream",
     "text": [
      "https://maayanlab.cloud/Enrichr/geneSetLibrary?mode=text&libraryName=Genome_Browser_PWMs\n",
      "https://maayanlab.cloud/Enrichr/geneSetLibrary?mode=text&libraryName=TRANSFAC_and_JASPAR_PWMs\n",
      "https://maayanlab.cloud/Enrichr/geneSetLibrary?mode=text&libraryName=Transcription_Factor_PPIs\n",
      "https://maayanlab.cloud/Enrichr/geneSetLibrary?mode=text&libraryName=ChEA_2013\n",
      "https://maayanlab.cloud/Enrichr/geneSetLibrary?mode=text&libraryName=Drug_Perturbations_from_GEO_2014\n"
     ]
    }
   ],
   "source": [
    "# library_names = [entry['libraryName'] for entry in data]\n",
    "\n",
    "# Generate all URLs like the one you posted\n",
    "base_url = \"https://maayanlab.cloud/Enrichr/geneSetLibrary?mode=text&libraryName=\"\n",
    "urls = [f\"{base_url}{name}\" for name in library_names]\n",
    "\n",
    "# Print the first 5 as example\n",
    "for u in urls[:5]:\n",
    "    print(u)\n"
   ]
  }
 ],
 "metadata": {
  "kernelspec": {
   "display_name": "Python 3 (ipykernel)",
   "language": "python",
   "name": "python3"
  },
  "language_info": {
   "codemirror_mode": {
    "name": "ipython",
    "version": 3
   },
   "file_extension": ".py",
   "mimetype": "text/x-python",
   "name": "python",
   "nbconvert_exporter": "python",
   "pygments_lexer": "ipython3",
   "version": "3.11.7"
  }
 },
 "nbformat": 4,
 "nbformat_minor": 5
}
